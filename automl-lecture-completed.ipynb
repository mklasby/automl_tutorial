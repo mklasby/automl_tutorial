{
 "cells": [
  {
   "cell_type": "markdown",
   "metadata": {},
   "source": [
    "# ENEL 645 - Deep Learning\n",
    "## AutoML & HPO Tutorial\n",
    "- By: Mike Lasby\n",
    "- 2022-03-03"
   ]
  },
  {
   "cell_type": "code",
   "execution_count": 4,
   "metadata": {},
   "outputs": [],
   "source": [
    "%matplotlib inline"
   ]
  },
  {
   "cell_type": "code",
   "execution_count": 2,
   "metadata": {},
   "outputs": [],
   "source": [
    "# Common imports\n",
    "import numpy as np\n",
    "import pandas as pd\n",
    "import matplotlib.pyplot as plt\n",
    "import plotly.express as px\n",
    "import seaborn as sns\n",
    "import math\n",
    "import pathlib\n",
    "from sklearn.datasets import load_iris\n",
    "from sklearn.model_selection import train_test_split\n",
    "import tensorflow as tf"
   ]
  },
  {
   "cell_type": "code",
   "execution_count": 3,
   "metadata": {},
   "outputs": [],
   "source": [
    "# Notebook constants that we will return to \n",
    "# TODO: What is name mangling? \n",
    "# TODO: Benefits of pathlib?\n",
    "__DATA_PATH = pathlib.Path(\"./data\")\n",
    "__RANDOM_STATE = 42"
   ]
  },
  {
   "cell_type": "markdown",
   "metadata": {},
   "source": [
    "### AutoML with TPOT\n",
    "http://epistasislab.github.io/tpot/\n",
    "\n",
    "TPOT is a Python Automated Machine Learning tool that optimizes machine learning pipelines using genetic programming.\n"
   ]
  },
  {
   "cell_type": "code",
   "execution_count": 4,
   "metadata": {},
   "outputs": [
    {
     "data": {
      "text/html": [
       "<div>\n",
       "<style scoped>\n",
       "    .dataframe tbody tr th:only-of-type {\n",
       "        vertical-align: middle;\n",
       "    }\n",
       "\n",
       "    .dataframe tbody tr th {\n",
       "        vertical-align: top;\n",
       "    }\n",
       "\n",
       "    .dataframe thead th {\n",
       "        text-align: right;\n",
       "    }\n",
       "</style>\n",
       "<table border=\"1\" class=\"dataframe\">\n",
       "  <thead>\n",
       "    <tr style=\"text-align: right;\">\n",
       "      <th></th>\n",
       "      <th>sepal length (cm)</th>\n",
       "      <th>sepal width (cm)</th>\n",
       "      <th>petal length (cm)</th>\n",
       "      <th>petal width (cm)</th>\n",
       "    </tr>\n",
       "  </thead>\n",
       "  <tbody>\n",
       "    <tr>\n",
       "      <th>81</th>\n",
       "      <td>5.5</td>\n",
       "      <td>2.4</td>\n",
       "      <td>3.7</td>\n",
       "      <td>1.0</td>\n",
       "    </tr>\n",
       "    <tr>\n",
       "      <th>133</th>\n",
       "      <td>6.3</td>\n",
       "      <td>2.8</td>\n",
       "      <td>5.1</td>\n",
       "      <td>1.5</td>\n",
       "    </tr>\n",
       "    <tr>\n",
       "      <th>137</th>\n",
       "      <td>6.4</td>\n",
       "      <td>3.1</td>\n",
       "      <td>5.5</td>\n",
       "      <td>1.8</td>\n",
       "    </tr>\n",
       "    <tr>\n",
       "      <th>75</th>\n",
       "      <td>6.6</td>\n",
       "      <td>3.0</td>\n",
       "      <td>4.4</td>\n",
       "      <td>1.4</td>\n",
       "    </tr>\n",
       "    <tr>\n",
       "      <th>109</th>\n",
       "      <td>7.2</td>\n",
       "      <td>3.6</td>\n",
       "      <td>6.1</td>\n",
       "      <td>2.5</td>\n",
       "    </tr>\n",
       "  </tbody>\n",
       "</table>\n",
       "</div>"
      ],
      "text/plain": [
       "     sepal length (cm)  sepal width (cm)  petal length (cm)  petal width (cm)\n",
       "81                 5.5               2.4                3.7               1.0\n",
       "133                6.3               2.8                5.1               1.5\n",
       "137                6.4               3.1                5.5               1.8\n",
       "75                 6.6               3.0                4.4               1.4\n",
       "109                7.2               3.6                6.1               2.5"
      ]
     },
     "execution_count": 4,
     "metadata": {},
     "output_type": "execute_result"
    }
   ],
   "source": [
    "X, y = load_iris(return_X_y=True, as_frame=True)\n",
    "X_train, X_test, y_train, y_test = train_test_split(X, y, test_size = 0.3, random_state=__RANDOM_STATE)\n",
    "X_train.head()"
   ]
  },
  {
   "cell_type": "code",
   "execution_count": 5,
   "metadata": {},
   "outputs": [
    {
     "data": {
      "application/vnd.plotly.v1+json": {
       "config": {
        "plotlyServerURL": "https://plot.ly"
       },
       "data": [
        {
         "hovertemplate": "Label=0.0<br>Principal component 1=%{x}<br>Principal component 2=%{y}<extra></extra>",
         "legendgroup": "0.0",
         "marker": {
          "color": "#636efa",
          "symbol": "circle"
         },
         "mode": "markers",
         "name": "0.0",
         "orientation": "v",
         "showlegend": true,
         "type": "scatter",
         "x": [
          -2.6841256259695307,
          -2.7141416872943243,
          -2.8889905690592936,
          -2.745342855641407,
          -2.728716536554527,
          -2.28085963284449,
          -2.8205377507406055,
          -2.62614497314663,
          -2.8863827317805497,
          -2.6727557978209515,
          -2.5069470906518534,
          -2.6127552309087196,
          -2.7861092661880145,
          -3.223803743865648,
          -2.6447503899420273,
          -2.3860390335311306,
          -2.6235278752244233,
          -2.6482967062543783,
          -2.199820323617578,
          -2.5879863998787656,
          -2.3102562152425157,
          -2.5437052287571538,
          -3.215939415648608,
          -2.3027331822262043,
          -2.355754049123769,
          -2.506668906925819,
          -2.468820073121336,
          -2.5623199061960134,
          -2.6395347153845403,
          -2.6319893872743423,
          -2.587398476689349,
          -2.4099324970021727,
          -2.64886233434991,
          -2.5987367491005844,
          -2.6369268781057964,
          -2.8662416521186667,
          -2.6252380498503696,
          -2.800684115448219,
          -2.9805020437819896,
          -2.590006313968093,
          -2.7701024260278984,
          -2.8493687050431,
          -2.9974065465949034,
          -2.405614485097483,
          -2.2094892377836763,
          -2.7144514267577042,
          -2.538148258998937,
          -2.839462167642847,
          -2.5430857498303903,
          -2.7033597823351565
         ],
         "xaxis": "x",
         "y": [
          0.31939724658510094,
          -0.17700122506477936,
          -0.14494942608555694,
          -0.31829897925191575,
          0.32675451293492025,
          0.741330449062915,
          -0.08946138452856853,
          0.1633849596983291,
          -0.5783117541867032,
          -0.11377424587411643,
          0.6450688986485741,
          0.014729939161374824,
          -0.235112000201718,
          -0.5113945870063816,
          1.1787646364375752,
          1.3380623304006523,
          0.8106795141812577,
          0.31184914459335505,
          0.872839038962211,
          0.5135603087492773,
          0.3913459356538946,
          0.43299606327902845,
          0.13346806953852608,
          0.09870885481409988,
          -0.03728185967738223,
          -0.14601688049526723,
          0.13095148943525067,
          0.3677188574342002,
          0.3120399802352832,
          -0.19696122492431414,
          -0.20431849127413307,
          0.4109242642295731,
          0.8133638202969624,
          1.0931457594493568,
          -0.12132234786586277,
          0.06936447158008108,
          0.5993700213794239,
          0.2686437377979826,
          -0.48795834442861497,
          0.22904383682701296,
          0.26352753374425675,
          -0.940960573641196,
          -0.3419260574716095,
          0.18887142893026063,
          0.43666314163918807,
          -0.2502082041852107,
          0.5037711444614379,
          -0.22794556949382727,
          0.5794100215198897,
          0.10770608249941208
         ],
         "yaxis": "y"
        },
        {
         "hovertemplate": "Label=1.0<br>Principal component 1=%{x}<br>Principal component 2=%{y}<extra></extra>",
         "legendgroup": "1.0",
         "marker": {
          "color": "#EF553B",
          "symbol": "circle"
         },
         "mode": "markers",
         "name": "1.0",
         "orientation": "v",
         "showlegend": true,
         "type": "scatter",
         "x": [
          1.2848256888583518,
          0.9324885323123195,
          1.4643023219913944,
          0.1833177199583729,
          1.0881032577116667,
          0.6416690842580799,
          1.095060662632448,
          -0.7491226698296545,
          1.0441318260534362,
          -0.008745404082893683,
          -0.5078408838353231,
          0.5116985574475992,
          0.2649765081120481,
          0.9849345104708915,
          -0.17392537168176572,
          0.9278607809442484,
          0.6602837616969394,
          0.23610499331767337,
          0.9447337280198147,
          0.045226976298701996,
          1.1162831773500514,
          0.35788841799730875,
          1.2981838753589148,
          0.9217289224470384,
          0.7148533259114128,
          0.9001743731721681,
          1.3320244367220893,
          1.5578021550660712,
          0.8132906498175431,
          -0.3055837780243071,
          -0.06812649206836127,
          -0.18962247237849955,
          0.13642871155801678,
          1.3800264359155128,
          0.5880064433398656,
          0.8068583125004141,
          1.2206908824443539,
          0.8150952357666008,
          0.2459576798866945,
          0.16641321714545898,
          0.46480028840378135,
          0.8908151984694509,
          0.23054802355945722,
          -0.7045317592446608,
          0.35698149470104906,
          0.33193447994506026,
          0.37621565106667226,
          0.6425760075543393,
          -0.9064698649488331,
          0.29900084187814524
         ],
         "xaxis": "x",
         "y": [
          0.6851604704673088,
          0.318333638262629,
          0.5042628153092042,
          -0.8279590118206319,
          0.07459067519771644,
          -0.41824687156867846,
          0.28346827006152914,
          -1.0048909611818948,
          0.22836189978839583,
          -0.7230819050048338,
          -1.2659711905263928,
          -0.10398123549904018,
          -0.5500364636804742,
          -0.12481785412635713,
          -0.25485420870258896,
          0.4671794944415107,
          -0.3529696657238502,
          -0.333610766824915,
          -0.5431455507797661,
          -0.583834377471864,
          -0.08461685219478789,
          -0.0689250316560136,
          -0.32778730833391706,
          -0.18273779362136713,
          0.14905594436978498,
          0.3285044738343235,
          0.24444087601634368,
          0.2674954473102548,
          -0.16335030068761602,
          -0.3682621897545875,
          -0.7051721317994648,
          -0.680286763528133,
          -0.3140324382492364,
          -0.4209542873138816,
          -0.484287419981218,
          0.1941823147131509,
          0.4076195936110073,
          -0.3720370599095013,
          -0.2685243966220146,
          -0.6819267248636262,
          -0.67071154451172,
          -0.03446444436826861,
          -0.4043858480073248,
          -1.0122482275317135,
          -0.5049100933371082,
          -0.21265468378116953,
          -0.2932189292514186,
          0.017738190112416532,
          -0.7560933665990136,
          -0.3488978064503356
         ],
         "yaxis": "y"
        },
        {
         "hovertemplate": "Label=2.0<br>Principal component 1=%{x}<br>Principal component 2=%{y}<extra></extra>",
         "legendgroup": "2.0",
         "marker": {
          "color": "#00cc96",
          "symbol": "circle"
         },
         "mode": "markers",
         "name": "2.0",
         "orientation": "v",
         "showlegend": true,
         "type": "scatter",
         "x": [
          2.531192727803629,
          1.4152358767039042,
          2.6166760159956906,
          1.9715310530434365,
          2.350005920044641,
          3.397038736053258,
          0.521232243909776,
          2.932587068993689,
          2.3212288165733783,
          2.9167509667860725,
          1.661774153636532,
          1.8034019529650922,
          2.165591796080146,
          1.346163579458453,
          1.5859282238732224,
          1.9044563747934278,
          1.94968905939907,
          3.4870553642902786,
          3.7956454220728824,
          1.3007917126376585,
          2.427817913066046,
          1.1990011054655625,
          3.4999200389245373,
          1.3887661316914663,
          2.275430503872206,
          2.6140904738108315,
          1.258508160511489,
          1.2911320591150224,
          2.123608722773896,
          2.3880030160034673,
          2.8416727781038706,
          3.2306736614320926,
          2.159437642489051,
          1.4441612423295107,
          1.781294810045113,
          3.0764999316871875,
          2.144243314302083,
          1.9050981488140766,
          1.1693263393415017,
          2.1076111432572424,
          2.3141547052356004,
          1.922267800902601,
          1.4152358767039042,
          2.563013375077477,
          2.4187461827328263,
          1.9441097945469688,
          1.5271666148145182,
          1.76434571704443,
          1.9009416142184246,
          1.3901888619479155
         ],
         "xaxis": "x",
         "y": [
          -0.009849109498801967,
          -0.5749163475464891,
          0.3439031513417344,
          -0.17972790435224523,
          -0.04026094714253091,
          0.5508366730280555,
          -1.1927587270006448,
          0.3555000029774965,
          -0.24383150231069037,
          0.7827919488152781,
          0.2422284077550671,
          -0.21563761733355521,
          0.2162755850740248,
          -0.7768183473443392,
          -0.5396407140267184,
          0.11925069209197264,
          0.04194325966321154,
          1.175739329713429,
          0.2573229734204795,
          -0.761149636435063,
          0.37819601261705066,
          -0.6060915277579303,
          0.46067409891189504,
          -0.20439932735215074,
          0.33499060582167733,
          0.5609013551230777,
          -0.17970479472274642,
          -0.11666865117401123,
          -0.2097294766773026,
          0.46463980470873645,
          0.37526916719510334,
          1.374165086793047,
          -0.21727757866904898,
          -0.14341341045758044,
          -0.49990168107813604,
          0.6880856775711758,
          0.14006420108979,
          0.049300526013030324,
          -0.16499026202310937,
          0.37228787196079766,
          0.18365127916901902,
          0.4092034668160622,
          -0.5749163475464891,
          0.2778626029291947,
          0.30479819785469187,
          0.18753230280060534,
          -0.37531698258048807,
          0.07885885451847588,
          0.11662795851202365,
          -0.28266093799055036
         ],
         "yaxis": "y"
        }
       ],
       "layout": {
        "legend": {
         "title": {
          "text": "Label"
         },
         "tracegroupgap": 0
        },
        "margin": {
         "t": 60
        },
        "template": {
         "data": {
          "bar": [
           {
            "error_x": {
             "color": "#2a3f5f"
            },
            "error_y": {
             "color": "#2a3f5f"
            },
            "marker": {
             "line": {
              "color": "#E5ECF6",
              "width": 0.5
             },
             "pattern": {
              "fillmode": "overlay",
              "size": 10,
              "solidity": 0.2
             }
            },
            "type": "bar"
           }
          ],
          "barpolar": [
           {
            "marker": {
             "line": {
              "color": "#E5ECF6",
              "width": 0.5
             },
             "pattern": {
              "fillmode": "overlay",
              "size": 10,
              "solidity": 0.2
             }
            },
            "type": "barpolar"
           }
          ],
          "carpet": [
           {
            "aaxis": {
             "endlinecolor": "#2a3f5f",
             "gridcolor": "white",
             "linecolor": "white",
             "minorgridcolor": "white",
             "startlinecolor": "#2a3f5f"
            },
            "baxis": {
             "endlinecolor": "#2a3f5f",
             "gridcolor": "white",
             "linecolor": "white",
             "minorgridcolor": "white",
             "startlinecolor": "#2a3f5f"
            },
            "type": "carpet"
           }
          ],
          "choropleth": [
           {
            "colorbar": {
             "outlinewidth": 0,
             "ticks": ""
            },
            "type": "choropleth"
           }
          ],
          "contour": [
           {
            "colorbar": {
             "outlinewidth": 0,
             "ticks": ""
            },
            "colorscale": [
             [
              0,
              "#0d0887"
             ],
             [
              0.1111111111111111,
              "#46039f"
             ],
             [
              0.2222222222222222,
              "#7201a8"
             ],
             [
              0.3333333333333333,
              "#9c179e"
             ],
             [
              0.4444444444444444,
              "#bd3786"
             ],
             [
              0.5555555555555556,
              "#d8576b"
             ],
             [
              0.6666666666666666,
              "#ed7953"
             ],
             [
              0.7777777777777778,
              "#fb9f3a"
             ],
             [
              0.8888888888888888,
              "#fdca26"
             ],
             [
              1,
              "#f0f921"
             ]
            ],
            "type": "contour"
           }
          ],
          "contourcarpet": [
           {
            "colorbar": {
             "outlinewidth": 0,
             "ticks": ""
            },
            "type": "contourcarpet"
           }
          ],
          "heatmap": [
           {
            "colorbar": {
             "outlinewidth": 0,
             "ticks": ""
            },
            "colorscale": [
             [
              0,
              "#0d0887"
             ],
             [
              0.1111111111111111,
              "#46039f"
             ],
             [
              0.2222222222222222,
              "#7201a8"
             ],
             [
              0.3333333333333333,
              "#9c179e"
             ],
             [
              0.4444444444444444,
              "#bd3786"
             ],
             [
              0.5555555555555556,
              "#d8576b"
             ],
             [
              0.6666666666666666,
              "#ed7953"
             ],
             [
              0.7777777777777778,
              "#fb9f3a"
             ],
             [
              0.8888888888888888,
              "#fdca26"
             ],
             [
              1,
              "#f0f921"
             ]
            ],
            "type": "heatmap"
           }
          ],
          "heatmapgl": [
           {
            "colorbar": {
             "outlinewidth": 0,
             "ticks": ""
            },
            "colorscale": [
             [
              0,
              "#0d0887"
             ],
             [
              0.1111111111111111,
              "#46039f"
             ],
             [
              0.2222222222222222,
              "#7201a8"
             ],
             [
              0.3333333333333333,
              "#9c179e"
             ],
             [
              0.4444444444444444,
              "#bd3786"
             ],
             [
              0.5555555555555556,
              "#d8576b"
             ],
             [
              0.6666666666666666,
              "#ed7953"
             ],
             [
              0.7777777777777778,
              "#fb9f3a"
             ],
             [
              0.8888888888888888,
              "#fdca26"
             ],
             [
              1,
              "#f0f921"
             ]
            ],
            "type": "heatmapgl"
           }
          ],
          "histogram": [
           {
            "marker": {
             "pattern": {
              "fillmode": "overlay",
              "size": 10,
              "solidity": 0.2
             }
            },
            "type": "histogram"
           }
          ],
          "histogram2d": [
           {
            "colorbar": {
             "outlinewidth": 0,
             "ticks": ""
            },
            "colorscale": [
             [
              0,
              "#0d0887"
             ],
             [
              0.1111111111111111,
              "#46039f"
             ],
             [
              0.2222222222222222,
              "#7201a8"
             ],
             [
              0.3333333333333333,
              "#9c179e"
             ],
             [
              0.4444444444444444,
              "#bd3786"
             ],
             [
              0.5555555555555556,
              "#d8576b"
             ],
             [
              0.6666666666666666,
              "#ed7953"
             ],
             [
              0.7777777777777778,
              "#fb9f3a"
             ],
             [
              0.8888888888888888,
              "#fdca26"
             ],
             [
              1,
              "#f0f921"
             ]
            ],
            "type": "histogram2d"
           }
          ],
          "histogram2dcontour": [
           {
            "colorbar": {
             "outlinewidth": 0,
             "ticks": ""
            },
            "colorscale": [
             [
              0,
              "#0d0887"
             ],
             [
              0.1111111111111111,
              "#46039f"
             ],
             [
              0.2222222222222222,
              "#7201a8"
             ],
             [
              0.3333333333333333,
              "#9c179e"
             ],
             [
              0.4444444444444444,
              "#bd3786"
             ],
             [
              0.5555555555555556,
              "#d8576b"
             ],
             [
              0.6666666666666666,
              "#ed7953"
             ],
             [
              0.7777777777777778,
              "#fb9f3a"
             ],
             [
              0.8888888888888888,
              "#fdca26"
             ],
             [
              1,
              "#f0f921"
             ]
            ],
            "type": "histogram2dcontour"
           }
          ],
          "mesh3d": [
           {
            "colorbar": {
             "outlinewidth": 0,
             "ticks": ""
            },
            "type": "mesh3d"
           }
          ],
          "parcoords": [
           {
            "line": {
             "colorbar": {
              "outlinewidth": 0,
              "ticks": ""
             }
            },
            "type": "parcoords"
           }
          ],
          "pie": [
           {
            "automargin": true,
            "type": "pie"
           }
          ],
          "scatter": [
           {
            "marker": {
             "colorbar": {
              "outlinewidth": 0,
              "ticks": ""
             }
            },
            "type": "scatter"
           }
          ],
          "scatter3d": [
           {
            "line": {
             "colorbar": {
              "outlinewidth": 0,
              "ticks": ""
             }
            },
            "marker": {
             "colorbar": {
              "outlinewidth": 0,
              "ticks": ""
             }
            },
            "type": "scatter3d"
           }
          ],
          "scattercarpet": [
           {
            "marker": {
             "colorbar": {
              "outlinewidth": 0,
              "ticks": ""
             }
            },
            "type": "scattercarpet"
           }
          ],
          "scattergeo": [
           {
            "marker": {
             "colorbar": {
              "outlinewidth": 0,
              "ticks": ""
             }
            },
            "type": "scattergeo"
           }
          ],
          "scattergl": [
           {
            "marker": {
             "colorbar": {
              "outlinewidth": 0,
              "ticks": ""
             }
            },
            "type": "scattergl"
           }
          ],
          "scattermapbox": [
           {
            "marker": {
             "colorbar": {
              "outlinewidth": 0,
              "ticks": ""
             }
            },
            "type": "scattermapbox"
           }
          ],
          "scatterpolar": [
           {
            "marker": {
             "colorbar": {
              "outlinewidth": 0,
              "ticks": ""
             }
            },
            "type": "scatterpolar"
           }
          ],
          "scatterpolargl": [
           {
            "marker": {
             "colorbar": {
              "outlinewidth": 0,
              "ticks": ""
             }
            },
            "type": "scatterpolargl"
           }
          ],
          "scatterternary": [
           {
            "marker": {
             "colorbar": {
              "outlinewidth": 0,
              "ticks": ""
             }
            },
            "type": "scatterternary"
           }
          ],
          "surface": [
           {
            "colorbar": {
             "outlinewidth": 0,
             "ticks": ""
            },
            "colorscale": [
             [
              0,
              "#0d0887"
             ],
             [
              0.1111111111111111,
              "#46039f"
             ],
             [
              0.2222222222222222,
              "#7201a8"
             ],
             [
              0.3333333333333333,
              "#9c179e"
             ],
             [
              0.4444444444444444,
              "#bd3786"
             ],
             [
              0.5555555555555556,
              "#d8576b"
             ],
             [
              0.6666666666666666,
              "#ed7953"
             ],
             [
              0.7777777777777778,
              "#fb9f3a"
             ],
             [
              0.8888888888888888,
              "#fdca26"
             ],
             [
              1,
              "#f0f921"
             ]
            ],
            "type": "surface"
           }
          ],
          "table": [
           {
            "cells": {
             "fill": {
              "color": "#EBF0F8"
             },
             "line": {
              "color": "white"
             }
            },
            "header": {
             "fill": {
              "color": "#C8D4E3"
             },
             "line": {
              "color": "white"
             }
            },
            "type": "table"
           }
          ]
         },
         "layout": {
          "annotationdefaults": {
           "arrowcolor": "#2a3f5f",
           "arrowhead": 0,
           "arrowwidth": 1
          },
          "autotypenumbers": "strict",
          "coloraxis": {
           "colorbar": {
            "outlinewidth": 0,
            "ticks": ""
           }
          },
          "colorscale": {
           "diverging": [
            [
             0,
             "#8e0152"
            ],
            [
             0.1,
             "#c51b7d"
            ],
            [
             0.2,
             "#de77ae"
            ],
            [
             0.3,
             "#f1b6da"
            ],
            [
             0.4,
             "#fde0ef"
            ],
            [
             0.5,
             "#f7f7f7"
            ],
            [
             0.6,
             "#e6f5d0"
            ],
            [
             0.7,
             "#b8e186"
            ],
            [
             0.8,
             "#7fbc41"
            ],
            [
             0.9,
             "#4d9221"
            ],
            [
             1,
             "#276419"
            ]
           ],
           "sequential": [
            [
             0,
             "#0d0887"
            ],
            [
             0.1111111111111111,
             "#46039f"
            ],
            [
             0.2222222222222222,
             "#7201a8"
            ],
            [
             0.3333333333333333,
             "#9c179e"
            ],
            [
             0.4444444444444444,
             "#bd3786"
            ],
            [
             0.5555555555555556,
             "#d8576b"
            ],
            [
             0.6666666666666666,
             "#ed7953"
            ],
            [
             0.7777777777777778,
             "#fb9f3a"
            ],
            [
             0.8888888888888888,
             "#fdca26"
            ],
            [
             1,
             "#f0f921"
            ]
           ],
           "sequentialminus": [
            [
             0,
             "#0d0887"
            ],
            [
             0.1111111111111111,
             "#46039f"
            ],
            [
             0.2222222222222222,
             "#7201a8"
            ],
            [
             0.3333333333333333,
             "#9c179e"
            ],
            [
             0.4444444444444444,
             "#bd3786"
            ],
            [
             0.5555555555555556,
             "#d8576b"
            ],
            [
             0.6666666666666666,
             "#ed7953"
            ],
            [
             0.7777777777777778,
             "#fb9f3a"
            ],
            [
             0.8888888888888888,
             "#fdca26"
            ],
            [
             1,
             "#f0f921"
            ]
           ]
          },
          "colorway": [
           "#636efa",
           "#EF553B",
           "#00cc96",
           "#ab63fa",
           "#FFA15A",
           "#19d3f3",
           "#FF6692",
           "#B6E880",
           "#FF97FF",
           "#FECB52"
          ],
          "font": {
           "color": "#2a3f5f"
          },
          "geo": {
           "bgcolor": "white",
           "lakecolor": "white",
           "landcolor": "#E5ECF6",
           "showlakes": true,
           "showland": true,
           "subunitcolor": "white"
          },
          "hoverlabel": {
           "align": "left"
          },
          "hovermode": "closest",
          "mapbox": {
           "style": "light"
          },
          "paper_bgcolor": "white",
          "plot_bgcolor": "#E5ECF6",
          "polar": {
           "angularaxis": {
            "gridcolor": "white",
            "linecolor": "white",
            "ticks": ""
           },
           "bgcolor": "#E5ECF6",
           "radialaxis": {
            "gridcolor": "white",
            "linecolor": "white",
            "ticks": ""
           }
          },
          "scene": {
           "xaxis": {
            "backgroundcolor": "#E5ECF6",
            "gridcolor": "white",
            "gridwidth": 2,
            "linecolor": "white",
            "showbackground": true,
            "ticks": "",
            "zerolinecolor": "white"
           },
           "yaxis": {
            "backgroundcolor": "#E5ECF6",
            "gridcolor": "white",
            "gridwidth": 2,
            "linecolor": "white",
            "showbackground": true,
            "ticks": "",
            "zerolinecolor": "white"
           },
           "zaxis": {
            "backgroundcolor": "#E5ECF6",
            "gridcolor": "white",
            "gridwidth": 2,
            "linecolor": "white",
            "showbackground": true,
            "ticks": "",
            "zerolinecolor": "white"
           }
          },
          "shapedefaults": {
           "line": {
            "color": "#2a3f5f"
           }
          },
          "ternary": {
           "aaxis": {
            "gridcolor": "white",
            "linecolor": "white",
            "ticks": ""
           },
           "baxis": {
            "gridcolor": "white",
            "linecolor": "white",
            "ticks": ""
           },
           "bgcolor": "#E5ECF6",
           "caxis": {
            "gridcolor": "white",
            "linecolor": "white",
            "ticks": ""
           }
          },
          "title": {
           "x": 0.05
          },
          "xaxis": {
           "automargin": true,
           "gridcolor": "white",
           "linecolor": "white",
           "ticks": "",
           "title": {
            "standoff": 15
           },
           "zerolinecolor": "white",
           "zerolinewidth": 2
          },
          "yaxis": {
           "automargin": true,
           "gridcolor": "white",
           "linecolor": "white",
           "ticks": "",
           "title": {
            "standoff": 15
           },
           "zerolinecolor": "white",
           "zerolinewidth": 2
          }
         }
        },
        "title": {
         "text": "PCA of Iris Dataset",
         "x": 0.5
        },
        "xaxis": {
         "anchor": "y",
         "domain": [
          0,
          1
         ],
         "title": {
          "text": "Principal Component 1"
         }
        },
        "yaxis": {
         "anchor": "x",
         "domain": [
          0,
          1
         ],
         "title": {
          "text": "Principal Component 2"
         }
        }
       }
      }
     },
     "metadata": {},
     "output_type": "display_data"
    }
   ],
   "source": [
    "from sklearn.decomposition import PCA\n",
    "pca = PCA(random_state=__RANDOM_STATE, n_components=2)\n",
    "X_pca = pca.fit_transform(X)\n",
    "df = pd.DataFrame(np.concatenate((X_pca, y.values.reshape(-1,1)), axis=1),\n",
    "                  columns=[\n",
    "                      \"Principal component 1\",\n",
    "                      \"Principal component 2\",\n",
    "                      \"Label\",\n",
    "                  ],\n",
    ").astype({\"Label\": \"category\"})\n",
    "fig = px.scatter(df, x=\"Principal component 1\", y=\"Principal component 2\", color=\"Label\")\n",
    "fig.update_layout(title=\"PCA of Iris Dataset\", title_x=0.5)\n",
    "fig.update_xaxes(title=\"Principal Component 1\")\n",
    "fig.update_yaxes(title=\"Principal Component 2\")\n",
    "fig.show()\n",
    "\n",
    "# TODO: What does the position of the components signify?"
   ]
  },
  {
   "cell_type": "code",
   "execution_count": 6,
   "metadata": {},
   "outputs": [
    {
     "name": "stderr",
     "output_type": "stream",
     "text": [
      "C:\\Users\\Mike\\anaconda3\\envs\\automl\\lib\\site-packages\\tpot\\builtins\\__init__.py:36: UserWarning:\n",
      "\n",
      "Warning: optional dependency `torch` is not available. - skipping import of NN models.\n",
      "\n",
      "C:\\Users\\Mike\\anaconda3\\envs\\automl\\lib\\site-packages\\xgboost\\compat.py:36: FutureWarning:\n",
      "\n",
      "pandas.Int64Index is deprecated and will be removed from pandas in a future version. Use pandas.Index with the appropriate dtype instead.\n",
      "\n"
     ]
    },
    {
     "name": "stdout",
     "output_type": "stream",
     "text": [
      "                                                                              \n",
      "Generation 1 - Current best internal CV score: 0.9619047619047618\n",
      "                                                                              \n",
      "Generation 2 - Current best internal CV score: 0.980952380952381\n",
      "                                                                              \n",
      "Generation 3 - Current best internal CV score: 0.980952380952381\n",
      "                                                                              \n",
      "Generation 4 - Current best internal CV score: 0.980952380952381\n",
      "                                                                              \n",
      "Generation 5 - Current best internal CV score: 0.980952380952381\n",
      "                                                                              \n",
      "Generation 6 - Current best internal CV score: 0.980952380952381\n",
      "                                                                              \n",
      "Generation 7 - Current best internal CV score: 0.980952380952381\n",
      "                                                                              \n",
      "Generation 8 - Current best internal CV score: 0.980952380952381\n",
      "                                                                               \n",
      "Generation 9 - Current best internal CV score: 0.980952380952381\n",
      "                                                                                \n",
      "Generation 10 - Current best internal CV score: 0.980952380952381\n",
      "                                                                                \n",
      "Generation 11 - Current best internal CV score: 0.980952380952381\n",
      "                                                                                \n",
      "Generation 12 - Current best internal CV score: 0.980952380952381\n",
      "                                                                                \n",
      "Generation 13 - Current best internal CV score: 0.980952380952381\n",
      "                                                                                \n",
      "Generation 14 - Current best internal CV score: 0.980952380952381\n",
      "                                                                                \n",
      "Generation 15 - Current best internal CV score: 0.980952380952381\n",
      "                                                                                \n",
      "Generation 16 - Current best internal CV score: 0.980952380952381\n",
      "                                                                                \n",
      "5.19 minutes have elapsed. TPOT will close down.                                \n",
      "TPOT closed during evaluation in one generation.\n",
      "WARNING: TPOT may not provide a good pipeline if TPOT is stopped/interrupted in a early generation.\n",
      "                                                                                \n",
      "                                                                                \n",
      "TPOT closed prematurely. Will use the current best pipeline.\n",
      "                                                                                \n",
      "Best pipeline: RandomForestClassifier(RBFSampler(input_matrix, gamma=0.75), bootstrap=False, criterion=entropy, max_features=0.4, min_samples_leaf=12, min_samples_split=7, n_estimators=100)\n"
     ]
    },
    {
     "data": {
      "text/plain": [
       "TPOTClassifier(max_time_mins=5, n_jobs=-1, random_state=42, scoring='accuracy',\n",
       "               verbosity=2)"
      ]
     },
     "execution_count": 6,
     "metadata": {},
     "output_type": "execute_result"
    }
   ],
   "source": [
    "from tpot import TPOTClassifier\n",
    "classifier = TPOTClassifier(\n",
    "    n_jobs=-1,   # Use all availabe cores\n",
    "    scoring='accuracy',\n",
    "    max_time_mins=5,  # Can set max time limit\n",
    "    random_state=__RANDOM_STATE, \n",
    "    verbosity=2, \n",
    ")\n",
    "classifier.fit(X_train, y_train)"
   ]
  },
  {
   "cell_type": "code",
   "execution_count": 20,
   "metadata": {},
   "outputs": [
    {
     "name": "stdout",
     "output_type": "stream",
     "text": [
      "Accuracy score with TPOT classifier: 100.00%\n"
     ]
    }
   ],
   "source": [
    "acc = classifier.score(X_test, y_test)\n",
    "print(f\"Accuracy score with TPOT classifier: {acc*100:.2f}%\")\n",
    "classifier.export(\"./exported_tpot_model.py\")"
   ]
  },
  {
   "cell_type": "markdown",
   "metadata": {},
   "source": [
    "### AutoML with AutoKeras\n",
    "Theory: https://arxiv.org/abs/1806.10282\n",
    "\n",
    "\"Framework enabling Bayesian optimization to guide the network morphism for efficient neural architecture search. The framework develops a neural network kernel and a tree-structured acquisition function optimization algorithm to efficiently explores the search space. Intensive experiments on real-world benchmark datasets have been done to demonstrate the superior performance of the developed framework over the state-of-the-art methods. Moreover, we build an opensource AutoML system based on our method, namely Auto-Keras.\"\n",
    "\n",
    "\"The system runs in parallel on CPU and GPU, with an adaptive search strategy for different GPU memory limits.\"\n",
    "\n",
    "API: https://autokeras.com/"
   ]
  },
  {
   "cell_type": "code",
   "execution_count": 52,
   "metadata": {},
   "outputs": [],
   "source": [
    "import autokeras as ak\n",
    "(X_train, y_train), (X_test, y_test) = tf.keras.datasets.cifar10.load_data()\n",
    "X_train_tiny, _, y_train_tiny, _ = train_test_split(\n",
    "  X_train, y_train, train_size=0.1,\n",
    "  random_state=__RANDOM_STATE\n",
    "  )\n",
    "\n",
    "# We will search over 5000 training images only.\n",
    "# Then we can fine-tune the best model using entire dataset. \n",
    "# TODO: This is an example of _____? architecture evaluation. \n",
    "\n",
    "\"\"\"\n",
    "  | Label | Description |\n",
    "  |:-----:|-------------|\n",
    "  |   0   | airplane    |\n",
    "  |   1   | automobile  |\n",
    "  |   2   | bird        |\n",
    "  |   3   | cat         |\n",
    "  |   4   | deer        |\n",
    "  |   5   | dog         |\n",
    "  |   6   | frog        |\n",
    "  |   7   | horse       |\n",
    "  |   8   | ship        |\n",
    "  |   9   | truck       |\n",
    "\"\"\"\n",
    "labels = {\n",
    "    0:  \"airplane\",\n",
    "    1: \"automobile\",\n",
    "    2: \"bird\",\n",
    "    3: \"cat\",    \n",
    "    4: \"deer\",     \n",
    "    5: \"dog\",    \n",
    "    6: \"frog\",     \n",
    "    7: \"horse\",    \n",
    "    8: \"ship\",   \n",
    "    9: \"truck\",\n",
    "}"
   ]
  },
  {
   "cell_type": "code",
   "execution_count": 5,
   "metadata": {},
   "outputs": [
    {
     "data": {
      "text/plain": [
       "7    534\n",
       "4    524\n",
       "0    510\n",
       "6    505\n",
       "5    503\n",
       "2    502\n",
       "8    499\n",
       "1    487\n",
       "3    474\n",
       "9    462\n",
       "dtype: int64"
      ]
     },
     "execution_count": 5,
     "metadata": {},
     "output_type": "execute_result"
    }
   ],
   "source": [
    "pd.DataFrame(y_train_tiny).value_counts()"
   ]
  },
  {
   "cell_type": "code",
   "execution_count": 7,
   "metadata": {},
   "outputs": [
    {
     "data": {
      "image/png": "[encoded data removed]",
      "text/plain": [
       "<Figure size 864x576 with 1 Axes>"
      ]
     },
     "metadata": {
      "needs_background": "light"
     },
     "output_type": "display_data"
    },
    {
     "name": "stdout",
     "output_type": "stream",
     "text": [
      "['frog', 'truck', 'truck', 'deer', 'automobile', 'automobile']\n"
     ]
    }
   ],
   "source": [
    "from functools import reduce\n",
    "# TODO: What does reduce do?\n",
    "def image_row(x):\n",
    "        images = tf.unstack(x)\n",
    "        row = reduce(lambda a,b: tf.concat((a,b), axis=1), images)\n",
    "        return row\n",
    "\n",
    "n_images = 6\n",
    "images = image_row(X_train[:n_images])\n",
    "plt.figure(figsize=(12,8))\n",
    "plt.imshow(images)\n",
    "plt.axis(\"off\")\n",
    "plt.show()\n",
    "print(f\"{[labels[l] for l in y_train[:n_images].flatten()]}\")"
   ]
  },
  {
   "cell_type": "code",
   "execution_count": 9,
   "metadata": {},
   "outputs": [
    {
     "data": {
      "image/png": "[encoded data removed]",
      "text/plain": [
       "<Figure size 1296x864 with 1 Axes>"
      ]
     },
     "metadata": {
      "needs_background": "light"
     },
     "output_type": "display_data"
    }
   ],
   "source": [
    "plt.figure(figsize=(18,12))\n",
    "# TODO: Seaborn has the best histograms\n",
    "sns.histplot(X_train.mean(axis=(1,2))[:,0], kde=True, color=\"red\")\n",
    "sns.histplot(X_train.mean(axis=(1,2))[:,1], kde=True, color=\"green\")\n",
    "sns.histplot(X_train.mean(axis=(1,2))[:,2], kde=True, color=\"blue\")\n",
    "plt.show()"
   ]
  },
  {
   "cell_type": "code",
   "execution_count": 85,
   "metadata": {},
   "outputs": [],
   "source": [
    "# We will customize our search space to only consider smaller \"vanilla\" convolutional models\n",
    "input_node = ak.ImageInput()\n",
    "output_node = ak.ImageBlock(\n",
    "    # Only search Vanilla Conv architectures.\n",
    "    block_type=\"vanilla\",  # Custom block used to populate hypermodel\n",
    "    # Normalize the dataset.\n",
    "    normalize=True,\n",
    "    # Perform augmentation\n",
    "    augment=True,\n",
    ")(input_node)\n",
    "output_node = ak.ClassificationHead()(output_node)\n",
    "clf = ak.AutoModel(\n",
    "    inputs=input_node, outputs=output_node, overwrite=True, max_trials=100,\n",
    "    directory= __DATA_PATH / \"vanilla-conv\", seed=__RANDOM_STATE, objective=\"val_accuracy\"  # TODO: Note __truediv__ behavior of Path\n",
    ")"
   ]
  },
  {
   "cell_type": "code",
   "execution_count": 86,
   "metadata": {},
   "outputs": [
    {
     "name": "stdout",
     "output_type": "stream",
     "text": [
      "Trial 100 Complete [00h 00m 06s]\n",
      "val_accuracy: 0.567148745059967\n",
      "\n",
      "Best val_accuracy So Far: 0.5950413346290588\n",
      "Total elapsed time: 00h 11m 15s\n",
      "INFO:tensorflow:Oracle triggered exit\n"
     ]
    },
    {
     "name": "stdout",
     "output_type": "stream",
     "text": [
      "Epoch 1/5\n",
      "157/157 [==============================] - 2s 7ms/step - loss: 1.8478 - accuracy: 0.3304\n",
      "Epoch 2/5\n",
      "157/157 [==============================] - 1s 7ms/step - loss: 1.5362 - accuracy: 0.4428\n",
      "Epoch 3/5\n",
      "157/157 [==============================] - 1s 7ms/step - loss: 1.4253 - accuracy: 0.4868\n",
      "Epoch 4/5\n",
      "157/157 [==============================] - 1s 7ms/step - loss: 1.3085 - accuracy: 0.5284\n",
      "Epoch 5/5\n",
      "157/157 [==============================] - 1s 7ms/step - loss: 1.2459 - accuracy: 0.5580\n",
      "INFO:tensorflow:Assets written to: data\\vanilla-conv\\auto_model\\best_model\\assets\n"
     ]
    },
    {
     "data": {
      "text/plain": [
       "<keras.callbacks.History at 0x1dc71455fd0>"
      ]
     },
     "execution_count": 86,
     "metadata": {},
     "output_type": "execute_result"
    }
   ],
   "source": [
    "clf.fit(X_train_tiny, y_train_tiny, epochs=5)  # TODO: Fit 100 models for 5 epochs each!"
   ]
  },
  {
   "cell_type": "code",
   "execution_count": 87,
   "metadata": {},
   "outputs": [
    {
     "data": {
      "application/vnd.plotly.v1+json": {
       "config": {
        "plotlyServerURL": "https://plot.ly"
       },
       "data": [
        {
         "alignmentgroup": "True",
         "hovertemplate": "Trial=%{x}<br>Score=%{y}<extra></extra>",
         "legendgroup": "",
         "marker": {
          "color": "#636efa",
          "pattern": {
           "shape": ""
          }
         },
         "name": "",
         "offsetgroup": "",
         "orientation": "v",
         "showlegend": false,
         "textposition": "auto",
         "type": "bar",
         "x": [
          0,
          1,
          2,
          3,
          4,
          5,
          6,
          7,
          8,
          9,
          10,
          11,
          12,
          13,
          14,
          15,
          16,
          17,
          18,
          19,
          20,
          21,
          22,
          23,
          24,
          25,
          26,
          27,
          28,
          29,
          30,
          31,
          32,
          33,
          34,
          35,
          36,
          37,
          38,
          39,
          40,
          41,
          42,
          43,
          44,
          45,
          46,
          47,
          48,
          49,
          50,
          51,
          52,
          53,
          54,
          55,
          56,
          57,
          58,
          59,
          60,
          61,
          62,
          63,
          64,
          65,
          66,
          67,
          68,
          69,
          70,
          71,
          72,
          73,
          74,
          75,
          76,
          77,
          78,
          79,
          80,
          81,
          82,
          83,
          84,
          85,
          86,
          87,
          88,
          89,
          90,
          91,
          92,
          93,
          94,
          95,
          96,
          97,
          98
         ],
         "xaxis": "x",
         "y": [
          0.5950413346290588,
          0.5929751992225647,
          0.58574378490448,
          0.5847107172012329,
          0.5847107172012329,
          0.5826446413993835,
          0.5785123705863953,
          0.5754132270812988,
          0.5743801593780518,
          0.5743801593780518,
          0.5743801593780518,
          0.5743801593780518,
          0.5733470916748047,
          0.5733470916748047,
          0.5733470916748047,
          0.5692148804664612,
          0.5681818127632141,
          0.5681818127632141,
          0.567148745059967,
          0.56611567735672,
          0.5630165338516235,
          0.5630165338516235,
          0.5619834661483765,
          0.5619834661483765,
          0.5609503984451294,
          0.5568181872367859,
          0.5557851195335388,
          0.5547520518302917,
          0.5537189841270447,
          0.5464876294136047,
          0.5423553586006165,
          0.5423553586006165,
          0.5413222908973694,
          0.53925621509552,
          0.538223147392273,
          0.5237603187561035,
          0.5227272510528564,
          0.5206611752510071,
          0.51962810754776,
          0.5165289044380188,
          0.5154958963394165,
          0.5154958963394165,
          0.5092975497245789,
          0.5072314143180847,
          0.5072314143180847,
          0.5041322112083435,
          0.5010330677032471,
          0.5010330677032471,
          0.5,
          0.49896693229675293,
          0.49896693229675293,
          0.49380165338516235,
          0.49380165338516235,
          0.4917355477809906,
          0.4876033067703247,
          0.48243802785873413,
          0.47830578684806824,
          0.47830578684806824,
          0.4752066135406494,
          0.4752066135406494,
          0.4752066135406494,
          0.47417354583740234,
          0.4721074402332306,
          0.4648760259151459,
          0.4638429880142212,
          0.46074381470680237,
          0.44524794816970825,
          0.4349173605442047,
          0.4318181872367859,
          0.41735535860061646,
          0.41322314739227295,
          0.3987603187561035,
          0.39359503984451294,
          0.3863636255264282,
          0.3791322410106659,
          0.3791322410106659,
          0.3780991733074188,
          0.375,
          0.375,
          0.3698347210884094,
          0.3698347210884094,
          0.36880165338516235,
          0.36570248007774353,
          0.36466941237449646,
          0.3636363744735718,
          0.36157023906707764,
          0.36053720116615295,
          0.3595041334629059,
          0.35227271914482117,
          0.34814050793647766,
          0.3471074402332306,
          0.32128098607063293,
          0.31611570715904236,
          0.3109503984451294,
          0.2871900796890259,
          0.2851239740848541,
          0.2582644522190094,
          0.24793387949466705,
          0.1818181872367859
         ],
         "yaxis": "y"
        }
       ],
       "layout": {
        "barmode": "relative",
        "legend": {
         "tracegroupgap": 0
        },
        "margin": {
         "t": 60
        },
        "template": {
         "data": {
          "bar": [
           {
            "error_x": {
             "color": "#2a3f5f"
            },
            "error_y": {
             "color": "#2a3f5f"
            },
            "marker": {
             "line": {
              "color": "#E5ECF6",
              "width": 0.5
             },
             "pattern": {
              "fillmode": "overlay",
              "size": 10,
              "solidity": 0.2
             }
            },
            "type": "bar"
           }
          ],
          "barpolar": [
           {
            "marker": {
             "line": {
              "color": "#E5ECF6",
              "width": 0.5
             },
             "pattern": {
              "fillmode": "overlay",
              "size": 10,
              "solidity": 0.2
             }
            },
            "type": "barpolar"
           }
          ],
          "carpet": [
           {
            "aaxis": {
             "endlinecolor": "#2a3f5f",
             "gridcolor": "white",
             "linecolor": "white",
             "minorgridcolor": "white",
             "startlinecolor": "#2a3f5f"
            },
            "baxis": {
             "endlinecolor": "#2a3f5f",
             "gridcolor": "white",
             "linecolor": "white",
             "minorgridcolor": "white",
             "startlinecolor": "#2a3f5f"
            },
            "type": "carpet"
           }
          ],
          "choropleth": [
           {
            "colorbar": {
             "outlinewidth": 0,
             "ticks": ""
            },
            "type": "choropleth"
           }
          ],
          "contour": [
           {
            "colorbar": {
             "outlinewidth": 0,
             "ticks": ""
            },
            "colorscale": [
             [
              0,
              "#0d0887"
             ],
             [
              0.1111111111111111,
              "#46039f"
             ],
             [
              0.2222222222222222,
              "#7201a8"
             ],
             [
              0.3333333333333333,
              "#9c179e"
             ],
             [
              0.4444444444444444,
              "#bd3786"
             ],
             [
              0.5555555555555556,
              "#d8576b"
             ],
             [
              0.6666666666666666,
              "#ed7953"
             ],
             [
              0.7777777777777778,
              "#fb9f3a"
             ],
             [
              0.8888888888888888,
              "#fdca26"
             ],
             [
              1,
              "#f0f921"
             ]
            ],
            "type": "contour"
           }
          ],
          "contourcarpet": [
           {
            "colorbar": {
             "outlinewidth": 0,
             "ticks": ""
            },
            "type": "contourcarpet"
           }
          ],
          "heatmap": [
           {
            "colorbar": {
             "outlinewidth": 0,
             "ticks": ""
            },
            "colorscale": [
             [
              0,
              "#0d0887"
             ],
             [
              0.1111111111111111,
              "#46039f"
             ],
             [
              0.2222222222222222,
              "#7201a8"
             ],
             [
              0.3333333333333333,
              "#9c179e"
             ],
             [
              0.4444444444444444,
              "#bd3786"
             ],
             [
              0.5555555555555556,
              "#d8576b"
             ],
             [
              0.6666666666666666,
              "#ed7953"
             ],
             [
              0.7777777777777778,
              "#fb9f3a"
             ],
             [
              0.8888888888888888,
              "#fdca26"
             ],
             [
              1,
              "#f0f921"
             ]
            ],
            "type": "heatmap"
           }
          ],
          "heatmapgl": [
           {
            "colorbar": {
             "outlinewidth": 0,
             "ticks": ""
            },
            "colorscale": [
             [
              0,
              "#0d0887"
             ],
             [
              0.1111111111111111,
              "#46039f"
             ],
             [
              0.2222222222222222,
              "#7201a8"
             ],
             [
              0.3333333333333333,
              "#9c179e"
             ],
             [
              0.4444444444444444,
              "#bd3786"
             ],
             [
              0.5555555555555556,
              "#d8576b"
             ],
             [
              0.6666666666666666,
              "#ed7953"
             ],
             [
              0.7777777777777778,
              "#fb9f3a"
             ],
             [
              0.8888888888888888,
              "#fdca26"
             ],
             [
              1,
              "#f0f921"
             ]
            ],
            "type": "heatmapgl"
           }
          ],
          "histogram": [
           {
            "marker": {
             "pattern": {
              "fillmode": "overlay",
              "size": 10,
              "solidity": 0.2
             }
            },
            "type": "histogram"
           }
          ],
          "histogram2d": [
           {
            "colorbar": {
             "outlinewidth": 0,
             "ticks": ""
            },
            "colorscale": [
             [
              0,
              "#0d0887"
             ],
             [
              0.1111111111111111,
              "#46039f"
             ],
             [
              0.2222222222222222,
              "#7201a8"
             ],
             [
              0.3333333333333333,
              "#9c179e"
             ],
             [
              0.4444444444444444,
              "#bd3786"
             ],
             [
              0.5555555555555556,
              "#d8576b"
             ],
             [
              0.6666666666666666,
              "#ed7953"
             ],
             [
              0.7777777777777778,
              "#fb9f3a"
             ],
             [
              0.8888888888888888,
              "#fdca26"
             ],
             [
              1,
              "#f0f921"
             ]
            ],
            "type": "histogram2d"
           }
          ],
          "histogram2dcontour": [
           {
            "colorbar": {
             "outlinewidth": 0,
             "ticks": ""
            },
            "colorscale": [
             [
              0,
              "#0d0887"
             ],
             [
              0.1111111111111111,
              "#46039f"
             ],
             [
              0.2222222222222222,
              "#7201a8"
             ],
             [
              0.3333333333333333,
              "#9c179e"
             ],
             [
              0.4444444444444444,
              "#bd3786"
             ],
             [
              0.5555555555555556,
              "#d8576b"
             ],
             [
              0.6666666666666666,
              "#ed7953"
             ],
             [
              0.7777777777777778,
              "#fb9f3a"
             ],
             [
              0.8888888888888888,
              "#fdca26"
             ],
             [
              1,
              "#f0f921"
             ]
            ],
            "type": "histogram2dcontour"
           }
          ],
          "mesh3d": [
           {
            "colorbar": {
             "outlinewidth": 0,
             "ticks": ""
            },
            "type": "mesh3d"
           }
          ],
          "parcoords": [
           {
            "line": {
             "colorbar": {
              "outlinewidth": 0,
              "ticks": ""
             }
            },
            "type": "parcoords"
           }
          ],
          "pie": [
           {
            "automargin": true,
            "type": "pie"
           }
          ],
          "scatter": [
           {
            "marker": {
             "colorbar": {
              "outlinewidth": 0,
              "ticks": ""
             }
            },
            "type": "scatter"
           }
          ],
          "scatter3d": [
           {
            "line": {
             "colorbar": {
              "outlinewidth": 0,
              "ticks": ""
             }
            },
            "marker": {
             "colorbar": {
              "outlinewidth": 0,
              "ticks": ""
             }
            },
            "type": "scatter3d"
           }
          ],
          "scattercarpet": [
           {
            "marker": {
             "colorbar": {
              "outlinewidth": 0,
              "ticks": ""
             }
            },
            "type": "scattercarpet"
           }
          ],
          "scattergeo": [
           {
            "marker": {
             "colorbar": {
              "outlinewidth": 0,
              "ticks": ""
             }
            },
            "type": "scattergeo"
           }
          ],
          "scattergl": [
           {
            "marker": {
             "colorbar": {
              "outlinewidth": 0,
              "ticks": ""
             }
            },
            "type": "scattergl"
           }
          ],
          "scattermapbox": [
           {
            "marker": {
             "colorbar": {
              "outlinewidth": 0,
              "ticks": ""
             }
            },
            "type": "scattermapbox"
           }
          ],
          "scatterpolar": [
           {
            "marker": {
             "colorbar": {
              "outlinewidth": 0,
              "ticks": ""
             }
            },
            "type": "scatterpolar"
           }
          ],
          "scatterpolargl": [
           {
            "marker": {
             "colorbar": {
              "outlinewidth": 0,
              "ticks": ""
             }
            },
            "type": "scatterpolargl"
           }
          ],
          "scatterternary": [
           {
            "marker": {
             "colorbar": {
              "outlinewidth": 0,
              "ticks": ""
             }
            },
            "type": "scatterternary"
           }
          ],
          "surface": [
           {
            "colorbar": {
             "outlinewidth": 0,
             "ticks": ""
            },
            "colorscale": [
             [
              0,
              "#0d0887"
             ],
             [
              0.1111111111111111,
              "#46039f"
             ],
             [
              0.2222222222222222,
              "#7201a8"
             ],
             [
              0.3333333333333333,
              "#9c179e"
             ],
             [
              0.4444444444444444,
              "#bd3786"
             ],
             [
              0.5555555555555556,
              "#d8576b"
             ],
             [
              0.6666666666666666,
              "#ed7953"
             ],
             [
              0.7777777777777778,
              "#fb9f3a"
             ],
             [
              0.8888888888888888,
              "#fdca26"
             ],
             [
              1,
              "#f0f921"
             ]
            ],
            "type": "surface"
           }
          ],
          "table": [
           {
            "cells": {
             "fill": {
              "color": "#EBF0F8"
             },
             "line": {
              "color": "white"
             }
            },
            "header": {
             "fill": {
              "color": "#C8D4E3"
             },
             "line": {
              "color": "white"
             }
            },
            "type": "table"
           }
          ]
         },
         "layout": {
          "annotationdefaults": {
           "arrowcolor": "#2a3f5f",
           "arrowhead": 0,
           "arrowwidth": 1
          },
          "autotypenumbers": "strict",
          "coloraxis": {
           "colorbar": {
            "outlinewidth": 0,
            "ticks": ""
           }
          },
          "colorscale": {
           "diverging": [
            [
             0,
             "#8e0152"
            ],
            [
             0.1,
             "#c51b7d"
            ],
            [
             0.2,
             "#de77ae"
            ],
            [
             0.3,
             "#f1b6da"
            ],
            [
             0.4,
             "#fde0ef"
            ],
            [
             0.5,
             "#f7f7f7"
            ],
            [
             0.6,
             "#e6f5d0"
            ],
            [
             0.7,
             "#b8e186"
            ],
            [
             0.8,
             "#7fbc41"
            ],
            [
             0.9,
             "#4d9221"
            ],
            [
             1,
             "#276419"
            ]
           ],
           "sequential": [
            [
             0,
             "#0d0887"
            ],
            [
             0.1111111111111111,
             "#46039f"
            ],
            [
             0.2222222222222222,
             "#7201a8"
            ],
            [
             0.3333333333333333,
             "#9c179e"
            ],
            [
             0.4444444444444444,
             "#bd3786"
            ],
            [
             0.5555555555555556,
             "#d8576b"
            ],
            [
             0.6666666666666666,
             "#ed7953"
            ],
            [
             0.7777777777777778,
             "#fb9f3a"
            ],
            [
             0.8888888888888888,
             "#fdca26"
            ],
            [
             1,
             "#f0f921"
            ]
           ],
           "sequentialminus": [
            [
             0,
             "#0d0887"
            ],
            [
             0.1111111111111111,
             "#46039f"
            ],
            [
             0.2222222222222222,
             "#7201a8"
            ],
            [
             0.3333333333333333,
             "#9c179e"
            ],
            [
             0.4444444444444444,
             "#bd3786"
            ],
            [
             0.5555555555555556,
             "#d8576b"
            ],
            [
             0.6666666666666666,
             "#ed7953"
            ],
            [
             0.7777777777777778,
             "#fb9f3a"
            ],
            [
             0.8888888888888888,
             "#fdca26"
            ],
            [
             1,
             "#f0f921"
            ]
           ]
          },
          "colorway": [
           "#636efa",
           "#EF553B",
           "#00cc96",
           "#ab63fa",
           "#FFA15A",
           "#19d3f3",
           "#FF6692",
           "#B6E880",
           "#FF97FF",
           "#FECB52"
          ],
          "font": {
           "color": "#2a3f5f"
          },
          "geo": {
           "bgcolor": "white",
           "lakecolor": "white",
           "landcolor": "#E5ECF6",
           "showlakes": true,
           "showland": true,
           "subunitcolor": "white"
          },
          "hoverlabel": {
           "align": "left"
          },
          "hovermode": "closest",
          "mapbox": {
           "style": "light"
          },
          "paper_bgcolor": "white",
          "plot_bgcolor": "#E5ECF6",
          "polar": {
           "angularaxis": {
            "gridcolor": "white",
            "linecolor": "white",
            "ticks": ""
           },
           "bgcolor": "#E5ECF6",
           "radialaxis": {
            "gridcolor": "white",
            "linecolor": "white",
            "ticks": ""
           }
          },
          "scene": {
           "xaxis": {
            "backgroundcolor": "#E5ECF6",
            "gridcolor": "white",
            "gridwidth": 2,
            "linecolor": "white",
            "showbackground": true,
            "ticks": "",
            "zerolinecolor": "white"
           },
           "yaxis": {
            "backgroundcolor": "#E5ECF6",
            "gridcolor": "white",
            "gridwidth": 2,
            "linecolor": "white",
            "showbackground": true,
            "ticks": "",
            "zerolinecolor": "white"
           },
           "zaxis": {
            "backgroundcolor": "#E5ECF6",
            "gridcolor": "white",
            "gridwidth": 2,
            "linecolor": "white",
            "showbackground": true,
            "ticks": "",
            "zerolinecolor": "white"
           }
          },
          "shapedefaults": {
           "line": {
            "color": "#2a3f5f"
           }
          },
          "ternary": {
           "aaxis": {
            "gridcolor": "white",
            "linecolor": "white",
            "ticks": ""
           },
           "baxis": {
            "gridcolor": "white",
            "linecolor": "white",
            "ticks": ""
           },
           "bgcolor": "#E5ECF6",
           "caxis": {
            "gridcolor": "white",
            "linecolor": "white",
            "ticks": ""
           }
          },
          "title": {
           "x": 0.05
          },
          "xaxis": {
           "automargin": true,
           "gridcolor": "white",
           "linecolor": "white",
           "ticks": "",
           "title": {
            "standoff": 15
           },
           "zerolinecolor": "white",
           "zerolinewidth": 2
          },
          "yaxis": {
           "automargin": true,
           "gridcolor": "white",
           "linecolor": "white",
           "ticks": "",
           "title": {
            "standoff": 15
           },
           "zerolinecolor": "white",
           "zerolinewidth": 2
          }
         }
        },
        "xaxis": {
         "anchor": "y",
         "domain": [
          0,
          1
         ],
         "title": {
          "text": "Trial"
         }
        },
        "yaxis": {
         "anchor": "x",
         "domain": [
          0,
          1
         ],
         "title": {
          "text": "Score"
         }
        }
       }
      }
     },
     "metadata": {},
     "output_type": "display_data"
    }
   ],
   "source": [
    "trials = clf.tuner.oracle.get_best_trials(num_trials=-1)\n",
    "data = {\n",
    "    \"Trial\": [],\n",
    "    \"Score\": []\n",
    "}\n",
    "for i, t in enumerate(trials):\n",
    "    data[\"Trial\"].append(i)\n",
    "    data[\"Score\"].append(t.score)\n",
    "px.bar(data_frame=pd.DataFrame(data), x=\"Trial\", y=\"Score\")"
   ]
  },
  {
   "cell_type": "code",
   "execution_count": 91,
   "metadata": {},
   "outputs": [],
   "source": [
    "import pickle\n",
    "\n",
    "# with open(__DATA_PATH / \"vanilla-conv\" / \"ak_clf_van_conv.pkl\", \"wb\") as handle:\n",
    "#     pickle.dump(clf, handle, protocol=pickle.HIGHEST_PROTOCOL)\n",
    "\n",
    "\n",
    "# with open(__DATA_PATH / \"vanilla-conv\" / \"ak_clf_van_conv.pkl\", \"rb\") as handle:\n",
    "#     clf = pickle.load(handle)"
   ]
  },
  {
   "cell_type": "code",
   "execution_count": 111,
   "metadata": {},
   "outputs": [
    {
     "name": "stdout",
     "output_type": "stream",
     "text": [
      "Model: \"model\"\n",
      "_________________________________________________________________\n",
      " Layer (type)                Output Shape              Param #   \n",
      "=================================================================\n",
      " input_1 (InputLayer)        [(None, 32, 32, 3)]       0         \n",
      "                                                                 \n",
      " cast_to_float32 (CastToFloa  (None, 32, 32, 3)        0         \n",
      " t32)                                                            \n",
      "                                                                 \n",
      " normalization (Normalizatio  (None, 32, 32, 3)        7         \n",
      " n)                                                              \n",
      "                                                                 \n",
      " random_translation (RandomT  (None, 32, 32, 3)        0         \n",
      " ranslation)                                                     \n",
      "                                                                 \n",
      " random_flip (RandomFlip)    (None, 32, 32, 3)         0         \n",
      "                                                                 \n",
      " random_contrast (RandomCont  (None, 32, 32, 3)        0         \n",
      " rast)                                                           \n",
      "                                                                 \n",
      " conv2d (Conv2D)             (None, 30, 30, 32)        896       \n",
      "                                                                 \n",
      " max_pooling2d (MaxPooling2D  (None, 15, 15, 32)       0         \n",
      " )                                                               \n",
      "                                                                 \n",
      " conv2d_1 (Conv2D)           (None, 13, 13, 256)       73984     \n",
      "                                                                 \n",
      " max_pooling2d_1 (MaxPooling  (None, 6, 6, 256)        0         \n",
      " 2D)                                                             \n",
      "                                                                 \n",
      " flatten (Flatten)           (None, 9216)              0         \n",
      "                                                                 \n",
      " dense (Dense)               (None, 10)                92170     \n",
      "                                                                 \n",
      " classification_head_1 (Soft  (None, 10)               0         \n",
      " max)                                                            \n",
      "                                                                 \n",
      "=================================================================\n",
      "Total params: 167,057\n",
      "Trainable params: 167,050\n",
      "Non-trainable params: 7\n",
      "_________________________________________________________________\n"
     ]
    }
   ],
   "source": [
    "model = clf.tuner.get_best_model()  # TODO: Take a look at the best model we found\n",
    "model.summary()\n"
   ]
  },
  {
   "cell_type": "code",
   "execution_count": 112,
   "metadata": {},
   "outputs": [
    {
     "name": "stdout",
     "output_type": "stream",
     "text": [
      "INFO:tensorflow:Assets written to: data\\vanilla-conv\\vanilla-conv-model\\assets\n"
     ]
    }
   ],
   "source": [
    "model.save(__DATA_PATH / \"vanilla-conv\" / \"vanilla-conv-model\")  # TODO: Save once your search is completed "
   ]
  },
  {
   "cell_type": "code",
   "execution_count": 101,
   "metadata": {},
   "outputs": [
    {
     "name": "stdout",
     "output_type": "stream",
     "text": [
      "313/313 [==============================] - 1s 3ms/step - loss: 1.2606 - accuracy: 0.5681\n",
      "Accuracy score with AutoKeras classifier: 56.81%\n"
     ]
    }
   ],
   "source": [
    "loss, acc = clf.evaluate(X_test, y_test)\n",
    "print(f\"Accuracy score with AutoKeras classifier: {acc*100:.2f}%\")  # Not so good, but only using 10% of data\n"
   ]
  },
  {
   "cell_type": "code",
   "execution_count": 102,
   "metadata": {},
   "outputs": [
    {
     "data": {
      "text/plain": [
       "<keras.engine.functional.Functional at 0x1dc94c5ba30>"
      ]
     },
     "execution_count": 102,
     "metadata": {},
     "output_type": "execute_result"
    }
   ],
   "source": [
    "clf.export_model()  # Another option autokeras specific to export model"
   ]
  },
  {
   "cell_type": "code",
   "execution_count": 23,
   "metadata": {},
   "outputs": [],
   "source": [
    "# https://github.com/keras-team/autokeras/blob/master/autokeras/auto_model.py \n",
    "# TODO: Let's try to fine tune the best vanilla model\n",
    "\n",
    "# See auto_model.py source, we want to make use of adapt method for auto preprocessing.\n",
    "\n",
    "def ak_get_dataset(X,y,clf):\n",
    "    x = clf._adapt(X, clf.inputs, 32)\n",
    "    y = clf._adapt(y, clf._heads, 32)\n",
    "    dataset = tf.data.Dataset.zip((x, y))\n",
    "    pipeline = clf.tuner.get_best_pipeline()\n",
    "    dataset = pipeline.transform(dataset)\n",
    "    return dataset\n",
    "\n",
    "train_split = int(0.8 * len(X_train))\n",
    "train_dataset = ak_get_dataset(X_train[:train_split], y_train[:train_split], clf)\n",
    "val_dataset = ak_get_dataset(X_train[train_split:], y_train[train_split:], clf)\n",
    "test_dataset = ak_get_dataset(X_test, y_test, clf)"
   ]
  },
  {
   "cell_type": "code",
   "execution_count": 172,
   "metadata": {},
   "outputs": [
    {
     "name": "stdout",
     "output_type": "stream",
     "text": [
      "Epoch 1/10\n",
      "1563/1563 [==============================] - 83s 53ms/step - loss: 1.1628 - accuracy: 0.5957 - val_loss: 0.9500 - val_accuracy: 0.6756\n",
      "Epoch 2/10\n",
      "1563/1563 [==============================] - 82s 53ms/step - loss: 1.0128 - accuracy: 0.6505 - val_loss: 0.8359 - val_accuracy: 0.7141\n",
      "Epoch 3/10\n",
      "1563/1563 [==============================] - 82s 53ms/step - loss: 0.9226 - accuracy: 0.6801 - val_loss: 0.7606 - val_accuracy: 0.7378\n",
      "Epoch 4/10\n",
      "1563/1563 [==============================] - 82s 52ms/step - loss: 0.8690 - accuracy: 0.6984 - val_loss: 0.7154 - val_accuracy: 0.7563\n",
      "Epoch 5/10\n",
      "1563/1563 [==============================] - 83s 53ms/step - loss: 0.8342 - accuracy: 0.7111 - val_loss: 0.6769 - val_accuracy: 0.7692\n",
      "Epoch 6/10\n",
      "1563/1563 [==============================] - 82s 53ms/step - loss: 0.7988 - accuracy: 0.7258 - val_loss: 0.6500 - val_accuracy: 0.7768\n",
      "Epoch 7/10\n",
      "1563/1563 [==============================] - 82s 53ms/step - loss: 0.7770 - accuracy: 0.7323 - val_loss: 0.6440 - val_accuracy: 0.7801\n",
      "Epoch 8/10\n",
      "1563/1563 [==============================] - 83s 53ms/step - loss: 0.7500 - accuracy: 0.7432 - val_loss: 0.6042 - val_accuracy: 0.7932\n",
      "Epoch 9/10\n",
      "1563/1563 [==============================] - 82s 53ms/step - loss: 0.7366 - accuracy: 0.7481 - val_loss: 0.5982 - val_accuracy: 0.7943\n",
      "Epoch 10/10\n",
      "1563/1563 [==============================] - 82s 53ms/step - loss: 0.7226 - accuracy: 0.7510 - val_loss: 0.6046 - val_accuracy: 0.7922\n"
     ]
    }
   ],
   "source": [
    "# Let's try fully training for a few epochs:\n",
    "# tf.config.run_functions_eagerly(True)\n",
    "model = tf.keras.models.load_model(__DATA_PATH / \"vanilla-conv\" / \"vanilla-conv-model\")\n",
    "history = model.fit(train_dataset, batch_size=32, epochs=10, validation_data=val_dataset)"
   ]
  },
  {
   "cell_type": "code",
   "execution_count": 180,
   "metadata": {},
   "outputs": [
    {
     "data": {
      "image/png": "[encoded data removed]",
      "text/plain": [
       "<Figure size 1296x864 with 1 Axes>"
      ]
     },
     "metadata": {
      "needs_background": "light"
     },
     "output_type": "display_data"
    }
   ],
   "source": [
    "plt.figure(figsize=(18,12))\n",
    "plt.plot(history.history[\"loss\"], label=\"Training Loss\")\n",
    "plt.plot(history.history[\"val_loss\"], label=\"Validation Loss\")\n",
    "plt.legend()\n",
    "plt.show()"
   ]
  },
  {
   "cell_type": "code",
   "execution_count": 193,
   "metadata": {},
   "outputs": [
    {
     "name": "stdout",
     "output_type": "stream",
     "text": [
      "Accuracy score with AutoKeras classifier after full dataset fit: 75.88%\n"
     ]
    }
   ],
   "source": [
    "from sklearn.metrics import accuracy_score\n",
    "y_pred = model.predict(test_dataset)\n",
    "acc = accuracy_score(y_test, y_pred.argmax(axis=1))\n",
    "print(f\"Accuracy score with AutoKeras classifier after full dataset fit: {acc*100:.2f}%\")  # Pretty good for 10 epochs! More to improve"
   ]
  },
  {
   "cell_type": "markdown",
   "metadata": {},
   "source": [
    "# What about larger models?\n"
   ]
  },
  {
   "cell_type": "code",
   "execution_count": 5,
   "metadata": {},
   "outputs": [
    {
     "name": "stdout",
     "output_type": "stream",
     "text": [
      "{'image_block_1/block_type': 'vanilla', 'image_block_1/normalize': True, 'image_block_1/augment': False, 'image_block_1/conv_block_1/kernel_size': 3, 'image_block_1/conv_block_1/num_blocks': 1, 'image_block_1/conv_block_1/num_layers': 2, 'image_block_1/conv_block_1/max_pooling': True, 'image_block_1/conv_block_1/separable': False, 'image_block_1/conv_block_1/dropout': 0.25, 'image_block_1/conv_block_1/filters_0_0': 32, 'image_block_1/conv_block_1/filters_0_1': 64, 'classification_head_1/spatial_reduction_1/reduction_type': 'flatten', 'classification_head_1/dropout': 0.5, 'optimizer': 'adam', 'learning_rate': 0.001}\n",
      "\n",
      "{'image_block_1/block_type': 'resnet', 'image_block_1/normalize': True, 'image_block_1/augment': True, 'image_block_1/image_augmentation_1/horizontal_flip': True, 'image_block_1/image_augmentation_1/vertical_flip': True, 'image_block_1/image_augmentation_1/contrast_factor': 0.0, 'image_block_1/image_augmentation_1/rotation_factor': 0.0, 'image_block_1/image_augmentation_1/translation_factor': 0.1, 'image_block_1/image_augmentation_1/zoom_factor': 0.0, 'image_block_1/res_net_block_1/pretrained': False, 'image_block_1/res_net_block_1/version': 'resnet50', 'image_block_1/res_net_block_1/imagenet_size': True, 'classification_head_1/spatial_reduction_1/reduction_type': 'global_avg', 'classification_head_1/dropout': 0, 'optimizer': 'adam', 'learning_rate': 0.001}\n",
      "\n",
      "{'image_block_1/block_type': 'efficient', 'image_block_1/normalize': True, 'image_block_1/augment': True, 'image_block_1/image_augmentation_1/horizontal_flip': True, 'image_block_1/image_augmentation_1/vertical_flip': False, 'image_block_1/image_augmentation_1/contrast_factor': 0.0, 'image_block_1/image_augmentation_1/rotation_factor': 0.0, 'image_block_1/image_augmentation_1/translation_factor': 0.1, 'image_block_1/image_augmentation_1/zoom_factor': 0.0, 'image_block_1/efficient_net_block_1/pretrained': True, 'image_block_1/efficient_net_block_1/version': 'b7', 'image_block_1/efficient_net_block_1/trainable': True, 'image_block_1/efficient_net_block_1/imagenet_size': True, 'classification_head_1/spatial_reduction_1/reduction_type': 'global_avg', 'classification_head_1/dropout': 0, 'optimizer': 'adam', 'learning_rate': 2e-05}\n",
      "\n"
     ]
    }
   ],
   "source": [
    "from autokeras.tuners import task_specific\n",
    "for hp in task_specific.IMAGE_CLASSIFIER:\n",
    "    print(f\"{hp}\\n\")\n",
    "# NOTE: This is the default tuner initial hyper params. Note block types."
   ]
  },
  {
   "cell_type": "code",
   "execution_count": 7,
   "metadata": {},
   "outputs": [
    {
     "name": "stdout",
     "output_type": "stream",
     "text": [
      "Trial 5 Complete [00h 07m 01s]\n",
      "val_accuracy: 0.11053719371557236\n",
      "\n",
      "Best val_accuracy So Far: 0.7871900796890259\n",
      "Total elapsed time: 00h 19m 49s\n",
      "INFO:tensorflow:Oracle triggered exit\n"
     ]
    },
    {
     "name": "stdout",
     "output_type": "stream",
     "text": [
      "Not enough memory, reduce batch size to 16.\n",
      "Not enough memory, reduce batch size to 8.\n",
      "Not enough memory, reduce batch size to 4.\n",
      "1250/1250 [==============================] - 414s 331ms/step - loss: 1.4428 - accuracy: 0.5424\n",
      "INFO:tensorflow:Assets written to: data\\image_classifier\\best_model\\assets\n"
     ]
    },
    {
     "data": {
      "text/plain": [
       "<keras.callbacks.History at 0x281375830a0>"
      ]
     },
     "execution_count": 7,
     "metadata": {},
     "output_type": "execute_result"
    }
   ],
   "source": [
    "import autokeras as ak\n",
    "clf = ak.ImageClassifier(max_trials=5, directory=__DATA_PATH, seed=__RANDOM_STATE,\n",
    "                         overwrite=True, objective=\"val_accuracy\")\n",
    "clf.fit(X_train_tiny, y_train_tiny, epochs=1)"
   ]
  },
  {
   "cell_type": "code",
   "execution_count": 12,
   "metadata": {},
   "outputs": [
    {
     "data": {
      "application/vnd.plotly.v1+json": {
       "config": {
        "plotlyServerURL": "https://plot.ly"
       },
       "data": [
        {
         "alignmentgroup": "True",
         "hovertemplate": "Trial=%{x}<br>Score=%{y}<extra></extra>",
         "legendgroup": "",
         "marker": {
          "color": "#636efa",
          "pattern": {
           "shape": ""
          }
         },
         "name": "",
         "offsetgroup": "",
         "orientation": "v",
         "showlegend": false,
         "textposition": "auto",
         "type": "bar",
         "x": [
          0,
          1,
          2,
          3
         ],
         "xaxis": "x",
         "y": [
          0.7871900796890259,
          0.60537189245224,
          0.42975205183029175,
          0.1487603336572647
         ],
         "yaxis": "y"
        }
       ],
       "layout": {
        "barmode": "relative",
        "legend": {
         "tracegroupgap": 0
        },
        "margin": {
         "t": 60
        },
        "template": {
         "data": {
          "bar": [
           {
            "error_x": {
             "color": "#2a3f5f"
            },
            "error_y": {
             "color": "#2a3f5f"
            },
            "marker": {
             "line": {
              "color": "#E5ECF6",
              "width": 0.5
             },
             "pattern": {
              "fillmode": "overlay",
              "size": 10,
              "solidity": 0.2
             }
            },
            "type": "bar"
           }
          ],
          "barpolar": [
           {
            "marker": {
             "line": {
              "color": "#E5ECF6",
              "width": 0.5
             },
             "pattern": {
              "fillmode": "overlay",
              "size": 10,
              "solidity": 0.2
             }
            },
            "type": "barpolar"
           }
          ],
          "carpet": [
           {
            "aaxis": {
             "endlinecolor": "#2a3f5f",
             "gridcolor": "white",
             "linecolor": "white",
             "minorgridcolor": "white",
             "startlinecolor": "#2a3f5f"
            },
            "baxis": {
             "endlinecolor": "#2a3f5f",
             "gridcolor": "white",
             "linecolor": "white",
             "minorgridcolor": "white",
             "startlinecolor": "#2a3f5f"
            },
            "type": "carpet"
           }
          ],
          "choropleth": [
           {
            "colorbar": {
             "outlinewidth": 0,
             "ticks": ""
            },
            "type": "choropleth"
           }
          ],
          "contour": [
           {
            "colorbar": {
             "outlinewidth": 0,
             "ticks": ""
            },
            "colorscale": [
             [
              0,
              "#0d0887"
             ],
             [
              0.1111111111111111,
              "#46039f"
             ],
             [
              0.2222222222222222,
              "#7201a8"
             ],
             [
              0.3333333333333333,
              "#9c179e"
             ],
             [
              0.4444444444444444,
              "#bd3786"
             ],
             [
              0.5555555555555556,
              "#d8576b"
             ],
             [
              0.6666666666666666,
              "#ed7953"
             ],
             [
              0.7777777777777778,
              "#fb9f3a"
             ],
             [
              0.8888888888888888,
              "#fdca26"
             ],
             [
              1,
              "#f0f921"
             ]
            ],
            "type": "contour"
           }
          ],
          "contourcarpet": [
           {
            "colorbar": {
             "outlinewidth": 0,
             "ticks": ""
            },
            "type": "contourcarpet"
           }
          ],
          "heatmap": [
           {
            "colorbar": {
             "outlinewidth": 0,
             "ticks": ""
            },
            "colorscale": [
             [
              0,
              "#0d0887"
             ],
             [
              0.1111111111111111,
              "#46039f"
             ],
             [
              0.2222222222222222,
              "#7201a8"
             ],
             [
              0.3333333333333333,
              "#9c179e"
             ],
             [
              0.4444444444444444,
              "#bd3786"
             ],
             [
              0.5555555555555556,
              "#d8576b"
             ],
             [
              0.6666666666666666,
              "#ed7953"
             ],
             [
              0.7777777777777778,
              "#fb9f3a"
             ],
             [
              0.8888888888888888,
              "#fdca26"
             ],
             [
              1,
              "#f0f921"
             ]
            ],
            "type": "heatmap"
           }
          ],
          "heatmapgl": [
           {
            "colorbar": {
             "outlinewidth": 0,
             "ticks": ""
            },
            "colorscale": [
             [
              0,
              "#0d0887"
             ],
             [
              0.1111111111111111,
              "#46039f"
             ],
             [
              0.2222222222222222,
              "#7201a8"
             ],
             [
              0.3333333333333333,
              "#9c179e"
             ],
             [
              0.4444444444444444,
              "#bd3786"
             ],
             [
              0.5555555555555556,
              "#d8576b"
             ],
             [
              0.6666666666666666,
              "#ed7953"
             ],
             [
              0.7777777777777778,
              "#fb9f3a"
             ],
             [
              0.8888888888888888,
              "#fdca26"
             ],
             [
              1,
              "#f0f921"
             ]
            ],
            "type": "heatmapgl"
           }
          ],
          "histogram": [
           {
            "marker": {
             "pattern": {
              "fillmode": "overlay",
              "size": 10,
              "solidity": 0.2
             }
            },
            "type": "histogram"
           }
          ],
          "histogram2d": [
           {
            "colorbar": {
             "outlinewidth": 0,
             "ticks": ""
            },
            "colorscale": [
             [
              0,
              "#0d0887"
             ],
             [
              0.1111111111111111,
              "#46039f"
             ],
             [
              0.2222222222222222,
              "#7201a8"
             ],
             [
              0.3333333333333333,
              "#9c179e"
             ],
             [
              0.4444444444444444,
              "#bd3786"
             ],
             [
              0.5555555555555556,
              "#d8576b"
             ],
             [
              0.6666666666666666,
              "#ed7953"
             ],
             [
              0.7777777777777778,
              "#fb9f3a"
             ],
             [
              0.8888888888888888,
              "#fdca26"
             ],
             [
              1,
              "#f0f921"
             ]
            ],
            "type": "histogram2d"
           }
          ],
          "histogram2dcontour": [
           {
            "colorbar": {
             "outlinewidth": 0,
             "ticks": ""
            },
            "colorscale": [
             [
              0,
              "#0d0887"
             ],
             [
              0.1111111111111111,
              "#46039f"
             ],
             [
              0.2222222222222222,
              "#7201a8"
             ],
             [
              0.3333333333333333,
              "#9c179e"
             ],
             [
              0.4444444444444444,
              "#bd3786"
             ],
             [
              0.5555555555555556,
              "#d8576b"
             ],
             [
              0.6666666666666666,
              "#ed7953"
             ],
             [
              0.7777777777777778,
              "#fb9f3a"
             ],
             [
              0.8888888888888888,
              "#fdca26"
             ],
             [
              1,
              "#f0f921"
             ]
            ],
            "type": "histogram2dcontour"
           }
          ],
          "mesh3d": [
           {
            "colorbar": {
             "outlinewidth": 0,
             "ticks": ""
            },
            "type": "mesh3d"
           }
          ],
          "parcoords": [
           {
            "line": {
             "colorbar": {
              "outlinewidth": 0,
              "ticks": ""
             }
            },
            "type": "parcoords"
           }
          ],
          "pie": [
           {
            "automargin": true,
            "type": "pie"
           }
          ],
          "scatter": [
           {
            "marker": {
             "colorbar": {
              "outlinewidth": 0,
              "ticks": ""
             }
            },
            "type": "scatter"
           }
          ],
          "scatter3d": [
           {
            "line": {
             "colorbar": {
              "outlinewidth": 0,
              "ticks": ""
             }
            },
            "marker": {
             "colorbar": {
              "outlinewidth": 0,
              "ticks": ""
             }
            },
            "type": "scatter3d"
           }
          ],
          "scattercarpet": [
           {
            "marker": {
             "colorbar": {
              "outlinewidth": 0,
              "ticks": ""
             }
            },
            "type": "scattercarpet"
           }
          ],
          "scattergeo": [
           {
            "marker": {
             "colorbar": {
              "outlinewidth": 0,
              "ticks": ""
             }
            },
            "type": "scattergeo"
           }
          ],
          "scattergl": [
           {
            "marker": {
             "colorbar": {
              "outlinewidth": 0,
              "ticks": ""
             }
            },
            "type": "scattergl"
           }
          ],
          "scattermapbox": [
           {
            "marker": {
             "colorbar": {
              "outlinewidth": 0,
              "ticks": ""
             }
            },
            "type": "scattermapbox"
           }
          ],
          "scatterpolar": [
           {
            "marker": {
             "colorbar": {
              "outlinewidth": 0,
              "ticks": ""
             }
            },
            "type": "scatterpolar"
           }
          ],
          "scatterpolargl": [
           {
            "marker": {
             "colorbar": {
              "outlinewidth": 0,
              "ticks": ""
             }
            },
            "type": "scatterpolargl"
           }
          ],
          "scatterternary": [
           {
            "marker": {
             "colorbar": {
              "outlinewidth": 0,
              "ticks": ""
             }
            },
            "type": "scatterternary"
           }
          ],
          "surface": [
           {
            "colorbar": {
             "outlinewidth": 0,
             "ticks": ""
            },
            "colorscale": [
             [
              0,
              "#0d0887"
             ],
             [
              0.1111111111111111,
              "#46039f"
             ],
             [
              0.2222222222222222,
              "#7201a8"
             ],
             [
              0.3333333333333333,
              "#9c179e"
             ],
             [
              0.4444444444444444,
              "#bd3786"
             ],
             [
              0.5555555555555556,
              "#d8576b"
             ],
             [
              0.6666666666666666,
              "#ed7953"
             ],
             [
              0.7777777777777778,
              "#fb9f3a"
             ],
             [
              0.8888888888888888,
              "#fdca26"
             ],
             [
              1,
              "#f0f921"
             ]
            ],
            "type": "surface"
           }
          ],
          "table": [
           {
            "cells": {
             "fill": {
              "color": "#EBF0F8"
             },
             "line": {
              "color": "white"
             }
            },
            "header": {
             "fill": {
              "color": "#C8D4E3"
             },
             "line": {
              "color": "white"
             }
            },
            "type": "table"
           }
          ]
         },
         "layout": {
          "annotationdefaults": {
           "arrowcolor": "#2a3f5f",
           "arrowhead": 0,
           "arrowwidth": 1
          },
          "autotypenumbers": "strict",
          "coloraxis": {
           "colorbar": {
            "outlinewidth": 0,
            "ticks": ""
           }
          },
          "colorscale": {
           "diverging": [
            [
             0,
             "#8e0152"
            ],
            [
             0.1,
             "#c51b7d"
            ],
            [
             0.2,
             "#de77ae"
            ],
            [
             0.3,
             "#f1b6da"
            ],
            [
             0.4,
             "#fde0ef"
            ],
            [
             0.5,
             "#f7f7f7"
            ],
            [
             0.6,
             "#e6f5d0"
            ],
            [
             0.7,
             "#b8e186"
            ],
            [
             0.8,
             "#7fbc41"
            ],
            [
             0.9,
             "#4d9221"
            ],
            [
             1,
             "#276419"
            ]
           ],
           "sequential": [
            [
             0,
             "#0d0887"
            ],
            [
             0.1111111111111111,
             "#46039f"
            ],
            [
             0.2222222222222222,
             "#7201a8"
            ],
            [
             0.3333333333333333,
             "#9c179e"
            ],
            [
             0.4444444444444444,
             "#bd3786"
            ],
            [
             0.5555555555555556,
             "#d8576b"
            ],
            [
             0.6666666666666666,
             "#ed7953"
            ],
            [
             0.7777777777777778,
             "#fb9f3a"
            ],
            [
             0.8888888888888888,
             "#fdca26"
            ],
            [
             1,
             "#f0f921"
            ]
           ],
           "sequentialminus": [
            [
             0,
             "#0d0887"
            ],
            [
             0.1111111111111111,
             "#46039f"
            ],
            [
             0.2222222222222222,
             "#7201a8"
            ],
            [
             0.3333333333333333,
             "#9c179e"
            ],
            [
             0.4444444444444444,
             "#bd3786"
            ],
            [
             0.5555555555555556,
             "#d8576b"
            ],
            [
             0.6666666666666666,
             "#ed7953"
            ],
            [
             0.7777777777777778,
             "#fb9f3a"
            ],
            [
             0.8888888888888888,
             "#fdca26"
            ],
            [
             1,
             "#f0f921"
            ]
           ]
          },
          "colorway": [
           "#636efa",
           "#EF553B",
           "#00cc96",
           "#ab63fa",
           "#FFA15A",
           "#19d3f3",
           "#FF6692",
           "#B6E880",
           "#FF97FF",
           "#FECB52"
          ],
          "font": {
           "color": "#2a3f5f"
          },
          "geo": {
           "bgcolor": "white",
           "lakecolor": "white",
           "landcolor": "#E5ECF6",
           "showlakes": true,
           "showland": true,
           "subunitcolor": "white"
          },
          "hoverlabel": {
           "align": "left"
          },
          "hovermode": "closest",
          "mapbox": {
           "style": "light"
          },
          "paper_bgcolor": "white",
          "plot_bgcolor": "#E5ECF6",
          "polar": {
           "angularaxis": {
            "gridcolor": "white",
            "linecolor": "white",
            "ticks": ""
           },
           "bgcolor": "#E5ECF6",
           "radialaxis": {
            "gridcolor": "white",
            "linecolor": "white",
            "ticks": ""
           }
          },
          "scene": {
           "xaxis": {
            "backgroundcolor": "#E5ECF6",
            "gridcolor": "white",
            "gridwidth": 2,
            "linecolor": "white",
            "showbackground": true,
            "ticks": "",
            "zerolinecolor": "white"
           },
           "yaxis": {
            "backgroundcolor": "#E5ECF6",
            "gridcolor": "white",
            "gridwidth": 2,
            "linecolor": "white",
            "showbackground": true,
            "ticks": "",
            "zerolinecolor": "white"
           },
           "zaxis": {
            "backgroundcolor": "#E5ECF6",
            "gridcolor": "white",
            "gridwidth": 2,
            "linecolor": "white",
            "showbackground": true,
            "ticks": "",
            "zerolinecolor": "white"
           }
          },
          "shapedefaults": {
           "line": {
            "color": "#2a3f5f"
           }
          },
          "ternary": {
           "aaxis": {
            "gridcolor": "white",
            "linecolor": "white",
            "ticks": ""
           },
           "baxis": {
            "gridcolor": "white",
            "linecolor": "white",
            "ticks": ""
           },
           "bgcolor": "#E5ECF6",
           "caxis": {
            "gridcolor": "white",
            "linecolor": "white",
            "ticks": ""
           }
          },
          "title": {
           "x": 0.05
          },
          "xaxis": {
           "automargin": true,
           "gridcolor": "white",
           "linecolor": "white",
           "ticks": "",
           "title": {
            "standoff": 15
           },
           "zerolinecolor": "white",
           "zerolinewidth": 2
          },
          "yaxis": {
           "automargin": true,
           "gridcolor": "white",
           "linecolor": "white",
           "ticks": "",
           "title": {
            "standoff": 15
           },
           "zerolinecolor": "white",
           "zerolinewidth": 2
          }
         }
        },
        "xaxis": {
         "anchor": "y",
         "domain": [
          0,
          1
         ],
         "title": {
          "text": "Trial"
         }
        },
        "yaxis": {
         "anchor": "x",
         "domain": [
          0,
          1
         ],
         "title": {
          "text": "Score"
         }
        }
       }
      }
     },
     "metadata": {},
     "output_type": "display_data"
    }
   ],
   "source": [
    "trials = clf.tuner.oracle.get_best_trials(num_trials=-1)\n",
    "data = {\n",
    "    \"Trial\": [],\n",
    "    \"Score\": []\n",
    "}\n",
    "for i, t in enumerate(trials):\n",
    "    data[\"Trial\"].append(i)\n",
    "    data[\"Score\"].append(t.score)\n",
    "px.bar(data_frame=pd.DataFrame(data), x=\"Trial\", y=\"Score\")"
   ]
  },
  {
   "cell_type": "code",
   "execution_count": 13,
   "metadata": {},
   "outputs": [
    {
     "name": "stdout",
     "output_type": "stream",
     "text": [
      "WARNING:tensorflow:Detecting that an object or model or tf.train.Checkpoint is being deleted with unrestored values. See the following logs for the specific values in question. To silence these warnings, use `status.expect_partial()`. See https://www.tensorflow.org/api_docs/python/tf/train/Checkpoint#restorefor details about the status object returned by the restore function.\n",
      "WARNING:tensorflow:Value in checkpoint could not be found in the restored object: (root).optimizer.iter\n",
      "WARNING:tensorflow:Value in checkpoint could not be found in the restored object: (root).optimizer.beta_1\n",
      "WARNING:tensorflow:Value in checkpoint could not be found in the restored object: (root).optimizer.beta_2\n",
      "WARNING:tensorflow:Value in checkpoint could not be found in the restored object: (root).optimizer.decay\n",
      "WARNING:tensorflow:Value in checkpoint could not be found in the restored object: (root).optimizer.learning_rate\n",
      "Model: \"model\"\n",
      "_________________________________________________________________\n",
      " Layer (type)                Output Shape              Param #   \n",
      "=================================================================\n",
      " input_1 (InputLayer)        [(None, 32, 32, 3)]       0         \n",
      "                                                                 \n",
      " cast_to_float32 (CastToFloa  (None, 32, 32, 3)        0         \n",
      " t32)                                                            \n",
      "                                                                 \n",
      " normalization (Normalizatio  (None, 32, 32, 3)        7         \n",
      " n)                                                              \n",
      "                                                                 \n",
      " random_translation (RandomT  (None, 32, 32, 3)        0         \n",
      " ranslation)                                                     \n",
      "                                                                 \n",
      " random_flip (RandomFlip)    (None, 32, 32, 3)         0         \n",
      "                                                                 \n",
      " resizing (Resizing)         (None, 224, 224, 3)       0         \n",
      "                                                                 \n",
      " efficientnetb7 (Functional)  (None, None, None, 2560)  64097687 \n",
      "                                                                 \n",
      " global_average_pooling2d (G  (None, 2560)             0         \n",
      " lobalAveragePooling2D)                                          \n",
      "                                                                 \n",
      " dense (Dense)               (None, 10)                25610     \n",
      "                                                                 \n",
      " classification_head_1 (Soft  (None, 10)               0         \n",
      " max)                                                            \n",
      "                                                                 \n",
      "=================================================================\n",
      "Total params: 64,123,304\n",
      "Trainable params: 63,812,570\n",
      "Non-trainable params: 310,734\n",
      "_________________________________________________________________\n"
     ]
    }
   ],
   "source": [
    "model = clf.tuner.get_best_models()[0]\n",
    "model.summary()"
   ]
  },
  {
   "cell_type": "code",
   "execution_count": null,
   "metadata": {},
   "outputs": [],
   "source": [
    "# NOTE: A few more params than our vanilla model!"
   ]
  },
  {
   "cell_type": "code",
   "execution_count": 14,
   "metadata": {},
   "outputs": [],
   "source": [
    "import pickle\n",
    "with open(__DATA_PATH / \"image_classifier\" / \"ak_clf_eff_net.pkl\", \"wb\") as handle:\n",
    "    pickle.dump(clf, handle, protocol = pickle.HIGHEST_PROTOCOL)\n",
    "\n",
    "# with open(__DATA_PATH / \"image_classifier\" / \"ak_clf_eff_net.pkl\", \"wb\") as handle:\n",
    "#     clf = pickle.load(handle)"
   ]
  },
  {
   "cell_type": "code",
   "execution_count": 20,
   "metadata": {},
   "outputs": [
    {
     "name": "stdout",
     "output_type": "stream",
     "text": [
      "Search space summary\n",
      "Default search space size: 28\n",
      "image_block_1/normalize (Boolean)\n",
      "{'default': False, 'conditions': []}\n",
      "image_block_1/augment (Boolean)\n",
      "{'default': False, 'conditions': []}\n",
      "image_block_1/block_type (Choice)\n",
      "{'default': 'resnet', 'conditions': [], 'values': ['resnet', 'xception', 'vanilla', 'efficient'], 'ordered': False}\n",
      "image_block_1/res_net_block_1/pretrained (Boolean)\n",
      "{'default': False, 'conditions': [{'class_name': 'Parent', 'config': {'name': 'image_block_1/block_type', 'values': ['resnet']}}]}\n",
      "image_block_1/res_net_block_1/version (Choice)\n",
      "{'default': 'resnet50', 'conditions': [{'class_name': 'Parent', 'config': {'name': 'image_block_1/block_type', 'values': ['resnet']}}], 'values': ['resnet50', 'resnet101', 'resnet152', 'resnet50_v2', 'resnet101_v2', 'resnet152_v2'], 'ordered': False}\n",
      "image_block_1/res_net_block_1/imagenet_size (Boolean)\n",
      "{'default': False, 'conditions': [{'class_name': 'Parent', 'config': {'name': 'image_block_1/block_type', 'values': ['resnet']}}]}\n",
      "classification_head_1/spatial_reduction_1/reduction_type (Choice)\n",
      "{'default': 'flatten', 'conditions': [], 'values': ['flatten', 'global_max', 'global_avg'], 'ordered': False}\n",
      "classification_head_1/dropout (Choice)\n",
      "{'default': 0, 'conditions': [], 'values': [0.0, 0.25, 0.5], 'ordered': True}\n",
      "optimizer (Choice)\n",
      "{'default': 'adam', 'conditions': [], 'values': ['adam', 'sgd', 'adam_weight_decay'], 'ordered': False}\n",
      "learning_rate (Choice)\n",
      "{'default': 0.001, 'conditions': [], 'values': [0.1, 0.01, 0.001, 0.0001, 2e-05, 1e-05], 'ordered': True}\n",
      "image_block_1/conv_block_1/kernel_size (Choice)\n",
      "{'default': 3, 'conditions': [{'class_name': 'Parent', 'config': {'name': 'image_block_1/block_type', 'values': ['vanilla']}}], 'values': [3, 5, 7], 'ordered': True}\n",
      "image_block_1/conv_block_1/separable (Boolean)\n",
      "{'default': False, 'conditions': [{'class_name': 'Parent', 'config': {'name': 'image_block_1/block_type', 'values': ['vanilla']}}]}\n",
      "image_block_1/conv_block_1/max_pooling (Boolean)\n",
      "{'default': True, 'conditions': [{'class_name': 'Parent', 'config': {'name': 'image_block_1/block_type', 'values': ['vanilla']}}]}\n",
      "image_block_1/conv_block_1/dropout (Choice)\n",
      "{'default': 0, 'conditions': [{'class_name': 'Parent', 'config': {'name': 'image_block_1/block_type', 'values': ['vanilla']}}], 'values': [0.0, 0.25, 0.5], 'ordered': True}\n",
      "image_block_1/conv_block_1/num_blocks (Choice)\n",
      "{'default': 2, 'conditions': [{'class_name': 'Parent', 'config': {'name': 'image_block_1/block_type', 'values': ['vanilla']}}], 'values': [1, 2, 3], 'ordered': True}\n",
      "image_block_1/conv_block_1/num_layers (Choice)\n",
      "{'default': 2, 'conditions': [{'class_name': 'Parent', 'config': {'name': 'image_block_1/block_type', 'values': ['vanilla']}}], 'values': [1, 2], 'ordered': True}\n",
      "image_block_1/conv_block_1/filters_0_0 (Choice)\n",
      "{'default': 32, 'conditions': [{'class_name': 'Parent', 'config': {'name': 'image_block_1/block_type', 'values': ['vanilla']}}], 'values': [16, 32, 64, 128, 256, 512], 'ordered': True}\n",
      "image_block_1/conv_block_1/filters_0_1 (Choice)\n",
      "{'default': 32, 'conditions': [{'class_name': 'Parent', 'config': {'name': 'image_block_1/block_type', 'values': ['vanilla']}}], 'values': [16, 32, 64, 128, 256, 512], 'ordered': True}\n",
      "image_block_1/image_augmentation_1/translation_factor (Choice)\n",
      "{'default': 0.0, 'conditions': [{'class_name': 'Parent', 'config': {'name': 'image_block_1/augment', 'values': [1]}}], 'values': [0.0, 0.1], 'ordered': True}\n",
      "image_block_1/image_augmentation_1/horizontal_flip (Boolean)\n",
      "{'default': True, 'conditions': [{'class_name': 'Parent', 'config': {'name': 'image_block_1/augment', 'values': [1]}}]}\n",
      "image_block_1/image_augmentation_1/vertical_flip (Boolean)\n",
      "{'default': True, 'conditions': [{'class_name': 'Parent', 'config': {'name': 'image_block_1/augment', 'values': [1]}}]}\n",
      "image_block_1/image_augmentation_1/rotation_factor (Choice)\n",
      "{'default': 0.0, 'conditions': [{'class_name': 'Parent', 'config': {'name': 'image_block_1/augment', 'values': [1]}}], 'values': [0.0, 0.1], 'ordered': True}\n",
      "image_block_1/image_augmentation_1/zoom_factor (Choice)\n",
      "{'default': 0.0, 'conditions': [{'class_name': 'Parent', 'config': {'name': 'image_block_1/augment', 'values': [1]}}], 'values': [0.0, 0.1], 'ordered': True}\n",
      "image_block_1/image_augmentation_1/contrast_factor (Choice)\n",
      "{'default': 0.0, 'conditions': [{'class_name': 'Parent', 'config': {'name': 'image_block_1/augment', 'values': [1]}}], 'values': [0.0, 0.1], 'ordered': True}\n",
      "image_block_1/efficient_net_block_1/pretrained (Boolean)\n",
      "{'default': False, 'conditions': [{'class_name': 'Parent', 'config': {'name': 'image_block_1/block_type', 'values': ['efficient']}}]}\n",
      "image_block_1/efficient_net_block_1/trainable (Boolean)\n",
      "{'default': False, 'conditions': [{'class_name': 'Parent', 'config': {'name': 'image_block_1/block_type', 'values': ['efficient']}}, {'class_name': 'Parent', 'config': {'name': 'image_block_1/efficient_net_block_1/pretrained', 'values': [1]}}]}\n",
      "image_block_1/efficient_net_block_1/version (Choice)\n",
      "{'default': 'b0', 'conditions': [{'class_name': 'Parent', 'config': {'name': 'image_block_1/block_type', 'values': ['efficient']}}], 'values': ['b0', 'b1', 'b2', 'b3', 'b4', 'b5', 'b6', 'b7'], 'ordered': False}\n",
      "image_block_1/efficient_net_block_1/imagenet_size (Boolean)\n",
      "{'default': False, 'conditions': [{'class_name': 'Parent', 'config': {'name': 'image_block_1/block_type', 'values': ['efficient']}}]}\n"
     ]
    }
   ],
   "source": [
    "clf.tuner.search_space_summary()  # NOTE: Large search space! Will take hours to days to explore fully."
   ]
  },
  {
   "cell_type": "code",
   "execution_count": 24,
   "metadata": {},
   "outputs": [
    {
     "name": "stdout",
     "output_type": "stream",
     "text": [
      "Accuracy score with AutoKeras-Efficient-Net classifier after full dataset fit: 76.92%\n"
     ]
    }
   ],
   "source": [
    "from sklearn.metrics import accuracy_score\n",
    "test_dataset = ak_get_dataset(X_test, y_test, clf)\n",
    "y_pred = model.predict(test_dataset)\n",
    "acc = accuracy_score(y_test, y_pred.argmax(axis=1))\n",
    "print(f\"Accuracy score with AutoKeras-Efficient-Net classifier after full dataset fit: {acc*100:.2f}%\")  # Single epoch score! "
   ]
  },
  {
   "cell_type": "markdown",
   "metadata": {},
   "source": [
    "### HPO with Keras Tuner"
   ]
  },
  {
   "cell_type": "code",
   "execution_count": 21,
   "metadata": {},
   "outputs": [
    {
     "data": {
      "text/plain": [
       "[Boolean(name: \"image_block_1/normalize\", default: False),\n",
       " Boolean(name: \"image_block_1/augment\", default: False),\n",
       " Choice(name: \"image_block_1/block_type\", values: ['resnet', 'xception', 'vanilla', 'efficient'], ordered: False, default: resnet),\n",
       " Boolean(name: \"image_block_1/res_net_block_1/pretrained\", default: False),\n",
       " Choice(name: \"image_block_1/res_net_block_1/version\", values: ['resnet50', 'resnet101', 'resnet152', 'resnet50_v2', 'resnet101_v2', 'resnet152_v2'], ordered: False, default: resnet50),\n",
       " Boolean(name: \"image_block_1/res_net_block_1/imagenet_size\", default: False),\n",
       " Choice(name: \"classification_head_1/spatial_reduction_1/reduction_type\", values: ['flatten', 'global_max', 'global_avg'], ordered: False, default: flatten),\n",
       " Choice(name: \"classification_head_1/dropout\", values: [0.0, 0.25, 0.5], ordered: True, default: 0),\n",
       " Choice(name: \"optimizer\", values: ['adam', 'sgd', 'adam_weight_decay'], ordered: False, default: adam),\n",
       " Choice(name: \"learning_rate\", values: [0.1, 0.01, 0.001, 0.0001, 2e-05, 1e-05], ordered: True, default: 0.001),\n",
       " Choice(name: \"image_block_1/conv_block_1/kernel_size\", values: [3, 5, 7], ordered: True, default: 3),\n",
       " Boolean(name: \"image_block_1/conv_block_1/separable\", default: False),\n",
       " Boolean(name: \"image_block_1/conv_block_1/max_pooling\", default: True),\n",
       " Choice(name: \"image_block_1/conv_block_1/dropout\", values: [0.0, 0.25, 0.5], ordered: True, default: 0),\n",
       " Choice(name: \"image_block_1/conv_block_1/num_blocks\", values: [1, 2, 3], ordered: True, default: 2),\n",
       " Choice(name: \"image_block_1/conv_block_1/num_layers\", values: [1, 2], ordered: True, default: 2),\n",
       " Choice(name: \"image_block_1/conv_block_1/filters_0_0\", values: [16, 32, 64, 128, 256, 512], ordered: True, default: 32),\n",
       " Choice(name: \"image_block_1/conv_block_1/filters_0_1\", values: [16, 32, 64, 128, 256, 512], ordered: True, default: 32),\n",
       " Choice(name: \"image_block_1/image_augmentation_1/translation_factor\", values: [0.0, 0.1], ordered: True, default: 0.0),\n",
       " Boolean(name: \"image_block_1/image_augmentation_1/horizontal_flip\", default: True),\n",
       " Boolean(name: \"image_block_1/image_augmentation_1/vertical_flip\", default: True),\n",
       " Choice(name: \"image_block_1/image_augmentation_1/rotation_factor\", values: [0.0, 0.1], ordered: True, default: 0.0),\n",
       " Choice(name: \"image_block_1/image_augmentation_1/zoom_factor\", values: [0.0, 0.1], ordered: True, default: 0.0),\n",
       " Choice(name: \"image_block_1/image_augmentation_1/contrast_factor\", values: [0.0, 0.1], ordered: True, default: 0.0),\n",
       " Boolean(name: \"image_block_1/efficient_net_block_1/pretrained\", default: False),\n",
       " Boolean(name: \"image_block_1/efficient_net_block_1/trainable\", default: False),\n",
       " Choice(name: \"image_block_1/efficient_net_block_1/version\", values: ['b0', 'b1', 'b2', 'b3', 'b4', 'b5', 'b6', 'b7'], ordered: False, default: b0),\n",
       " Boolean(name: \"image_block_1/efficient_net_block_1/imagenet_size\", default: False)]"
      ]
     },
     "execution_count": 21,
     "metadata": {},
     "output_type": "execute_result"
    }
   ],
   "source": [
    "clf.tuner.oracle.hyperparameters.space\n",
    "# NOTE: AutoKeras and Keras Tuner are closely related. (AK depends on Keras Tuner). These hyperparameters define search space."
   ]
  },
  {
   "cell_type": "code",
   "execution_count": 75,
   "metadata": {},
   "outputs": [
    {
     "name": "stdout",
     "output_type": "stream",
     "text": [
      "Model: \"eff_net_cifar10\"\n",
      "_________________________________________________________________\n",
      " Layer (type)                Output Shape              Param #   \n",
      "=================================================================\n",
      " input (InputLayer)          [(None, 32, 32, 3)]       0         \n",
      "                                                                 \n",
      " efficientnetb0 (Functional)  (None, 1, 1, 1280)       4049571   \n",
      "                                                                 \n",
      " flatten_1 (Flatten)         (None, 1280)              0         \n",
      "                                                                 \n",
      " dense_4 (Dense)             (None, 32)                40992     \n",
      "                                                                 \n",
      " activation_4 (Activation)   (None, 32)                0         \n",
      "                                                                 \n",
      " dense_5 (Dense)             (None, 10)                330       \n",
      "                                                                 \n",
      " activation_5 (Activation)   (None, 10)                0         \n",
      "                                                                 \n",
      "=================================================================\n",
      "Total params: 4,090,893\n",
      "Trainable params: 41,322\n",
      "Non-trainable params: 4,049,571\n",
      "_________________________________________________________________\n"
     ]
    }
   ],
   "source": [
    "import keras_tuner as kt\n",
    "\n",
    "\"\"\"\n",
    "NOTE: each Keras Application expects a specific kind of input preprocessing.\n",
    "For EfficientNet, input preprocessing is included as part of the model (as a\n",
    "Rescaling layer), and thus tf.keras.applications.efficientnet.preprocess_input\n",
    "is actually a pass-through function. EfficientNet models expect their inputs to\n",
    "be float tensors of pixels with values in the [0-255] range.\n",
    "\"\"\"\n",
    "\n",
    "def get_eff_net_backbone_model(units, activation, dropout, lr):\n",
    "    eff_net = tf.keras.applications.efficientnet.EfficientNetB0(\n",
    "        include_top=False,  # We are applying to new problem and will train our own classifier\n",
    "        weights=\"imagenet\",\n",
    "        input_shape = (32,32,3),  #NHWC\n",
    "        classes=10,\n",
    "    )\n",
    "    eff_net.trainable = False\n",
    "    input = tf.keras.Input(shape=(32,32,3), name = \"input\")\n",
    "    x = eff_net(input)\n",
    "    x = tf.keras.layers.Flatten()(x)\n",
    "    x = tf.keras.layers.Dense(units)(x)\n",
    "    x = tf.keras.layers.Activation(activation)(x)\n",
    "    if dropout:\n",
    "        x = tf.keras.layers.Dropout(rate=0.25)(x)\n",
    "    x = tf.keras.layers.Dense(10)(x)\n",
    "    x = tf.keras.layers.Activation(\"softmax\")(x)\n",
    "    model = tf.keras.Model(inputs=input,\n",
    "                        outputs=x,\n",
    "                        name=\"eff_net_cifar10\")\n",
    "    model.compile(\n",
    "        optimizer = tf.keras.optimizers.Adam(learning_rate=lr),\n",
    "        loss='categorical_crossentropy',\n",
    "        metrics=\"accuracy\"\n",
    "    )\n",
    "    return model\n",
    "\n",
    "def build_hypermodel(hp):\n",
    "    units = hp.Int(\"units\", min_value=32, max_value=512, step = 32)\n",
    "    activation = hp.Choice(\"activation\", [\"relu\", 'swish'])\n",
    "    lr = hp.Float(\"lr\", min_value=1e-4, max_value=1e-2, sampling=\"log\")\n",
    "    dropout = hp.Boolean(\"dropout\")\n",
    "    model = get_eff_net_backbone_model(units, activation, dropout, lr)\n",
    "    return model\n",
    "\n",
    "\n",
    "model = build_hypermodel(kt.HyperParameters())\n",
    "model.summary()"
   ]
  },
  {
   "cell_type": "code",
   "execution_count": null,
   "metadata": {},
   "outputs": [],
   "source": [
    "# NOTE: Lots of params, but mostly we are relying on image net weights for evaluating our different classifier heads."
   ]
  },
  {
   "cell_type": "code",
   "execution_count": 70,
   "metadata": {},
   "outputs": [],
   "source": [
    "y_train_ohe = tf.one_hot(y_train.flatten(), 10)  # We finally need to do some work of our own!\n",
    "y_test_ohe = tf.one_hot(y_test.flatten(), 10)\n",
    "y_train_tiny_ohe = tf.one_hot(y_train_tiny.flatten(), 10)"
   ]
  },
  {
   "cell_type": "code",
   "execution_count": 76,
   "metadata": {},
   "outputs": [
    {
     "name": "stdout",
     "output_type": "stream",
     "text": [
      "Trial 10 Complete [00h 00m 13s]\n",
      "val_accuracy: 0.4580000042915344\n",
      "\n",
      "Best val_accuracy So Far: 0.47600001096725464\n",
      "Total elapsed time: 00h 02m 24s\n",
      "INFO:tensorflow:Oracle triggered exit\n"
     ]
    }
   ],
   "source": [
    "# TODO: Demo TF board if we have time\n",
    "# tensorboard --logdir=logs --host localhost --port 8888\n",
    "tf.config.run_functions_eagerly(False)\n",
    "tb_callback = tf.keras.callbacks.TensorBoard(\"./logs\")\n",
    "tuner = kt.BayesianOptimization(\n",
    "    hypermodel=build_hypermodel,\n",
    "    max_trials=10,\n",
    "    overwrite=True,\n",
    "    objective=\"val_accuracy\",\n",
    "    directory = __DATA_PATH / \"keras-tuner\" / \"test\"\n",
    ")\n",
    "\n",
    "history = tuner.search(\n",
    "    X_train_tiny,\n",
    "    y_train_tiny_ohe,\n",
    "    validation_split=0.2,\n",
    "    epochs=2,\n",
    "    callbacks=[tb_callback]\n",
    ")"
   ]
  },
  {
   "cell_type": "code",
   "execution_count": null,
   "metadata": {},
   "outputs": [],
   "source": [
    "%load_ext tensorboard"
   ]
  },
  {
   "cell_type": "code",
   "execution_count": 37,
   "metadata": {},
   "outputs": [
    {
     "name": "stdout",
     "output_type": "stream",
     "text": [
      "Results summary\n",
      "Results in data\\keras-tuner\\untitled_project\n",
      "Showing 10 best trials\n",
      "Objective(name='val_accuracy', direction='max')\n",
      "Trial summary\n",
      "Hyperparameters:\n",
      "units: 512\n",
      "activation: relu\n",
      "lr: 0.0009079703969290101\n",
      "dropout: False\n",
      "Score: 0.49900001287460327\n",
      "Trial summary\n",
      "Hyperparameters:\n",
      "units: 512\n",
      "activation: swish\n",
      "lr: 0.001165603833417284\n",
      "dropout: False\n",
      "Score: 0.46299999952316284\n",
      "Trial summary\n",
      "Hyperparameters:\n",
      "units: 192\n",
      "activation: relu\n",
      "lr: 0.0014704979951629367\n",
      "dropout: True\n",
      "Score: 0.46000000834465027\n",
      "Trial summary\n",
      "Hyperparameters:\n",
      "units: 256\n",
      "activation: relu\n",
      "lr: 0.0003724316163844953\n",
      "dropout: True\n",
      "Score: 0.4560000002384186\n",
      "Trial summary\n",
      "Hyperparameters:\n",
      "units: 160\n",
      "activation: relu\n",
      "lr: 0.0006771925396670594\n",
      "dropout: False\n",
      "Score: 0.4359999895095825\n",
      "Trial summary\n",
      "Hyperparameters:\n",
      "units: 480\n",
      "activation: relu\n",
      "lr: 0.0001\n",
      "dropout: True\n",
      "Score: 0.4099999964237213\n",
      "Trial summary\n",
      "Hyperparameters:\n",
      "units: 512\n",
      "activation: relu\n",
      "lr: 0.01\n",
      "dropout: True\n",
      "Score: 0.40299999713897705\n",
      "Trial summary\n",
      "Hyperparameters:\n",
      "units: 512\n",
      "activation: relu\n",
      "lr: 0.0001\n",
      "dropout: False\n",
      "Score: 0.4000000059604645\n",
      "Trial summary\n",
      "Hyperparameters:\n",
      "units: 32\n",
      "activation: swish\n",
      "lr: 0.0001\n",
      "dropout: True\n",
      "Score: 0.3149999976158142\n",
      "Trial summary\n",
      "Hyperparameters:\n",
      "units: 32\n",
      "activation: relu\n",
      "lr: 0.01\n",
      "dropout: True\n",
      "Score: 0.2150000035762787\n"
     ]
    }
   ],
   "source": [
    "tuner.results_summary()"
   ]
  },
  {
   "cell_type": "code",
   "execution_count": 39,
   "metadata": {},
   "outputs": [
    {
     "name": "stdout",
     "output_type": "stream",
     "text": [
      "Search space summary\n",
      "Default search space size: 4\n",
      "units (Int)\n",
      "{'default': None, 'conditions': [], 'min_value': 32, 'max_value': 512, 'step': 32, 'sampling': None}\n",
      "activation (Choice)\n",
      "{'default': 'relu', 'conditions': [], 'values': ['relu', 'swish'], 'ordered': False}\n",
      "lr (Float)\n",
      "{'default': 0.0001, 'conditions': [], 'min_value': 0.0001, 'max_value': 0.01, 'step': None, 'sampling': 'log'}\n",
      "dropout (Boolean)\n",
      "{'default': False, 'conditions': []}\n"
     ]
    }
   ],
   "source": [
    "tuner.search_space_summary()"
   ]
  },
  {
   "cell_type": "code",
   "execution_count": 43,
   "metadata": {},
   "outputs": [
    {
     "name": "stdout",
     "output_type": "stream",
     "text": [
      "Model: \"eff_net_cifar10\"\n",
      "_________________________________________________________________\n",
      " Layer (type)                Output Shape              Param #   \n",
      "=================================================================\n",
      " input (InputLayer)          [(32, 32, 32, 3)]         0         \n",
      "                                                                 \n",
      " efficientnetb0 (Functional)  (None, 1, 1, 1280)       4049571   \n",
      "                                                                 \n",
      " flatten_2 (Flatten)         (32, 1280)                0         \n",
      "                                                                 \n",
      " dense_4 (Dense)             (32, 512)                 655872    \n",
      "                                                                 \n",
      " activation_4 (Activation)   (32, 512)                 0         \n",
      "                                                                 \n",
      " dense_5 (Dense)             (32, 10)                  5130      \n",
      "                                                                 \n",
      " activation_5 (Activation)   (32, 10)                  0         \n",
      "                                                                 \n",
      "=================================================================\n",
      "Total params: 4,710,573\n",
      "Trainable params: 661,002\n",
      "Non-trainable params: 4,049,571\n",
      "_________________________________________________________________\n"
     ]
    }
   ],
   "source": [
    "hp = tuner.get_best_hyperparameters()[0]\n",
    "model_hp = tuner.hypermodel.build(hp)\n",
    "model_hp.summary()"
   ]
  },
  {
   "cell_type": "code",
   "execution_count": 40,
   "metadata": {},
   "outputs": [
    {
     "name": "stdout",
     "output_type": "stream",
     "text": [
      "Model: \"eff_net_cifar10\"\n",
      "_________________________________________________________________\n",
      " Layer (type)                Output Shape              Param #   \n",
      "=================================================================\n",
      " input (InputLayer)          [(32, 32, 32, 3)]         0         \n",
      "                                                                 \n",
      " efficientnetb0 (Functional)  (None, 1, 1, 1280)       4049571   \n",
      "                                                                 \n",
      " flatten (Flatten)           (32, 1280)                0         \n",
      "                                                                 \n",
      " dense (Dense)               (32, 512)                 655872    \n",
      "                                                                 \n",
      " activation (Activation)     (32, 512)                 0         \n",
      "                                                                 \n",
      " dense_1 (Dense)             (32, 10)                  5130      \n",
      "                                                                 \n",
      " activation_1 (Activation)   (32, 10)                  0         \n",
      "                                                                 \n",
      "=================================================================\n",
      "Total params: 4,710,573\n",
      "Trainable params: 661,002\n",
      "Non-trainable params: 4,049,571\n",
      "_________________________________________________________________\n"
     ]
    }
   ],
   "source": [
    "model = tuner.get_best_models()[0]\n",
    "model.summary()"
   ]
  },
  {
   "cell_type": "code",
   "execution_count": 68,
   "metadata": {},
   "outputs": [
    {
     "name": "stdout",
     "output_type": "stream",
     "text": [
      "Trial 2 Complete [00h 00m 48s]\n",
      "val_accuracy: 0.46700000762939453\n",
      "\n",
      "Best val_accuracy So Far: 0.46700000762939453\n",
      "Total elapsed time: 00h 00m 48s\n",
      "\n",
      "Search: Running Trial #3\n",
      "\n",
      "Hyperparameter    |Value             |Best Value So Far \n",
      "units             |256               |480               \n",
      "activation        |relu              |relu              \n",
      "lr                |0.00088752        |0.00049007        \n",
      "dropout           |True              |True              \n",
      "normalize         |True              |False             \n",
      "\n",
      "Epoch 1/2\n",
      "125/125 [==============================] - 23s 184ms/step - loss: 1.9151 - accuracy: 0.3158 - val_loss: 1.6508 - val_accuracy: 0.4070\n",
      "Epoch 2/2\n",
      " 16/125 [==>...........................] - ETA: 19s - loss: 1.6716 - accuracy: 0.3848"
     ]
    },
    {
     "ename": "KeyboardInterrupt",
     "evalue": "",
     "output_type": "error",
     "traceback": [
      "\u001b[1;31m---------------------------------------------------------------------------\u001b[0m",
      "\u001b[1;31mKeyboardInterrupt\u001b[0m                         Traceback (most recent call last)",
      "\u001b[1;32m~\\AppData\\Local\\Temp/ipykernel_18760/221564631.py\u001b[0m in \u001b[0;36m<module>\u001b[1;34m\u001b[0m\n\u001b[0;32m     69\u001b[0m )\n\u001b[0;32m     70\u001b[0m \u001b[1;33m\u001b[0m\u001b[0m\n\u001b[1;32m---> 71\u001b[1;33m history = tuner.search(\n\u001b[0m\u001b[0;32m     72\u001b[0m     \u001b[0mX_train_tiny\u001b[0m\u001b[1;33m,\u001b[0m\u001b[1;33m\u001b[0m\u001b[1;33m\u001b[0m\u001b[0m\n\u001b[0;32m     73\u001b[0m     \u001b[0my_train_tiny\u001b[0m\u001b[1;33m,\u001b[0m  \u001b[1;31m# No OHE required\u001b[0m\u001b[1;33m\u001b[0m\u001b[1;33m\u001b[0m\u001b[0m\n",
      "\u001b[1;32m~\\anaconda3\\envs\\autokeras\\lib\\site-packages\\keras_tuner\\engine\\base_tuner.py\u001b[0m in \u001b[0;36msearch\u001b[1;34m(self, *fit_args, **fit_kwargs)\u001b[0m\n\u001b[0;32m    177\u001b[0m \u001b[1;33m\u001b[0m\u001b[0m\n\u001b[0;32m    178\u001b[0m             \u001b[0mself\u001b[0m\u001b[1;33m.\u001b[0m\u001b[0mon_trial_begin\u001b[0m\u001b[1;33m(\u001b[0m\u001b[0mtrial\u001b[0m\u001b[1;33m)\u001b[0m\u001b[1;33m\u001b[0m\u001b[1;33m\u001b[0m\u001b[0m\n\u001b[1;32m--> 179\u001b[1;33m             \u001b[0mresults\u001b[0m \u001b[1;33m=\u001b[0m \u001b[0mself\u001b[0m\u001b[1;33m.\u001b[0m\u001b[0mrun_trial\u001b[0m\u001b[1;33m(\u001b[0m\u001b[0mtrial\u001b[0m\u001b[1;33m,\u001b[0m \u001b[1;33m*\u001b[0m\u001b[0mfit_args\u001b[0m\u001b[1;33m,\u001b[0m \u001b[1;33m**\u001b[0m\u001b[0mfit_kwargs\u001b[0m\u001b[1;33m)\u001b[0m\u001b[1;33m\u001b[0m\u001b[1;33m\u001b[0m\u001b[0m\n\u001b[0m\u001b[0;32m    180\u001b[0m             \u001b[1;31m# `results` is None indicates user updated oracle in `run_trial()`.\u001b[0m\u001b[1;33m\u001b[0m\u001b[1;33m\u001b[0m\u001b[1;33m\u001b[0m\u001b[0m\n\u001b[0;32m    181\u001b[0m             \u001b[1;32mif\u001b[0m \u001b[0mresults\u001b[0m \u001b[1;32mis\u001b[0m \u001b[1;32mNone\u001b[0m\u001b[1;33m:\u001b[0m\u001b[1;33m\u001b[0m\u001b[1;33m\u001b[0m\u001b[0m\n",
      "\u001b[1;32m~\\anaconda3\\envs\\autokeras\\lib\\site-packages\\keras_tuner\\engine\\tuner.py\u001b[0m in \u001b[0;36mrun_trial\u001b[1;34m(self, trial, *args, **kwargs)\u001b[0m\n\u001b[0;32m    302\u001b[0m             \u001b[0mcallbacks\u001b[0m\u001b[1;33m.\u001b[0m\u001b[0mappend\u001b[0m\u001b[1;33m(\u001b[0m\u001b[0mmodel_checkpoint\u001b[0m\u001b[1;33m)\u001b[0m\u001b[1;33m\u001b[0m\u001b[1;33m\u001b[0m\u001b[0m\n\u001b[0;32m    303\u001b[0m             \u001b[0mcopied_kwargs\u001b[0m\u001b[1;33m[\u001b[0m\u001b[1;34m\"callbacks\"\u001b[0m\u001b[1;33m]\u001b[0m \u001b[1;33m=\u001b[0m \u001b[0mcallbacks\u001b[0m\u001b[1;33m\u001b[0m\u001b[1;33m\u001b[0m\u001b[0m\n\u001b[1;32m--> 304\u001b[1;33m             \u001b[0mobj_value\u001b[0m \u001b[1;33m=\u001b[0m \u001b[0mself\u001b[0m\u001b[1;33m.\u001b[0m\u001b[0m_build_and_fit_model\u001b[0m\u001b[1;33m(\u001b[0m\u001b[0mtrial\u001b[0m\u001b[1;33m,\u001b[0m \u001b[1;33m*\u001b[0m\u001b[0margs\u001b[0m\u001b[1;33m,\u001b[0m \u001b[1;33m**\u001b[0m\u001b[0mcopied_kwargs\u001b[0m\u001b[1;33m)\u001b[0m\u001b[1;33m\u001b[0m\u001b[1;33m\u001b[0m\u001b[0m\n\u001b[0m\u001b[0;32m    305\u001b[0m \u001b[1;33m\u001b[0m\u001b[0m\n\u001b[0;32m    306\u001b[0m             \u001b[1;31m# objective left unspecified,\u001b[0m\u001b[1;33m\u001b[0m\u001b[1;33m\u001b[0m\u001b[1;33m\u001b[0m\u001b[0m\n",
      "\u001b[1;32m~\\anaconda3\\envs\\autokeras\\lib\\site-packages\\keras_tuner\\engine\\tuner.py\u001b[0m in \u001b[0;36m_build_and_fit_model\u001b[1;34m(self, trial, *args, **kwargs)\u001b[0m\n\u001b[0;32m    232\u001b[0m         \u001b[0mhp\u001b[0m \u001b[1;33m=\u001b[0m \u001b[0mtrial\u001b[0m\u001b[1;33m.\u001b[0m\u001b[0mhyperparameters\u001b[0m\u001b[1;33m\u001b[0m\u001b[1;33m\u001b[0m\u001b[0m\n\u001b[0;32m    233\u001b[0m         \u001b[0mmodel\u001b[0m \u001b[1;33m=\u001b[0m \u001b[0mself\u001b[0m\u001b[1;33m.\u001b[0m\u001b[0m_try_build\u001b[0m\u001b[1;33m(\u001b[0m\u001b[0mhp\u001b[0m\u001b[1;33m)\u001b[0m\u001b[1;33m\u001b[0m\u001b[1;33m\u001b[0m\u001b[0m\n\u001b[1;32m--> 234\u001b[1;33m         \u001b[1;32mreturn\u001b[0m \u001b[0mself\u001b[0m\u001b[1;33m.\u001b[0m\u001b[0mhypermodel\u001b[0m\u001b[1;33m.\u001b[0m\u001b[0mfit\u001b[0m\u001b[1;33m(\u001b[0m\u001b[0mhp\u001b[0m\u001b[1;33m,\u001b[0m \u001b[0mmodel\u001b[0m\u001b[1;33m,\u001b[0m \u001b[1;33m*\u001b[0m\u001b[0margs\u001b[0m\u001b[1;33m,\u001b[0m \u001b[1;33m**\u001b[0m\u001b[0mkwargs\u001b[0m\u001b[1;33m)\u001b[0m\u001b[1;33m\u001b[0m\u001b[1;33m\u001b[0m\u001b[0m\n\u001b[0m\u001b[0;32m    235\u001b[0m \u001b[1;33m\u001b[0m\u001b[0m\n\u001b[0;32m    236\u001b[0m     \u001b[1;32mdef\u001b[0m \u001b[0mrun_trial\u001b[0m\u001b[1;33m(\u001b[0m\u001b[0mself\u001b[0m\u001b[1;33m,\u001b[0m \u001b[0mtrial\u001b[0m\u001b[1;33m,\u001b[0m \u001b[1;33m*\u001b[0m\u001b[0margs\u001b[0m\u001b[1;33m,\u001b[0m \u001b[1;33m**\u001b[0m\u001b[0mkwargs\u001b[0m\u001b[1;33m)\u001b[0m\u001b[1;33m:\u001b[0m\u001b[1;33m\u001b[0m\u001b[1;33m\u001b[0m\u001b[0m\n",
      "\u001b[1;32m~\\AppData\\Local\\Temp/ipykernel_18760/221564631.py\u001b[0m in \u001b[0;36mfit\u001b[1;34m(self, hp, model, x, y, **kwargs)\u001b[0m\n\u001b[0;32m     53\u001b[0m         \u001b[0my_ohe\u001b[0m \u001b[1;33m=\u001b[0m \u001b[0mtf\u001b[0m\u001b[1;33m.\u001b[0m\u001b[0mone_hot\u001b[0m\u001b[1;33m(\u001b[0m\u001b[0my\u001b[0m\u001b[1;33m,\u001b[0m \u001b[1;36m10\u001b[0m\u001b[1;33m)\u001b[0m  \u001b[1;31m# We can move ohe here -> (N, 1, 10)\u001b[0m\u001b[1;33m\u001b[0m\u001b[1;33m\u001b[0m\u001b[0m\n\u001b[0;32m     54\u001b[0m         \u001b[0my_ohe\u001b[0m \u001b[1;33m=\u001b[0m \u001b[0mtf\u001b[0m\u001b[1;33m.\u001b[0m\u001b[0mkeras\u001b[0m\u001b[1;33m.\u001b[0m\u001b[0mlayers\u001b[0m\u001b[1;33m.\u001b[0m\u001b[0mFlatten\u001b[0m\u001b[1;33m(\u001b[0m\u001b[1;33m)\u001b[0m\u001b[1;33m(\u001b[0m\u001b[0my_ohe\u001b[0m\u001b[1;33m)\u001b[0m  \u001b[1;31m# (N, 10) to match output layer\u001b[0m\u001b[1;33m\u001b[0m\u001b[1;33m\u001b[0m\u001b[0m\n\u001b[1;32m---> 55\u001b[1;33m         return model.fit(\n\u001b[0m\u001b[0;32m     56\u001b[0m             \u001b[0mx\u001b[0m\u001b[1;33m,\u001b[0m\u001b[1;33m\u001b[0m\u001b[1;33m\u001b[0m\u001b[0m\n\u001b[0;32m     57\u001b[0m             \u001b[0my_ohe\u001b[0m\u001b[1;33m,\u001b[0m\u001b[1;33m\u001b[0m\u001b[1;33m\u001b[0m\u001b[0m\n",
      "\u001b[1;32m~\\anaconda3\\envs\\autokeras\\lib\\site-packages\\keras\\utils\\traceback_utils.py\u001b[0m in \u001b[0;36merror_handler\u001b[1;34m(*args, **kwargs)\u001b[0m\n\u001b[0;32m     62\u001b[0m     \u001b[0mfiltered_tb\u001b[0m \u001b[1;33m=\u001b[0m \u001b[1;32mNone\u001b[0m\u001b[1;33m\u001b[0m\u001b[1;33m\u001b[0m\u001b[0m\n\u001b[0;32m     63\u001b[0m     \u001b[1;32mtry\u001b[0m\u001b[1;33m:\u001b[0m\u001b[1;33m\u001b[0m\u001b[1;33m\u001b[0m\u001b[0m\n\u001b[1;32m---> 64\u001b[1;33m       \u001b[1;32mreturn\u001b[0m \u001b[0mfn\u001b[0m\u001b[1;33m(\u001b[0m\u001b[1;33m*\u001b[0m\u001b[0margs\u001b[0m\u001b[1;33m,\u001b[0m \u001b[1;33m**\u001b[0m\u001b[0mkwargs\u001b[0m\u001b[1;33m)\u001b[0m\u001b[1;33m\u001b[0m\u001b[1;33m\u001b[0m\u001b[0m\n\u001b[0m\u001b[0;32m     65\u001b[0m     \u001b[1;32mexcept\u001b[0m \u001b[0mException\u001b[0m \u001b[1;32mas\u001b[0m \u001b[0me\u001b[0m\u001b[1;33m:\u001b[0m  \u001b[1;31m# pylint: disable=broad-except\u001b[0m\u001b[1;33m\u001b[0m\u001b[1;33m\u001b[0m\u001b[0m\n\u001b[0;32m     66\u001b[0m       \u001b[0mfiltered_tb\u001b[0m \u001b[1;33m=\u001b[0m \u001b[0m_process_traceback_frames\u001b[0m\u001b[1;33m(\u001b[0m\u001b[0me\u001b[0m\u001b[1;33m.\u001b[0m\u001b[0m__traceback__\u001b[0m\u001b[1;33m)\u001b[0m\u001b[1;33m\u001b[0m\u001b[1;33m\u001b[0m\u001b[0m\n",
      "\u001b[1;32m~\\anaconda3\\envs\\autokeras\\lib\\site-packages\\keras\\engine\\training.py\u001b[0m in \u001b[0;36mfit\u001b[1;34m(self, x, y, batch_size, epochs, verbose, callbacks, validation_split, validation_data, shuffle, class_weight, sample_weight, initial_epoch, steps_per_epoch, validation_steps, validation_batch_size, validation_freq, max_queue_size, workers, use_multiprocessing)\u001b[0m\n\u001b[0;32m   1382\u001b[0m                 _r=1):\n\u001b[0;32m   1383\u001b[0m               \u001b[0mcallbacks\u001b[0m\u001b[1;33m.\u001b[0m\u001b[0mon_train_batch_begin\u001b[0m\u001b[1;33m(\u001b[0m\u001b[0mstep\u001b[0m\u001b[1;33m)\u001b[0m\u001b[1;33m\u001b[0m\u001b[1;33m\u001b[0m\u001b[0m\n\u001b[1;32m-> 1384\u001b[1;33m               \u001b[0mtmp_logs\u001b[0m \u001b[1;33m=\u001b[0m \u001b[0mself\u001b[0m\u001b[1;33m.\u001b[0m\u001b[0mtrain_function\u001b[0m\u001b[1;33m(\u001b[0m\u001b[0miterator\u001b[0m\u001b[1;33m)\u001b[0m\u001b[1;33m\u001b[0m\u001b[1;33m\u001b[0m\u001b[0m\n\u001b[0m\u001b[0;32m   1385\u001b[0m               \u001b[1;32mif\u001b[0m \u001b[0mdata_handler\u001b[0m\u001b[1;33m.\u001b[0m\u001b[0mshould_sync\u001b[0m\u001b[1;33m:\u001b[0m\u001b[1;33m\u001b[0m\u001b[1;33m\u001b[0m\u001b[0m\n\u001b[0;32m   1386\u001b[0m                 \u001b[0mcontext\u001b[0m\u001b[1;33m.\u001b[0m\u001b[0masync_wait\u001b[0m\u001b[1;33m(\u001b[0m\u001b[1;33m)\u001b[0m\u001b[1;33m\u001b[0m\u001b[1;33m\u001b[0m\u001b[0m\n",
      "\u001b[1;32m~\\anaconda3\\envs\\autokeras\\lib\\site-packages\\keras\\engine\\training.py\u001b[0m in \u001b[0;36mtrain_function\u001b[1;34m(iterator)\u001b[0m\n\u001b[0;32m   1019\u001b[0m       \u001b[1;32mdef\u001b[0m \u001b[0mtrain_function\u001b[0m\u001b[1;33m(\u001b[0m\u001b[0miterator\u001b[0m\u001b[1;33m)\u001b[0m\u001b[1;33m:\u001b[0m\u001b[1;33m\u001b[0m\u001b[1;33m\u001b[0m\u001b[0m\n\u001b[0;32m   1020\u001b[0m         \u001b[1;34m\"\"\"Runs a training execution with a single step.\"\"\"\u001b[0m\u001b[1;33m\u001b[0m\u001b[1;33m\u001b[0m\u001b[0m\n\u001b[1;32m-> 1021\u001b[1;33m         \u001b[1;32mreturn\u001b[0m \u001b[0mstep_function\u001b[0m\u001b[1;33m(\u001b[0m\u001b[0mself\u001b[0m\u001b[1;33m,\u001b[0m \u001b[0miterator\u001b[0m\u001b[1;33m)\u001b[0m\u001b[1;33m\u001b[0m\u001b[1;33m\u001b[0m\u001b[0m\n\u001b[0m\u001b[0;32m   1022\u001b[0m \u001b[1;33m\u001b[0m\u001b[0m\n\u001b[0;32m   1023\u001b[0m       \u001b[1;32mif\u001b[0m \u001b[1;32mnot\u001b[0m \u001b[0mself\u001b[0m\u001b[1;33m.\u001b[0m\u001b[0mrun_eagerly\u001b[0m\u001b[1;33m:\u001b[0m\u001b[1;33m\u001b[0m\u001b[1;33m\u001b[0m\u001b[0m\n",
      "\u001b[1;32m~\\anaconda3\\envs\\autokeras\\lib\\site-packages\\keras\\engine\\training.py\u001b[0m in \u001b[0;36mstep_function\u001b[1;34m(model, iterator)\u001b[0m\n\u001b[0;32m   1008\u001b[0m             run_step, jit_compile=True, experimental_relax_shapes=True)\n\u001b[0;32m   1009\u001b[0m       \u001b[0mdata\u001b[0m \u001b[1;33m=\u001b[0m \u001b[0mnext\u001b[0m\u001b[1;33m(\u001b[0m\u001b[0miterator\u001b[0m\u001b[1;33m)\u001b[0m\u001b[1;33m\u001b[0m\u001b[1;33m\u001b[0m\u001b[0m\n\u001b[1;32m-> 1010\u001b[1;33m       \u001b[0moutputs\u001b[0m \u001b[1;33m=\u001b[0m \u001b[0mmodel\u001b[0m\u001b[1;33m.\u001b[0m\u001b[0mdistribute_strategy\u001b[0m\u001b[1;33m.\u001b[0m\u001b[0mrun\u001b[0m\u001b[1;33m(\u001b[0m\u001b[0mrun_step\u001b[0m\u001b[1;33m,\u001b[0m \u001b[0margs\u001b[0m\u001b[1;33m=\u001b[0m\u001b[1;33m(\u001b[0m\u001b[0mdata\u001b[0m\u001b[1;33m,\u001b[0m\u001b[1;33m)\u001b[0m\u001b[1;33m)\u001b[0m\u001b[1;33m\u001b[0m\u001b[1;33m\u001b[0m\u001b[0m\n\u001b[0m\u001b[0;32m   1011\u001b[0m       outputs = reduce_per_replica(\n\u001b[0;32m   1012\u001b[0m           outputs, self.distribute_strategy, reduction='first')\n",
      "\u001b[1;32m~\\anaconda3\\envs\\autokeras\\lib\\site-packages\\tensorflow\\python\\distribute\\distribute_lib.py\u001b[0m in \u001b[0;36mrun\u001b[1;34m(***failed resolving arguments***)\u001b[0m\n\u001b[0;32m   1310\u001b[0m       fn = autograph.tf_convert(\n\u001b[0;32m   1311\u001b[0m           fn, autograph_ctx.control_status_ctx(), convert_by_default=False)\n\u001b[1;32m-> 1312\u001b[1;33m       \u001b[1;32mreturn\u001b[0m \u001b[0mself\u001b[0m\u001b[1;33m.\u001b[0m\u001b[0m_extended\u001b[0m\u001b[1;33m.\u001b[0m\u001b[0mcall_for_each_replica\u001b[0m\u001b[1;33m(\u001b[0m\u001b[0mfn\u001b[0m\u001b[1;33m,\u001b[0m \u001b[0margs\u001b[0m\u001b[1;33m=\u001b[0m\u001b[0margs\u001b[0m\u001b[1;33m,\u001b[0m \u001b[0mkwargs\u001b[0m\u001b[1;33m=\u001b[0m\u001b[0mkwargs\u001b[0m\u001b[1;33m)\u001b[0m\u001b[1;33m\u001b[0m\u001b[1;33m\u001b[0m\u001b[0m\n\u001b[0m\u001b[0;32m   1313\u001b[0m \u001b[1;33m\u001b[0m\u001b[0m\n\u001b[0;32m   1314\u001b[0m   \u001b[1;32mdef\u001b[0m \u001b[0mreduce\u001b[0m\u001b[1;33m(\u001b[0m\u001b[0mself\u001b[0m\u001b[1;33m,\u001b[0m \u001b[0mreduce_op\u001b[0m\u001b[1;33m,\u001b[0m \u001b[0mvalue\u001b[0m\u001b[1;33m,\u001b[0m \u001b[0maxis\u001b[0m\u001b[1;33m)\u001b[0m\u001b[1;33m:\u001b[0m\u001b[1;33m\u001b[0m\u001b[1;33m\u001b[0m\u001b[0m\n",
      "\u001b[1;32m~\\anaconda3\\envs\\autokeras\\lib\\site-packages\\tensorflow\\python\\distribute\\distribute_lib.py\u001b[0m in \u001b[0;36mcall_for_each_replica\u001b[1;34m(self, fn, args, kwargs)\u001b[0m\n\u001b[0;32m   2886\u001b[0m       \u001b[0mkwargs\u001b[0m \u001b[1;33m=\u001b[0m \u001b[1;33m{\u001b[0m\u001b[1;33m}\u001b[0m\u001b[1;33m\u001b[0m\u001b[1;33m\u001b[0m\u001b[0m\n\u001b[0;32m   2887\u001b[0m     \u001b[1;32mwith\u001b[0m \u001b[0mself\u001b[0m\u001b[1;33m.\u001b[0m\u001b[0m_container_strategy\u001b[0m\u001b[1;33m(\u001b[0m\u001b[1;33m)\u001b[0m\u001b[1;33m.\u001b[0m\u001b[0mscope\u001b[0m\u001b[1;33m(\u001b[0m\u001b[1;33m)\u001b[0m\u001b[1;33m:\u001b[0m\u001b[1;33m\u001b[0m\u001b[1;33m\u001b[0m\u001b[0m\n\u001b[1;32m-> 2888\u001b[1;33m       \u001b[1;32mreturn\u001b[0m \u001b[0mself\u001b[0m\u001b[1;33m.\u001b[0m\u001b[0m_call_for_each_replica\u001b[0m\u001b[1;33m(\u001b[0m\u001b[0mfn\u001b[0m\u001b[1;33m,\u001b[0m \u001b[0margs\u001b[0m\u001b[1;33m,\u001b[0m \u001b[0mkwargs\u001b[0m\u001b[1;33m)\u001b[0m\u001b[1;33m\u001b[0m\u001b[1;33m\u001b[0m\u001b[0m\n\u001b[0m\u001b[0;32m   2889\u001b[0m \u001b[1;33m\u001b[0m\u001b[0m\n\u001b[0;32m   2890\u001b[0m   \u001b[1;32mdef\u001b[0m \u001b[0m_call_for_each_replica\u001b[0m\u001b[1;33m(\u001b[0m\u001b[0mself\u001b[0m\u001b[1;33m,\u001b[0m \u001b[0mfn\u001b[0m\u001b[1;33m,\u001b[0m \u001b[0margs\u001b[0m\u001b[1;33m,\u001b[0m \u001b[0mkwargs\u001b[0m\u001b[1;33m)\u001b[0m\u001b[1;33m:\u001b[0m\u001b[1;33m\u001b[0m\u001b[1;33m\u001b[0m\u001b[0m\n",
      "\u001b[1;32m~\\anaconda3\\envs\\autokeras\\lib\\site-packages\\tensorflow\\python\\distribute\\distribute_lib.py\u001b[0m in \u001b[0;36m_call_for_each_replica\u001b[1;34m(self, fn, args, kwargs)\u001b[0m\n\u001b[0;32m   3687\u001b[0m   \u001b[1;32mdef\u001b[0m \u001b[0m_call_for_each_replica\u001b[0m\u001b[1;33m(\u001b[0m\u001b[0mself\u001b[0m\u001b[1;33m,\u001b[0m \u001b[0mfn\u001b[0m\u001b[1;33m,\u001b[0m \u001b[0margs\u001b[0m\u001b[1;33m,\u001b[0m \u001b[0mkwargs\u001b[0m\u001b[1;33m)\u001b[0m\u001b[1;33m:\u001b[0m\u001b[1;33m\u001b[0m\u001b[1;33m\u001b[0m\u001b[0m\n\u001b[0;32m   3688\u001b[0m     \u001b[1;32mwith\u001b[0m \u001b[0mReplicaContext\u001b[0m\u001b[1;33m(\u001b[0m\u001b[0mself\u001b[0m\u001b[1;33m.\u001b[0m\u001b[0m_container_strategy\u001b[0m\u001b[1;33m(\u001b[0m\u001b[1;33m)\u001b[0m\u001b[1;33m,\u001b[0m \u001b[0mreplica_id_in_sync_group\u001b[0m\u001b[1;33m=\u001b[0m\u001b[1;36m0\u001b[0m\u001b[1;33m)\u001b[0m\u001b[1;33m:\u001b[0m\u001b[1;33m\u001b[0m\u001b[1;33m\u001b[0m\u001b[0m\n\u001b[1;32m-> 3689\u001b[1;33m       \u001b[1;32mreturn\u001b[0m \u001b[0mfn\u001b[0m\u001b[1;33m(\u001b[0m\u001b[1;33m*\u001b[0m\u001b[0margs\u001b[0m\u001b[1;33m,\u001b[0m \u001b[1;33m**\u001b[0m\u001b[0mkwargs\u001b[0m\u001b[1;33m)\u001b[0m\u001b[1;33m\u001b[0m\u001b[1;33m\u001b[0m\u001b[0m\n\u001b[0m\u001b[0;32m   3690\u001b[0m \u001b[1;33m\u001b[0m\u001b[0m\n\u001b[0;32m   3691\u001b[0m   \u001b[1;32mdef\u001b[0m \u001b[0m_reduce_to\u001b[0m\u001b[1;33m(\u001b[0m\u001b[0mself\u001b[0m\u001b[1;33m,\u001b[0m \u001b[0mreduce_op\u001b[0m\u001b[1;33m,\u001b[0m \u001b[0mvalue\u001b[0m\u001b[1;33m,\u001b[0m \u001b[0mdestinations\u001b[0m\u001b[1;33m,\u001b[0m \u001b[0moptions\u001b[0m\u001b[1;33m)\u001b[0m\u001b[1;33m:\u001b[0m\u001b[1;33m\u001b[0m\u001b[1;33m\u001b[0m\u001b[0m\n",
      "\u001b[1;32m~\\anaconda3\\envs\\autokeras\\lib\\site-packages\\tensorflow\\python\\autograph\\impl\\api.py\u001b[0m in \u001b[0;36mwrapper\u001b[1;34m(*args, **kwargs)\u001b[0m\n\u001b[0;32m    593\u001b[0m   \u001b[1;32mdef\u001b[0m \u001b[0mwrapper\u001b[0m\u001b[1;33m(\u001b[0m\u001b[1;33m*\u001b[0m\u001b[0margs\u001b[0m\u001b[1;33m,\u001b[0m \u001b[1;33m**\u001b[0m\u001b[0mkwargs\u001b[0m\u001b[1;33m)\u001b[0m\u001b[1;33m:\u001b[0m\u001b[1;33m\u001b[0m\u001b[1;33m\u001b[0m\u001b[0m\n\u001b[0;32m    594\u001b[0m     \u001b[1;32mwith\u001b[0m \u001b[0mag_ctx\u001b[0m\u001b[1;33m.\u001b[0m\u001b[0mControlStatusCtx\u001b[0m\u001b[1;33m(\u001b[0m\u001b[0mstatus\u001b[0m\u001b[1;33m=\u001b[0m\u001b[0mag_ctx\u001b[0m\u001b[1;33m.\u001b[0m\u001b[0mStatus\u001b[0m\u001b[1;33m.\u001b[0m\u001b[0mUNSPECIFIED\u001b[0m\u001b[1;33m)\u001b[0m\u001b[1;33m:\u001b[0m\u001b[1;33m\u001b[0m\u001b[1;33m\u001b[0m\u001b[0m\n\u001b[1;32m--> 595\u001b[1;33m       \u001b[1;32mreturn\u001b[0m \u001b[0mfunc\u001b[0m\u001b[1;33m(\u001b[0m\u001b[1;33m*\u001b[0m\u001b[0margs\u001b[0m\u001b[1;33m,\u001b[0m \u001b[1;33m**\u001b[0m\u001b[0mkwargs\u001b[0m\u001b[1;33m)\u001b[0m\u001b[1;33m\u001b[0m\u001b[1;33m\u001b[0m\u001b[0m\n\u001b[0m\u001b[0;32m    596\u001b[0m \u001b[1;33m\u001b[0m\u001b[0m\n\u001b[0;32m    597\u001b[0m   \u001b[1;32mif\u001b[0m \u001b[0minspect\u001b[0m\u001b[1;33m.\u001b[0m\u001b[0misfunction\u001b[0m\u001b[1;33m(\u001b[0m\u001b[0mfunc\u001b[0m\u001b[1;33m)\u001b[0m \u001b[1;32mor\u001b[0m \u001b[0minspect\u001b[0m\u001b[1;33m.\u001b[0m\u001b[0mismethod\u001b[0m\u001b[1;33m(\u001b[0m\u001b[0mfunc\u001b[0m\u001b[1;33m)\u001b[0m\u001b[1;33m:\u001b[0m\u001b[1;33m\u001b[0m\u001b[1;33m\u001b[0m\u001b[0m\n",
      "\u001b[1;32m~\\anaconda3\\envs\\autokeras\\lib\\site-packages\\keras\\engine\\training.py\u001b[0m in \u001b[0;36mrun_step\u001b[1;34m(data)\u001b[0m\n\u001b[0;32m    998\u001b[0m \u001b[1;33m\u001b[0m\u001b[0m\n\u001b[0;32m    999\u001b[0m       \u001b[1;32mdef\u001b[0m \u001b[0mrun_step\u001b[0m\u001b[1;33m(\u001b[0m\u001b[0mdata\u001b[0m\u001b[1;33m)\u001b[0m\u001b[1;33m:\u001b[0m\u001b[1;33m\u001b[0m\u001b[1;33m\u001b[0m\u001b[0m\n\u001b[1;32m-> 1000\u001b[1;33m         \u001b[0moutputs\u001b[0m \u001b[1;33m=\u001b[0m \u001b[0mmodel\u001b[0m\u001b[1;33m.\u001b[0m\u001b[0mtrain_step\u001b[0m\u001b[1;33m(\u001b[0m\u001b[0mdata\u001b[0m\u001b[1;33m)\u001b[0m\u001b[1;33m\u001b[0m\u001b[1;33m\u001b[0m\u001b[0m\n\u001b[0m\u001b[0;32m   1001\u001b[0m         \u001b[1;31m# Ensure counter is updated only if `train_step` succeeds.\u001b[0m\u001b[1;33m\u001b[0m\u001b[1;33m\u001b[0m\u001b[1;33m\u001b[0m\u001b[0m\n\u001b[0;32m   1002\u001b[0m         \u001b[1;32mwith\u001b[0m \u001b[0mtf\u001b[0m\u001b[1;33m.\u001b[0m\u001b[0mcontrol_dependencies\u001b[0m\u001b[1;33m(\u001b[0m\u001b[0m_minimum_control_deps\u001b[0m\u001b[1;33m(\u001b[0m\u001b[0moutputs\u001b[0m\u001b[1;33m)\u001b[0m\u001b[1;33m)\u001b[0m\u001b[1;33m:\u001b[0m\u001b[1;33m\u001b[0m\u001b[1;33m\u001b[0m\u001b[0m\n",
      "\u001b[1;32m~\\anaconda3\\envs\\autokeras\\lib\\site-packages\\keras\\engine\\training.py\u001b[0m in \u001b[0;36mtrain_step\u001b[1;34m(self, data)\u001b[0m\n\u001b[0;32m    861\u001b[0m     \u001b[0mself\u001b[0m\u001b[1;33m.\u001b[0m\u001b[0m_validate_target_and_loss\u001b[0m\u001b[1;33m(\u001b[0m\u001b[0my\u001b[0m\u001b[1;33m,\u001b[0m \u001b[0mloss\u001b[0m\u001b[1;33m)\u001b[0m\u001b[1;33m\u001b[0m\u001b[1;33m\u001b[0m\u001b[0m\n\u001b[0;32m    862\u001b[0m     \u001b[1;31m# Run backwards pass.\u001b[0m\u001b[1;33m\u001b[0m\u001b[1;33m\u001b[0m\u001b[1;33m\u001b[0m\u001b[0m\n\u001b[1;32m--> 863\u001b[1;33m     \u001b[0mself\u001b[0m\u001b[1;33m.\u001b[0m\u001b[0moptimizer\u001b[0m\u001b[1;33m.\u001b[0m\u001b[0mminimize\u001b[0m\u001b[1;33m(\u001b[0m\u001b[0mloss\u001b[0m\u001b[1;33m,\u001b[0m \u001b[0mself\u001b[0m\u001b[1;33m.\u001b[0m\u001b[0mtrainable_variables\u001b[0m\u001b[1;33m,\u001b[0m \u001b[0mtape\u001b[0m\u001b[1;33m=\u001b[0m\u001b[0mtape\u001b[0m\u001b[1;33m)\u001b[0m\u001b[1;33m\u001b[0m\u001b[1;33m\u001b[0m\u001b[0m\n\u001b[0m\u001b[0;32m    864\u001b[0m     \u001b[1;32mreturn\u001b[0m \u001b[0mself\u001b[0m\u001b[1;33m.\u001b[0m\u001b[0mcompute_metrics\u001b[0m\u001b[1;33m(\u001b[0m\u001b[0mx\u001b[0m\u001b[1;33m,\u001b[0m \u001b[0my\u001b[0m\u001b[1;33m,\u001b[0m \u001b[0my_pred\u001b[0m\u001b[1;33m,\u001b[0m \u001b[0msample_weight\u001b[0m\u001b[1;33m)\u001b[0m\u001b[1;33m\u001b[0m\u001b[1;33m\u001b[0m\u001b[0m\n\u001b[0;32m    865\u001b[0m \u001b[1;33m\u001b[0m\u001b[0m\n",
      "\u001b[1;32m~\\anaconda3\\envs\\autokeras\\lib\\site-packages\\keras\\optimizer_v2\\optimizer_v2.py\u001b[0m in \u001b[0;36mminimize\u001b[1;34m(self, loss, var_list, grad_loss, name, tape)\u001b[0m\n\u001b[0;32m    528\u001b[0m \u001b[1;33m\u001b[0m\u001b[0m\n\u001b[0;32m    529\u001b[0m     \"\"\"\n\u001b[1;32m--> 530\u001b[1;33m     grads_and_vars = self._compute_gradients(\n\u001b[0m\u001b[0;32m    531\u001b[0m         loss, var_list=var_list, grad_loss=grad_loss, tape=tape)\n\u001b[0;32m    532\u001b[0m     \u001b[1;32mreturn\u001b[0m \u001b[0mself\u001b[0m\u001b[1;33m.\u001b[0m\u001b[0mapply_gradients\u001b[0m\u001b[1;33m(\u001b[0m\u001b[0mgrads_and_vars\u001b[0m\u001b[1;33m,\u001b[0m \u001b[0mname\u001b[0m\u001b[1;33m=\u001b[0m\u001b[0mname\u001b[0m\u001b[1;33m)\u001b[0m\u001b[1;33m\u001b[0m\u001b[1;33m\u001b[0m\u001b[0m\n",
      "\u001b[1;32m~\\anaconda3\\envs\\autokeras\\lib\\site-packages\\keras\\optimizer_v2\\optimizer_v2.py\u001b[0m in \u001b[0;36m_compute_gradients\u001b[1;34m(self, loss, var_list, grad_loss, tape)\u001b[0m\n\u001b[0;32m    581\u001b[0m     \u001b[0mvar_list\u001b[0m \u001b[1;33m=\u001b[0m \u001b[0mtf\u001b[0m\u001b[1;33m.\u001b[0m\u001b[0mnest\u001b[0m\u001b[1;33m.\u001b[0m\u001b[0mflatten\u001b[0m\u001b[1;33m(\u001b[0m\u001b[0mvar_list\u001b[0m\u001b[1;33m)\u001b[0m\u001b[1;33m\u001b[0m\u001b[1;33m\u001b[0m\u001b[0m\n\u001b[0;32m    582\u001b[0m     \u001b[1;32mwith\u001b[0m \u001b[0mtf\u001b[0m\u001b[1;33m.\u001b[0m\u001b[0mname_scope\u001b[0m\u001b[1;33m(\u001b[0m\u001b[0mself\u001b[0m\u001b[1;33m.\u001b[0m\u001b[0m_name\u001b[0m \u001b[1;33m+\u001b[0m \u001b[1;34m\"/gradients\"\u001b[0m\u001b[1;33m)\u001b[0m\u001b[1;33m:\u001b[0m\u001b[1;33m\u001b[0m\u001b[1;33m\u001b[0m\u001b[0m\n\u001b[1;32m--> 583\u001b[1;33m       \u001b[0mgrads_and_vars\u001b[0m \u001b[1;33m=\u001b[0m \u001b[0mself\u001b[0m\u001b[1;33m.\u001b[0m\u001b[0m_get_gradients\u001b[0m\u001b[1;33m(\u001b[0m\u001b[0mtape\u001b[0m\u001b[1;33m,\u001b[0m \u001b[0mloss\u001b[0m\u001b[1;33m,\u001b[0m \u001b[0mvar_list\u001b[0m\u001b[1;33m,\u001b[0m \u001b[0mgrad_loss\u001b[0m\u001b[1;33m)\u001b[0m\u001b[1;33m\u001b[0m\u001b[1;33m\u001b[0m\u001b[0m\n\u001b[0m\u001b[0;32m    584\u001b[0m \u001b[1;33m\u001b[0m\u001b[0m\n\u001b[0;32m    585\u001b[0m     self._assert_valid_dtypes([\n",
      "\u001b[1;32m~\\anaconda3\\envs\\autokeras\\lib\\site-packages\\keras\\optimizer_v2\\optimizer_v2.py\u001b[0m in \u001b[0;36m_get_gradients\u001b[1;34m(self, tape, loss, var_list, grad_loss)\u001b[0m\n\u001b[0;32m    462\u001b[0m   \u001b[1;32mdef\u001b[0m \u001b[0m_get_gradients\u001b[0m\u001b[1;33m(\u001b[0m\u001b[0mself\u001b[0m\u001b[1;33m,\u001b[0m \u001b[0mtape\u001b[0m\u001b[1;33m,\u001b[0m \u001b[0mloss\u001b[0m\u001b[1;33m,\u001b[0m \u001b[0mvar_list\u001b[0m\u001b[1;33m,\u001b[0m \u001b[0mgrad_loss\u001b[0m\u001b[1;33m=\u001b[0m\u001b[1;32mNone\u001b[0m\u001b[1;33m)\u001b[0m\u001b[1;33m:\u001b[0m\u001b[1;33m\u001b[0m\u001b[1;33m\u001b[0m\u001b[0m\n\u001b[0;32m    463\u001b[0m     \u001b[1;34m\"\"\"Called in `minimize` to compute gradients from loss.\"\"\"\u001b[0m\u001b[1;33m\u001b[0m\u001b[1;33m\u001b[0m\u001b[0m\n\u001b[1;32m--> 464\u001b[1;33m     \u001b[0mgrads\u001b[0m \u001b[1;33m=\u001b[0m \u001b[0mtape\u001b[0m\u001b[1;33m.\u001b[0m\u001b[0mgradient\u001b[0m\u001b[1;33m(\u001b[0m\u001b[0mloss\u001b[0m\u001b[1;33m,\u001b[0m \u001b[0mvar_list\u001b[0m\u001b[1;33m,\u001b[0m \u001b[0mgrad_loss\u001b[0m\u001b[1;33m)\u001b[0m\u001b[1;33m\u001b[0m\u001b[1;33m\u001b[0m\u001b[0m\n\u001b[0m\u001b[0;32m    465\u001b[0m     \u001b[1;32mreturn\u001b[0m \u001b[0mlist\u001b[0m\u001b[1;33m(\u001b[0m\u001b[0mzip\u001b[0m\u001b[1;33m(\u001b[0m\u001b[0mgrads\u001b[0m\u001b[1;33m,\u001b[0m \u001b[0mvar_list\u001b[0m\u001b[1;33m)\u001b[0m\u001b[1;33m)\u001b[0m\u001b[1;33m\u001b[0m\u001b[1;33m\u001b[0m\u001b[0m\n\u001b[0;32m    466\u001b[0m \u001b[1;33m\u001b[0m\u001b[0m\n",
      "\u001b[1;32m~\\anaconda3\\envs\\autokeras\\lib\\site-packages\\tensorflow\\python\\eager\\backprop.py\u001b[0m in \u001b[0;36mgradient\u001b[1;34m(self, target, sources, output_gradients, unconnected_gradients)\u001b[0m\n\u001b[0;32m   1079\u001b[0m                           for x in nest.flatten(output_gradients)]\n\u001b[0;32m   1080\u001b[0m \u001b[1;33m\u001b[0m\u001b[0m\n\u001b[1;32m-> 1081\u001b[1;33m     flat_grad = imperative_grad.imperative_grad(\n\u001b[0m\u001b[0;32m   1082\u001b[0m         \u001b[0mself\u001b[0m\u001b[1;33m.\u001b[0m\u001b[0m_tape\u001b[0m\u001b[1;33m,\u001b[0m\u001b[1;33m\u001b[0m\u001b[1;33m\u001b[0m\u001b[0m\n\u001b[0;32m   1083\u001b[0m         \u001b[0mflat_targets\u001b[0m\u001b[1;33m,\u001b[0m\u001b[1;33m\u001b[0m\u001b[1;33m\u001b[0m\u001b[0m\n",
      "\u001b[1;32m~\\anaconda3\\envs\\autokeras\\lib\\site-packages\\tensorflow\\python\\eager\\imperative_grad.py\u001b[0m in \u001b[0;36mimperative_grad\u001b[1;34m(tape, target, sources, output_gradients, sources_raw, unconnected_gradients)\u001b[0m\n\u001b[0;32m     65\u001b[0m         \"Unknown value for unconnected_gradients: %r\" % unconnected_gradients)\n\u001b[0;32m     66\u001b[0m \u001b[1;33m\u001b[0m\u001b[0m\n\u001b[1;32m---> 67\u001b[1;33m   return pywrap_tfe.TFE_Py_TapeGradient(\n\u001b[0m\u001b[0;32m     68\u001b[0m       \u001b[0mtape\u001b[0m\u001b[1;33m.\u001b[0m\u001b[0m_tape\u001b[0m\u001b[1;33m,\u001b[0m  \u001b[1;31m# pylint: disable=protected-access\u001b[0m\u001b[1;33m\u001b[0m\u001b[1;33m\u001b[0m\u001b[0m\n\u001b[0;32m     69\u001b[0m       \u001b[0mtarget\u001b[0m\u001b[1;33m,\u001b[0m\u001b[1;33m\u001b[0m\u001b[1;33m\u001b[0m\u001b[0m\n",
      "\u001b[1;32m~\\anaconda3\\envs\\autokeras\\lib\\site-packages\\tensorflow\\python\\eager\\backprop.py\u001b[0m in \u001b[0;36m_gradient_function\u001b[1;34m(op_name, attr_tuple, num_inputs, inputs, outputs, out_grads, skip_input_indices, forward_pass_name_scope)\u001b[0m\n\u001b[0;32m    154\u001b[0m       \u001b[0mgradient_name_scope\u001b[0m \u001b[1;33m+=\u001b[0m \u001b[0mforward_pass_name_scope\u001b[0m \u001b[1;33m+\u001b[0m \u001b[1;34m\"/\"\u001b[0m\u001b[1;33m\u001b[0m\u001b[1;33m\u001b[0m\u001b[0m\n\u001b[0;32m    155\u001b[0m     \u001b[1;32mwith\u001b[0m \u001b[0mops\u001b[0m\u001b[1;33m.\u001b[0m\u001b[0mname_scope\u001b[0m\u001b[1;33m(\u001b[0m\u001b[0mgradient_name_scope\u001b[0m\u001b[1;33m)\u001b[0m\u001b[1;33m:\u001b[0m\u001b[1;33m\u001b[0m\u001b[1;33m\u001b[0m\u001b[0m\n\u001b[1;32m--> 156\u001b[1;33m       \u001b[1;32mreturn\u001b[0m \u001b[0mgrad_fn\u001b[0m\u001b[1;33m(\u001b[0m\u001b[0mmock_op\u001b[0m\u001b[1;33m,\u001b[0m \u001b[1;33m*\u001b[0m\u001b[0mout_grads\u001b[0m\u001b[1;33m)\u001b[0m\u001b[1;33m\u001b[0m\u001b[1;33m\u001b[0m\u001b[0m\n\u001b[0m\u001b[0;32m    157\u001b[0m   \u001b[1;32melse\u001b[0m\u001b[1;33m:\u001b[0m\u001b[1;33m\u001b[0m\u001b[1;33m\u001b[0m\u001b[0m\n\u001b[0;32m    158\u001b[0m     \u001b[1;32mreturn\u001b[0m \u001b[0mgrad_fn\u001b[0m\u001b[1;33m(\u001b[0m\u001b[0mmock_op\u001b[0m\u001b[1;33m,\u001b[0m \u001b[1;33m*\u001b[0m\u001b[0mout_grads\u001b[0m\u001b[1;33m)\u001b[0m\u001b[1;33m\u001b[0m\u001b[1;33m\u001b[0m\u001b[0m\n",
      "\u001b[1;32m~\\anaconda3\\envs\\autokeras\\lib\\site-packages\\tensorflow\\python\\ops\\math_grad.py\u001b[0m in \u001b[0;36m_MeanGrad\u001b[1;34m(op, grad)\u001b[0m\n\u001b[0;32m    250\u001b[0m \u001b[1;32mdef\u001b[0m \u001b[0m_MeanGrad\u001b[0m\u001b[1;33m(\u001b[0m\u001b[0mop\u001b[0m\u001b[1;33m,\u001b[0m \u001b[0mgrad\u001b[0m\u001b[1;33m)\u001b[0m\u001b[1;33m:\u001b[0m\u001b[1;33m\u001b[0m\u001b[1;33m\u001b[0m\u001b[0m\n\u001b[0;32m    251\u001b[0m   \u001b[1;34m\"\"\"Gradient for Mean.\"\"\"\u001b[0m\u001b[1;33m\u001b[0m\u001b[1;33m\u001b[0m\u001b[0m\n\u001b[1;32m--> 252\u001b[1;33m   \u001b[0msum_grad\u001b[0m \u001b[1;33m=\u001b[0m \u001b[0m_SumGrad\u001b[0m\u001b[1;33m(\u001b[0m\u001b[0mop\u001b[0m\u001b[1;33m,\u001b[0m \u001b[0mgrad\u001b[0m\u001b[1;33m)\u001b[0m\u001b[1;33m[\u001b[0m\u001b[1;36m0\u001b[0m\u001b[1;33m]\u001b[0m\u001b[1;33m\u001b[0m\u001b[1;33m\u001b[0m\u001b[0m\n\u001b[0m\u001b[0;32m    253\u001b[0m   \u001b[0minput_shape\u001b[0m \u001b[1;33m=\u001b[0m \u001b[0mop\u001b[0m\u001b[1;33m.\u001b[0m\u001b[0minputs\u001b[0m\u001b[1;33m[\u001b[0m\u001b[1;36m0\u001b[0m\u001b[1;33m]\u001b[0m\u001b[1;33m.\u001b[0m\u001b[0m_shape_tuple\u001b[0m\u001b[1;33m(\u001b[0m\u001b[1;33m)\u001b[0m  \u001b[1;31m# pylint: disable=protected-access\u001b[0m\u001b[1;33m\u001b[0m\u001b[1;33m\u001b[0m\u001b[0m\n\u001b[0;32m    254\u001b[0m   \u001b[0moutput_shape\u001b[0m \u001b[1;33m=\u001b[0m \u001b[0mop\u001b[0m\u001b[1;33m.\u001b[0m\u001b[0moutputs\u001b[0m\u001b[1;33m[\u001b[0m\u001b[1;36m0\u001b[0m\u001b[1;33m]\u001b[0m\u001b[1;33m.\u001b[0m\u001b[0m_shape_tuple\u001b[0m\u001b[1;33m(\u001b[0m\u001b[1;33m)\u001b[0m  \u001b[1;31m# pylint: disable=protected-access\u001b[0m\u001b[1;33m\u001b[0m\u001b[1;33m\u001b[0m\u001b[0m\n",
      "\u001b[1;32m~\\anaconda3\\envs\\autokeras\\lib\\site-packages\\tensorflow\\python\\ops\\math_grad.py\u001b[0m in \u001b[0;36m_SumGrad\u001b[1;34m(op, grad)\u001b[0m\n\u001b[0;32m    203\u001b[0m         \u001b[1;32mreturn\u001b[0m \u001b[1;33m[\u001b[0m\u001b[0marray_ops\u001b[0m\u001b[1;33m.\u001b[0m\u001b[0mtile\u001b[0m\u001b[1;33m(\u001b[0m\u001b[0mgrad\u001b[0m\u001b[1;33m,\u001b[0m \u001b[0mtile_scaling\u001b[0m\u001b[1;33m)\u001b[0m\u001b[1;33m,\u001b[0m \u001b[1;32mNone\u001b[0m\u001b[1;33m]\u001b[0m\u001b[1;33m\u001b[0m\u001b[1;33m\u001b[0m\u001b[0m\n\u001b[0;32m    204\u001b[0m \u001b[1;33m\u001b[0m\u001b[0m\n\u001b[1;32m--> 205\u001b[1;33m   \u001b[0minput_shape\u001b[0m \u001b[1;33m=\u001b[0m \u001b[0marray_ops\u001b[0m\u001b[1;33m.\u001b[0m\u001b[0mshape\u001b[0m\u001b[1;33m(\u001b[0m\u001b[0mop\u001b[0m\u001b[1;33m.\u001b[0m\u001b[0minputs\u001b[0m\u001b[1;33m[\u001b[0m\u001b[1;36m0\u001b[0m\u001b[1;33m]\u001b[0m\u001b[1;33m)\u001b[0m\u001b[1;33m\u001b[0m\u001b[1;33m\u001b[0m\u001b[0m\n\u001b[0m\u001b[0;32m    206\u001b[0m \u001b[1;33m\u001b[0m\u001b[0m\n\u001b[0;32m    207\u001b[0m   \u001b[1;32mif\u001b[0m \u001b[1;32mnot\u001b[0m \u001b[0mop\u001b[0m\u001b[1;33m.\u001b[0m\u001b[0mget_attr\u001b[0m\u001b[1;33m(\u001b[0m\u001b[1;34m\"keep_dims\"\u001b[0m\u001b[1;33m)\u001b[0m\u001b[1;33m:\u001b[0m\u001b[1;33m\u001b[0m\u001b[1;33m\u001b[0m\u001b[0m\n",
      "\u001b[1;32m~\\anaconda3\\envs\\autokeras\\lib\\site-packages\\tensorflow\\python\\util\\traceback_utils.py\u001b[0m in \u001b[0;36merror_handler\u001b[1;34m(*args, **kwargs)\u001b[0m\n\u001b[0;32m    148\u001b[0m     \u001b[0mfiltered_tb\u001b[0m \u001b[1;33m=\u001b[0m \u001b[1;32mNone\u001b[0m\u001b[1;33m\u001b[0m\u001b[1;33m\u001b[0m\u001b[0m\n\u001b[0;32m    149\u001b[0m     \u001b[1;32mtry\u001b[0m\u001b[1;33m:\u001b[0m\u001b[1;33m\u001b[0m\u001b[1;33m\u001b[0m\u001b[0m\n\u001b[1;32m--> 150\u001b[1;33m       \u001b[1;32mreturn\u001b[0m \u001b[0mfn\u001b[0m\u001b[1;33m(\u001b[0m\u001b[1;33m*\u001b[0m\u001b[0margs\u001b[0m\u001b[1;33m,\u001b[0m \u001b[1;33m**\u001b[0m\u001b[0mkwargs\u001b[0m\u001b[1;33m)\u001b[0m\u001b[1;33m\u001b[0m\u001b[1;33m\u001b[0m\u001b[0m\n\u001b[0m\u001b[0;32m    151\u001b[0m     \u001b[1;32mexcept\u001b[0m \u001b[0mException\u001b[0m \u001b[1;32mas\u001b[0m \u001b[0me\u001b[0m\u001b[1;33m:\u001b[0m\u001b[1;33m\u001b[0m\u001b[1;33m\u001b[0m\u001b[0m\n\u001b[0;32m    152\u001b[0m       \u001b[0mfiltered_tb\u001b[0m \u001b[1;33m=\u001b[0m \u001b[0m_process_traceback_frames\u001b[0m\u001b[1;33m(\u001b[0m\u001b[0me\u001b[0m\u001b[1;33m.\u001b[0m\u001b[0m__traceback__\u001b[0m\u001b[1;33m)\u001b[0m\u001b[1;33m\u001b[0m\u001b[1;33m\u001b[0m\u001b[0m\n",
      "\u001b[1;32m~\\anaconda3\\envs\\autokeras\\lib\\site-packages\\tensorflow\\python\\util\\dispatch.py\u001b[0m in \u001b[0;36mop_dispatch_handler\u001b[1;34m(*args, **kwargs)\u001b[0m\n\u001b[0;32m   1080\u001b[0m       \u001b[1;31m# Fallback dispatch system (dispatch v1):\u001b[0m\u001b[1;33m\u001b[0m\u001b[1;33m\u001b[0m\u001b[1;33m\u001b[0m\u001b[0m\n\u001b[0;32m   1081\u001b[0m       \u001b[1;32mtry\u001b[0m\u001b[1;33m:\u001b[0m\u001b[1;33m\u001b[0m\u001b[1;33m\u001b[0m\u001b[0m\n\u001b[1;32m-> 1082\u001b[1;33m         \u001b[1;32mreturn\u001b[0m \u001b[0mdispatch_target\u001b[0m\u001b[1;33m(\u001b[0m\u001b[1;33m*\u001b[0m\u001b[0margs\u001b[0m\u001b[1;33m,\u001b[0m \u001b[1;33m**\u001b[0m\u001b[0mkwargs\u001b[0m\u001b[1;33m)\u001b[0m\u001b[1;33m\u001b[0m\u001b[1;33m\u001b[0m\u001b[0m\n\u001b[0m\u001b[0;32m   1083\u001b[0m       \u001b[1;32mexcept\u001b[0m \u001b[1;33m(\u001b[0m\u001b[0mTypeError\u001b[0m\u001b[1;33m,\u001b[0m \u001b[0mValueError\u001b[0m\u001b[1;33m)\u001b[0m\u001b[1;33m:\u001b[0m\u001b[1;33m\u001b[0m\u001b[1;33m\u001b[0m\u001b[0m\n\u001b[0;32m   1084\u001b[0m         \u001b[1;31m# Note: convert_to_eager_tensor currently raises a ValueError, not a\u001b[0m\u001b[1;33m\u001b[0m\u001b[1;33m\u001b[0m\u001b[1;33m\u001b[0m\u001b[0m\n",
      "\u001b[1;32m~\\anaconda3\\envs\\autokeras\\lib\\site-packages\\tensorflow\\python\\ops\\array_ops.py\u001b[0m in \u001b[0;36mshape\u001b[1;34m(input, name, out_type)\u001b[0m\n\u001b[0;32m    647\u001b[0m     \u001b[0mA\u001b[0m\u001b[0;31m \u001b[0m\u001b[0;31m`\u001b[0m\u001b[0mTensor\u001b[0m\u001b[0;31m`\u001b[0m \u001b[0mof\u001b[0m \u001b[0mtype\u001b[0m\u001b[0;31m \u001b[0m\u001b[0;31m`\u001b[0m\u001b[0mout_type\u001b[0m\u001b[0;31m`\u001b[0m\u001b[1;33m.\u001b[0m\u001b[1;33m\u001b[0m\u001b[1;33m\u001b[0m\u001b[0m\n\u001b[0;32m    648\u001b[0m   \"\"\"\n\u001b[1;32m--> 649\u001b[1;33m   \u001b[1;32mreturn\u001b[0m \u001b[0mshape_internal\u001b[0m\u001b[1;33m(\u001b[0m\u001b[0minput\u001b[0m\u001b[1;33m,\u001b[0m \u001b[0mname\u001b[0m\u001b[1;33m,\u001b[0m \u001b[0moptimize\u001b[0m\u001b[1;33m=\u001b[0m\u001b[1;32mTrue\u001b[0m\u001b[1;33m,\u001b[0m \u001b[0mout_type\u001b[0m\u001b[1;33m=\u001b[0m\u001b[0mout_type\u001b[0m\u001b[1;33m)\u001b[0m\u001b[1;33m\u001b[0m\u001b[1;33m\u001b[0m\u001b[0m\n\u001b[0m\u001b[0;32m    650\u001b[0m \u001b[1;33m\u001b[0m\u001b[0m\n\u001b[0;32m    651\u001b[0m \u001b[1;33m\u001b[0m\u001b[0m\n",
      "\u001b[1;32m~\\anaconda3\\envs\\autokeras\\lib\\site-packages\\tensorflow\\python\\ops\\array_ops.py\u001b[0m in \u001b[0;36mshape_internal\u001b[1;34m(input, name, optimize, out_type)\u001b[0m\n\u001b[0;32m    688\u001b[0m       \u001b[1;32mif\u001b[0m \u001b[1;32mnot\u001b[0m \u001b[0mout_type\u001b[0m\u001b[1;33m:\u001b[0m\u001b[1;33m\u001b[0m\u001b[1;33m\u001b[0m\u001b[0m\n\u001b[0;32m    689\u001b[0m         \u001b[0mout_type\u001b[0m \u001b[1;33m=\u001b[0m \u001b[0mdtypes\u001b[0m\u001b[1;33m.\u001b[0m\u001b[0mint32\u001b[0m\u001b[1;33m\u001b[0m\u001b[1;33m\u001b[0m\u001b[0m\n\u001b[1;32m--> 690\u001b[1;33m       \u001b[1;32mreturn\u001b[0m \u001b[0mgen_array_ops\u001b[0m\u001b[1;33m.\u001b[0m\u001b[0mshape\u001b[0m\u001b[1;33m(\u001b[0m\u001b[0minput\u001b[0m\u001b[1;33m,\u001b[0m \u001b[0mname\u001b[0m\u001b[1;33m=\u001b[0m\u001b[0mname\u001b[0m\u001b[1;33m,\u001b[0m \u001b[0mout_type\u001b[0m\u001b[1;33m=\u001b[0m\u001b[0mout_type\u001b[0m\u001b[1;33m)\u001b[0m\u001b[1;33m\u001b[0m\u001b[1;33m\u001b[0m\u001b[0m\n\u001b[0m\u001b[0;32m    691\u001b[0m \u001b[1;33m\u001b[0m\u001b[0m\n\u001b[0;32m    692\u001b[0m \u001b[1;33m\u001b[0m\u001b[0m\n",
      "\u001b[1;32m~\\anaconda3\\envs\\autokeras\\lib\\site-packages\\tensorflow\\python\\ops\\gen_array_ops.py\u001b[0m in \u001b[0;36mshape\u001b[1;34m(input, out_type, name)\u001b[0m\n\u001b[0;32m   9346\u001b[0m   \u001b[1;32mif\u001b[0m \u001b[0mtld\u001b[0m\u001b[1;33m.\u001b[0m\u001b[0mis_eager\u001b[0m\u001b[1;33m:\u001b[0m\u001b[1;33m\u001b[0m\u001b[1;33m\u001b[0m\u001b[0m\n\u001b[0;32m   9347\u001b[0m     \u001b[1;32mtry\u001b[0m\u001b[1;33m:\u001b[0m\u001b[1;33m\u001b[0m\u001b[1;33m\u001b[0m\u001b[0m\n\u001b[1;32m-> 9348\u001b[1;33m       _result = pywrap_tfe.TFE_Py_FastPathExecute(\n\u001b[0m\u001b[0;32m   9349\u001b[0m         _ctx, \"Shape\", name, input, \"out_type\", out_type)\n\u001b[0;32m   9350\u001b[0m       \u001b[1;32mreturn\u001b[0m \u001b[0m_result\u001b[0m\u001b[1;33m\u001b[0m\u001b[1;33m\u001b[0m\u001b[0m\n",
      "\u001b[1;31mKeyboardInterrupt\u001b[0m: "
     ]
    }
   ],
   "source": [
    "# What about preprocessing? Define custom hypermodel with fit and build methods\n",
    "\n",
    "import keras_tuner as kt\n",
    "\n",
    "tf.config.run_functions_eagerly(False)\n",
    "\n",
    "class EffnetHypermodel(kt.HyperModel):\n",
    "    \n",
    "    def __init__(self):\n",
    "        super()\n",
    "        \n",
    "    \n",
    "    def get_eff_net_backbone_model(self, units, activation, dropout, lr):\n",
    "        eff_net = tf.keras.applications.efficientnet.EfficientNetB0(\n",
    "            include_top=False,  # We are applying to new problem and will train our own classifier\n",
    "            weights=\"imagenet\",\n",
    "            input_shape = (32,32,3),  #NHWC\n",
    "            classes=10,\n",
    "        )\n",
    "        eff_net.trainable = False\n",
    "        input = tf.keras.Input(shape=(32,32,3), batch_size=32, name = \"input\")\n",
    "        x = eff_net(input)\n",
    "        x = tf.keras.layers.Flatten()(x)\n",
    "        x = tf.keras.layers.Dense(units)(x)\n",
    "        x = tf.keras.layers.Activation(activation)(x)\n",
    "        if dropout:\n",
    "            x = tf.keras.layers.Dropout(rate=0.25)(x)\n",
    "        x = tf.keras.layers.Dense(10)(x)\n",
    "        x = tf.keras.layers.Activation(\"softmax\")(x)\n",
    "        model = tf.keras.Model(inputs=input,\n",
    "                            outputs=x,\n",
    "                            name=\"eff_net_cifar10\")\n",
    "        model.compile(\n",
    "            optimizer = tf.keras.optimizers.Adam(learning_rate=lr),\n",
    "            loss='categorical_crossentropy',\n",
    "            metrics=\"accuracy\"\n",
    "        )\n",
    "        return model\n",
    "\n",
    "    #override: This method must be implemented as it will be called by tuner / oracle\n",
    "    def build(self, hp):\n",
    "        units = hp.Int(\"units\", min_value=32, max_value=512, step = 32)\n",
    "        activation = hp.Choice(\"activation\", [\"relu\", 'swish'])\n",
    "        lr = hp.Float(\"lr\", min_value=1e-4, max_value=1e-2, sampling=\"log\")\n",
    "        dropout = hp.Boolean(\"dropout\")\n",
    "        model = get_eff_net_backbone_model(units, activation, dropout, lr)\n",
    "        return model\n",
    "\n",
    "    #override\n",
    "    def fit(self, hp, model, x, y, **kwargs):\n",
    "        if hp.Boolean(\"normalize\"):\n",
    "            x = tf.keras.layers.Normalization()(x)   # Applies to X\n",
    "        y_ohe = tf.one_hot(y, 10)  # We can move ohe here -> (N, 1, 10)\n",
    "        y_ohe = tf.keras.layers.Flatten()(y_ohe)  # (N, 10) to match output layer\n",
    "        return model.fit(\n",
    "            x,\n",
    "            y_ohe,\n",
    "            **kwargs,\n",
    "        )\n",
    "\n",
    "tf.config.run_functions_eagerly(True)\n",
    "tb_callback = tf.keras.callbacks.TensorBoard(\"./logs\")\n",
    "tuner = kt.BayesianOptimization(\n",
    "    hypermodel=EffnetHypermodel(),\n",
    "    max_trials=10,\n",
    "    overwrite=False,\n",
    "    objective=\"val_accuracy\",\n",
    "    directory = __DATA_PATH / \"keras-tuner-preprocessing\"\n",
    ")\n",
    "\n",
    "history = tuner.search(\n",
    "    X_train_tiny,\n",
    "    y_train_tiny,  # No OHE required\n",
    "    validation_split=0.2,\n",
    "    epochs=2,\n",
    "    callbacks=[tb_callback]\n",
    ")\n",
    "\n",
    "hp = kt.HyperParameters()\n",
    "hypermodel = MyHyperModel()\n",
    "model = hypermodel.build(hp)\n",
    "hypermodel.fit(hp, model, np.random.rand(100, 28, 28), np.random.rand(100, 10))\n",
    "        "
   ]
  },
  {
   "cell_type": "markdown",
   "metadata": {},
   "source": [
    "### Ray Tune\n",
    "\n",
    "Ray provides a simple, universal API for building distributed applications.\n",
    "\n",
    "Ray accomplishes this mission by:\n",
    "\n",
    "- Providing simple primitives for building and running distributed applications.\n",
    "\n",
    "- Enabling end users to parallelize single machine code, with little to zero code changes.\n",
    "\n",
    "- Including a large ecosystem of applications, libraries, and tools on top of the core Ray to enable complex applications.\n",
    "\n",
    "White paper: https://docs.google.com/document/d/1lAy0Owi-vPz2jEqBSaHNQcy2IBSDEHyXNOQZlGuj93c/preview \n",
    "\n",
    "Alternative to Spark / MLLib\n"
   ]
  },
  {
   "cell_type": "markdown",
   "metadata": {},
   "source": [
    "https://docs.ray.io/en/latest/tune/index.html"
   ]
  },
  {
   "cell_type": "code",
   "execution_count": 21,
   "metadata": {},
   "outputs": [
    {
     "name": "stderr",
     "output_type": "stream",
     "text": [
      "2022-03-03 20:19:18,087\tWARNING tune.py:580 -- Tune detects GPUs, but no trials are using GPUs. To enable trials to use GPUs, set tune.run(resources_per_trial={'gpu': 1}...) which allows Tune to expose 1 GPU to each trial. You can also override `Trainable.default_resource_request` if using the Trainable API.\n"
     ]
    },
    {
     "data": {
      "text/html": [
       "== Status ==<br>Current time: 2022-03-03 20:19:18 (running for 00:00:00.14)<br>Memory usage on this node: 7.7/16.0 GiB<br>Using FIFO scheduling algorithm.<br>Resources requested: 0/16 CPUs, 0/1 GPUs, 0.0/5.45 GiB heap, 0.0/2.73 GiB objects<br>Result logdir: c:\\Users\\Mike\\Documents\\Code\\_MEng\\645-enel\\automl\\automl-tutorial\\data\\ray-tune\\trainable_2022-03-03_20-19-18<br>Number of trials: 10/10 (10 PENDING)<br><br>"
      ],
      "text/plain": [
       "<IPython.core.display.HTML object>"
      ]
     },
     "metadata": {},
     "output_type": "display_data"
    },
    {
     "name": "stdout",
     "output_type": "stream",
     "text": [
      "Trial trainable_e06e5_00000 reported score=2.364286357227022 with parameters={'a': 100.0, 'b': 2.364286357227022}.\n",
      "Trial trainable_e06e5_00003 reported score=1.4737118486007152 with parameters={'a': 0.1, 'b': 1.4737118486007152}.\n",
      "Trial trainable_e06e5_00001 reported score=2.4034204091219933 with parameters={'a': 10.0, 'b': 2.4034204091219933}.\n",
      "Trial trainable_e06e5_00004 reported score=2.991794805094914 with parameters={'a': 0.1, 'b': 2.991794805094914}.\n",
      "Trial trainable_e06e5_00002 reported score=1.8156277046107825 with parameters={'a': 10.0, 'b': 1.8156277046107825}.\n",
      "Trial trainable_e06e5_00006 reported score=1.427285125184029 with parameters={'a': 10.0, 'b': 1.427285125184029}.\n",
      "Trial trainable_e06e5_00009 reported score=2.7301480787085373 with parameters={'a': 1.0, 'b': 2.7301480787085373}.\n",
      "Trial trainable_e06e5_00007 reported score=1.157281372922248 with parameters={'a': 10.0, 'b': 1.157281372922248}.\n",
      "Trial trainable_e06e5_00008 reported score=2.4111999321584063 with parameters={'a': 1.0, 'b': 2.4111999321584063}.\n",
      "Trial trainable_e06e5_00005 reported score=1.918070446923137 with parameters={'a': 1.0, 'b': 1.918070446923137}.\n",
      "Trial trainable_e06e5_00000 reported score=438.2541807112944 with parameters={'a': 100.0, 'b': 2.364286357227022}. This trial completed.\n",
      "Trial trainable_e06e5_00009 reported score=7.089047022249211 with parameters={'a': 1.0, 'b': 2.7301480787085373}. This trial completed.\n",
      "Trial trainable_e06e5_00002 reported score=45.40461714001752 with parameters={'a': 10.0, 'b': 1.8156277046107825}. This trial completed.\n",
      "Trial trainable_e06e5_00003 reported score=1.9096017429547827 with parameters={'a': 0.1, 'b': 1.4737118486007152}. This trial completed.\n",
      "Trial trainable_e06e5_00001 reported score=45.99240984452873 with parameters={'a': 10.0, 'b': 2.4034204091219933}. This trial completed.\n",
      "Trial trainable_e06e5_00007 reported score=44.74627080832899 with parameters={'a': 10.0, 'b': 1.157281372922248}. This trial completed.\n",
      "Trial trainable_e06e5_00004 reported score=3.4276846994489816 with parameters={'a': 0.1, 'b': 2.991794805094914}. This trial completed.\n",
      "Trial trainable_e06e5_00008 reported score=6.77009887569908 with parameters={'a': 1.0, 'b': 2.4111999321584063}. This trial completed.\n",
      "Trial trainable_e06e5_00006 reported score=45.016274560590766 with parameters={'a': 10.0, 'b': 1.427285125184029}. This trial completed.\n",
      "Trial trainable_e06e5_00005 reported score=6.276969390463811 with parameters={'a': 1.0, 'b': 1.918070446923137}. This trial completed.\n"
     ]
    },
    {
     "data": {
      "text/html": [
       "== Status ==<br>Current time: 2022-03-03 20:19:20 (running for 00:00:02.76)<br>Memory usage on this node: 7.8/16.0 GiB<br>Using FIFO scheduling algorithm.<br>Resources requested: 0/16 CPUs, 0/1 GPUs, 0.0/5.45 GiB heap, 0.0/2.73 GiB objects<br>Result logdir: c:\\Users\\Mike\\Documents\\Code\\_MEng\\645-enel\\automl\\automl-tutorial\\data\\ray-tune\\trainable_2022-03-03_20-19-18<br>Number of trials: 10/10 (10 TERMINATED)<br><table>\n",
       "<thead>\n",
       "<tr><th>Trial name           </th><th>status    </th><th>loc            </th><th style=\"text-align: right;\">    a</th><th style=\"text-align: right;\">      b</th><th style=\"text-align: right;\">  iter</th><th style=\"text-align: right;\">  total time (s)</th><th style=\"text-align: right;\">    score</th></tr>\n",
       "</thead>\n",
       "<tbody>\n",
       "<tr><td>trainable_e06e5_00000</td><td>TERMINATED</td><td>127.0.0.1:26892</td><td style=\"text-align: right;\">100  </td><td style=\"text-align: right;\">2.36429</td><td style=\"text-align: right;\">    20</td><td style=\"text-align: right;\">        0.224998</td><td style=\"text-align: right;\">438.254  </td></tr>\n",
       "<tr><td>trainable_e06e5_00001</td><td>TERMINATED</td><td>127.0.0.1:23468</td><td style=\"text-align: right;\"> 10  </td><td style=\"text-align: right;\">2.40342</td><td style=\"text-align: right;\">    20</td><td style=\"text-align: right;\">        0.276998</td><td style=\"text-align: right;\"> 45.9924 </td></tr>\n",
       "<tr><td>trainable_e06e5_00002</td><td>TERMINATED</td><td>127.0.0.1:3196 </td><td style=\"text-align: right;\"> 10  </td><td style=\"text-align: right;\">1.81563</td><td style=\"text-align: right;\">    20</td><td style=\"text-align: right;\">        0.234001</td><td style=\"text-align: right;\"> 45.4046 </td></tr>\n",
       "<tr><td>trainable_e06e5_00003</td><td>TERMINATED</td><td>127.0.0.1:19872</td><td style=\"text-align: right;\">  0.1</td><td style=\"text-align: right;\">1.47371</td><td style=\"text-align: right;\">    20</td><td style=\"text-align: right;\">        0.245998</td><td style=\"text-align: right;\">  1.9096 </td></tr>\n",
       "<tr><td>trainable_e06e5_00004</td><td>TERMINATED</td><td>127.0.0.1:22580</td><td style=\"text-align: right;\">  0.1</td><td style=\"text-align: right;\">2.99179</td><td style=\"text-align: right;\">    20</td><td style=\"text-align: right;\">        0.278997</td><td style=\"text-align: right;\">  3.42768</td></tr>\n",
       "<tr><td>trainable_e06e5_00005</td><td>TERMINATED</td><td>127.0.0.1:27344</td><td style=\"text-align: right;\">  1  </td><td style=\"text-align: right;\">1.91807</td><td style=\"text-align: right;\">    20</td><td style=\"text-align: right;\">        0.317001</td><td style=\"text-align: right;\">  6.27697</td></tr>\n",
       "<tr><td>trainable_e06e5_00006</td><td>TERMINATED</td><td>127.0.0.1:19616</td><td style=\"text-align: right;\"> 10  </td><td style=\"text-align: right;\">1.42729</td><td style=\"text-align: right;\">    20</td><td style=\"text-align: right;\">        0.293   </td><td style=\"text-align: right;\"> 45.0163 </td></tr>\n",
       "<tr><td>trainable_e06e5_00007</td><td>TERMINATED</td><td>127.0.0.1:27216</td><td style=\"text-align: right;\"> 10  </td><td style=\"text-align: right;\">1.15728</td><td style=\"text-align: right;\">    20</td><td style=\"text-align: right;\">        0.240999</td><td style=\"text-align: right;\"> 44.7463 </td></tr>\n",
       "<tr><td>trainable_e06e5_00008</td><td>TERMINATED</td><td>127.0.0.1:12752</td><td style=\"text-align: right;\">  1  </td><td style=\"text-align: right;\">2.4112 </td><td style=\"text-align: right;\">    20</td><td style=\"text-align: right;\">        0.208001</td><td style=\"text-align: right;\">  6.7701 </td></tr>\n",
       "<tr><td>trainable_e06e5_00009</td><td>TERMINATED</td><td>127.0.0.1:4448 </td><td style=\"text-align: right;\">  1  </td><td style=\"text-align: right;\">2.73015</td><td style=\"text-align: right;\">    20</td><td style=\"text-align: right;\">        0.219003</td><td style=\"text-align: right;\">  7.08905</td></tr>\n",
       "</tbody>\n",
       "</table><br><br>"
      ],
      "text/plain": [
       "<IPython.core.display.HTML object>"
      ]
     },
     "metadata": {},
     "output_type": "display_data"
    },
    {
     "name": "stderr",
     "output_type": "stream",
     "text": [
      "2022-03-03 20:19:20,957\tINFO tune.py:636 -- Total run time: 2.88 seconds (2.75 seconds for the tuning loop).\n"
     ]
    },
    {
     "name": "stdout",
     "output_type": "stream",
     "text": [
      "best config:  {'a': 100.0, 'b': 2.364286357227022}\n"
     ]
    }
   ],
   "source": [
    "from ray import tune\n",
    "\n",
    "def loss(x, a, b):\n",
    "    return a * (x ** 0.5) + b\n",
    "\n",
    "def trainable(config):\n",
    "    # config (dict): A dict of hyperparameters.\n",
    "    for x in range(20):\n",
    "        score = loss(x, config[\"a\"], config[\"b\"])\n",
    "        tune.report(score=score)  # This sends the score to Tune.\n",
    "        \n",
    "        \n",
    "config = {\n",
    "    \"a\": tune.choice([0.1, 1, 10, 100]),\n",
    "    \"b\": tune.uniform(1,3),\n",
    "\n",
    "}\n",
    "\n",
    "analysis = tune.run(trainable, config=config, local_dir = __DATA_PATH / \"ray-tune\",\n",
    "                    num_samples=10, verbose=2)\n",
    "print(\"best config: \", analysis.get_best_config(metric=\"score\", mode=\"max\"))"
   ]
  },
  {
   "cell_type": "code",
   "execution_count": 36,
   "metadata": {},
   "outputs": [
    {
     "data": {
      "application/vnd.plotly.v1+json": {
       "config": {
        "plotlyServerURL": "https://plot.ly"
       },
       "data": [
        {
         "alignmentgroup": "True",
         "hovertemplate": "trial_id=%{x}<br>score=%{y}<extra></extra>",
         "legendgroup": "",
         "marker": {
          "color": "#636efa",
          "pattern": {
           "shape": ""
          }
         },
         "name": "",
         "offsetgroup": "",
         "orientation": "v",
         "showlegend": false,
         "textposition": "auto",
         "type": "bar",
         "x": [
          "e06e5_00000",
          "e06e5_00001",
          "e06e5_00002",
          "e06e5_00003",
          "e06e5_00004",
          "e06e5_00005",
          "e06e5_00006",
          "e06e5_00007",
          "e06e5_00008",
          "e06e5_00009"
         ],
         "xaxis": "x",
         "y": [
          438.2541807112944,
          45.99240984452873,
          45.40461714001752,
          1.909601742954783,
          3.4276846994489816,
          6.276969390463811,
          45.016274560590766,
          44.74627080832899,
          6.77009887569908,
          7.089047022249211
         ],
         "yaxis": "y"
        }
       ],
       "layout": {
        "barmode": "relative",
        "legend": {
         "tracegroupgap": 0
        },
        "margin": {
         "t": 60
        },
        "template": {
         "data": {
          "bar": [
           {
            "error_x": {
             "color": "#2a3f5f"
            },
            "error_y": {
             "color": "#2a3f5f"
            },
            "marker": {
             "line": {
              "color": "#E5ECF6",
              "width": 0.5
             },
             "pattern": {
              "fillmode": "overlay",
              "size": 10,
              "solidity": 0.2
             }
            },
            "type": "bar"
           }
          ],
          "barpolar": [
           {
            "marker": {
             "line": {
              "color": "#E5ECF6",
              "width": 0.5
             },
             "pattern": {
              "fillmode": "overlay",
              "size": 10,
              "solidity": 0.2
             }
            },
            "type": "barpolar"
           }
          ],
          "carpet": [
           {
            "aaxis": {
             "endlinecolor": "#2a3f5f",
             "gridcolor": "white",
             "linecolor": "white",
             "minorgridcolor": "white",
             "startlinecolor": "#2a3f5f"
            },
            "baxis": {
             "endlinecolor": "#2a3f5f",
             "gridcolor": "white",
             "linecolor": "white",
             "minorgridcolor": "white",
             "startlinecolor": "#2a3f5f"
            },
            "type": "carpet"
           }
          ],
          "choropleth": [
           {
            "colorbar": {
             "outlinewidth": 0,
             "ticks": ""
            },
            "type": "choropleth"
           }
          ],
          "contour": [
           {
            "colorbar": {
             "outlinewidth": 0,
             "ticks": ""
            },
            "colorscale": [
             [
              0,
              "#0d0887"
             ],
             [
              0.1111111111111111,
              "#46039f"
             ],
             [
              0.2222222222222222,
              "#7201a8"
             ],
             [
              0.3333333333333333,
              "#9c179e"
             ],
             [
              0.4444444444444444,
              "#bd3786"
             ],
             [
              0.5555555555555556,
              "#d8576b"
             ],
             [
              0.6666666666666666,
              "#ed7953"
             ],
             [
              0.7777777777777778,
              "#fb9f3a"
             ],
             [
              0.8888888888888888,
              "#fdca26"
             ],
             [
              1,
              "#f0f921"
             ]
            ],
            "type": "contour"
           }
          ],
          "contourcarpet": [
           {
            "colorbar": {
             "outlinewidth": 0,
             "ticks": ""
            },
            "type": "contourcarpet"
           }
          ],
          "heatmap": [
           {
            "colorbar": {
             "outlinewidth": 0,
             "ticks": ""
            },
            "colorscale": [
             [
              0,
              "#0d0887"
             ],
             [
              0.1111111111111111,
              "#46039f"
             ],
             [
              0.2222222222222222,
              "#7201a8"
             ],
             [
              0.3333333333333333,
              "#9c179e"
             ],
             [
              0.4444444444444444,
              "#bd3786"
             ],
             [
              0.5555555555555556,
              "#d8576b"
             ],
             [
              0.6666666666666666,
              "#ed7953"
             ],
             [
              0.7777777777777778,
              "#fb9f3a"
             ],
             [
              0.8888888888888888,
              "#fdca26"
             ],
             [
              1,
              "#f0f921"
             ]
            ],
            "type": "heatmap"
           }
          ],
          "heatmapgl": [
           {
            "colorbar": {
             "outlinewidth": 0,
             "ticks": ""
            },
            "colorscale": [
             [
              0,
              "#0d0887"
             ],
             [
              0.1111111111111111,
              "#46039f"
             ],
             [
              0.2222222222222222,
              "#7201a8"
             ],
             [
              0.3333333333333333,
              "#9c179e"
             ],
             [
              0.4444444444444444,
              "#bd3786"
             ],
             [
              0.5555555555555556,
              "#d8576b"
             ],
             [
              0.6666666666666666,
              "#ed7953"
             ],
             [
              0.7777777777777778,
              "#fb9f3a"
             ],
             [
              0.8888888888888888,
              "#fdca26"
             ],
             [
              1,
              "#f0f921"
             ]
            ],
            "type": "heatmapgl"
           }
          ],
          "histogram": [
           {
            "marker": {
             "pattern": {
              "fillmode": "overlay",
              "size": 10,
              "solidity": 0.2
             }
            },
            "type": "histogram"
           }
          ],
          "histogram2d": [
           {
            "colorbar": {
             "outlinewidth": 0,
             "ticks": ""
            },
            "colorscale": [
             [
              0,
              "#0d0887"
             ],
             [
              0.1111111111111111,
              "#46039f"
             ],
             [
              0.2222222222222222,
              "#7201a8"
             ],
             [
              0.3333333333333333,
              "#9c179e"
             ],
             [
              0.4444444444444444,
              "#bd3786"
             ],
             [
              0.5555555555555556,
              "#d8576b"
             ],
             [
              0.6666666666666666,
              "#ed7953"
             ],
             [
              0.7777777777777778,
              "#fb9f3a"
             ],
             [
              0.8888888888888888,
              "#fdca26"
             ],
             [
              1,
              "#f0f921"
             ]
            ],
            "type": "histogram2d"
           }
          ],
          "histogram2dcontour": [
           {
            "colorbar": {
             "outlinewidth": 0,
             "ticks": ""
            },
            "colorscale": [
             [
              0,
              "#0d0887"
             ],
             [
              0.1111111111111111,
              "#46039f"
             ],
             [
              0.2222222222222222,
              "#7201a8"
             ],
             [
              0.3333333333333333,
              "#9c179e"
             ],
             [
              0.4444444444444444,
              "#bd3786"
             ],
             [
              0.5555555555555556,
              "#d8576b"
             ],
             [
              0.6666666666666666,
              "#ed7953"
             ],
             [
              0.7777777777777778,
              "#fb9f3a"
             ],
             [
              0.8888888888888888,
              "#fdca26"
             ],
             [
              1,
              "#f0f921"
             ]
            ],
            "type": "histogram2dcontour"
           }
          ],
          "mesh3d": [
           {
            "colorbar": {
             "outlinewidth": 0,
             "ticks": ""
            },
            "type": "mesh3d"
           }
          ],
          "parcoords": [
           {
            "line": {
             "colorbar": {
              "outlinewidth": 0,
              "ticks": ""
             }
            },
            "type": "parcoords"
           }
          ],
          "pie": [
           {
            "automargin": true,
            "type": "pie"
           }
          ],
          "scatter": [
           {
            "marker": {
             "colorbar": {
              "outlinewidth": 0,
              "ticks": ""
             }
            },
            "type": "scatter"
           }
          ],
          "scatter3d": [
           {
            "line": {
             "colorbar": {
              "outlinewidth": 0,
              "ticks": ""
             }
            },
            "marker": {
             "colorbar": {
              "outlinewidth": 0,
              "ticks": ""
             }
            },
            "type": "scatter3d"
           }
          ],
          "scattercarpet": [
           {
            "marker": {
             "colorbar": {
              "outlinewidth": 0,
              "ticks": ""
             }
            },
            "type": "scattercarpet"
           }
          ],
          "scattergeo": [
           {
            "marker": {
             "colorbar": {
              "outlinewidth": 0,
              "ticks": ""
             }
            },
            "type": "scattergeo"
           }
          ],
          "scattergl": [
           {
            "marker": {
             "colorbar": {
              "outlinewidth": 0,
              "ticks": ""
             }
            },
            "type": "scattergl"
           }
          ],
          "scattermapbox": [
           {
            "marker": {
             "colorbar": {
              "outlinewidth": 0,
              "ticks": ""
             }
            },
            "type": "scattermapbox"
           }
          ],
          "scatterpolar": [
           {
            "marker": {
             "colorbar": {
              "outlinewidth": 0,
              "ticks": ""
             }
            },
            "type": "scatterpolar"
           }
          ],
          "scatterpolargl": [
           {
            "marker": {
             "colorbar": {
              "outlinewidth": 0,
              "ticks": ""
             }
            },
            "type": "scatterpolargl"
           }
          ],
          "scatterternary": [
           {
            "marker": {
             "colorbar": {
              "outlinewidth": 0,
              "ticks": ""
             }
            },
            "type": "scatterternary"
           }
          ],
          "surface": [
           {
            "colorbar": {
             "outlinewidth": 0,
             "ticks": ""
            },
            "colorscale": [
             [
              0,
              "#0d0887"
             ],
             [
              0.1111111111111111,
              "#46039f"
             ],
             [
              0.2222222222222222,
              "#7201a8"
             ],
             [
              0.3333333333333333,
              "#9c179e"
             ],
             [
              0.4444444444444444,
              "#bd3786"
             ],
             [
              0.5555555555555556,
              "#d8576b"
             ],
             [
              0.6666666666666666,
              "#ed7953"
             ],
             [
              0.7777777777777778,
              "#fb9f3a"
             ],
             [
              0.8888888888888888,
              "#fdca26"
             ],
             [
              1,
              "#f0f921"
             ]
            ],
            "type": "surface"
           }
          ],
          "table": [
           {
            "cells": {
             "fill": {
              "color": "#EBF0F8"
             },
             "line": {
              "color": "white"
             }
            },
            "header": {
             "fill": {
              "color": "#C8D4E3"
             },
             "line": {
              "color": "white"
             }
            },
            "type": "table"
           }
          ]
         },
         "layout": {
          "annotationdefaults": {
           "arrowcolor": "#2a3f5f",
           "arrowhead": 0,
           "arrowwidth": 1
          },
          "autotypenumbers": "strict",
          "coloraxis": {
           "colorbar": {
            "outlinewidth": 0,
            "ticks": ""
           }
          },
          "colorscale": {
           "diverging": [
            [
             0,
             "#8e0152"
            ],
            [
             0.1,
             "#c51b7d"
            ],
            [
             0.2,
             "#de77ae"
            ],
            [
             0.3,
             "#f1b6da"
            ],
            [
             0.4,
             "#fde0ef"
            ],
            [
             0.5,
             "#f7f7f7"
            ],
            [
             0.6,
             "#e6f5d0"
            ],
            [
             0.7,
             "#b8e186"
            ],
            [
             0.8,
             "#7fbc41"
            ],
            [
             0.9,
             "#4d9221"
            ],
            [
             1,
             "#276419"
            ]
           ],
           "sequential": [
            [
             0,
             "#0d0887"
            ],
            [
             0.1111111111111111,
             "#46039f"
            ],
            [
             0.2222222222222222,
             "#7201a8"
            ],
            [
             0.3333333333333333,
             "#9c179e"
            ],
            [
             0.4444444444444444,
             "#bd3786"
            ],
            [
             0.5555555555555556,
             "#d8576b"
            ],
            [
             0.6666666666666666,
             "#ed7953"
            ],
            [
             0.7777777777777778,
             "#fb9f3a"
            ],
            [
             0.8888888888888888,
             "#fdca26"
            ],
            [
             1,
             "#f0f921"
            ]
           ],
           "sequentialminus": [
            [
             0,
             "#0d0887"
            ],
            [
             0.1111111111111111,
             "#46039f"
            ],
            [
             0.2222222222222222,
             "#7201a8"
            ],
            [
             0.3333333333333333,
             "#9c179e"
            ],
            [
             0.4444444444444444,
             "#bd3786"
            ],
            [
             0.5555555555555556,
             "#d8576b"
            ],
            [
             0.6666666666666666,
             "#ed7953"
            ],
            [
             0.7777777777777778,
             "#fb9f3a"
            ],
            [
             0.8888888888888888,
             "#fdca26"
            ],
            [
             1,
             "#f0f921"
            ]
           ]
          },
          "colorway": [
           "#636efa",
           "#EF553B",
           "#00cc96",
           "#ab63fa",
           "#FFA15A",
           "#19d3f3",
           "#FF6692",
           "#B6E880",
           "#FF97FF",
           "#FECB52"
          ],
          "font": {
           "color": "#2a3f5f"
          },
          "geo": {
           "bgcolor": "white",
           "lakecolor": "white",
           "landcolor": "#E5ECF6",
           "showlakes": true,
           "showland": true,
           "subunitcolor": "white"
          },
          "hoverlabel": {
           "align": "left"
          },
          "hovermode": "closest",
          "mapbox": {
           "style": "light"
          },
          "paper_bgcolor": "white",
          "plot_bgcolor": "#E5ECF6",
          "polar": {
           "angularaxis": {
            "gridcolor": "white",
            "linecolor": "white",
            "ticks": ""
           },
           "bgcolor": "#E5ECF6",
           "radialaxis": {
            "gridcolor": "white",
            "linecolor": "white",
            "ticks": ""
           }
          },
          "scene": {
           "xaxis": {
            "backgroundcolor": "#E5ECF6",
            "gridcolor": "white",
            "gridwidth": 2,
            "linecolor": "white",
            "showbackground": true,
            "ticks": "",
            "zerolinecolor": "white"
           },
           "yaxis": {
            "backgroundcolor": "#E5ECF6",
            "gridcolor": "white",
            "gridwidth": 2,
            "linecolor": "white",
            "showbackground": true,
            "ticks": "",
            "zerolinecolor": "white"
           },
           "zaxis": {
            "backgroundcolor": "#E5ECF6",
            "gridcolor": "white",
            "gridwidth": 2,
            "linecolor": "white",
            "showbackground": true,
            "ticks": "",
            "zerolinecolor": "white"
           }
          },
          "shapedefaults": {
           "line": {
            "color": "#2a3f5f"
           }
          },
          "ternary": {
           "aaxis": {
            "gridcolor": "white",
            "linecolor": "white",
            "ticks": ""
           },
           "baxis": {
            "gridcolor": "white",
            "linecolor": "white",
            "ticks": ""
           },
           "bgcolor": "#E5ECF6",
           "caxis": {
            "gridcolor": "white",
            "linecolor": "white",
            "ticks": ""
           }
          },
          "title": {
           "x": 0.05
          },
          "xaxis": {
           "automargin": true,
           "gridcolor": "white",
           "linecolor": "white",
           "ticks": "",
           "title": {
            "standoff": 15
           },
           "zerolinecolor": "white",
           "zerolinewidth": 2
          },
          "yaxis": {
           "automargin": true,
           "gridcolor": "white",
           "linecolor": "white",
           "ticks": "",
           "title": {
            "standoff": 15
           },
           "zerolinecolor": "white",
           "zerolinewidth": 2
          }
         }
        },
        "xaxis": {
         "anchor": "y",
         "domain": [
          0,
          1
         ],
         "title": {
          "text": "trial_id"
         }
        },
        "yaxis": {
         "anchor": "x",
         "domain": [
          0,
          1
         ],
         "title": {
          "text": "score"
         }
        }
       }
      }
     },
     "metadata": {},
     "output_type": "display_data"
    }
   ],
   "source": [
    "px.bar(x=\"trial_id\", y=\"score\", data_frame=analysis.dataframe())"
   ]
  },
  {
   "cell_type": "markdown",
   "metadata": {},
   "source": [
    "# We can use ray.tune with *any* machine learning library!"
   ]
  },
  {
   "cell_type": "code",
   "execution_count": 37,
   "metadata": {},
   "outputs": [
    {
     "name": "stdout",
     "output_type": "stream",
     "text": [
      "Files already downloaded and verified\n",
      "Files already downloaded and verified\n"
     ]
    }
   ],
   "source": [
    "import torch\n",
    "import torch.nn as nn\n",
    "import torch.nn.functional as F\n",
    "from torch.utils.data import DataLoader, Subset\n",
    "from torchvision import datasets, transforms\n",
    "from ray import tune\n",
    "\n",
    "\n",
    "def get_data(data_dir = __DATA_PATH / \"cifar10\"):  # NOTE: Providing datapath is important to share dataset between threads / nodes.\n",
    "    transform = transforms.Compose([\n",
    "        transforms.ToTensor(),\n",
    "        transforms.Normalize((0.5, 0.5, 0.5), (0.5, 0.5, 0.5))\n",
    "    ])\n",
    "\n",
    "    train_data = datasets.CIFAR10(root=data_dir, train=True, download=True, transform=transform)\n",
    "    test_data = datasets.CIFAR10(root=data_dir, train=False, download=True, transform=transform)\n",
    "\n",
    "    # Get train, val splits\n",
    "    val_data = Subset(train_data, list(range(4000,5000)))\n",
    "    train_data = Subset(train_data, list(range(4000)))  # let's speed up training with low fidelity search again\n",
    "    \n",
    "\n",
    "    train_loader = DataLoader(train_data, batch_size=32, shuffle=True)\n",
    "    val_loader = DataLoader(val_data, batch_size=32, shuffle=True)\n",
    "    test_loader = DataLoader(test_data, batch_size=32, shuffle=False)\n",
    "    return train_loader, val_loader, test_loader\n",
    "\n",
    "train_loader, val_loader, test_loader = get_data()"
   ]
  },
  {
   "cell_type": "code",
   "execution_count": 25,
   "metadata": {},
   "outputs": [],
   "source": [
    "# https://pytorch.org/tutorials/beginner/hyperparameter_tuning_tutorial.html\n",
    "\n",
    "class ConvolutionalNetwork(nn.Module):\n",
    "    def __init__(self, hp):\n",
    "        super().__init__()\n",
    "        self.conv1_width = int(hp[\"conv1_width\"])  # Choice returns a Categorical type, so we convert to int.\n",
    "        self.conv2_width = int(hp[\"conv2_width\"])\n",
    "        self.conv1 = nn.Conv2d(3, self.conv1_width, 3, 1, padding=\"same\") # 32x32 -> 16x16\n",
    "        self.conv2 = nn.Conv2d(self.conv1_width, self.conv2_width, 3, 1, padding=\"same\")# 16x16 -> 8x8\n",
    "        self.fc1 = nn.Linear(8*8*self.conv2_width, 120)\n",
    "        self.fc2 = nn.Linear(120,84)\n",
    "        self.fc3 = nn.Linear(84, 10)\n",
    "\n",
    "    def forward(self, X):\n",
    "        X = F.relu(self.conv1(X))\n",
    "        X = F.max_pool2d(X, 2, 2)\n",
    "        X = F.relu(self.conv2(X))\n",
    "        X = F.max_pool2d(X, 2, 2)\n",
    "        X = X.view(-1, 8*8*self.conv2_width)\n",
    "        X = F.relu(self.fc1(X))\n",
    "        X = F.relu(self.fc2(X))\n",
    "        X = self.fc3(X)\n",
    "        return F.log_softmax(X, dim=1)"
   ]
  },
  {
   "cell_type": "code",
   "execution_count": 7,
   "metadata": {},
   "outputs": [],
   "source": [
    "labels = {\n",
    "    0:  \"airplane\",\n",
    "    1: \"automobile\",\n",
    "    2: \"bird\",\n",
    "    3: \"cat\",    \n",
    "    4: \"deer\",     \n",
    "    5: \"dog\",    \n",
    "    6: \"frog\",     \n",
    "    7: \"horse\",    \n",
    "    8: \"ship\",   \n",
    "    9: \"truck\",\n",
    "}"
   ]
  },
  {
   "cell_type": "code",
   "execution_count": 30,
   "metadata": {},
   "outputs": [
    {
     "name": "stderr",
     "output_type": "stream",
     "text": [
      "Clipping input data to the valid range for imshow with RGB data ([0..1] for floats or [0..255] for integers).\n"
     ]
    },
    {
     "name": "stdout",
     "output_type": "stream",
     "text": [
      "Label: [9 4 5 3 3 8 8 2 3 6]\n",
      "Class:  truck deer dog cat cat ship ship bird cat frog\n"
     ]
    },
    {
     "data": {
      "image/png": "[encoded data removed]",
      "text/plain": [
       "<Figure size 864x432 with 1 Axes>"
      ]
     },
     "metadata": {
      "needs_background": "light"
     },
     "output_type": "display_data"
    }
   ],
   "source": [
    "from torchvision.utils import make_grid\n",
    "# Grab the first batch of 32 images\n",
    "for images,classes in train_loader: \n",
    "    break\n",
    "\n",
    "# Print the labels\n",
    "print('Label:', classes[:10].numpy())\n",
    "print('Class: ', *np.array([labels[i.item()] for i in classes[:10]]))\n",
    "\n",
    "# Print the images\n",
    "im = make_grid(images[:10], nrow=5)  # the default nrow is 8\n",
    "plt.figure(figsize=(12,6))\n",
    "plt.imshow(np.transpose(im.numpy(), (1, 2, 0)))  # NOTE: PyTorch image format NCHW -> Channels first!\n",
    "plt.axis(\"off\")\n",
    "plt.show()"
   ]
  },
  {
   "cell_type": "code",
   "execution_count": 99,
   "metadata": {},
   "outputs": [
    {
     "name": "stdout",
     "output_type": "stream",
     "text": [
      "torch.Size([3, 32, 32])\n"
     ]
    }
   ],
   "source": [
    "print(images[0].shape) # channels first for PyTorch! matplotlib.pyplot.imshow() / TF expect NHWC"
   ]
  },
  {
   "cell_type": "code",
   "execution_count": 46,
   "metadata": {},
   "outputs": [],
   "source": [
    "import time\n",
    "\n",
    "\n",
    "def train_cifar(hp, data_dir):\n",
    "    start_time = time.time()\n",
    "    train_loader, val_loader, _ = get_data(data_dir)\n",
    "    model = ConvolutionalNetwork(hp) # define a net for this run\n",
    "    criterion = nn.CrossEntropyLoss()\n",
    "    optimizer = torch.optim.Adam(model.parameters(), lr=0.001)\n",
    "    \n",
    "    epochs = hp[\"epochs\"]\n",
    "    train_losses = []\n",
    "    test_losses = []\n",
    "    train_correct = []\n",
    "    test_correct = []\n",
    "\n",
    "    for i in range(epochs):\n",
    "        trn_corr = 0\n",
    "        tst_corr = 0\n",
    "        \n",
    "        # Run the training batches\n",
    "        for b, (X_train, y_train) in enumerate(train_loader):\n",
    "            b+=1\n",
    "            \n",
    "            # Apply the model\n",
    "            y_pred = model(X_train)\n",
    "            loss = criterion(y_pred, y_train)\n",
    "    \n",
    "            # Tally the number of correct predictions\n",
    "            predicted = torch.max(y_pred.data, 1)[1]\n",
    "            batch_corr = (predicted == y_train).sum()\n",
    "            trn_corr += batch_corr\n",
    "            \n",
    "            # Update parameters\n",
    "            optimizer.zero_grad()\n",
    "            loss.backward()\n",
    "            optimizer.step()\n",
    "            \n",
    "            # Print interim results\n",
    "            if b%25 == 0:\n",
    "                print(f'epoch: {i:2}  batch: {b:4} loss: {loss.item():10.8f}\\\n",
    "                    accuracy: {trn_corr.item()*100/(32*b):7.3f}%')\n",
    "            \n",
    "        train_losses.append(loss)\n",
    "        train_correct.append(trn_corr)\n",
    "            \n",
    "        # Run the testing batches\n",
    "        with torch.no_grad():\n",
    "            for b, (X_val, y_val) in enumerate(val_loader):\n",
    "\n",
    "                # Apply the model\n",
    "                y_pred = model(X_val)\n",
    "\n",
    "                # Tally the number of correct predictions\n",
    "                predicted = torch.max(y_pred.data, 1)[1] \n",
    "                tst_corr += (predicted == y_val).sum()\n",
    "                \n",
    "        loss = criterion(y_pred, y_val)\n",
    "        test_losses.append(loss)\n",
    "        test_correct.append(tst_corr/b)\n",
    "    print(f'\\nDuration: {time.time() - start_time:.0f} seconds') # print the time elapsed  \n",
    "    tune.report(loss=loss.item(), accuracy=tst_corr.item()*100/(32*b))  # Report results to ray.tune\n"
   ]
  },
  {
   "cell_type": "code",
   "execution_count": 44,
   "metadata": {},
   "outputs": [],
   "source": [
    "# Search Space:\n",
    "\n",
    "hp = {\n",
    "    \"conv1_width\": tune.choice([3,6,9]),\n",
    "    \"conv2_width\": tune.choice([9,18]),\n",
    "    \"epochs\": 3 # We will only use 3 epoch for this trial\n",
    "}"
   ]
  },
  {
   "cell_type": "code",
   "execution_count": 48,
   "metadata": {},
   "outputs": [
    {
     "data": {
      "text/html": [
       "== Status ==<br>Current time: 2022-03-03 22:06:01 (running for 00:00:53.22)<br>Memory usage on this node: 9.7/16.0 GiB<br>Using FIFO scheduling algorithm.<br>Resources requested: 0/16 CPUs, 0/1 GPUs, 0.0/4.89 GiB heap, 0.0/2.44 GiB objects<br>Result logdir: c:\\Users\\Mike\\Documents\\Code\\_MEng\\645-enel\\automl\\automl-tutorial\\data\\ray-tune\\train_cifar_2022-03-03_22-05-07<br>Number of trials: 3/3 (3 TERMINATED)<br><br>"
      ],
      "text/plain": [
       "<IPython.core.display.HTML object>"
      ]
     },
     "metadata": {},
     "output_type": "display_data"
    },
    {
     "name": "stderr",
     "output_type": "stream",
     "text": [
      "2022-03-03 22:06:01,301\tINFO tune.py:636 -- Total run time: 53.34 seconds (53.21 seconds for the tuning loop).\n"
     ]
    },
    {
     "name": "stdout",
     "output_type": "stream",
     "text": [
      " pid=12712)\u001b[0m cifar\n",
      " pid=12712)\u001b[0m Duration: 51 seconds\n"
     ]
    }
   ],
   "source": [
    "result = tune.run(\n",
    "    tune.with_parameters(train_cifar, data_dir = __DATA_PATH / \"cifar10\"),\n",
    "    config=hp,\n",
    "    num_samples=3,\n",
    "    local_dir = __DATA_PATH / \"ray-tune\",\n",
    "    verbose=1\n",
    ")\n",
    "\n",
    "# NOTE: Check out that duration! Ray will multi thread when run locally "
   ]
  },
  {
   "cell_type": "code",
   "execution_count": 50,
   "metadata": {},
   "outputs": [
    {
     "data": {
      "text/html": [
       "<div>\n",
       "<style scoped>\n",
       "    .dataframe tbody tr th:only-of-type {\n",
       "        vertical-align: middle;\n",
       "    }\n",
       "\n",
       "    .dataframe tbody tr th {\n",
       "        vertical-align: top;\n",
       "    }\n",
       "\n",
       "    .dataframe thead th {\n",
       "        text-align: right;\n",
       "    }\n",
       "</style>\n",
       "<table border=\"1\" class=\"dataframe\">\n",
       "  <thead>\n",
       "    <tr style=\"text-align: right;\">\n",
       "      <th></th>\n",
       "      <th>loss</th>\n",
       "      <th>accuracy</th>\n",
       "      <th>time_this_iter_s</th>\n",
       "      <th>done</th>\n",
       "      <th>timesteps_total</th>\n",
       "      <th>episodes_total</th>\n",
       "      <th>training_iteration</th>\n",
       "      <th>trial_id</th>\n",
       "      <th>experiment_id</th>\n",
       "      <th>date</th>\n",
       "      <th>...</th>\n",
       "      <th>pid</th>\n",
       "      <th>hostname</th>\n",
       "      <th>node_ip</th>\n",
       "      <th>time_since_restore</th>\n",
       "      <th>timesteps_since_restore</th>\n",
       "      <th>iterations_since_restore</th>\n",
       "      <th>config/conv1_width</th>\n",
       "      <th>config/conv2_width</th>\n",
       "      <th>config/epochs</th>\n",
       "      <th>logdir</th>\n",
       "    </tr>\n",
       "  </thead>\n",
       "  <tbody>\n",
       "    <tr>\n",
       "      <th>0</th>\n",
       "      <td>1.088923</td>\n",
       "      <td>45.060484</td>\n",
       "      <td>33.737257</td>\n",
       "      <td>False</td>\n",
       "      <td>NaN</td>\n",
       "      <td>NaN</td>\n",
       "      <td>1</td>\n",
       "      <td>a941b_00000</td>\n",
       "      <td>8cf979a82393470a9d4e559c6b37aa53</td>\n",
       "      <td>2022-03-03_22-05-43</td>\n",
       "      <td>...</td>\n",
       "      <td>10152</td>\n",
       "      <td>DESKTOP-RL1C7R4</td>\n",
       "      <td>127.0.0.1</td>\n",
       "      <td>33.737257</td>\n",
       "      <td>0</td>\n",
       "      <td>1</td>\n",
       "      <td>9</td>\n",
       "      <td>18</td>\n",
       "      <td>3</td>\n",
       "      <td>c:\\Users\\Mike\\Documents\\Code\\_MEng\\645-enel\\au...</td>\n",
       "    </tr>\n",
       "    <tr>\n",
       "      <th>1</th>\n",
       "      <td>0.930896</td>\n",
       "      <td>42.842742</td>\n",
       "      <td>50.601671</td>\n",
       "      <td>False</td>\n",
       "      <td>NaN</td>\n",
       "      <td>NaN</td>\n",
       "      <td>1</td>\n",
       "      <td>a941b_00001</td>\n",
       "      <td>0705e25d3f2245188aaa9c8a9601b58a</td>\n",
       "      <td>2022-03-03_22-06-01</td>\n",
       "      <td>...</td>\n",
       "      <td>12712</td>\n",
       "      <td>DESKTOP-RL1C7R4</td>\n",
       "      <td>127.0.0.1</td>\n",
       "      <td>50.601671</td>\n",
       "      <td>0</td>\n",
       "      <td>1</td>\n",
       "      <td>6</td>\n",
       "      <td>9</td>\n",
       "      <td>3</td>\n",
       "      <td>c:\\Users\\Mike\\Documents\\Code\\_MEng\\645-enel\\au...</td>\n",
       "    </tr>\n",
       "    <tr>\n",
       "      <th>2</th>\n",
       "      <td>1.633716</td>\n",
       "      <td>39.516129</td>\n",
       "      <td>46.991674</td>\n",
       "      <td>False</td>\n",
       "      <td>NaN</td>\n",
       "      <td>NaN</td>\n",
       "      <td>1</td>\n",
       "      <td>a941b_00002</td>\n",
       "      <td>861e29a599a940539277a65666b49093</td>\n",
       "      <td>2022-03-03_22-05-57</td>\n",
       "      <td>...</td>\n",
       "      <td>10268</td>\n",
       "      <td>DESKTOP-RL1C7R4</td>\n",
       "      <td>127.0.0.1</td>\n",
       "      <td>46.991674</td>\n",
       "      <td>0</td>\n",
       "      <td>1</td>\n",
       "      <td>9</td>\n",
       "      <td>9</td>\n",
       "      <td>3</td>\n",
       "      <td>c:\\Users\\Mike\\Documents\\Code\\_MEng\\645-enel\\au...</td>\n",
       "    </tr>\n",
       "  </tbody>\n",
       "</table>\n",
       "<p>3 rows × 22 columns</p>\n",
       "</div>"
      ],
      "text/plain": [
       "       loss   accuracy  time_this_iter_s   done  timesteps_total  \\\n",
       "0  1.088923  45.060484         33.737257  False              NaN   \n",
       "1  0.930896  42.842742         50.601671  False              NaN   \n",
       "2  1.633716  39.516129         46.991674  False              NaN   \n",
       "\n",
       "   episodes_total  training_iteration     trial_id  \\\n",
       "0             NaN                   1  a941b_00000   \n",
       "1             NaN                   1  a941b_00001   \n",
       "2             NaN                   1  a941b_00002   \n",
       "\n",
       "                      experiment_id                 date  ...    pid  \\\n",
       "0  8cf979a82393470a9d4e559c6b37aa53  2022-03-03_22-05-43  ...  10152   \n",
       "1  0705e25d3f2245188aaa9c8a9601b58a  2022-03-03_22-06-01  ...  12712   \n",
       "2  861e29a599a940539277a65666b49093  2022-03-03_22-05-57  ...  10268   \n",
       "\n",
       "          hostname    node_ip time_since_restore timesteps_since_restore  \\\n",
       "0  DESKTOP-RL1C7R4  127.0.0.1          33.737257                       0   \n",
       "1  DESKTOP-RL1C7R4  127.0.0.1          50.601671                       0   \n",
       "2  DESKTOP-RL1C7R4  127.0.0.1          46.991674                       0   \n",
       "\n",
       "   iterations_since_restore  config/conv1_width  config/conv2_width  \\\n",
       "0                         1                   9                  18   \n",
       "1                         1                   6                   9   \n",
       "2                         1                   9                   9   \n",
       "\n",
       "   config/epochs                                             logdir  \n",
       "0              3  c:\\Users\\Mike\\Documents\\Code\\_MEng\\645-enel\\au...  \n",
       "1              3  c:\\Users\\Mike\\Documents\\Code\\_MEng\\645-enel\\au...  \n",
       "2              3  c:\\Users\\Mike\\Documents\\Code\\_MEng\\645-enel\\au...  \n",
       "\n",
       "[3 rows x 22 columns]"
      ]
     },
     "execution_count": 50,
     "metadata": {},
     "output_type": "execute_result"
    }
   ],
   "source": [
    "result.dataframe()"
   ]
  },
  {
   "cell_type": "code",
   "execution_count": 51,
   "metadata": {},
   "outputs": [
    {
     "data": {
      "text/plain": [
       "{'conv1_width': 9, 'conv2_width': 18, 'epochs': 3}"
      ]
     },
     "execution_count": 51,
     "metadata": {},
     "output_type": "execute_result"
    }
   ],
   "source": [
    "result.get_best_config(metric=\"accuracy\", mode=\"max\")"
   ]
  }
 ],
 "metadata": {
  "interpreter": {
   "hash": "103c48291f705ce8c767bb63c4c6e1b50e89cd136cd9cae1c5064c0fdc959fe6"
  },
  "kernelspec": {
   "display_name": "Python 3.8.0 ('automl')",
   "language": "python",
   "name": "python3"
  },
  "language_info": {
   "codemirror_mode": {
    "name": "ipython",
    "version": 3
   },
   "file_extension": ".py",
   "mimetype": "text/x-python",
   "name": "python",
   "nbconvert_exporter": "python",
   "pygments_lexer": "ipython3",
   "version": "3.9.0"
  },
  "orig_nbformat": 4
 },
 "nbformat": 4,
 "nbformat_minor": 2
}
