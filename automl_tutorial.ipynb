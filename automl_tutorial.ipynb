{
  "cells": [
    {
      "cell_type": "markdown",
      "metadata": {
        "id": "view-in-github",
        "colab_type": "text"
      },
      "source": [
        "<a href=\"https://colab.research.google.com/github/mklasby/automl_tutorial/blob/master/automl_tutorial.ipynb\" target=\"_parent\"><img src=\"https://colab.research.google.com/assets/colab-badge.svg\" alt=\"Open In Colab\"/></a>"
      ]
    },
    {
      "cell_type": "markdown",
      "metadata": {
        "id": "cUABqRaB-iym"
      },
      "source": [
        "# ENEL 645 - Deep Learning\n",
        "## AutoML & HPO Tutorial\n",
        "- By: Mike Lasby\n",
        "- 2023-03-23"
      ]
    },
    {
      "cell_type": "code",
      "source": [
        "%%bash\n",
        "pip install tpot autokeras ray[tune] keras_tuner"
      ],
      "metadata": {
        "colab": {
          "base_uri": "https://localhost:8080/"
        },
        "id": "HCSZ6JCDDWtc",
        "outputId": "98ac915e-e9bc-4ded-aeb2-6b6038eaf4aa"
      },
      "execution_count": null,
      "outputs": [
        {
          "output_type": "stream",
          "name": "stdout",
          "text": [
            "Looking in indexes: https://pypi.org/simple, https://us-python.pkg.dev/colab-wheels/public/simple/\n",
            "Requirement already satisfied: tpot in /usr/local/lib/python3.9/dist-packages (0.11.7)\n",
            "Requirement already satisfied: autokeras in /usr/local/lib/python3.9/dist-packages (1.1.0)\n",
            "Collecting ray[tune]\n",
            "  Using cached ray-2.3.0-cp39-cp39-manylinux2014_x86_64.whl (58.6 MB)\n",
            "Requirement already satisfied: keras_tuner in /usr/local/lib/python3.9/dist-packages (1.3.0)\n",
            "Requirement already satisfied: deap>=1.2 in /usr/local/lib/python3.9/dist-packages (from tpot) (1.3.3)\n",
            "Requirement already satisfied: xgboost>=1.1.0 in /usr/local/lib/python3.9/dist-packages (from tpot) (1.7.4)\n",
            "Requirement already satisfied: update-checker>=0.16 in /usr/local/lib/python3.9/dist-packages (from tpot) (0.18.0)\n",
            "Requirement already satisfied: scikit-learn>=0.22.0 in /usr/local/lib/python3.9/dist-packages (from tpot) (1.2.2)\n",
            "Requirement already satisfied: tqdm>=4.36.1 in /usr/local/lib/python3.9/dist-packages (from tpot) (4.65.0)\n",
            "Requirement already satisfied: joblib>=0.13.2 in /usr/local/lib/python3.9/dist-packages (from tpot) (1.1.1)\n",
            "Requirement already satisfied: numpy>=1.16.3 in /usr/local/lib/python3.9/dist-packages (from tpot) (1.22.4)\n",
            "Requirement already satisfied: stopit>=1.1.1 in /usr/local/lib/python3.9/dist-packages (from tpot) (1.1.2)\n",
            "Requirement already satisfied: scipy>=1.3.1 in /usr/local/lib/python3.9/dist-packages (from tpot) (1.10.1)\n",
            "Requirement already satisfied: pandas>=0.24.2 in /usr/local/lib/python3.9/dist-packages (from tpot) (1.4.4)\n",
            "Requirement already satisfied: packaging in /usr/local/lib/python3.9/dist-packages (from autokeras) (23.0)\n",
            "Requirement already satisfied: tensorflow>=2.8.0 in /usr/local/lib/python3.9/dist-packages (from autokeras) (2.11.0)\n",
            "Requirement already satisfied: keras-nlp>=0.4.0 in /usr/local/lib/python3.9/dist-packages (from autokeras) (0.4.1)\n",
            "Requirement already satisfied: grpcio>=1.32.0 in /usr/local/lib/python3.9/dist-packages (from ray[tune]) (1.51.3)\n",
            "Requirement already satisfied: filelock in /usr/local/lib/python3.9/dist-packages (from ray[tune]) (3.10.0)\n",
            "Collecting aiosignal\n",
            "  Using cached aiosignal-1.3.1-py3-none-any.whl (7.6 kB)\n",
            "Requirement already satisfied: requests in /usr/local/lib/python3.9/dist-packages (from ray[tune]) (2.27.1)\n",
            "Collecting virtualenv>=20.0.24\n",
            "  Using cached virtualenv-20.21.0-py3-none-any.whl (8.7 MB)\n",
            "Requirement already satisfied: click>=7.0 in /usr/local/lib/python3.9/dist-packages (from ray[tune]) (8.1.3)\n",
            "Collecting frozenlist\n",
            "  Using cached frozenlist-1.3.3-cp39-cp39-manylinux_2_5_x86_64.manylinux1_x86_64.manylinux_2_17_x86_64.manylinux2014_x86_64.whl (158 kB)\n",
            "Requirement already satisfied: pyyaml in /usr/local/lib/python3.9/dist-packages (from ray[tune]) (6.0)\n",
            "Requirement already satisfied: msgpack<2.0.0,>=1.0.0 in /usr/local/lib/python3.9/dist-packages (from ray[tune]) (1.0.5)\n",
            "Requirement already satisfied: protobuf!=3.19.5,>=3.15.3 in /usr/local/lib/python3.9/dist-packages (from ray[tune]) (3.19.6)\n",
            "Requirement already satisfied: jsonschema in /usr/local/lib/python3.9/dist-packages (from ray[tune]) (4.3.3)\n",
            "Requirement already satisfied: attrs in /usr/local/lib/python3.9/dist-packages (from ray[tune]) (22.2.0)\n",
            "Collecting tensorboardX>=1.9\n",
            "  Using cached tensorboardX-2.6-py2.py3-none-any.whl (114 kB)\n",
            "Requirement already satisfied: tabulate in /usr/local/lib/python3.9/dist-packages (from ray[tune]) (0.8.10)\n",
            "Requirement already satisfied: kt-legacy in /usr/local/lib/python3.9/dist-packages (from keras_tuner) (1.0.4)\n",
            "Requirement already satisfied: ipython in /usr/local/lib/python3.9/dist-packages (from keras_tuner) (7.9.0)\n",
            "Requirement already satisfied: tensorflow-text in /usr/local/lib/python3.9/dist-packages (from keras-nlp>=0.4.0->autokeras) (2.11.0)\n",
            "Requirement already satisfied: absl-py in /usr/local/lib/python3.9/dist-packages (from keras-nlp>=0.4.0->autokeras) (1.4.0)\n",
            "Requirement already satisfied: pytz>=2020.1 in /usr/local/lib/python3.9/dist-packages (from pandas>=0.24.2->tpot) (2022.7.1)\n",
            "Requirement already satisfied: python-dateutil>=2.8.1 in /usr/local/lib/python3.9/dist-packages (from pandas>=0.24.2->tpot) (2.8.2)\n",
            "Requirement already satisfied: threadpoolctl>=2.0.0 in /usr/local/lib/python3.9/dist-packages (from scikit-learn>=0.22.0->tpot) (3.1.0)\n",
            "Requirement already satisfied: tensorflow-estimator<2.12,>=2.11.0 in /usr/local/lib/python3.9/dist-packages (from tensorflow>=2.8.0->autokeras) (2.11.0)\n",
            "Requirement already satisfied: libclang>=13.0.0 in /usr/local/lib/python3.9/dist-packages (from tensorflow>=2.8.0->autokeras) (15.0.6.1)\n",
            "Requirement already satisfied: opt-einsum>=2.3.2 in /usr/local/lib/python3.9/dist-packages (from tensorflow>=2.8.0->autokeras) (3.3.0)\n",
            "Requirement already satisfied: flatbuffers>=2.0 in /usr/local/lib/python3.9/dist-packages (from tensorflow>=2.8.0->autokeras) (23.3.3)\n",
            "Requirement already satisfied: typing-extensions>=3.6.6 in /usr/local/lib/python3.9/dist-packages (from tensorflow>=2.8.0->autokeras) (4.5.0)\n",
            "Requirement already satisfied: tensorflow-io-gcs-filesystem>=0.23.1 in /usr/local/lib/python3.9/dist-packages (from tensorflow>=2.8.0->autokeras) (0.31.0)\n",
            "Requirement already satisfied: tensorboard<2.12,>=2.11 in /usr/local/lib/python3.9/dist-packages (from tensorflow>=2.8.0->autokeras) (2.11.2)\n",
            "Requirement already satisfied: h5py>=2.9.0 in /usr/local/lib/python3.9/dist-packages (from tensorflow>=2.8.0->autokeras) (3.8.0)\n",
            "Requirement already satisfied: termcolor>=1.1.0 in /usr/local/lib/python3.9/dist-packages (from tensorflow>=2.8.0->autokeras) (2.2.0)\n",
            "Requirement already satisfied: keras<2.12,>=2.11.0 in /usr/local/lib/python3.9/dist-packages (from tensorflow>=2.8.0->autokeras) (2.11.0)\n",
            "Requirement already satisfied: gast<=0.4.0,>=0.2.1 in /usr/local/lib/python3.9/dist-packages (from tensorflow>=2.8.0->autokeras) (0.4.0)\n",
            "Requirement already satisfied: setuptools in /usr/local/lib/python3.9/dist-packages (from tensorflow>=2.8.0->autokeras) (67.6.0)\n",
            "Requirement already satisfied: google-pasta>=0.1.1 in /usr/local/lib/python3.9/dist-packages (from tensorflow>=2.8.0->autokeras) (0.2.0)\n",
            "Requirement already satisfied: six>=1.12.0 in /usr/local/lib/python3.9/dist-packages (from tensorflow>=2.8.0->autokeras) (1.16.0)\n",
            "Requirement already satisfied: astunparse>=1.6.0 in /usr/local/lib/python3.9/dist-packages (from tensorflow>=2.8.0->autokeras) (1.6.3)\n",
            "Requirement already satisfied: wrapt>=1.11.0 in /usr/local/lib/python3.9/dist-packages (from tensorflow>=2.8.0->autokeras) (1.15.0)\n",
            "Requirement already satisfied: charset-normalizer~=2.0.0 in /usr/local/lib/python3.9/dist-packages (from requests->ray[tune]) (2.0.12)\n",
            "Requirement already satisfied: idna<4,>=2.5 in /usr/local/lib/python3.9/dist-packages (from requests->ray[tune]) (3.4)\n",
            "Requirement already satisfied: certifi>=2017.4.17 in /usr/local/lib/python3.9/dist-packages (from requests->ray[tune]) (2022.12.7)\n",
            "Requirement already satisfied: urllib3<1.27,>=1.21.1 in /usr/local/lib/python3.9/dist-packages (from requests->ray[tune]) (1.26.15)\n",
            "Collecting distlib<1,>=0.3.6\n",
            "  Using cached distlib-0.3.6-py2.py3-none-any.whl (468 kB)\n",
            "Requirement already satisfied: platformdirs<4,>=2.4 in /usr/local/lib/python3.9/dist-packages (from virtualenv>=20.0.24->ray[tune]) (3.1.1)\n",
            "Requirement already satisfied: pygments in /usr/local/lib/python3.9/dist-packages (from ipython->keras_tuner) (2.6.1)\n",
            "Requirement already satisfied: pexpect in /usr/local/lib/python3.9/dist-packages (from ipython->keras_tuner) (4.8.0)\n",
            "Requirement already satisfied: traitlets>=4.2 in /usr/local/lib/python3.9/dist-packages (from ipython->keras_tuner) (5.7.1)\n",
            "Requirement already satisfied: decorator in /usr/local/lib/python3.9/dist-packages (from ipython->keras_tuner) (4.4.2)\n",
            "Requirement already satisfied: pickleshare in /usr/local/lib/python3.9/dist-packages (from ipython->keras_tuner) (0.7.5)\n",
            "Requirement already satisfied: backcall in /usr/local/lib/python3.9/dist-packages (from ipython->keras_tuner) (0.2.0)\n",
            "Requirement already satisfied: jedi>=0.10 in /usr/local/lib/python3.9/dist-packages (from ipython->keras_tuner) (0.18.2)\n",
            "Requirement already satisfied: prompt-toolkit<2.1.0,>=2.0.0 in /usr/local/lib/python3.9/dist-packages (from ipython->keras_tuner) (2.0.10)\n",
            "Requirement already satisfied: pyrsistent!=0.17.0,!=0.17.1,!=0.17.2,>=0.14.0 in /usr/local/lib/python3.9/dist-packages (from jsonschema->ray[tune]) (0.19.3)\n",
            "Requirement already satisfied: wheel<1.0,>=0.23.0 in /usr/local/lib/python3.9/dist-packages (from astunparse>=1.6.0->tensorflow>=2.8.0->autokeras) (0.40.0)\n",
            "Requirement already satisfied: parso<0.9.0,>=0.8.0 in /usr/local/lib/python3.9/dist-packages (from jedi>=0.10->ipython->keras_tuner) (0.8.3)\n",
            "Requirement already satisfied: wcwidth in /usr/local/lib/python3.9/dist-packages (from prompt-toolkit<2.1.0,>=2.0.0->ipython->keras_tuner) (0.2.6)\n",
            "Requirement already satisfied: google-auth-oauthlib<0.5,>=0.4.1 in /usr/local/lib/python3.9/dist-packages (from tensorboard<2.12,>=2.11->tensorflow>=2.8.0->autokeras) (0.4.6)\n",
            "Requirement already satisfied: tensorboard-data-server<0.7.0,>=0.6.0 in /usr/local/lib/python3.9/dist-packages (from tensorboard<2.12,>=2.11->tensorflow>=2.8.0->autokeras) (0.6.1)\n",
            "Requirement already satisfied: markdown>=2.6.8 in /usr/local/lib/python3.9/dist-packages (from tensorboard<2.12,>=2.11->tensorflow>=2.8.0->autokeras) (3.4.1)\n",
            "Requirement already satisfied: tensorboard-plugin-wit>=1.6.0 in /usr/local/lib/python3.9/dist-packages (from tensorboard<2.12,>=2.11->tensorflow>=2.8.0->autokeras) (1.8.1)\n",
            "Requirement already satisfied: google-auth<3,>=1.6.3 in /usr/local/lib/python3.9/dist-packages (from tensorboard<2.12,>=2.11->tensorflow>=2.8.0->autokeras) (2.16.2)\n",
            "Requirement already satisfied: werkzeug>=1.0.1 in /usr/local/lib/python3.9/dist-packages (from tensorboard<2.12,>=2.11->tensorflow>=2.8.0->autokeras) (2.2.3)\n",
            "Requirement already satisfied: ptyprocess>=0.5 in /usr/local/lib/python3.9/dist-packages (from pexpect->ipython->keras_tuner) (0.7.0)\n",
            "Requirement already satisfied: tensorflow-hub>=0.8.0 in /usr/local/lib/python3.9/dist-packages (from tensorflow-text->keras-nlp>=0.4.0->autokeras) (0.13.0)\n",
            "Requirement already satisfied: rsa<5,>=3.1.4 in /usr/local/lib/python3.9/dist-packages (from google-auth<3,>=1.6.3->tensorboard<2.12,>=2.11->tensorflow>=2.8.0->autokeras) (4.9)\n",
            "Requirement already satisfied: cachetools<6.0,>=2.0.0 in /usr/local/lib/python3.9/dist-packages (from google-auth<3,>=1.6.3->tensorboard<2.12,>=2.11->tensorflow>=2.8.0->autokeras) (5.3.0)\n",
            "Requirement already satisfied: pyasn1-modules>=0.2.1 in /usr/local/lib/python3.9/dist-packages (from google-auth<3,>=1.6.3->tensorboard<2.12,>=2.11->tensorflow>=2.8.0->autokeras) (0.2.8)\n",
            "Requirement already satisfied: requests-oauthlib>=0.7.0 in /usr/local/lib/python3.9/dist-packages (from google-auth-oauthlib<0.5,>=0.4.1->tensorboard<2.12,>=2.11->tensorflow>=2.8.0->autokeras) (1.3.1)\n",
            "Requirement already satisfied: importlib-metadata>=4.4 in /usr/local/lib/python3.9/dist-packages (from markdown>=2.6.8->tensorboard<2.12,>=2.11->tensorflow>=2.8.0->autokeras) (6.1.0)\n",
            "Requirement already satisfied: MarkupSafe>=2.1.1 in /usr/local/lib/python3.9/dist-packages (from werkzeug>=1.0.1->tensorboard<2.12,>=2.11->tensorflow>=2.8.0->autokeras) (2.1.2)\n",
            "Requirement already satisfied: zipp>=0.5 in /usr/local/lib/python3.9/dist-packages (from importlib-metadata>=4.4->markdown>=2.6.8->tensorboard<2.12,>=2.11->tensorflow>=2.8.0->autokeras) (3.15.0)\n",
            "Requirement already satisfied: pyasn1<0.5.0,>=0.4.6 in /usr/local/lib/python3.9/dist-packages (from pyasn1-modules>=0.2.1->google-auth<3,>=1.6.3->tensorboard<2.12,>=2.11->tensorflow>=2.8.0->autokeras) (0.4.8)\n",
            "Requirement already satisfied: oauthlib>=3.0.0 in /usr/local/lib/python3.9/dist-packages (from requests-oauthlib>=0.7.0->google-auth-oauthlib<0.5,>=0.4.1->tensorboard<2.12,>=2.11->tensorflow>=2.8.0->autokeras) (3.2.2)\n",
            "Installing collected packages: distlib, virtualenv, tensorboardX, frozenlist, aiosignal, ray\n",
            "Successfully installed aiosignal-1.3.1 distlib-0.3.6 frozenlist-1.3.3 ray-2.3.0 tensorboardX-2.6 virtualenv-20.21.0\n"
          ]
        }
      ]
    },
    {
      "cell_type": "code",
      "execution_count": null,
      "metadata": {
        "id": "N5O5mJV8-iyo"
      },
      "outputs": [],
      "source": [
        "%matplotlib inline"
      ]
    },
    {
      "cell_type": "code",
      "execution_count": null,
      "metadata": {
        "id": "6IUaHZTk-iyo"
      },
      "outputs": [],
      "source": [
        "# Common imports\n",
        "import numpy as np\n",
        "import pandas as pd\n",
        "import matplotlib.pyplot as plt\n",
        "import plotly.express as px\n",
        "import seaborn as sns\n",
        "import math\n",
        "import pathlib\n",
        "from sklearn.datasets import load_iris\n",
        "from sklearn.model_selection import train_test_split\n",
        "import tensorflow as tf"
      ]
    },
    {
      "cell_type": "code",
      "execution_count": null,
      "metadata": {
        "id": "VMpa8Ikk-iyp"
      },
      "outputs": [],
      "source": [
        "# Notebook constants that we will return to \n",
        "# TODO: What is name mangling? \n",
        "# TODO: Benefits of pathlib?\n",
        "__DATA_PATH = pathlib.Path(\"./data\")\n",
        "__RANDOM_STATE = 42"
      ]
    },
    {
      "cell_type": "markdown",
      "metadata": {
        "id": "k9G-MNgt-iyp"
      },
      "source": [
        "### AutoML with TPOT\n",
        "http://epistasislab.github.io/tpot/\n",
        "\n",
        "TPOT is a Python Automated Machine Learning tool that optimizes machine learning pipelines using genetic programming.\n"
      ]
    },
    {
      "cell_type": "code",
      "execution_count": null,
      "metadata": {
        "colab": {
          "base_uri": "https://localhost:8080/",
          "height": 206
        },
        "id": "GvNS5KKh-iyp",
        "outputId": "70a34e25-88fa-488d-ce7f-28bcaad74b88"
      },
      "outputs": [
        {
          "output_type": "execute_result",
          "data": {
            "text/plain": [
              "     sepal length (cm)  sepal width (cm)  petal length (cm)  petal width (cm)\n",
              "81                 5.5               2.4                3.7               1.0\n",
              "133                6.3               2.8                5.1               1.5\n",
              "137                6.4               3.1                5.5               1.8\n",
              "75                 6.6               3.0                4.4               1.4\n",
              "109                7.2               3.6                6.1               2.5"
            ],
            "text/html": [
              "\n",
              "  <div id=\"df-57597bf2-d6e8-4c32-a408-c0a1d55eeec5\">\n",
              "    <div class=\"colab-df-container\">\n",
              "      <div>\n",
              "<style scoped>\n",
              "    .dataframe tbody tr th:only-of-type {\n",
              "        vertical-align: middle;\n",
              "    }\n",
              "\n",
              "    .dataframe tbody tr th {\n",
              "        vertical-align: top;\n",
              "    }\n",
              "\n",
              "    .dataframe thead th {\n",
              "        text-align: right;\n",
              "    }\n",
              "</style>\n",
              "<table border=\"1\" class=\"dataframe\">\n",
              "  <thead>\n",
              "    <tr style=\"text-align: right;\">\n",
              "      <th></th>\n",
              "      <th>sepal length (cm)</th>\n",
              "      <th>sepal width (cm)</th>\n",
              "      <th>petal length (cm)</th>\n",
              "      <th>petal width (cm)</th>\n",
              "    </tr>\n",
              "  </thead>\n",
              "  <tbody>\n",
              "    <tr>\n",
              "      <th>81</th>\n",
              "      <td>5.5</td>\n",
              "      <td>2.4</td>\n",
              "      <td>3.7</td>\n",
              "      <td>1.0</td>\n",
              "    </tr>\n",
              "    <tr>\n",
              "      <th>133</th>\n",
              "      <td>6.3</td>\n",
              "      <td>2.8</td>\n",
              "      <td>5.1</td>\n",
              "      <td>1.5</td>\n",
              "    </tr>\n",
              "    <tr>\n",
              "      <th>137</th>\n",
              "      <td>6.4</td>\n",
              "      <td>3.1</td>\n",
              "      <td>5.5</td>\n",
              "      <td>1.8</td>\n",
              "    </tr>\n",
              "    <tr>\n",
              "      <th>75</th>\n",
              "      <td>6.6</td>\n",
              "      <td>3.0</td>\n",
              "      <td>4.4</td>\n",
              "      <td>1.4</td>\n",
              "    </tr>\n",
              "    <tr>\n",
              "      <th>109</th>\n",
              "      <td>7.2</td>\n",
              "      <td>3.6</td>\n",
              "      <td>6.1</td>\n",
              "      <td>2.5</td>\n",
              "    </tr>\n",
              "  </tbody>\n",
              "</table>\n",
              "</div>\n",
              "      <button class=\"colab-df-convert\" onclick=\"convertToInteractive('df-57597bf2-d6e8-4c32-a408-c0a1d55eeec5')\"\n",
              "              title=\"Convert this dataframe to an interactive table.\"\n",
              "              style=\"display:none;\">\n",
              "        \n",
              "  <svg xmlns=\"http://www.w3.org/2000/svg\" height=\"24px\"viewBox=\"0 0 24 24\"\n",
              "       width=\"24px\">\n",
              "    <path d=\"M0 0h24v24H0V0z\" fill=\"none\"/>\n",
              "    <path d=\"M18.56 5.44l.94 2.06.94-2.06 2.06-.94-2.06-.94-.94-2.06-.94 2.06-2.06.94zm-11 1L8.5 8.5l.94-2.06 2.06-.94-2.06-.94L8.5 2.5l-.94 2.06-2.06.94zm10 10l.94 2.06.94-2.06 2.06-.94-2.06-.94-.94-2.06-.94 2.06-2.06.94z\"/><path d=\"M17.41 7.96l-1.37-1.37c-.4-.4-.92-.59-1.43-.59-.52 0-1.04.2-1.43.59L10.3 9.45l-7.72 7.72c-.78.78-.78 2.05 0 2.83L4 21.41c.39.39.9.59 1.41.59.51 0 1.02-.2 1.41-.59l7.78-7.78 2.81-2.81c.8-.78.8-2.07 0-2.86zM5.41 20L4 18.59l7.72-7.72 1.47 1.35L5.41 20z\"/>\n",
              "  </svg>\n",
              "      </button>\n",
              "      \n",
              "  <style>\n",
              "    .colab-df-container {\n",
              "      display:flex;\n",
              "      flex-wrap:wrap;\n",
              "      gap: 12px;\n",
              "    }\n",
              "\n",
              "    .colab-df-convert {\n",
              "      background-color: #E8F0FE;\n",
              "      border: none;\n",
              "      border-radius: 50%;\n",
              "      cursor: pointer;\n",
              "      display: none;\n",
              "      fill: #1967D2;\n",
              "      height: 32px;\n",
              "      padding: 0 0 0 0;\n",
              "      width: 32px;\n",
              "    }\n",
              "\n",
              "    .colab-df-convert:hover {\n",
              "      background-color: #E2EBFA;\n",
              "      box-shadow: 0px 1px 2px rgba(60, 64, 67, 0.3), 0px 1px 3px 1px rgba(60, 64, 67, 0.15);\n",
              "      fill: #174EA6;\n",
              "    }\n",
              "\n",
              "    [theme=dark] .colab-df-convert {\n",
              "      background-color: #3B4455;\n",
              "      fill: #D2E3FC;\n",
              "    }\n",
              "\n",
              "    [theme=dark] .colab-df-convert:hover {\n",
              "      background-color: #434B5C;\n",
              "      box-shadow: 0px 1px 3px 1px rgba(0, 0, 0, 0.15);\n",
              "      filter: drop-shadow(0px 1px 2px rgba(0, 0, 0, 0.3));\n",
              "      fill: #FFFFFF;\n",
              "    }\n",
              "  </style>\n",
              "\n",
              "      <script>\n",
              "        const buttonEl =\n",
              "          document.querySelector('#df-57597bf2-d6e8-4c32-a408-c0a1d55eeec5 button.colab-df-convert');\n",
              "        buttonEl.style.display =\n",
              "          google.colab.kernel.accessAllowed ? 'block' : 'none';\n",
              "\n",
              "        async function convertToInteractive(key) {\n",
              "          const element = document.querySelector('#df-57597bf2-d6e8-4c32-a408-c0a1d55eeec5');\n",
              "          const dataTable =\n",
              "            await google.colab.kernel.invokeFunction('convertToInteractive',\n",
              "                                                     [key], {});\n",
              "          if (!dataTable) return;\n",
              "\n",
              "          const docLinkHtml = 'Like what you see? Visit the ' +\n",
              "            '<a target=\"_blank\" href=https://colab.research.google.com/notebooks/data_table.ipynb>data table notebook</a>'\n",
              "            + ' to learn more about interactive tables.';\n",
              "          element.innerHTML = '';\n",
              "          dataTable['output_type'] = 'display_data';\n",
              "          await google.colab.output.renderOutput(dataTable, element);\n",
              "          const docLink = document.createElement('div');\n",
              "          docLink.innerHTML = docLinkHtml;\n",
              "          element.appendChild(docLink);\n",
              "        }\n",
              "      </script>\n",
              "    </div>\n",
              "  </div>\n",
              "  "
            ]
          },
          "metadata": {},
          "execution_count": 10
        }
      ],
      "source": [
        "X, y = load_iris(return_X_y=True, as_frame=True)\n",
        "X_train, X_test, y_train, y_test = train_test_split(X, y, test_size = 0.3, random_state=__RANDOM_STATE)\n",
        "X_train.head()"
      ]
    },
    {
      "cell_type": "code",
      "execution_count": null,
      "metadata": {
        "colab": {
          "base_uri": "https://localhost:8080/",
          "height": 542
        },
        "id": "6EmxSwJa-iyq",
        "outputId": "4767bd9d-2a83-492d-e3c9-95a8bf4e99bb"
      },
      "outputs": [
        {
          "output_type": "display_data",
          "data": {
            "text/html": [
              "<html>\n",
              "<head><meta charset=\"utf-8\" /></head>\n",
              "<body>\n",
              "    <div>            <script src=\"https://cdnjs.cloudflare.com/ajax/libs/mathjax/2.7.5/MathJax.js?config=TeX-AMS-MML_SVG\"></script><script type=\"text/javascript\">if (window.MathJax && window.MathJax.Hub && window.MathJax.Hub.Config) {window.MathJax.Hub.Config({SVG: {font: \"STIX-Web\"}});}</script>                <script type=\"text/javascript\">window.PlotlyConfig = {MathJaxConfig: 'local'};</script>\n",
              "        <script src=\"https://cdn.plot.ly/plotly-2.18.2.min.js\"></script>                <div id=\"c42c90f4-74f9-42e3-8f4d-31e9780bf4d6\" class=\"plotly-graph-div\" style=\"height:525px; width:100%;\"></div>            <script type=\"text/javascript\">                                    window.PLOTLYENV=window.PLOTLYENV || {};                                    if (document.getElementById(\"c42c90f4-74f9-42e3-8f4d-31e9780bf4d6\")) {                    Plotly.newPlot(                        \"c42c90f4-74f9-42e3-8f4d-31e9780bf4d6\",                        [{\"hovertemplate\":\"Label=0.0<br>Principal component 1=%{x}<br>Principal component 2=%{y}<extra></extra>\",\"legendgroup\":\"0.0\",\"marker\":{\"color\":\"#636efa\",\"symbol\":\"circle\"},\"mode\":\"markers\",\"name\":\"0.0\",\"orientation\":\"v\",\"showlegend\":true,\"x\":[-2.684125625969541,-2.7141416872943274,-2.888990569059296,-2.7453428556414092,-2.728716536554529,-2.280859632844491,-2.820537750740608,-2.626144973146632,-2.8863827317805533,-2.6727557978209533,-2.5069470906518543,-2.6127552309087223,-2.786109266188017,-3.223803743865652,-2.6447503899420277,-2.386039033531131,-2.623527875224425,-2.64829670625438,-2.1998203236175784,-2.5879863998787664,-2.310256215242517,-2.543705228757155,-3.2159394156486107,-2.302733182226206,-2.355754049123772,-2.5066689069258206,-2.4688200731213383,-2.5623199061960147,-2.639534715384541,-2.6319893872743454,-2.587398476689352,-2.4099324970021736,-2.6488623343499107,-2.5987367491005853,-2.636926878105798,-2.866241652118669,-2.6252380498503705,-2.800684115448221,-2.980502043781993,-2.5900063139680944,-2.7701024260279006,-2.8493687050431027,-2.997406546594908,-2.4056144850974848,-2.2094892377836777,-2.7144514267577073,-2.538148258998939,-2.8394621676428495,-2.5430857498303916,-2.7033597823351583],\"xaxis\":\"x\",\"y\":[0.319397246585103,-0.1770012250647791,-0.14494942608555708,-0.31829897925191564,0.32675451293492036,0.7413304490629153,-0.08946138452856828,0.1633849596983291,-0.5783117541867033,-0.11377424587411639,0.6450688986485742,0.014729939161375006,-0.235112000201718,-0.5113945870063815,1.1787646364375755,1.3380623304006527,0.810679514181258,0.31184914459335517,0.8728390389622113,0.5135603087492774,0.39134593565389464,0.4329960632790287,0.1334680695385263,0.09870885481409994,-0.03728185967738202,-0.14601688049526734,0.13095148943525067,0.36771885743420035,0.31203998023528334,-0.19696122492431414,-0.20431849127413296,0.4109242642295732,0.8133638202969627,1.0931457594493572,-0.12132234786586274,0.06936447158008098,0.5993700213794239,0.2686437377979828,-0.48795834442861497,0.22904383682701307,0.2635275337442569,-0.9409605736411962,-0.3419260574716094,0.18887142893026088,0.43666314163918835,-0.2502082041852107,0.5037711444614381,-0.2279455694938271,0.5794100215198899,0.10770608249941205],\"yaxis\":\"y\",\"type\":\"scatter\"},{\"hovertemplate\":\"Label=1.0<br>Principal component 1=%{x}<br>Principal component 2=%{y}<extra></extra>\",\"legendgroup\":\"1.0\",\"marker\":{\"color\":\"#EF553B\",\"symbol\":\"circle\"},\"mode\":\"markers\",\"name\":\"1.0\",\"orientation\":\"v\",\"showlegend\":true,\"x\":[1.2848256888583545,0.9324885323123207,1.4643023219913966,0.18331771995837218,1.0881032577116683,0.6416690842580792,1.095060662632449,-0.7491226698296566,1.044131826053438,-0.008745404082894932,-0.5078408838353251,0.5116985574475992,0.26497650811204837,0.9849345104708923,-0.17392537168176628,0.9278607809442498,0.6602837616969385,0.2361049933176733,0.9447337280198155,0.04522697629870138,1.1162831773500514,0.35788841799730925,1.2981838753589159,0.9217289224470389,0.7148533259114139,0.9001743731721696,1.332024436722091,1.557802155066073,0.8132906498175433,-0.3055837780243074,-0.06812649206836205,-0.18962247237850027,0.1364287115580166,1.380026435915513,0.5880064433398647,0.8068583125004142,1.2206908824443552,0.8150952357666024,0.24595767988669381,0.16641321714545823,0.46480028840378057,0.8908151984694513,0.23054802355945714,-0.7045317592446628,0.35698149470104845,0.33193447994506003,0.37621565106667204,0.6425760075543401,-0.9064698649488349,0.29900084187814496],\"xaxis\":\"x\",\"y\":[0.6851604704673085,0.31833363826262906,0.5042628153092042,-0.827959011820632,0.07459067519771627,-0.4182468715686784,0.2834682700615293,-1.004890961181895,0.22836189978839566,-0.7230819050048338,-1.265971190526393,-0.10398123549904016,-0.5500364636804744,-0.12481785412635715,-0.254854208702589,0.4671794944415106,-0.3529696657238501,-0.3336107668249151,-0.5431455507797665,-0.5838343774718641,-0.08461685219478768,-0.06892503165601375,-0.3277873083339172,-0.18273779362136722,0.1490559443697849,0.32850447383432335,0.24444087601634348,0.2674954473102546,-0.16335030068761605,-0.3682621897545877,-0.7051721317994651,-0.6802867635281332,-0.3140324382492365,-0.4209542873138816,-0.48428741998121794,0.1941823147131512,0.40761959361100714,-0.3720370599095017,-0.26852439662201455,-0.6819267248636263,-0.6707115445117201,-0.03446444436826863,-0.40438584800732497,-1.012248227531714,-0.5049100933371082,-0.2126546837811695,-0.2932189292514187,0.01773819011241647,-0.7560933665990137,-0.3488978064503356],\"yaxis\":\"y\",\"type\":\"scatter\"},{\"hovertemplate\":\"Label=2.0<br>Principal component 1=%{x}<br>Principal component 2=%{y}<extra></extra>\",\"legendgroup\":\"2.0\",\"marker\":{\"color\":\"#00cc96\",\"symbol\":\"circle\"},\"mode\":\"markers\",\"name\":\"2.0\",\"orientation\":\"v\",\"showlegend\":true,\"x\":[2.5311927278036297,1.415235876703904,2.6166760159956928,1.9715310530434376,2.3500059200446426,3.397038736053262,0.5212322439097743,2.9325870689936915,2.32122881657338,2.9167509667860756,1.6617741536365338,1.8034019529650933,2.1655917960801476,1.3461635794584526,1.5859282238732226,1.9044563747934289,1.9496890593990717,3.4870553642902826,3.7956454220728872,1.300791712637659,2.427817913066048,1.199001105465562,3.4999200389245413,1.3887661316914672,2.275430503872207,2.614090473810834,1.2585081605114898,1.291132059115023,2.123608722773897,2.3880030160034704,2.8416727781038738,3.2306736614320966,2.1594376424890522,1.4441612423295118,1.781294810045114,3.076499931687191,2.144243314302084,1.905098148814078,1.169326339341502,2.1076111432572446,2.314154705235602,1.9222678009026037,1.415235876703904,2.563013375077478,2.4187461827328276,1.9441097945469705,1.5271666148145193,1.7643457170444317,1.9009416142184257,1.3901888619479155],\"xaxis\":\"x\",\"y\":[-0.00984910949880168,-0.5749163475464891,0.34390315134173427,-0.17972790435224523,-0.04026094714253092,0.5508366730280554,-1.1927587270006448,0.35550000297749623,-0.24383150231069067,0.7827919488152782,0.24222840775506715,-0.2156376173335553,0.21627558507402472,-0.7768183473443392,-0.5396407140267184,0.11925069209197284,0.04194325966321154,1.1757393297134289,0.2573229734204793,-0.7611496364350631,0.3781960126170507,-0.6060915277579302,0.4606740989118948,-0.20439932735215077,0.33499060582167733,0.5609013551230777,-0.17970479472274645,-0.11666865117401125,-0.2097294766773026,0.4646398047087364,0.3752691671951031,1.3741650867930475,-0.21727757866904898,-0.14341341045758052,-0.49990168107813615,0.6880856775711754,0.1400642010897902,0.0493005260130304,-0.16499026202310935,0.3722878719607976,0.1836512791690189,0.40920346681606207,-0.5749163475464891,0.27786260292919485,0.3047981978546919,0.18753230280060515,-0.37531698258048823,0.07885885451847584,0.11662795851202383,-0.28266093799055025],\"yaxis\":\"y\",\"type\":\"scatter\"}],                        {\"template\":{\"data\":{\"histogram2dcontour\":[{\"type\":\"histogram2dcontour\",\"colorbar\":{\"outlinewidth\":0,\"ticks\":\"\"},\"colorscale\":[[0.0,\"#0d0887\"],[0.1111111111111111,\"#46039f\"],[0.2222222222222222,\"#7201a8\"],[0.3333333333333333,\"#9c179e\"],[0.4444444444444444,\"#bd3786\"],[0.5555555555555556,\"#d8576b\"],[0.6666666666666666,\"#ed7953\"],[0.7777777777777778,\"#fb9f3a\"],[0.8888888888888888,\"#fdca26\"],[1.0,\"#f0f921\"]]}],\"choropleth\":[{\"type\":\"choropleth\",\"colorbar\":{\"outlinewidth\":0,\"ticks\":\"\"}}],\"histogram2d\":[{\"type\":\"histogram2d\",\"colorbar\":{\"outlinewidth\":0,\"ticks\":\"\"},\"colorscale\":[[0.0,\"#0d0887\"],[0.1111111111111111,\"#46039f\"],[0.2222222222222222,\"#7201a8\"],[0.3333333333333333,\"#9c179e\"],[0.4444444444444444,\"#bd3786\"],[0.5555555555555556,\"#d8576b\"],[0.6666666666666666,\"#ed7953\"],[0.7777777777777778,\"#fb9f3a\"],[0.8888888888888888,\"#fdca26\"],[1.0,\"#f0f921\"]]}],\"heatmap\":[{\"type\":\"heatmap\",\"colorbar\":{\"outlinewidth\":0,\"ticks\":\"\"},\"colorscale\":[[0.0,\"#0d0887\"],[0.1111111111111111,\"#46039f\"],[0.2222222222222222,\"#7201a8\"],[0.3333333333333333,\"#9c179e\"],[0.4444444444444444,\"#bd3786\"],[0.5555555555555556,\"#d8576b\"],[0.6666666666666666,\"#ed7953\"],[0.7777777777777778,\"#fb9f3a\"],[0.8888888888888888,\"#fdca26\"],[1.0,\"#f0f921\"]]}],\"heatmapgl\":[{\"type\":\"heatmapgl\",\"colorbar\":{\"outlinewidth\":0,\"ticks\":\"\"},\"colorscale\":[[0.0,\"#0d0887\"],[0.1111111111111111,\"#46039f\"],[0.2222222222222222,\"#7201a8\"],[0.3333333333333333,\"#9c179e\"],[0.4444444444444444,\"#bd3786\"],[0.5555555555555556,\"#d8576b\"],[0.6666666666666666,\"#ed7953\"],[0.7777777777777778,\"#fb9f3a\"],[0.8888888888888888,\"#fdca26\"],[1.0,\"#f0f921\"]]}],\"contourcarpet\":[{\"type\":\"contourcarpet\",\"colorbar\":{\"outlinewidth\":0,\"ticks\":\"\"}}],\"contour\":[{\"type\":\"contour\",\"colorbar\":{\"outlinewidth\":0,\"ticks\":\"\"},\"colorscale\":[[0.0,\"#0d0887\"],[0.1111111111111111,\"#46039f\"],[0.2222222222222222,\"#7201a8\"],[0.3333333333333333,\"#9c179e\"],[0.4444444444444444,\"#bd3786\"],[0.5555555555555556,\"#d8576b\"],[0.6666666666666666,\"#ed7953\"],[0.7777777777777778,\"#fb9f3a\"],[0.8888888888888888,\"#fdca26\"],[1.0,\"#f0f921\"]]}],\"surface\":[{\"type\":\"surface\",\"colorbar\":{\"outlinewidth\":0,\"ticks\":\"\"},\"colorscale\":[[0.0,\"#0d0887\"],[0.1111111111111111,\"#46039f\"],[0.2222222222222222,\"#7201a8\"],[0.3333333333333333,\"#9c179e\"],[0.4444444444444444,\"#bd3786\"],[0.5555555555555556,\"#d8576b\"],[0.6666666666666666,\"#ed7953\"],[0.7777777777777778,\"#fb9f3a\"],[0.8888888888888888,\"#fdca26\"],[1.0,\"#f0f921\"]]}],\"mesh3d\":[{\"type\":\"mesh3d\",\"colorbar\":{\"outlinewidth\":0,\"ticks\":\"\"}}],\"scatter\":[{\"fillpattern\":{\"fillmode\":\"overlay\",\"size\":10,\"solidity\":0.2},\"type\":\"scatter\"}],\"parcoords\":[{\"type\":\"parcoords\",\"line\":{\"colorbar\":{\"outlinewidth\":0,\"ticks\":\"\"}}}],\"scatterpolargl\":[{\"type\":\"scatterpolargl\",\"marker\":{\"colorbar\":{\"outlinewidth\":0,\"ticks\":\"\"}}}],\"bar\":[{\"error_x\":{\"color\":\"#2a3f5f\"},\"error_y\":{\"color\":\"#2a3f5f\"},\"marker\":{\"line\":{\"color\":\"#E5ECF6\",\"width\":0.5},\"pattern\":{\"fillmode\":\"overlay\",\"size\":10,\"solidity\":0.2}},\"type\":\"bar\"}],\"scattergeo\":[{\"type\":\"scattergeo\",\"marker\":{\"colorbar\":{\"outlinewidth\":0,\"ticks\":\"\"}}}],\"scatterpolar\":[{\"type\":\"scatterpolar\",\"marker\":{\"colorbar\":{\"outlinewidth\":0,\"ticks\":\"\"}}}],\"histogram\":[{\"marker\":{\"pattern\":{\"fillmode\":\"overlay\",\"size\":10,\"solidity\":0.2}},\"type\":\"histogram\"}],\"scattergl\":[{\"type\":\"scattergl\",\"marker\":{\"colorbar\":{\"outlinewidth\":0,\"ticks\":\"\"}}}],\"scatter3d\":[{\"type\":\"scatter3d\",\"line\":{\"colorbar\":{\"outlinewidth\":0,\"ticks\":\"\"}},\"marker\":{\"colorbar\":{\"outlinewidth\":0,\"ticks\":\"\"}}}],\"scattermapbox\":[{\"type\":\"scattermapbox\",\"marker\":{\"colorbar\":{\"outlinewidth\":0,\"ticks\":\"\"}}}],\"scatterternary\":[{\"type\":\"scatterternary\",\"marker\":{\"colorbar\":{\"outlinewidth\":0,\"ticks\":\"\"}}}],\"scattercarpet\":[{\"type\":\"scattercarpet\",\"marker\":{\"colorbar\":{\"outlinewidth\":0,\"ticks\":\"\"}}}],\"carpet\":[{\"aaxis\":{\"endlinecolor\":\"#2a3f5f\",\"gridcolor\":\"white\",\"linecolor\":\"white\",\"minorgridcolor\":\"white\",\"startlinecolor\":\"#2a3f5f\"},\"baxis\":{\"endlinecolor\":\"#2a3f5f\",\"gridcolor\":\"white\",\"linecolor\":\"white\",\"minorgridcolor\":\"white\",\"startlinecolor\":\"#2a3f5f\"},\"type\":\"carpet\"}],\"table\":[{\"cells\":{\"fill\":{\"color\":\"#EBF0F8\"},\"line\":{\"color\":\"white\"}},\"header\":{\"fill\":{\"color\":\"#C8D4E3\"},\"line\":{\"color\":\"white\"}},\"type\":\"table\"}],\"barpolar\":[{\"marker\":{\"line\":{\"color\":\"#E5ECF6\",\"width\":0.5},\"pattern\":{\"fillmode\":\"overlay\",\"size\":10,\"solidity\":0.2}},\"type\":\"barpolar\"}],\"pie\":[{\"automargin\":true,\"type\":\"pie\"}]},\"layout\":{\"autotypenumbers\":\"strict\",\"colorway\":[\"#636efa\",\"#EF553B\",\"#00cc96\",\"#ab63fa\",\"#FFA15A\",\"#19d3f3\",\"#FF6692\",\"#B6E880\",\"#FF97FF\",\"#FECB52\"],\"font\":{\"color\":\"#2a3f5f\"},\"hovermode\":\"closest\",\"hoverlabel\":{\"align\":\"left\"},\"paper_bgcolor\":\"white\",\"plot_bgcolor\":\"#E5ECF6\",\"polar\":{\"bgcolor\":\"#E5ECF6\",\"angularaxis\":{\"gridcolor\":\"white\",\"linecolor\":\"white\",\"ticks\":\"\"},\"radialaxis\":{\"gridcolor\":\"white\",\"linecolor\":\"white\",\"ticks\":\"\"}},\"ternary\":{\"bgcolor\":\"#E5ECF6\",\"aaxis\":{\"gridcolor\":\"white\",\"linecolor\":\"white\",\"ticks\":\"\"},\"baxis\":{\"gridcolor\":\"white\",\"linecolor\":\"white\",\"ticks\":\"\"},\"caxis\":{\"gridcolor\":\"white\",\"linecolor\":\"white\",\"ticks\":\"\"}},\"coloraxis\":{\"colorbar\":{\"outlinewidth\":0,\"ticks\":\"\"}},\"colorscale\":{\"sequential\":[[0.0,\"#0d0887\"],[0.1111111111111111,\"#46039f\"],[0.2222222222222222,\"#7201a8\"],[0.3333333333333333,\"#9c179e\"],[0.4444444444444444,\"#bd3786\"],[0.5555555555555556,\"#d8576b\"],[0.6666666666666666,\"#ed7953\"],[0.7777777777777778,\"#fb9f3a\"],[0.8888888888888888,\"#fdca26\"],[1.0,\"#f0f921\"]],\"sequentialminus\":[[0.0,\"#0d0887\"],[0.1111111111111111,\"#46039f\"],[0.2222222222222222,\"#7201a8\"],[0.3333333333333333,\"#9c179e\"],[0.4444444444444444,\"#bd3786\"],[0.5555555555555556,\"#d8576b\"],[0.6666666666666666,\"#ed7953\"],[0.7777777777777778,\"#fb9f3a\"],[0.8888888888888888,\"#fdca26\"],[1.0,\"#f0f921\"]],\"diverging\":[[0,\"#8e0152\"],[0.1,\"#c51b7d\"],[0.2,\"#de77ae\"],[0.3,\"#f1b6da\"],[0.4,\"#fde0ef\"],[0.5,\"#f7f7f7\"],[0.6,\"#e6f5d0\"],[0.7,\"#b8e186\"],[0.8,\"#7fbc41\"],[0.9,\"#4d9221\"],[1,\"#276419\"]]},\"xaxis\":{\"gridcolor\":\"white\",\"linecolor\":\"white\",\"ticks\":\"\",\"title\":{\"standoff\":15},\"zerolinecolor\":\"white\",\"automargin\":true,\"zerolinewidth\":2},\"yaxis\":{\"gridcolor\":\"white\",\"linecolor\":\"white\",\"ticks\":\"\",\"title\":{\"standoff\":15},\"zerolinecolor\":\"white\",\"automargin\":true,\"zerolinewidth\":2},\"scene\":{\"xaxis\":{\"backgroundcolor\":\"#E5ECF6\",\"gridcolor\":\"white\",\"linecolor\":\"white\",\"showbackground\":true,\"ticks\":\"\",\"zerolinecolor\":\"white\",\"gridwidth\":2},\"yaxis\":{\"backgroundcolor\":\"#E5ECF6\",\"gridcolor\":\"white\",\"linecolor\":\"white\",\"showbackground\":true,\"ticks\":\"\",\"zerolinecolor\":\"white\",\"gridwidth\":2},\"zaxis\":{\"backgroundcolor\":\"#E5ECF6\",\"gridcolor\":\"white\",\"linecolor\":\"white\",\"showbackground\":true,\"ticks\":\"\",\"zerolinecolor\":\"white\",\"gridwidth\":2}},\"shapedefaults\":{\"line\":{\"color\":\"#2a3f5f\"}},\"annotationdefaults\":{\"arrowcolor\":\"#2a3f5f\",\"arrowhead\":0,\"arrowwidth\":1},\"geo\":{\"bgcolor\":\"white\",\"landcolor\":\"#E5ECF6\",\"subunitcolor\":\"white\",\"showland\":true,\"showlakes\":true,\"lakecolor\":\"white\"},\"title\":{\"x\":0.05},\"mapbox\":{\"style\":\"light\"}}},\"xaxis\":{\"anchor\":\"y\",\"domain\":[0.0,1.0],\"title\":{\"text\":\"Principal Component 1\"}},\"yaxis\":{\"anchor\":\"x\",\"domain\":[0.0,1.0],\"title\":{\"text\":\"Principal Component 2\"}},\"legend\":{\"title\":{\"text\":\"Label\"},\"tracegroupgap\":0},\"margin\":{\"t\":60},\"title\":{\"text\":\"PCA of Iris Dataset\",\"x\":0.5}},                        {\"responsive\": true}                    ).then(function(){\n",
              "                            \n",
              "var gd = document.getElementById('c42c90f4-74f9-42e3-8f4d-31e9780bf4d6');\n",
              "var x = new MutationObserver(function (mutations, observer) {{\n",
              "        var display = window.getComputedStyle(gd).display;\n",
              "        if (!display || display === 'none') {{\n",
              "            console.log([gd, 'removed!']);\n",
              "            Plotly.purge(gd);\n",
              "            observer.disconnect();\n",
              "        }}\n",
              "}});\n",
              "\n",
              "// Listen for the removal of the full notebook cells\n",
              "var notebookContainer = gd.closest('#notebook-container');\n",
              "if (notebookContainer) {{\n",
              "    x.observe(notebookContainer, {childList: true});\n",
              "}}\n",
              "\n",
              "// Listen for the clearing of the current output cell\n",
              "var outputEl = gd.closest('.output');\n",
              "if (outputEl) {{\n",
              "    x.observe(outputEl, {childList: true});\n",
              "}}\n",
              "\n",
              "                        })                };                            </script>        </div>\n",
              "</body>\n",
              "</html>"
            ]
          },
          "metadata": {}
        }
      ],
      "source": [
        "from sklearn.decomposition import PCA\n",
        "pca = PCA(random_state=__RANDOM_STATE, n_components=2)\n",
        "X_pca = pca.fit_transform(X)\n",
        "df = pd.DataFrame(np.concatenate((X_pca, y.values.reshape(-1,1)), axis=1),\n",
        "                  columns=[\n",
        "                      \"Principal component 1\",\n",
        "                      \"Principal component 2\",\n",
        "                      \"Label\",\n",
        "                  ],\n",
        ").astype({\"Label\": \"category\"})\n",
        "fig = px.scatter(df, x=\"Principal component 1\", y=\"Principal component 2\", color=\"Label\")\n",
        "fig.update_layout(title=\"PCA of Iris Dataset\", title_x=0.5)\n",
        "fig.update_xaxes(title=\"Principal Component 1\")\n",
        "fig.update_yaxes(title=\"Principal Component 2\")\n",
        "fig.show()\n",
        "\n",
        "# TODO: What does the position of the components signify?"
      ]
    },
    {
      "cell_type": "code",
      "execution_count": null,
      "metadata": {
        "colab": {
          "base_uri": "https://localhost:8080/",
          "height": 315,
          "referenced_widgets": [
            "9c47f2c192864eea97d79bb7ed2808b7",
            "8476721b4f46470783e2c7083b63157c",
            "7c9e0aa4aee44899bc307b1d248f3023",
            "01dd1dff2f874276bc71296dae99f3f9",
            "e2c53de6321f430a966b67781e78c722",
            "d2dc9fcecdc84914a082a97b6e9c8d1a",
            "85e439935d7c44e99ef937332ecde9f6",
            "9e133a92e390495abf864031d2dfa505",
            "7b188c040f784dab87c40100937fbcb4",
            "c1bd3ae1f72b4cc3a4c7976219a490a6",
            "e202954ca8894187b88326026c2e4cd0"
          ]
        },
        "id": "IMHMQS6B-iyq",
        "outputId": "f5045151-f54a-4197-b029-bf700bf01e6b"
      },
      "outputs": [
        {
          "output_type": "display_data",
          "data": {
            "text/plain": [
              "Optimization Progress:   0%|          | 0/100 [00:00<?, ?pipeline/s]"
            ],
            "application/vnd.jupyter.widget-view+json": {
              "version_major": 2,
              "version_minor": 0,
              "model_id": "9c47f2c192864eea97d79bb7ed2808b7"
            }
          },
          "metadata": {}
        },
        {
          "output_type": "stream",
          "name": "stdout",
          "text": [
            "\n",
            "Generation 1 - Current best internal CV score: 0.9619047619047618\n",
            "\n",
            "2.07 minutes have elapsed. TPOT will close down.\n",
            "TPOT closed during evaluation in one generation.\n",
            "WARNING: TPOT may not provide a good pipeline if TPOT is stopped/interrupted in a early generation.\n",
            "\n",
            "\n",
            "TPOT closed prematurely. Will use the current best pipeline.\n",
            "\n",
            "Best pipeline: MLPClassifier(input_matrix, alpha=0.0001, learning_rate_init=0.001)\n"
          ]
        },
        {
          "output_type": "execute_result",
          "data": {
            "text/plain": [
              "TPOTClassifier(max_time_mins=2, n_jobs=-1, random_state=42, scoring='accuracy',\n",
              "               verbosity=2)"
            ],
            "text/html": [
              "<style>#sk-container-id-1 {color: black;background-color: white;}#sk-container-id-1 pre{padding: 0;}#sk-container-id-1 div.sk-toggleable {background-color: white;}#sk-container-id-1 label.sk-toggleable__label {cursor: pointer;display: block;width: 100%;margin-bottom: 0;padding: 0.3em;box-sizing: border-box;text-align: center;}#sk-container-id-1 label.sk-toggleable__label-arrow:before {content: \"▸\";float: left;margin-right: 0.25em;color: #696969;}#sk-container-id-1 label.sk-toggleable__label-arrow:hover:before {color: black;}#sk-container-id-1 div.sk-estimator:hover label.sk-toggleable__label-arrow:before {color: black;}#sk-container-id-1 div.sk-toggleable__content {max-height: 0;max-width: 0;overflow: hidden;text-align: left;background-color: #f0f8ff;}#sk-container-id-1 div.sk-toggleable__content pre {margin: 0.2em;color: black;border-radius: 0.25em;background-color: #f0f8ff;}#sk-container-id-1 input.sk-toggleable__control:checked~div.sk-toggleable__content {max-height: 200px;max-width: 100%;overflow: auto;}#sk-container-id-1 input.sk-toggleable__control:checked~label.sk-toggleable__label-arrow:before {content: \"▾\";}#sk-container-id-1 div.sk-estimator input.sk-toggleable__control:checked~label.sk-toggleable__label {background-color: #d4ebff;}#sk-container-id-1 div.sk-label input.sk-toggleable__control:checked~label.sk-toggleable__label {background-color: #d4ebff;}#sk-container-id-1 input.sk-hidden--visually {border: 0;clip: rect(1px 1px 1px 1px);clip: rect(1px, 1px, 1px, 1px);height: 1px;margin: -1px;overflow: hidden;padding: 0;position: absolute;width: 1px;}#sk-container-id-1 div.sk-estimator {font-family: monospace;background-color: #f0f8ff;border: 1px dotted black;border-radius: 0.25em;box-sizing: border-box;margin-bottom: 0.5em;}#sk-container-id-1 div.sk-estimator:hover {background-color: #d4ebff;}#sk-container-id-1 div.sk-parallel-item::after {content: \"\";width: 100%;border-bottom: 1px solid gray;flex-grow: 1;}#sk-container-id-1 div.sk-label:hover label.sk-toggleable__label {background-color: #d4ebff;}#sk-container-id-1 div.sk-serial::before {content: \"\";position: absolute;border-left: 1px solid gray;box-sizing: border-box;top: 0;bottom: 0;left: 50%;z-index: 0;}#sk-container-id-1 div.sk-serial {display: flex;flex-direction: column;align-items: center;background-color: white;padding-right: 0.2em;padding-left: 0.2em;position: relative;}#sk-container-id-1 div.sk-item {position: relative;z-index: 1;}#sk-container-id-1 div.sk-parallel {display: flex;align-items: stretch;justify-content: center;background-color: white;position: relative;}#sk-container-id-1 div.sk-item::before, #sk-container-id-1 div.sk-parallel-item::before {content: \"\";position: absolute;border-left: 1px solid gray;box-sizing: border-box;top: 0;bottom: 0;left: 50%;z-index: -1;}#sk-container-id-1 div.sk-parallel-item {display: flex;flex-direction: column;z-index: 1;position: relative;background-color: white;}#sk-container-id-1 div.sk-parallel-item:first-child::after {align-self: flex-end;width: 50%;}#sk-container-id-1 div.sk-parallel-item:last-child::after {align-self: flex-start;width: 50%;}#sk-container-id-1 div.sk-parallel-item:only-child::after {width: 0;}#sk-container-id-1 div.sk-dashed-wrapped {border: 1px dashed gray;margin: 0 0.4em 0.5em 0.4em;box-sizing: border-box;padding-bottom: 0.4em;background-color: white;}#sk-container-id-1 div.sk-label label {font-family: monospace;font-weight: bold;display: inline-block;line-height: 1.2em;}#sk-container-id-1 div.sk-label-container {text-align: center;}#sk-container-id-1 div.sk-container {/* jupyter's `normalize.less` sets `[hidden] { display: none; }` but bootstrap.min.css set `[hidden] { display: none !important; }` so we also need the `!important` here to be able to override the default hidden behavior on the sphinx rendered scikit-learn.org. See: https://github.com/scikit-learn/scikit-learn/issues/21755 */display: inline-block !important;position: relative;}#sk-container-id-1 div.sk-text-repr-fallback {display: none;}</style><div id=\"sk-container-id-1\" class=\"sk-top-container\"><div class=\"sk-text-repr-fallback\"><pre>TPOTClassifier(max_time_mins=2, n_jobs=-1, random_state=42, scoring=&#x27;accuracy&#x27;,\n",
              "               verbosity=2)</pre><b>In a Jupyter environment, please rerun this cell to show the HTML representation or trust the notebook. <br />On GitHub, the HTML representation is unable to render, please try loading this page with nbviewer.org.</b></div><div class=\"sk-container\" hidden><div class=\"sk-item\"><div class=\"sk-estimator sk-toggleable\"><input class=\"sk-toggleable__control sk-hidden--visually\" id=\"sk-estimator-id-1\" type=\"checkbox\" checked><label for=\"sk-estimator-id-1\" class=\"sk-toggleable__label sk-toggleable__label-arrow\">TPOTClassifier</label><div class=\"sk-toggleable__content\"><pre>TPOTClassifier(max_time_mins=2, n_jobs=-1, random_state=42, scoring=&#x27;accuracy&#x27;,\n",
              "               verbosity=2)</pre></div></div></div></div></div>"
            ]
          },
          "metadata": {},
          "execution_count": 15
        }
      ],
      "source": [
        "from tpot import TPOTClassifier\n",
        "classifier = TPOTClassifier(\n",
        "    n_jobs=-1,   # Use all availabe cores\n",
        "    scoring='accuracy',\n",
        "    max_time_mins=5,  # Can set max time limit\n",
        "    random_state=__RANDOM_STATE, \n",
        "    verbosity=2, \n",
        ")\n",
        "classifier.fit(X_train, y_train)"
      ]
    },
    {
      "cell_type": "code",
      "execution_count": null,
      "metadata": {
        "colab": {
          "base_uri": "https://localhost:8080/"
        },
        "id": "tSyuefDS-iyq",
        "outputId": "73e701ac-ddd6-4c9b-ac06-bf355c2277a5"
      },
      "outputs": [
        {
          "output_type": "stream",
          "name": "stdout",
          "text": [
            "Accuracy score with TPOT classifier: 100.00%\n"
          ]
        },
        {
          "output_type": "stream",
          "name": "stderr",
          "text": [
            "/usr/local/lib/python3.9/dist-packages/sklearn/metrics/_scorer.py:794: FutureWarning:\n",
            "\n",
            "sklearn.metrics.SCORERS is deprecated and will be removed in v1.3. Please use sklearn.metrics.get_scorer_names to get a list of available scorers and sklearn.metrics.get_metric to get scorer.\n",
            "\n"
          ]
        }
      ],
      "source": [
        "acc = classifier.score(X_test, y_test)\n",
        "print(f\"Accuracy score with TPOT classifier: {acc*100:.2f}%\")\n",
        "classifier.export(\"./exported_tpot_model.py\")"
      ]
    },
    {
      "cell_type": "markdown",
      "metadata": {
        "id": "llvbQZ4W-iyq"
      },
      "source": [
        "### AutoML with AutoKeras\n",
        "Theory: https://arxiv.org/abs/1806.10282\n",
        "\n",
        "\"Framework enabling Bayesian optimization to guide the network morphism for efficient neural architecture search. The framework develops a neural network kernel and a tree-structured acquisition function optimization algorithm to efficiently explores the search space. Intensive experiments on real-world benchmark datasets have been done to demonstrate the superior performance of the developed framework over the state-of-the-art methods. Moreover, we build an opensource AutoML system based on our method, namely Auto-Keras.\"\n",
        "\n",
        "\"The system runs in parallel on CPU and GPU, with an adaptive search strategy for different GPU memory limits.\"\n",
        "\n",
        "API: https://autokeras.com/"
      ]
    },
    {
      "cell_type": "code",
      "execution_count": null,
      "metadata": {
        "colab": {
          "base_uri": "https://localhost:8080/"
        },
        "id": "2E1wM7ss-iyr",
        "outputId": "71a3e485-5d19-463c-a27e-93fd0264bdf6"
      },
      "outputs": [
        {
          "output_type": "stream",
          "name": "stdout",
          "text": [
            "Downloading data from https://www.cs.toronto.edu/~kriz/cifar-10-python.tar.gz\n",
            "170498071/170498071 [==============================] - 13s 0us/step\n"
          ]
        }
      ],
      "source": [
        "import autokeras as ak\n",
        "(X_train, y_train), (X_test, y_test) = tf.keras.datasets.cifar10.load_data()\n",
        "X_train_tiny, _, y_train_tiny, _ = train_test_split(\n",
        "  X_train, y_train, train_size=0.1,\n",
        "  random_state=__RANDOM_STATE\n",
        "  )\n",
        "\n",
        "# We will search over 5000 training images only.\n",
        "# Then we can fine-tune the best model using entire dataset. \n",
        "# TODO: This is an example of _____? architecture evaluation. \n",
        "\n",
        "\"\"\"\n",
        "  | Label | Description |\n",
        "  |:-----:|-------------|\n",
        "  |   0   | airplane    |\n",
        "  |   1   | automobile  |\n",
        "  |   2   | bird        |\n",
        "  |   3   | cat         |\n",
        "  |   4   | deer        |\n",
        "  |   5   | dog         |\n",
        "  |   6   | frog        |\n",
        "  |   7   | horse       |\n",
        "  |   8   | ship        |\n",
        "  |   9   | truck       |\n",
        "\"\"\"\n",
        "labels = {\n",
        "    0:  \"airplane\",\n",
        "    1: \"automobile\",\n",
        "    2: \"bird\",\n",
        "    3: \"cat\",    \n",
        "    4: \"deer\",     \n",
        "    5: \"dog\",    \n",
        "    6: \"frog\",     \n",
        "    7: \"horse\",    \n",
        "    8: \"ship\",   \n",
        "    9: \"truck\",\n",
        "}"
      ]
    },
    {
      "cell_type": "code",
      "execution_count": null,
      "metadata": {
        "colab": {
          "base_uri": "https://localhost:8080/"
        },
        "id": "sKz0t4y4-iyr",
        "outputId": "f0abe563-f357-4dde-d66a-a5d29539ccbe"
      },
      "outputs": [
        {
          "output_type": "execute_result",
          "data": {
            "text/plain": [
              "7    534\n",
              "4    524\n",
              "0    510\n",
              "6    505\n",
              "5    503\n",
              "2    502\n",
              "8    499\n",
              "1    487\n",
              "3    474\n",
              "9    462\n",
              "dtype: int64"
            ]
          },
          "metadata": {},
          "execution_count": 20
        }
      ],
      "source": [
        "pd.DataFrame(y_train_tiny).value_counts()"
      ]
    },
    {
      "cell_type": "code",
      "execution_count": null,
      "metadata": {
        "colab": {
          "base_uri": "https://localhost:8080/",
          "height": 159
        },
        "id": "0v3hDZ3y-iyr",
        "outputId": "e47d1329-e114-45c6-d3e7-b35be0b603a5"
      },
      "outputs": [
        {
          "output_type": "display_data",
          "data": {
            "text/plain": [
              "<Figure size 864x576 with 1 Axes>"
            ],
            "image/png": "[encoded data removed]"
          },
          "metadata": {
            "needs_background": "light"
          }
        },
        {
          "output_type": "stream",
          "name": "stdout",
          "text": [
            "['frog', 'truck', 'truck', 'deer', 'automobile', 'automobile']\n"
          ]
        }
      ],
      "source": [
        "from functools import reduce\n",
        "# TODO: What does reduce do?\n",
        "def image_row(x):\n",
        "        images = tf.unstack(x)\n",
        "        row = reduce(lambda a,b: tf.concat((a,b), axis=1), images)\n",
        "        return row\n",
        "\n",
        "n_images = 6\n",
        "images = image_row(X_train[:n_images])\n",
        "plt.figure(figsize=(12,8))\n",
        "plt.imshow(images)\n",
        "plt.axis(\"off\")\n",
        "plt.show()\n",
        "print(f\"{[labels[l] for l in y_train[:n_images].flatten()]}\")"
      ]
    },
    {
      "cell_type": "code",
      "execution_count": null,
      "metadata": {
        "colab": {
          "base_uri": "https://localhost:8080/",
          "height": 700
        },
        "id": "zyPYGMFj-iys",
        "outputId": "7a066c6b-174f-4007-f51c-7695d7fa7084"
      },
      "outputs": [
        {
          "output_type": "display_data",
          "data": {
            "text/plain": [
              "<Figure size 1296x864 with 1 Axes>"
            ],
            "image/png": "[encoded data removed]"
          },
          "metadata": {
            "needs_background": "light"
          }
        }
      ],
      "source": [
        "plt.figure(figsize=(18,12))\n",
        "# TODO: Seaborn has the best histograms\n",
        "sns.histplot(X_train.mean(axis=(1,2))[:,0], kde=True, color=\"red\")\n",
        "sns.histplot(X_train.mean(axis=(1,2))[:,1], kde=True, color=\"green\")\n",
        "sns.histplot(X_train.mean(axis=(1,2))[:,2], kde=True, color=\"blue\")\n",
        "plt.show()"
      ]
    },
    {
      "cell_type": "code",
      "execution_count": null,
      "metadata": {
        "id": "AGifZh5X-iys"
      },
      "outputs": [],
      "source": [
        "# We will customize our search space to only consider smaller \"vanilla\" convolutional models\n",
        "input_node = ak.ImageInput()\n",
        "output_node = ak.ImageBlock(\n",
        "    # Only search Vanilla Conv architectures.\n",
        "    block_type=\"vanilla\",  # Custom block used to populate hypermodel\n",
        "    # Normalize the dataset.\n",
        "    normalize=True,\n",
        "    # Perform augmentation\n",
        "    augment=True,\n",
        ")(input_node)\n",
        "output_node = ak.ClassificationHead()(output_node)\n",
        "clf = ak.AutoModel(\n",
        "    inputs=input_node, outputs=output_node, overwrite=True, max_trials=10,\n",
        "    directory= __DATA_PATH / \"vanilla-conv\", seed=__RANDOM_STATE, objective=\"val_accuracy\"  # TODO: Note __truediv__ behavior of Path\n",
        ")"
      ]
    },
    {
      "cell_type": "code",
      "execution_count": null,
      "metadata": {
        "colab": {
          "base_uri": "https://localhost:8080/"
        },
        "id": "qyNTiuoo-iys",
        "outputId": "425a4d53-e4aa-4c44-d62f-03ba2f8b6755"
      },
      "outputs": [
        {
          "output_type": "stream",
          "name": "stdout",
          "text": [
            "Trial 10 Complete [00h 00m 25s]\n",
            "val_accuracy: 0.24896694719791412\n",
            "\n",
            "Best val_accuracy So Far: 0.3863636255264282\n",
            "Total elapsed time: 00h 04m 54s\n"
          ]
        },
        {
          "output_type": "stream",
          "name": "stderr",
          "text": [
            "WARNING:tensorflow:Using a while_loop for converting RngReadAndSkip cause there is no registered converter for this op.\n",
            "WARNING:tensorflow:Using a while_loop for converting Bitcast cause there is no registered converter for this op.\n",
            "WARNING:tensorflow:Using a while_loop for converting Bitcast cause there is no registered converter for this op.\n",
            "WARNING:tensorflow:Using a while_loop for converting StatelessRandomUniformV2 cause there is no registered converter for this op.\n",
            "WARNING:tensorflow:Using a while_loop for converting ImageProjectiveTransformV3 cause there is no registered converter for this op.\n"
          ]
        },
        {
          "output_type": "stream",
          "name": "stdout",
          "text": [
            "Epoch 1/2\n"
          ]
        },
        {
          "output_type": "stream",
          "name": "stderr",
          "text": [
            "WARNING:tensorflow:Using a while_loop for converting RngReadAndSkip cause there is no registered converter for this op.\n",
            "WARNING:tensorflow:Using a while_loop for converting Bitcast cause there is no registered converter for this op.\n",
            "WARNING:tensorflow:Using a while_loop for converting Bitcast cause there is no registered converter for this op.\n",
            "WARNING:tensorflow:Using a while_loop for converting StatelessRandomUniformV2 cause there is no registered converter for this op.\n",
            "WARNING:tensorflow:Using a while_loop for converting ImageProjectiveTransformV3 cause there is no registered converter for this op.\n",
            "WARNING:tensorflow:Using a while_loop for converting RngReadAndSkip cause there is no registered converter for this op.\n",
            "WARNING:tensorflow:Using a while_loop for converting Bitcast cause there is no registered converter for this op.\n",
            "WARNING:tensorflow:Using a while_loop for converting Bitcast cause there is no registered converter for this op.\n",
            "WARNING:tensorflow:Using a while_loop for converting StatelessRandomUniformV2 cause there is no registered converter for this op.\n",
            "WARNING:tensorflow:Using a while_loop for converting ImageProjectiveTransformV3 cause there is no registered converter for this op.\n"
          ]
        },
        {
          "output_type": "stream",
          "name": "stdout",
          "text": [
            "157/157 [==============================] - 15s 76ms/step - loss: 2.0775 - accuracy: 0.2426\n",
            "Epoch 2/2\n",
            "157/157 [==============================] - 12s 75ms/step - loss: 1.7892 - accuracy: 0.3592\n"
          ]
        },
        {
          "output_type": "stream",
          "name": "stderr",
          "text": [
            "WARNING:tensorflow:Using a while_loop for converting RngReadAndSkip cause there is no registered converter for this op.\n",
            "WARNING:tensorflow:Using a while_loop for converting Bitcast cause there is no registered converter for this op.\n",
            "WARNING:tensorflow:Using a while_loop for converting Bitcast cause there is no registered converter for this op.\n",
            "WARNING:tensorflow:Using a while_loop for converting StatelessRandomUniformV2 cause there is no registered converter for this op.\n",
            "WARNING:tensorflow:Using a while_loop for converting ImageProjectiveTransformV3 cause there is no registered converter for this op.\n",
            "WARNING:tensorflow:Using a while_loop for converting RngReadAndSkip cause there is no registered converter for this op.\n",
            "WARNING:tensorflow:Using a while_loop for converting Bitcast cause there is no registered converter for this op.\n",
            "WARNING:tensorflow:Using a while_loop for converting Bitcast cause there is no registered converter for this op.\n",
            "WARNING:tensorflow:Using a while_loop for converting StatelessRandomUniformV2 cause there is no registered converter for this op.\n",
            "WARNING:tensorflow:Using a while_loop for converting ImageProjectiveTransformV3 cause there is no registered converter for this op.\n",
            "WARNING:tensorflow:Using a while_loop for converting RngReadAndSkip cause there is no registered converter for this op.\n",
            "WARNING:tensorflow:Using a while_loop for converting Bitcast cause there is no registered converter for this op.\n",
            "WARNING:tensorflow:Using a while_loop for converting Bitcast cause there is no registered converter for this op.\n",
            "WARNING:tensorflow:Using a while_loop for converting StatelessRandomUniformV2 cause there is no registered converter for this op.\n",
            "WARNING:tensorflow:Using a while_loop for converting ImageProjectiveTransformV3 cause there is no registered converter for this op.\n",
            "WARNING:absl:Found untraced functions such as _jit_compiled_convolution_op, _jit_compiled_convolution_op, _jit_compiled_convolution_op, _jit_compiled_convolution_op while saving (showing 4 of 4). These functions will not be directly callable after loading.\n"
          ]
        },
        {
          "output_type": "execute_result",
          "data": {
            "text/plain": [
              "<keras.callbacks.History at 0x7fcff0b0a9a0>"
            ]
          },
          "metadata": {},
          "execution_count": 24
        }
      ],
      "source": [
        "clf.fit(X_train_tiny, y_train_tiny, epochs=2)  # TODO: Fit 10 models for 5 epochs each!"
      ]
    },
    {
      "cell_type": "code",
      "execution_count": null,
      "metadata": {
        "colab": {
          "base_uri": "https://localhost:8080/",
          "height": 542
        },
        "id": "FAuYE7Zw-iys",
        "outputId": "142c6e37-2a5f-4331-e393-086bcfde611a"
      },
      "outputs": [
        {
          "output_type": "display_data",
          "data": {
            "text/html": [
              "<html>\n",
              "<head><meta charset=\"utf-8\" /></head>\n",
              "<body>\n",
              "    <div>            <script src=\"https://cdnjs.cloudflare.com/ajax/libs/mathjax/2.7.5/MathJax.js?config=TeX-AMS-MML_SVG\"></script><script type=\"text/javascript\">if (window.MathJax && window.MathJax.Hub && window.MathJax.Hub.Config) {window.MathJax.Hub.Config({SVG: {font: \"STIX-Web\"}});}</script>                <script type=\"text/javascript\">window.PlotlyConfig = {MathJaxConfig: 'local'};</script>\n",
              "        <script src=\"https://cdn.plot.ly/plotly-2.18.2.min.js\"></script>                <div id=\"ef61dd9a-d8b1-4f5f-8203-557aa40cf5e9\" class=\"plotly-graph-div\" style=\"height:525px; width:100%;\"></div>            <script type=\"text/javascript\">                                    window.PLOTLYENV=window.PLOTLYENV || {};                                    if (document.getElementById(\"ef61dd9a-d8b1-4f5f-8203-557aa40cf5e9\")) {                    Plotly.newPlot(                        \"ef61dd9a-d8b1-4f5f-8203-557aa40cf5e9\",                        [{\"alignmentgroup\":\"True\",\"hovertemplate\":\"Trial=%{x}<br>Score=%{y}<extra></extra>\",\"legendgroup\":\"\",\"marker\":{\"color\":\"#636efa\",\"pattern\":{\"shape\":\"\"}},\"name\":\"\",\"offsetgroup\":\"\",\"orientation\":\"v\",\"showlegend\":false,\"textposition\":\"auto\",\"x\":[0,1,2,3,4,5,6,7,8],\"xaxis\":\"x\",\"y\":[0.3863636255264282,0.24896694719791412,0.14462809264659882,0.14152891933918,0.14049586653709412,0.12809917330741882,0.12396693974733353,0.11570248007774353,0.11363636702299118],\"yaxis\":\"y\",\"type\":\"bar\"}],                        {\"template\":{\"data\":{\"histogram2dcontour\":[{\"type\":\"histogram2dcontour\",\"colorbar\":{\"outlinewidth\":0,\"ticks\":\"\"},\"colorscale\":[[0.0,\"#0d0887\"],[0.1111111111111111,\"#46039f\"],[0.2222222222222222,\"#7201a8\"],[0.3333333333333333,\"#9c179e\"],[0.4444444444444444,\"#bd3786\"],[0.5555555555555556,\"#d8576b\"],[0.6666666666666666,\"#ed7953\"],[0.7777777777777778,\"#fb9f3a\"],[0.8888888888888888,\"#fdca26\"],[1.0,\"#f0f921\"]]}],\"choropleth\":[{\"type\":\"choropleth\",\"colorbar\":{\"outlinewidth\":0,\"ticks\":\"\"}}],\"histogram2d\":[{\"type\":\"histogram2d\",\"colorbar\":{\"outlinewidth\":0,\"ticks\":\"\"},\"colorscale\":[[0.0,\"#0d0887\"],[0.1111111111111111,\"#46039f\"],[0.2222222222222222,\"#7201a8\"],[0.3333333333333333,\"#9c179e\"],[0.4444444444444444,\"#bd3786\"],[0.5555555555555556,\"#d8576b\"],[0.6666666666666666,\"#ed7953\"],[0.7777777777777778,\"#fb9f3a\"],[0.8888888888888888,\"#fdca26\"],[1.0,\"#f0f921\"]]}],\"heatmap\":[{\"type\":\"heatmap\",\"colorbar\":{\"outlinewidth\":0,\"ticks\":\"\"},\"colorscale\":[[0.0,\"#0d0887\"],[0.1111111111111111,\"#46039f\"],[0.2222222222222222,\"#7201a8\"],[0.3333333333333333,\"#9c179e\"],[0.4444444444444444,\"#bd3786\"],[0.5555555555555556,\"#d8576b\"],[0.6666666666666666,\"#ed7953\"],[0.7777777777777778,\"#fb9f3a\"],[0.8888888888888888,\"#fdca26\"],[1.0,\"#f0f921\"]]}],\"heatmapgl\":[{\"type\":\"heatmapgl\",\"colorbar\":{\"outlinewidth\":0,\"ticks\":\"\"},\"colorscale\":[[0.0,\"#0d0887\"],[0.1111111111111111,\"#46039f\"],[0.2222222222222222,\"#7201a8\"],[0.3333333333333333,\"#9c179e\"],[0.4444444444444444,\"#bd3786\"],[0.5555555555555556,\"#d8576b\"],[0.6666666666666666,\"#ed7953\"],[0.7777777777777778,\"#fb9f3a\"],[0.8888888888888888,\"#fdca26\"],[1.0,\"#f0f921\"]]}],\"contourcarpet\":[{\"type\":\"contourcarpet\",\"colorbar\":{\"outlinewidth\":0,\"ticks\":\"\"}}],\"contour\":[{\"type\":\"contour\",\"colorbar\":{\"outlinewidth\":0,\"ticks\":\"\"},\"colorscale\":[[0.0,\"#0d0887\"],[0.1111111111111111,\"#46039f\"],[0.2222222222222222,\"#7201a8\"],[0.3333333333333333,\"#9c179e\"],[0.4444444444444444,\"#bd3786\"],[0.5555555555555556,\"#d8576b\"],[0.6666666666666666,\"#ed7953\"],[0.7777777777777778,\"#fb9f3a\"],[0.8888888888888888,\"#fdca26\"],[1.0,\"#f0f921\"]]}],\"surface\":[{\"type\":\"surface\",\"colorbar\":{\"outlinewidth\":0,\"ticks\":\"\"},\"colorscale\":[[0.0,\"#0d0887\"],[0.1111111111111111,\"#46039f\"],[0.2222222222222222,\"#7201a8\"],[0.3333333333333333,\"#9c179e\"],[0.4444444444444444,\"#bd3786\"],[0.5555555555555556,\"#d8576b\"],[0.6666666666666666,\"#ed7953\"],[0.7777777777777778,\"#fb9f3a\"],[0.8888888888888888,\"#fdca26\"],[1.0,\"#f0f921\"]]}],\"mesh3d\":[{\"type\":\"mesh3d\",\"colorbar\":{\"outlinewidth\":0,\"ticks\":\"\"}}],\"scatter\":[{\"fillpattern\":{\"fillmode\":\"overlay\",\"size\":10,\"solidity\":0.2},\"type\":\"scatter\"}],\"parcoords\":[{\"type\":\"parcoords\",\"line\":{\"colorbar\":{\"outlinewidth\":0,\"ticks\":\"\"}}}],\"scatterpolargl\":[{\"type\":\"scatterpolargl\",\"marker\":{\"colorbar\":{\"outlinewidth\":0,\"ticks\":\"\"}}}],\"bar\":[{\"error_x\":{\"color\":\"#2a3f5f\"},\"error_y\":{\"color\":\"#2a3f5f\"},\"marker\":{\"line\":{\"color\":\"#E5ECF6\",\"width\":0.5},\"pattern\":{\"fillmode\":\"overlay\",\"size\":10,\"solidity\":0.2}},\"type\":\"bar\"}],\"scattergeo\":[{\"type\":\"scattergeo\",\"marker\":{\"colorbar\":{\"outlinewidth\":0,\"ticks\":\"\"}}}],\"scatterpolar\":[{\"type\":\"scatterpolar\",\"marker\":{\"colorbar\":{\"outlinewidth\":0,\"ticks\":\"\"}}}],\"histogram\":[{\"marker\":{\"pattern\":{\"fillmode\":\"overlay\",\"size\":10,\"solidity\":0.2}},\"type\":\"histogram\"}],\"scattergl\":[{\"type\":\"scattergl\",\"marker\":{\"colorbar\":{\"outlinewidth\":0,\"ticks\":\"\"}}}],\"scatter3d\":[{\"type\":\"scatter3d\",\"line\":{\"colorbar\":{\"outlinewidth\":0,\"ticks\":\"\"}},\"marker\":{\"colorbar\":{\"outlinewidth\":0,\"ticks\":\"\"}}}],\"scattermapbox\":[{\"type\":\"scattermapbox\",\"marker\":{\"colorbar\":{\"outlinewidth\":0,\"ticks\":\"\"}}}],\"scatterternary\":[{\"type\":\"scatterternary\",\"marker\":{\"colorbar\":{\"outlinewidth\":0,\"ticks\":\"\"}}}],\"scattercarpet\":[{\"type\":\"scattercarpet\",\"marker\":{\"colorbar\":{\"outlinewidth\":0,\"ticks\":\"\"}}}],\"carpet\":[{\"aaxis\":{\"endlinecolor\":\"#2a3f5f\",\"gridcolor\":\"white\",\"linecolor\":\"white\",\"minorgridcolor\":\"white\",\"startlinecolor\":\"#2a3f5f\"},\"baxis\":{\"endlinecolor\":\"#2a3f5f\",\"gridcolor\":\"white\",\"linecolor\":\"white\",\"minorgridcolor\":\"white\",\"startlinecolor\":\"#2a3f5f\"},\"type\":\"carpet\"}],\"table\":[{\"cells\":{\"fill\":{\"color\":\"#EBF0F8\"},\"line\":{\"color\":\"white\"}},\"header\":{\"fill\":{\"color\":\"#C8D4E3\"},\"line\":{\"color\":\"white\"}},\"type\":\"table\"}],\"barpolar\":[{\"marker\":{\"line\":{\"color\":\"#E5ECF6\",\"width\":0.5},\"pattern\":{\"fillmode\":\"overlay\",\"size\":10,\"solidity\":0.2}},\"type\":\"barpolar\"}],\"pie\":[{\"automargin\":true,\"type\":\"pie\"}]},\"layout\":{\"autotypenumbers\":\"strict\",\"colorway\":[\"#636efa\",\"#EF553B\",\"#00cc96\",\"#ab63fa\",\"#FFA15A\",\"#19d3f3\",\"#FF6692\",\"#B6E880\",\"#FF97FF\",\"#FECB52\"],\"font\":{\"color\":\"#2a3f5f\"},\"hovermode\":\"closest\",\"hoverlabel\":{\"align\":\"left\"},\"paper_bgcolor\":\"white\",\"plot_bgcolor\":\"#E5ECF6\",\"polar\":{\"bgcolor\":\"#E5ECF6\",\"angularaxis\":{\"gridcolor\":\"white\",\"linecolor\":\"white\",\"ticks\":\"\"},\"radialaxis\":{\"gridcolor\":\"white\",\"linecolor\":\"white\",\"ticks\":\"\"}},\"ternary\":{\"bgcolor\":\"#E5ECF6\",\"aaxis\":{\"gridcolor\":\"white\",\"linecolor\":\"white\",\"ticks\":\"\"},\"baxis\":{\"gridcolor\":\"white\",\"linecolor\":\"white\",\"ticks\":\"\"},\"caxis\":{\"gridcolor\":\"white\",\"linecolor\":\"white\",\"ticks\":\"\"}},\"coloraxis\":{\"colorbar\":{\"outlinewidth\":0,\"ticks\":\"\"}},\"colorscale\":{\"sequential\":[[0.0,\"#0d0887\"],[0.1111111111111111,\"#46039f\"],[0.2222222222222222,\"#7201a8\"],[0.3333333333333333,\"#9c179e\"],[0.4444444444444444,\"#bd3786\"],[0.5555555555555556,\"#d8576b\"],[0.6666666666666666,\"#ed7953\"],[0.7777777777777778,\"#fb9f3a\"],[0.8888888888888888,\"#fdca26\"],[1.0,\"#f0f921\"]],\"sequentialminus\":[[0.0,\"#0d0887\"],[0.1111111111111111,\"#46039f\"],[0.2222222222222222,\"#7201a8\"],[0.3333333333333333,\"#9c179e\"],[0.4444444444444444,\"#bd3786\"],[0.5555555555555556,\"#d8576b\"],[0.6666666666666666,\"#ed7953\"],[0.7777777777777778,\"#fb9f3a\"],[0.8888888888888888,\"#fdca26\"],[1.0,\"#f0f921\"]],\"diverging\":[[0,\"#8e0152\"],[0.1,\"#c51b7d\"],[0.2,\"#de77ae\"],[0.3,\"#f1b6da\"],[0.4,\"#fde0ef\"],[0.5,\"#f7f7f7\"],[0.6,\"#e6f5d0\"],[0.7,\"#b8e186\"],[0.8,\"#7fbc41\"],[0.9,\"#4d9221\"],[1,\"#276419\"]]},\"xaxis\":{\"gridcolor\":\"white\",\"linecolor\":\"white\",\"ticks\":\"\",\"title\":{\"standoff\":15},\"zerolinecolor\":\"white\",\"automargin\":true,\"zerolinewidth\":2},\"yaxis\":{\"gridcolor\":\"white\",\"linecolor\":\"white\",\"ticks\":\"\",\"title\":{\"standoff\":15},\"zerolinecolor\":\"white\",\"automargin\":true,\"zerolinewidth\":2},\"scene\":{\"xaxis\":{\"backgroundcolor\":\"#E5ECF6\",\"gridcolor\":\"white\",\"linecolor\":\"white\",\"showbackground\":true,\"ticks\":\"\",\"zerolinecolor\":\"white\",\"gridwidth\":2},\"yaxis\":{\"backgroundcolor\":\"#E5ECF6\",\"gridcolor\":\"white\",\"linecolor\":\"white\",\"showbackground\":true,\"ticks\":\"\",\"zerolinecolor\":\"white\",\"gridwidth\":2},\"zaxis\":{\"backgroundcolor\":\"#E5ECF6\",\"gridcolor\":\"white\",\"linecolor\":\"white\",\"showbackground\":true,\"ticks\":\"\",\"zerolinecolor\":\"white\",\"gridwidth\":2}},\"shapedefaults\":{\"line\":{\"color\":\"#2a3f5f\"}},\"annotationdefaults\":{\"arrowcolor\":\"#2a3f5f\",\"arrowhead\":0,\"arrowwidth\":1},\"geo\":{\"bgcolor\":\"white\",\"landcolor\":\"#E5ECF6\",\"subunitcolor\":\"white\",\"showland\":true,\"showlakes\":true,\"lakecolor\":\"white\"},\"title\":{\"x\":0.05},\"mapbox\":{\"style\":\"light\"}}},\"xaxis\":{\"anchor\":\"y\",\"domain\":[0.0,1.0],\"title\":{\"text\":\"Trial\"}},\"yaxis\":{\"anchor\":\"x\",\"domain\":[0.0,1.0],\"title\":{\"text\":\"Score\"}},\"legend\":{\"tracegroupgap\":0},\"margin\":{\"t\":60},\"barmode\":\"relative\"},                        {\"responsive\": true}                    ).then(function(){\n",
              "                            \n",
              "var gd = document.getElementById('ef61dd9a-d8b1-4f5f-8203-557aa40cf5e9');\n",
              "var x = new MutationObserver(function (mutations, observer) {{\n",
              "        var display = window.getComputedStyle(gd).display;\n",
              "        if (!display || display === 'none') {{\n",
              "            console.log([gd, 'removed!']);\n",
              "            Plotly.purge(gd);\n",
              "            observer.disconnect();\n",
              "        }}\n",
              "}});\n",
              "\n",
              "// Listen for the removal of the full notebook cells\n",
              "var notebookContainer = gd.closest('#notebook-container');\n",
              "if (notebookContainer) {{\n",
              "    x.observe(notebookContainer, {childList: true});\n",
              "}}\n",
              "\n",
              "// Listen for the clearing of the current output cell\n",
              "var outputEl = gd.closest('.output');\n",
              "if (outputEl) {{\n",
              "    x.observe(outputEl, {childList: true});\n",
              "}}\n",
              "\n",
              "                        })                };                            </script>        </div>\n",
              "</body>\n",
              "</html>"
            ]
          },
          "metadata": {}
        }
      ],
      "source": [
        "trials = clf.tuner.oracle.get_best_trials(num_trials=-1)\n",
        "data = {\n",
        "    \"Trial\": [],\n",
        "    \"Score\": []\n",
        "}\n",
        "for i, t in enumerate(trials):\n",
        "    data[\"Trial\"].append(i)\n",
        "    data[\"Score\"].append(t.score)\n",
        "px.bar(data_frame=pd.DataFrame(data), x=\"Trial\", y=\"Score\")"
      ]
    },
    {
      "cell_type": "code",
      "execution_count": null,
      "metadata": {
        "id": "BCxlo6SY-iys"
      },
      "outputs": [],
      "source": [
        "import pickle\n",
        "\n",
        "# with open(__DATA_PATH / \"vanilla-conv\" / \"ak_clf_van_conv.pkl\", \"wb\") as handle:\n",
        "#     pickle.dump(clf, handle, protocol=pickle.HIGHEST_PROTOCOL)\n",
        "\n",
        "\n",
        "# with open(__DATA_PATH / \"vanilla-conv\" / \"ak_clf_van_conv.pkl\", \"rb\") as handle:\n",
        "#     clf = pickle.load(handle)"
      ]
    },
    {
      "cell_type": "code",
      "execution_count": null,
      "metadata": {
        "colab": {
          "base_uri": "https://localhost:8080/"
        },
        "id": "Pb1ZsGkz-iyt",
        "outputId": "4fd8791c-5879-411c-8fdd-16be085bd62a"
      },
      "outputs": [
        {
          "output_type": "stream",
          "name": "stderr",
          "text": [
            "WARNING:tensorflow:Using a while_loop for converting RngReadAndSkip cause there is no registered converter for this op.\n",
            "WARNING:tensorflow:Using a while_loop for converting Bitcast cause there is no registered converter for this op.\n",
            "WARNING:tensorflow:Using a while_loop for converting Bitcast cause there is no registered converter for this op.\n",
            "WARNING:tensorflow:Using a while_loop for converting StatelessRandomUniformV2 cause there is no registered converter for this op.\n",
            "WARNING:tensorflow:Using a while_loop for converting ImageProjectiveTransformV3 cause there is no registered converter for this op.\n"
          ]
        },
        {
          "output_type": "stream",
          "name": "stdout",
          "text": [
            "Model: \"model\"\n",
            "_________________________________________________________________\n",
            " Layer (type)                Output Shape              Param #   \n",
            "=================================================================\n",
            " input_1 (InputLayer)        [(None, 32, 32, 3)]       0         \n",
            "                                                                 \n",
            " cast_to_float32 (CastToFloa  (None, 32, 32, 3)        0         \n",
            " t32)                                                            \n",
            "                                                                 \n",
            " normalization (Normalizatio  (None, 32, 32, 3)        7         \n",
            " n)                                                              \n",
            "                                                                 \n",
            " random_flip (RandomFlip)    (None, 32, 32, 3)         0         \n",
            "                                                                 \n",
            " random_rotation (RandomRota  (None, 32, 32, 3)        0         \n",
            " tion)                                                           \n",
            "                                                                 \n",
            " conv2d (Conv2D)             (None, 30, 30, 32)        896       \n",
            "                                                                 \n",
            " conv2d_1 (Conv2D)           (None, 28, 28, 32)        9248      \n",
            "                                                                 \n",
            " max_pooling2d (MaxPooling2D  (None, 14, 14, 32)       0         \n",
            " )                                                               \n",
            "                                                                 \n",
            " conv2d_2 (Conv2D)           (None, 12, 12, 32)        9248      \n",
            "                                                                 \n",
            " conv2d_3 (Conv2D)           (None, 10, 10, 32)        9248      \n",
            "                                                                 \n",
            " max_pooling2d_1 (MaxPooling  (None, 5, 5, 32)         0         \n",
            " 2D)                                                             \n",
            "                                                                 \n",
            " flatten (Flatten)           (None, 800)               0         \n",
            "                                                                 \n",
            " dense (Dense)               (None, 10)                8010      \n",
            "                                                                 \n",
            " classification_head_1 (Soft  (None, 10)               0         \n",
            " max)                                                            \n",
            "                                                                 \n",
            "=================================================================\n",
            "Total params: 36,657\n",
            "Trainable params: 36,650\n",
            "Non-trainable params: 7\n",
            "_________________________________________________________________\n"
          ]
        }
      ],
      "source": [
        "model = clf.tuner.get_best_model()  # TODO: Take a look at the best model we found\n",
        "model.summary()\n"
      ]
    },
    {
      "cell_type": "code",
      "execution_count": null,
      "metadata": {
        "colab": {
          "base_uri": "https://localhost:8080/"
        },
        "id": "mWMav2hu-iyt",
        "outputId": "90f5b7de-3f2e-4138-8fe7-b3bea4c6cdc4"
      },
      "outputs": [
        {
          "output_type": "stream",
          "name": "stderr",
          "text": [
            "WARNING:tensorflow:Using a while_loop for converting RngReadAndSkip cause there is no registered converter for this op.\n",
            "WARNING:tensorflow:Using a while_loop for converting Bitcast cause there is no registered converter for this op.\n",
            "WARNING:tensorflow:Using a while_loop for converting Bitcast cause there is no registered converter for this op.\n",
            "WARNING:tensorflow:Using a while_loop for converting StatelessRandomUniformV2 cause there is no registered converter for this op.\n",
            "WARNING:tensorflow:Using a while_loop for converting ImageProjectiveTransformV3 cause there is no registered converter for this op.\n",
            "WARNING:tensorflow:Using a while_loop for converting RngReadAndSkip cause there is no registered converter for this op.\n",
            "WARNING:tensorflow:Using a while_loop for converting Bitcast cause there is no registered converter for this op.\n",
            "WARNING:tensorflow:Using a while_loop for converting Bitcast cause there is no registered converter for this op.\n",
            "WARNING:tensorflow:Using a while_loop for converting StatelessRandomUniformV2 cause there is no registered converter for this op.\n",
            "WARNING:tensorflow:Using a while_loop for converting ImageProjectiveTransformV3 cause there is no registered converter for this op.\n",
            "WARNING:tensorflow:Using a while_loop for converting RngReadAndSkip cause there is no registered converter for this op.\n",
            "WARNING:tensorflow:Using a while_loop for converting Bitcast cause there is no registered converter for this op.\n",
            "WARNING:tensorflow:Using a while_loop for converting Bitcast cause there is no registered converter for this op.\n",
            "WARNING:tensorflow:Using a while_loop for converting StatelessRandomUniformV2 cause there is no registered converter for this op.\n",
            "WARNING:tensorflow:Using a while_loop for converting ImageProjectiveTransformV3 cause there is no registered converter for this op.\n",
            "WARNING:absl:Found untraced functions such as _jit_compiled_convolution_op, _jit_compiled_convolution_op, _jit_compiled_convolution_op, _jit_compiled_convolution_op, _update_step_xla while saving (showing 5 of 5). These functions will not be directly callable after loading.\n"
          ]
        }
      ],
      "source": [
        "model.save(__DATA_PATH / \"vanilla-conv\" / \"vanilla-conv-model\")  # TODO: Save once your search is completed "
      ]
    },
    {
      "cell_type": "code",
      "execution_count": null,
      "metadata": {
        "colab": {
          "base_uri": "https://localhost:8080/"
        },
        "id": "I3mPuMtG-iyt",
        "outputId": "302641f4-023b-470f-e6e4-920bbf0cc835"
      },
      "outputs": [
        {
          "output_type": "stream",
          "name": "stderr",
          "text": [
            "WARNING:tensorflow:Using a while_loop for converting RngReadAndSkip cause there is no registered converter for this op.\n",
            "WARNING:tensorflow:Using a while_loop for converting Bitcast cause there is no registered converter for this op.\n",
            "WARNING:tensorflow:Using a while_loop for converting Bitcast cause there is no registered converter for this op.\n",
            "WARNING:tensorflow:Using a while_loop for converting StatelessRandomUniformV2 cause there is no registered converter for this op.\n",
            "WARNING:tensorflow:Using a while_loop for converting ImageProjectiveTransformV3 cause there is no registered converter for this op.\n"
          ]
        },
        {
          "output_type": "stream",
          "name": "stdout",
          "text": [
            "313/313 [==============================] - 1s 4ms/step - loss: 2.2514 - accuracy: 0.2428\n",
            "Accuracy score with AutoKeras classifier: 24.28%\n"
          ]
        }
      ],
      "source": [
        "loss, acc = clf.evaluate(X_test, y_test)\n",
        "print(f\"Accuracy score with AutoKeras classifier: {acc*100:.2f}%\")  # Not so good, but only using 10% of data\n"
      ]
    },
    {
      "cell_type": "code",
      "execution_count": null,
      "metadata": {
        "colab": {
          "base_uri": "https://localhost:8080/"
        },
        "id": "I1TM_BVe-iyt",
        "outputId": "2b326003-6e49-4b9b-c3ee-54d3a1141f71"
      },
      "outputs": [
        {
          "output_type": "stream",
          "name": "stderr",
          "text": [
            "WARNING:tensorflow:Using a while_loop for converting RngReadAndSkip cause there is no registered converter for this op.\n",
            "WARNING:tensorflow:Using a while_loop for converting Bitcast cause there is no registered converter for this op.\n",
            "WARNING:tensorflow:Using a while_loop for converting Bitcast cause there is no registered converter for this op.\n",
            "WARNING:tensorflow:Using a while_loop for converting StatelessRandomUniformV2 cause there is no registered converter for this op.\n",
            "WARNING:tensorflow:Using a while_loop for converting ImageProjectiveTransformV3 cause there is no registered converter for this op.\n"
          ]
        },
        {
          "output_type": "execute_result",
          "data": {
            "text/plain": [
              "<keras.engine.functional.Functional at 0x7fcfec3ef070>"
            ]
          },
          "metadata": {},
          "execution_count": 30
        }
      ],
      "source": [
        "clf.export_model()  # Another option autokeras specific to export model"
      ]
    },
    {
      "cell_type": "code",
      "execution_count": null,
      "metadata": {
        "id": "-BEiC4Ma-iyt"
      },
      "outputs": [],
      "source": [
        "# https://github.com/keras-team/autokeras/blob/master/autokeras/auto_model.py \n",
        "# TODO: Let's try to fine tune the best vanilla model\n",
        "\n",
        "# See auto_model.py source, we want to make use of adapt method for auto preprocessing.\n",
        "\n",
        "def ak_get_dataset(X,y,clf):\n",
        "    x = clf._adapt(X, clf.inputs, 32)\n",
        "    y = clf._adapt(y, clf._heads, 32)\n",
        "    dataset = tf.data.Dataset.zip((x, y))\n",
        "    pipeline = clf.tuner.get_best_pipeline()\n",
        "    dataset = pipeline.transform(dataset)\n",
        "    return dataset\n",
        "\n",
        "train_split = int(0.8 * len(X_train))\n",
        "train_dataset = ak_get_dataset(X_train[:train_split], y_train[:train_split], clf)\n",
        "val_dataset = ak_get_dataset(X_train[train_split:], y_train[train_split:], clf)\n",
        "test_dataset = ak_get_dataset(X_test, y_test, clf)"
      ]
    },
    {
      "cell_type": "code",
      "execution_count": null,
      "metadata": {
        "colab": {
          "base_uri": "https://localhost:8080/"
        },
        "id": "M5gbD-57-iyt",
        "outputId": "c33cf44b-225d-40c9-dfb8-6bca02979a6e"
      },
      "outputs": [
        {
          "output_type": "stream",
          "name": "stderr",
          "text": [
            "WARNING:tensorflow:Using a while_loop for converting RngReadAndSkip cause there is no registered converter for this op.\n",
            "WARNING:tensorflow:Using a while_loop for converting Bitcast cause there is no registered converter for this op.\n",
            "WARNING:tensorflow:Using a while_loop for converting Bitcast cause there is no registered converter for this op.\n",
            "WARNING:tensorflow:Using a while_loop for converting StatelessRandomUniformV2 cause there is no registered converter for this op.\n",
            "WARNING:tensorflow:Using a while_loop for converting ImageProjectiveTransformV3 cause there is no registered converter for this op.\n"
          ]
        },
        {
          "output_type": "stream",
          "name": "stdout",
          "text": [
            "Epoch 1/10\n"
          ]
        },
        {
          "output_type": "stream",
          "name": "stderr",
          "text": [
            "WARNING:tensorflow:Using a while_loop for converting RngReadAndSkip cause there is no registered converter for this op.\n",
            "WARNING:tensorflow:Using a while_loop for converting Bitcast cause there is no registered converter for this op.\n",
            "WARNING:tensorflow:Using a while_loop for converting Bitcast cause there is no registered converter for this op.\n",
            "WARNING:tensorflow:Using a while_loop for converting StatelessRandomUniformV2 cause there is no registered converter for this op.\n",
            "WARNING:tensorflow:Using a while_loop for converting ImageProjectiveTransformV3 cause there is no registered converter for this op.\n",
            "WARNING:tensorflow:Using a while_loop for converting RngReadAndSkip cause there is no registered converter for this op.\n",
            "WARNING:tensorflow:Using a while_loop for converting Bitcast cause there is no registered converter for this op.\n",
            "WARNING:tensorflow:Using a while_loop for converting Bitcast cause there is no registered converter for this op.\n",
            "WARNING:tensorflow:Using a while_loop for converting StatelessRandomUniformV2 cause there is no registered converter for this op.\n",
            "WARNING:tensorflow:Using a while_loop for converting ImageProjectiveTransformV3 cause there is no registered converter for this op.\n"
          ]
        },
        {
          "output_type": "stream",
          "name": "stdout",
          "text": [
            "1250/1250 [==============================] - 97s 75ms/step - loss: 1.6914 - accuracy: 0.3822 - val_loss: 1.6193 - val_accuracy: 0.4144\n",
            "Epoch 2/10\n",
            "1250/1250 [==============================] - 112s 90ms/step - loss: 1.6456 - accuracy: 0.4008 - val_loss: 1.6193 - val_accuracy: 0.4144\n",
            "Epoch 3/10\n",
            "1250/1250 [==============================] - 97s 77ms/step - loss: 1.6458 - accuracy: 0.4043 - val_loss: 1.6193 - val_accuracy: 0.4144\n",
            "Epoch 4/10\n",
            "1250/1250 [==============================] - 94s 75ms/step - loss: 1.6455 - accuracy: 0.4018 - val_loss: 1.6193 - val_accuracy: 0.4144\n",
            "Epoch 5/10\n",
            "1250/1250 [==============================] - 93s 74ms/step - loss: 1.6472 - accuracy: 0.4016 - val_loss: 1.6193 - val_accuracy: 0.4144\n",
            "Epoch 6/10\n",
            "1250/1250 [==============================] - 95s 76ms/step - loss: 1.6464 - accuracy: 0.4019 - val_loss: 1.6193 - val_accuracy: 0.4144\n",
            "Epoch 7/10\n",
            "1250/1250 [==============================] - 94s 76ms/step - loss: 1.6451 - accuracy: 0.4004 - val_loss: 1.6193 - val_accuracy: 0.4144\n",
            "Epoch 8/10\n",
            "1250/1250 [==============================] - 102s 81ms/step - loss: 1.6458 - accuracy: 0.3999 - val_loss: 1.6193 - val_accuracy: 0.4144\n",
            "Epoch 9/10\n",
            "1250/1250 [==============================] - 96s 77ms/step - loss: 1.6467 - accuracy: 0.4019 - val_loss: 1.6193 - val_accuracy: 0.4144\n",
            "Epoch 10/10\n",
            "1250/1250 [==============================] - 92s 73ms/step - loss: 1.6478 - accuracy: 0.4031 - val_loss: 1.6193 - val_accuracy: 0.4144\n"
          ]
        }
      ],
      "source": [
        "# Let's try fully training for a few epochs:\n",
        "# tf.config.run_functions_eagerly(True)\n",
        "model = tf.keras.models.load_model(__DATA_PATH / \"vanilla-conv\" / \"vanilla-conv-model\")\n",
        "history = model.fit(train_dataset, batch_size=32, epochs=10, validation_data=val_dataset)"
      ]
    },
    {
      "cell_type": "code",
      "execution_count": null,
      "metadata": {
        "colab": {
          "base_uri": "https://localhost:8080/",
          "height": 700
        },
        "id": "8WX6SqUA-iyu",
        "outputId": "f0df3665-f1db-4e26-bff2-6b3e3ce1173c"
      },
      "outputs": [
        {
          "output_type": "display_data",
          "data": {
            "text/plain": [
              "<Figure size 1296x864 with 1 Axes>"
            ],
            "image/png": "[encoded data removed]"
          },
          "metadata": {
            "needs_background": "light"
          }
        }
      ],
      "source": [
        "plt.figure(figsize=(18,12))\n",
        "plt.plot(history.history[\"loss\"], label=\"Training Loss\")\n",
        "plt.plot(history.history[\"val_loss\"], label=\"Validation Loss\")\n",
        "plt.legend()\n",
        "plt.show()"
      ]
    },
    {
      "cell_type": "code",
      "execution_count": null,
      "metadata": {
        "colab": {
          "base_uri": "https://localhost:8080/"
        },
        "id": "yaRz50NB-iyu",
        "outputId": "e6930142-51cc-46ca-c934-43b040279313"
      },
      "outputs": [
        {
          "output_type": "stream",
          "name": "stdout",
          "text": [
            "313/313 [==============================] - 1s 3ms/step\n",
            "Accuracy score with AutoKeras classifier after full dataset fit: 40.97%\n"
          ]
        }
      ],
      "source": [
        "from sklearn.metrics import accuracy_score\n",
        "y_pred = model.predict(test_dataset)\n",
        "acc = accuracy_score(y_test, y_pred.argmax(axis=1))\n",
        "print(f\"Accuracy score with AutoKeras classifier after full dataset fit: {acc*100:.2f}%\")  # Better, but still not great. Perhaps we need to try a larger model? "
      ]
    },
    {
      "cell_type": "markdown",
      "metadata": {
        "id": "83hKwY6I-iyu"
      },
      "source": [
        "# What about larger models?\n"
      ]
    },
    {
      "cell_type": "code",
      "execution_count": null,
      "metadata": {
        "colab": {
          "base_uri": "https://localhost:8080/"
        },
        "id": "PgFwPF5d-iyu",
        "outputId": "70298f35-f401-4bb3-9d4c-6d0c417ffed2"
      },
      "outputs": [
        {
          "output_type": "stream",
          "name": "stdout",
          "text": [
            "{'image_block_1/block_type': 'vanilla', 'image_block_1/normalize': True, 'image_block_1/augment': False, 'image_block_1/conv_block_1/kernel_size': 3, 'image_block_1/conv_block_1/num_blocks': 1, 'image_block_1/conv_block_1/num_layers': 2, 'image_block_1/conv_block_1/max_pooling': True, 'image_block_1/conv_block_1/separable': False, 'image_block_1/conv_block_1/dropout': 0.25, 'image_block_1/conv_block_1/filters_0_0': 32, 'image_block_1/conv_block_1/filters_0_1': 64, 'classification_head_1/spatial_reduction_1/reduction_type': 'flatten', 'classification_head_1/dropout': 0.5, 'optimizer': 'adam', 'learning_rate': 0.001}\n",
            "\n",
            "{'image_block_1/block_type': 'resnet', 'image_block_1/normalize': True, 'image_block_1/augment': True, 'image_block_1/image_augmentation_1/horizontal_flip': True, 'image_block_1/image_augmentation_1/vertical_flip': True, 'image_block_1/image_augmentation_1/contrast_factor': 0.0, 'image_block_1/image_augmentation_1/rotation_factor': 0.0, 'image_block_1/image_augmentation_1/translation_factor': 0.1, 'image_block_1/image_augmentation_1/zoom_factor': 0.0, 'image_block_1/res_net_block_1/pretrained': False, 'image_block_1/res_net_block_1/version': 'resnet50', 'image_block_1/res_net_block_1/imagenet_size': True, 'classification_head_1/spatial_reduction_1/reduction_type': 'global_avg', 'classification_head_1/dropout': 0, 'optimizer': 'adam', 'learning_rate': 0.001}\n",
            "\n",
            "{'image_block_1/block_type': 'efficient', 'image_block_1/normalize': True, 'image_block_1/augment': True, 'image_block_1/image_augmentation_1/horizontal_flip': True, 'image_block_1/image_augmentation_1/vertical_flip': False, 'image_block_1/image_augmentation_1/contrast_factor': 0.0, 'image_block_1/image_augmentation_1/rotation_factor': 0.0, 'image_block_1/image_augmentation_1/translation_factor': 0.1, 'image_block_1/image_augmentation_1/zoom_factor': 0.0, 'image_block_1/efficient_net_block_1/pretrained': True, 'image_block_1/efficient_net_block_1/version': 'b7', 'image_block_1/efficient_net_block_1/trainable': True, 'image_block_1/efficient_net_block_1/imagenet_size': True, 'classification_head_1/spatial_reduction_1/reduction_type': 'global_avg', 'classification_head_1/dropout': 0, 'optimizer': 'adam', 'learning_rate': 2e-05}\n",
            "\n"
          ]
        }
      ],
      "source": [
        "from autokeras.tuners import task_specific\n",
        "for hp in task_specific.IMAGE_CLASSIFIER:\n",
        "    print(f\"{hp}\\n\")\n",
        "# NOTE: This is the default tuner initial hyper params. Note block types."
      ]
    },
    {
      "cell_type": "code",
      "execution_count": null,
      "metadata": {
        "colab": {
          "base_uri": "https://localhost:8080/"
        },
        "id": "QaZ7dpwN-iyu",
        "outputId": "7b37628c-c5b0-436e-cb5e-e10803f6bddb"
      },
      "outputs": [
        {
          "output_type": "stream",
          "name": "stdout",
          "text": [
            "Trial 5 Complete [00h 00m 19s]\n",
            "val_accuracy: 0.2623966932296753\n",
            "\n",
            "Best val_accuracy So Far: 0.43285122513771057\n",
            "Total elapsed time: 00h 09m 04s\n",
            "157/157 [==============================] - 2s 6ms/step - loss: 1.8490 - accuracy: 0.3394\n"
          ]
        },
        {
          "output_type": "stream",
          "name": "stderr",
          "text": [
            "WARNING:absl:Found untraced functions such as _jit_compiled_convolution_op, _jit_compiled_convolution_op while saving (showing 2 of 2). These functions will not be directly callable after loading.\n"
          ]
        },
        {
          "output_type": "execute_result",
          "data": {
            "text/plain": [
              "<keras.callbacks.History at 0x7fcfe42a0d30>"
            ]
          },
          "metadata": {},
          "execution_count": 36
        }
      ],
      "source": [
        "import autokeras as ak\n",
        "clf = ak.ImageClassifier(max_trials=5, directory=__DATA_PATH, seed=__RANDOM_STATE,\n",
        "                         overwrite=True, objective=\"val_accuracy\")\n",
        "clf.fit(X_train_tiny, y_train_tiny, epochs=1)"
      ]
    },
    {
      "cell_type": "code",
      "execution_count": null,
      "metadata": {
        "colab": {
          "base_uri": "https://localhost:8080/",
          "height": 542
        },
        "id": "Xz4kxesw-iyu",
        "outputId": "c94624e2-9b1d-4aa8-9181-dec238ba27bf"
      },
      "outputs": [
        {
          "output_type": "display_data",
          "data": {
            "text/html": [
              "<html>\n",
              "<head><meta charset=\"utf-8\" /></head>\n",
              "<body>\n",
              "    <div>            <script src=\"https://cdnjs.cloudflare.com/ajax/libs/mathjax/2.7.5/MathJax.js?config=TeX-AMS-MML_SVG\"></script><script type=\"text/javascript\">if (window.MathJax && window.MathJax.Hub && window.MathJax.Hub.Config) {window.MathJax.Hub.Config({SVG: {font: \"STIX-Web\"}});}</script>                <script type=\"text/javascript\">window.PlotlyConfig = {MathJaxConfig: 'local'};</script>\n",
              "        <script src=\"https://cdn.plot.ly/plotly-2.18.2.min.js\"></script>                <div id=\"69a99437-d979-4d8d-bca8-1993b9f6a7eb\" class=\"plotly-graph-div\" style=\"height:525px; width:100%;\"></div>            <script type=\"text/javascript\">                                    window.PLOTLYENV=window.PLOTLYENV || {};                                    if (document.getElementById(\"69a99437-d979-4d8d-bca8-1993b9f6a7eb\")) {                    Plotly.newPlot(                        \"69a99437-d979-4d8d-bca8-1993b9f6a7eb\",                        [{\"alignmentgroup\":\"True\",\"hovertemplate\":\"Trial=%{x}<br>Score=%{y}<extra></extra>\",\"legendgroup\":\"\",\"marker\":{\"color\":\"#636efa\",\"pattern\":{\"shape\":\"\"}},\"name\":\"\",\"offsetgroup\":\"\",\"orientation\":\"v\",\"showlegend\":false,\"textposition\":\"auto\",\"x\":[0,1,2,3],\"xaxis\":\"x\",\"y\":[0.43285122513771057,0.40805783867836,0.2623966932296753,0.22107438743114471],\"yaxis\":\"y\",\"type\":\"bar\"}],                        {\"template\":{\"data\":{\"histogram2dcontour\":[{\"type\":\"histogram2dcontour\",\"colorbar\":{\"outlinewidth\":0,\"ticks\":\"\"},\"colorscale\":[[0.0,\"#0d0887\"],[0.1111111111111111,\"#46039f\"],[0.2222222222222222,\"#7201a8\"],[0.3333333333333333,\"#9c179e\"],[0.4444444444444444,\"#bd3786\"],[0.5555555555555556,\"#d8576b\"],[0.6666666666666666,\"#ed7953\"],[0.7777777777777778,\"#fb9f3a\"],[0.8888888888888888,\"#fdca26\"],[1.0,\"#f0f921\"]]}],\"choropleth\":[{\"type\":\"choropleth\",\"colorbar\":{\"outlinewidth\":0,\"ticks\":\"\"}}],\"histogram2d\":[{\"type\":\"histogram2d\",\"colorbar\":{\"outlinewidth\":0,\"ticks\":\"\"},\"colorscale\":[[0.0,\"#0d0887\"],[0.1111111111111111,\"#46039f\"],[0.2222222222222222,\"#7201a8\"],[0.3333333333333333,\"#9c179e\"],[0.4444444444444444,\"#bd3786\"],[0.5555555555555556,\"#d8576b\"],[0.6666666666666666,\"#ed7953\"],[0.7777777777777778,\"#fb9f3a\"],[0.8888888888888888,\"#fdca26\"],[1.0,\"#f0f921\"]]}],\"heatmap\":[{\"type\":\"heatmap\",\"colorbar\":{\"outlinewidth\":0,\"ticks\":\"\"},\"colorscale\":[[0.0,\"#0d0887\"],[0.1111111111111111,\"#46039f\"],[0.2222222222222222,\"#7201a8\"],[0.3333333333333333,\"#9c179e\"],[0.4444444444444444,\"#bd3786\"],[0.5555555555555556,\"#d8576b\"],[0.6666666666666666,\"#ed7953\"],[0.7777777777777778,\"#fb9f3a\"],[0.8888888888888888,\"#fdca26\"],[1.0,\"#f0f921\"]]}],\"heatmapgl\":[{\"type\":\"heatmapgl\",\"colorbar\":{\"outlinewidth\":0,\"ticks\":\"\"},\"colorscale\":[[0.0,\"#0d0887\"],[0.1111111111111111,\"#46039f\"],[0.2222222222222222,\"#7201a8\"],[0.3333333333333333,\"#9c179e\"],[0.4444444444444444,\"#bd3786\"],[0.5555555555555556,\"#d8576b\"],[0.6666666666666666,\"#ed7953\"],[0.7777777777777778,\"#fb9f3a\"],[0.8888888888888888,\"#fdca26\"],[1.0,\"#f0f921\"]]}],\"contourcarpet\":[{\"type\":\"contourcarpet\",\"colorbar\":{\"outlinewidth\":0,\"ticks\":\"\"}}],\"contour\":[{\"type\":\"contour\",\"colorbar\":{\"outlinewidth\":0,\"ticks\":\"\"},\"colorscale\":[[0.0,\"#0d0887\"],[0.1111111111111111,\"#46039f\"],[0.2222222222222222,\"#7201a8\"],[0.3333333333333333,\"#9c179e\"],[0.4444444444444444,\"#bd3786\"],[0.5555555555555556,\"#d8576b\"],[0.6666666666666666,\"#ed7953\"],[0.7777777777777778,\"#fb9f3a\"],[0.8888888888888888,\"#fdca26\"],[1.0,\"#f0f921\"]]}],\"surface\":[{\"type\":\"surface\",\"colorbar\":{\"outlinewidth\":0,\"ticks\":\"\"},\"colorscale\":[[0.0,\"#0d0887\"],[0.1111111111111111,\"#46039f\"],[0.2222222222222222,\"#7201a8\"],[0.3333333333333333,\"#9c179e\"],[0.4444444444444444,\"#bd3786\"],[0.5555555555555556,\"#d8576b\"],[0.6666666666666666,\"#ed7953\"],[0.7777777777777778,\"#fb9f3a\"],[0.8888888888888888,\"#fdca26\"],[1.0,\"#f0f921\"]]}],\"mesh3d\":[{\"type\":\"mesh3d\",\"colorbar\":{\"outlinewidth\":0,\"ticks\":\"\"}}],\"scatter\":[{\"fillpattern\":{\"fillmode\":\"overlay\",\"size\":10,\"solidity\":0.2},\"type\":\"scatter\"}],\"parcoords\":[{\"type\":\"parcoords\",\"line\":{\"colorbar\":{\"outlinewidth\":0,\"ticks\":\"\"}}}],\"scatterpolargl\":[{\"type\":\"scatterpolargl\",\"marker\":{\"colorbar\":{\"outlinewidth\":0,\"ticks\":\"\"}}}],\"bar\":[{\"error_x\":{\"color\":\"#2a3f5f\"},\"error_y\":{\"color\":\"#2a3f5f\"},\"marker\":{\"line\":{\"color\":\"#E5ECF6\",\"width\":0.5},\"pattern\":{\"fillmode\":\"overlay\",\"size\":10,\"solidity\":0.2}},\"type\":\"bar\"}],\"scattergeo\":[{\"type\":\"scattergeo\",\"marker\":{\"colorbar\":{\"outlinewidth\":0,\"ticks\":\"\"}}}],\"scatterpolar\":[{\"type\":\"scatterpolar\",\"marker\":{\"colorbar\":{\"outlinewidth\":0,\"ticks\":\"\"}}}],\"histogram\":[{\"marker\":{\"pattern\":{\"fillmode\":\"overlay\",\"size\":10,\"solidity\":0.2}},\"type\":\"histogram\"}],\"scattergl\":[{\"type\":\"scattergl\",\"marker\":{\"colorbar\":{\"outlinewidth\":0,\"ticks\":\"\"}}}],\"scatter3d\":[{\"type\":\"scatter3d\",\"line\":{\"colorbar\":{\"outlinewidth\":0,\"ticks\":\"\"}},\"marker\":{\"colorbar\":{\"outlinewidth\":0,\"ticks\":\"\"}}}],\"scattermapbox\":[{\"type\":\"scattermapbox\",\"marker\":{\"colorbar\":{\"outlinewidth\":0,\"ticks\":\"\"}}}],\"scatterternary\":[{\"type\":\"scatterternary\",\"marker\":{\"colorbar\":{\"outlinewidth\":0,\"ticks\":\"\"}}}],\"scattercarpet\":[{\"type\":\"scattercarpet\",\"marker\":{\"colorbar\":{\"outlinewidth\":0,\"ticks\":\"\"}}}],\"carpet\":[{\"aaxis\":{\"endlinecolor\":\"#2a3f5f\",\"gridcolor\":\"white\",\"linecolor\":\"white\",\"minorgridcolor\":\"white\",\"startlinecolor\":\"#2a3f5f\"},\"baxis\":{\"endlinecolor\":\"#2a3f5f\",\"gridcolor\":\"white\",\"linecolor\":\"white\",\"minorgridcolor\":\"white\",\"startlinecolor\":\"#2a3f5f\"},\"type\":\"carpet\"}],\"table\":[{\"cells\":{\"fill\":{\"color\":\"#EBF0F8\"},\"line\":{\"color\":\"white\"}},\"header\":{\"fill\":{\"color\":\"#C8D4E3\"},\"line\":{\"color\":\"white\"}},\"type\":\"table\"}],\"barpolar\":[{\"marker\":{\"line\":{\"color\":\"#E5ECF6\",\"width\":0.5},\"pattern\":{\"fillmode\":\"overlay\",\"size\":10,\"solidity\":0.2}},\"type\":\"barpolar\"}],\"pie\":[{\"automargin\":true,\"type\":\"pie\"}]},\"layout\":{\"autotypenumbers\":\"strict\",\"colorway\":[\"#636efa\",\"#EF553B\",\"#00cc96\",\"#ab63fa\",\"#FFA15A\",\"#19d3f3\",\"#FF6692\",\"#B6E880\",\"#FF97FF\",\"#FECB52\"],\"font\":{\"color\":\"#2a3f5f\"},\"hovermode\":\"closest\",\"hoverlabel\":{\"align\":\"left\"},\"paper_bgcolor\":\"white\",\"plot_bgcolor\":\"#E5ECF6\",\"polar\":{\"bgcolor\":\"#E5ECF6\",\"angularaxis\":{\"gridcolor\":\"white\",\"linecolor\":\"white\",\"ticks\":\"\"},\"radialaxis\":{\"gridcolor\":\"white\",\"linecolor\":\"white\",\"ticks\":\"\"}},\"ternary\":{\"bgcolor\":\"#E5ECF6\",\"aaxis\":{\"gridcolor\":\"white\",\"linecolor\":\"white\",\"ticks\":\"\"},\"baxis\":{\"gridcolor\":\"white\",\"linecolor\":\"white\",\"ticks\":\"\"},\"caxis\":{\"gridcolor\":\"white\",\"linecolor\":\"white\",\"ticks\":\"\"}},\"coloraxis\":{\"colorbar\":{\"outlinewidth\":0,\"ticks\":\"\"}},\"colorscale\":{\"sequential\":[[0.0,\"#0d0887\"],[0.1111111111111111,\"#46039f\"],[0.2222222222222222,\"#7201a8\"],[0.3333333333333333,\"#9c179e\"],[0.4444444444444444,\"#bd3786\"],[0.5555555555555556,\"#d8576b\"],[0.6666666666666666,\"#ed7953\"],[0.7777777777777778,\"#fb9f3a\"],[0.8888888888888888,\"#fdca26\"],[1.0,\"#f0f921\"]],\"sequentialminus\":[[0.0,\"#0d0887\"],[0.1111111111111111,\"#46039f\"],[0.2222222222222222,\"#7201a8\"],[0.3333333333333333,\"#9c179e\"],[0.4444444444444444,\"#bd3786\"],[0.5555555555555556,\"#d8576b\"],[0.6666666666666666,\"#ed7953\"],[0.7777777777777778,\"#fb9f3a\"],[0.8888888888888888,\"#fdca26\"],[1.0,\"#f0f921\"]],\"diverging\":[[0,\"#8e0152\"],[0.1,\"#c51b7d\"],[0.2,\"#de77ae\"],[0.3,\"#f1b6da\"],[0.4,\"#fde0ef\"],[0.5,\"#f7f7f7\"],[0.6,\"#e6f5d0\"],[0.7,\"#b8e186\"],[0.8,\"#7fbc41\"],[0.9,\"#4d9221\"],[1,\"#276419\"]]},\"xaxis\":{\"gridcolor\":\"white\",\"linecolor\":\"white\",\"ticks\":\"\",\"title\":{\"standoff\":15},\"zerolinecolor\":\"white\",\"automargin\":true,\"zerolinewidth\":2},\"yaxis\":{\"gridcolor\":\"white\",\"linecolor\":\"white\",\"ticks\":\"\",\"title\":{\"standoff\":15},\"zerolinecolor\":\"white\",\"automargin\":true,\"zerolinewidth\":2},\"scene\":{\"xaxis\":{\"backgroundcolor\":\"#E5ECF6\",\"gridcolor\":\"white\",\"linecolor\":\"white\",\"showbackground\":true,\"ticks\":\"\",\"zerolinecolor\":\"white\",\"gridwidth\":2},\"yaxis\":{\"backgroundcolor\":\"#E5ECF6\",\"gridcolor\":\"white\",\"linecolor\":\"white\",\"showbackground\":true,\"ticks\":\"\",\"zerolinecolor\":\"white\",\"gridwidth\":2},\"zaxis\":{\"backgroundcolor\":\"#E5ECF6\",\"gridcolor\":\"white\",\"linecolor\":\"white\",\"showbackground\":true,\"ticks\":\"\",\"zerolinecolor\":\"white\",\"gridwidth\":2}},\"shapedefaults\":{\"line\":{\"color\":\"#2a3f5f\"}},\"annotationdefaults\":{\"arrowcolor\":\"#2a3f5f\",\"arrowhead\":0,\"arrowwidth\":1},\"geo\":{\"bgcolor\":\"white\",\"landcolor\":\"#E5ECF6\",\"subunitcolor\":\"white\",\"showland\":true,\"showlakes\":true,\"lakecolor\":\"white\"},\"title\":{\"x\":0.05},\"mapbox\":{\"style\":\"light\"}}},\"xaxis\":{\"anchor\":\"y\",\"domain\":[0.0,1.0],\"title\":{\"text\":\"Trial\"}},\"yaxis\":{\"anchor\":\"x\",\"domain\":[0.0,1.0],\"title\":{\"text\":\"Score\"}},\"legend\":{\"tracegroupgap\":0},\"margin\":{\"t\":60},\"barmode\":\"relative\"},                        {\"responsive\": true}                    ).then(function(){\n",
              "                            \n",
              "var gd = document.getElementById('69a99437-d979-4d8d-bca8-1993b9f6a7eb');\n",
              "var x = new MutationObserver(function (mutations, observer) {{\n",
              "        var display = window.getComputedStyle(gd).display;\n",
              "        if (!display || display === 'none') {{\n",
              "            console.log([gd, 'removed!']);\n",
              "            Plotly.purge(gd);\n",
              "            observer.disconnect();\n",
              "        }}\n",
              "}});\n",
              "\n",
              "// Listen for the removal of the full notebook cells\n",
              "var notebookContainer = gd.closest('#notebook-container');\n",
              "if (notebookContainer) {{\n",
              "    x.observe(notebookContainer, {childList: true});\n",
              "}}\n",
              "\n",
              "// Listen for the clearing of the current output cell\n",
              "var outputEl = gd.closest('.output');\n",
              "if (outputEl) {{\n",
              "    x.observe(outputEl, {childList: true});\n",
              "}}\n",
              "\n",
              "                        })                };                            </script>        </div>\n",
              "</body>\n",
              "</html>"
            ]
          },
          "metadata": {}
        }
      ],
      "source": [
        "trials = clf.tuner.oracle.get_best_trials(num_trials=-1)\n",
        "data = {\n",
        "    \"Trial\": [],\n",
        "    \"Score\": []\n",
        "}\n",
        "for i, t in enumerate(trials):\n",
        "    data[\"Trial\"].append(i)\n",
        "    data[\"Score\"].append(t.score)\n",
        "px.bar(data_frame=pd.DataFrame(data), x=\"Trial\", y=\"Score\")"
      ]
    },
    {
      "cell_type": "code",
      "execution_count": null,
      "metadata": {
        "colab": {
          "base_uri": "https://localhost:8080/"
        },
        "id": "cwdzK9_B-iyv",
        "outputId": "ca04c446-5b23-45ac-fb90-5890364ad191"
      },
      "outputs": [
        {
          "output_type": "stream",
          "name": "stdout",
          "text": [
            "Model: \"model\"\n",
            "_________________________________________________________________\n",
            " Layer (type)                Output Shape              Param #   \n",
            "=================================================================\n",
            " input_1 (InputLayer)        [(None, 32, 32, 3)]       0         \n",
            "                                                                 \n",
            " cast_to_float32 (CastToFloa  (None, 32, 32, 3)        0         \n",
            " t32)                                                            \n",
            "                                                                 \n",
            " normalization (Normalizatio  (None, 32, 32, 3)        7         \n",
            " n)                                                              \n",
            "                                                                 \n",
            " conv2d (Conv2D)             (None, 30, 30, 32)        896       \n",
            "                                                                 \n",
            " conv2d_1 (Conv2D)           (None, 28, 28, 64)        18496     \n",
            "                                                                 \n",
            " max_pooling2d (MaxPooling2D  (None, 14, 14, 64)       0         \n",
            " )                                                               \n",
            "                                                                 \n",
            " dropout (Dropout)           (None, 14, 14, 64)        0         \n",
            "                                                                 \n",
            " flatten (Flatten)           (None, 12544)             0         \n",
            "                                                                 \n",
            " dropout_1 (Dropout)         (None, 12544)             0         \n",
            "                                                                 \n",
            " dense (Dense)               (None, 10)                125450    \n",
            "                                                                 \n",
            " classification_head_1 (Soft  (None, 10)               0         \n",
            " max)                                                            \n",
            "                                                                 \n",
            "=================================================================\n",
            "Total params: 144,849\n",
            "Trainable params: 144,842\n",
            "Non-trainable params: 7\n",
            "_________________________________________________________________\n"
          ]
        }
      ],
      "source": [
        "model = clf.tuner.get_best_models()[0]\n",
        "model.summary()"
      ]
    },
    {
      "cell_type": "code",
      "execution_count": null,
      "metadata": {
        "id": "nxHlhR8T-iyv"
      },
      "outputs": [],
      "source": [
        "# NOTE: A few more params than our vanilla model!"
      ]
    },
    {
      "cell_type": "code",
      "execution_count": null,
      "metadata": {
        "id": "q8KToFn7-iyv"
      },
      "outputs": [],
      "source": [
        "import pickle\n",
        "# with open(__DATA_PATH / \"image_classifier\" / \"ak_clf_eff_net.pkl\", \"wb\") as handle:\n",
        "#     pickle.dump(clf, handle, protocol = pickle.HIGHEST_PROTOCOL)\n",
        "\n",
        "# with open(__DATA_PATH / \"image_classifier\" / \"ak_clf_eff_net.pkl\", \"wb\") as handle:\n",
        "#     clf = pickle.load(handle)"
      ]
    },
    {
      "cell_type": "code",
      "execution_count": null,
      "metadata": {
        "colab": {
          "base_uri": "https://localhost:8080/"
        },
        "id": "41IPUXA--iyv",
        "outputId": "fbdd50a9-8e01-4d39-a6b2-80b97ce90604"
      },
      "outputs": [
        {
          "output_type": "stream",
          "name": "stdout",
          "text": [
            "Search space summary\n",
            "Default search space size: 28\n",
            "image_block_1/normalize (Boolean)\n",
            "{'default': False, 'conditions': []}\n",
            "image_block_1/augment (Boolean)\n",
            "{'default': False, 'conditions': []}\n",
            "image_block_1/block_type (Choice)\n",
            "{'default': 'resnet', 'conditions': [], 'values': ['resnet', 'xception', 'vanilla', 'efficient'], 'ordered': False}\n",
            "image_block_1/res_net_block_1/pretrained (Boolean)\n",
            "{'default': False, 'conditions': [{'class_name': 'Parent', 'config': {'name': 'image_block_1/block_type', 'values': ['resnet']}}]}\n",
            "image_block_1/res_net_block_1/version (Choice)\n",
            "{'default': 'resnet50', 'conditions': [{'class_name': 'Parent', 'config': {'name': 'image_block_1/block_type', 'values': ['resnet']}}], 'values': ['resnet50', 'resnet101', 'resnet152', 'resnet50_v2', 'resnet101_v2', 'resnet152_v2'], 'ordered': False}\n",
            "image_block_1/res_net_block_1/imagenet_size (Boolean)\n",
            "{'default': False, 'conditions': [{'class_name': 'Parent', 'config': {'name': 'image_block_1/block_type', 'values': ['resnet']}}]}\n",
            "classification_head_1/spatial_reduction_1/reduction_type (Choice)\n",
            "{'default': 'flatten', 'conditions': [], 'values': ['flatten', 'global_max', 'global_avg'], 'ordered': False}\n",
            "classification_head_1/dropout (Choice)\n",
            "{'default': 0, 'conditions': [], 'values': [0.0, 0.25, 0.5], 'ordered': True}\n",
            "optimizer (Choice)\n",
            "{'default': 'adam', 'conditions': [], 'values': ['adam', 'sgd', 'adam_weight_decay'], 'ordered': False}\n",
            "learning_rate (Choice)\n",
            "{'default': 0.001, 'conditions': [], 'values': [0.1, 0.01, 0.001, 0.0001, 2e-05, 1e-05], 'ordered': True}\n",
            "image_block_1/conv_block_1/kernel_size (Choice)\n",
            "{'default': 3, 'conditions': [{'class_name': 'Parent', 'config': {'name': 'image_block_1/block_type', 'values': ['vanilla']}}], 'values': [3, 5, 7], 'ordered': True}\n",
            "image_block_1/conv_block_1/separable (Boolean)\n",
            "{'default': False, 'conditions': [{'class_name': 'Parent', 'config': {'name': 'image_block_1/block_type', 'values': ['vanilla']}}]}\n",
            "image_block_1/conv_block_1/max_pooling (Boolean)\n",
            "{'default': True, 'conditions': [{'class_name': 'Parent', 'config': {'name': 'image_block_1/block_type', 'values': ['vanilla']}}]}\n",
            "image_block_1/conv_block_1/num_blocks (Choice)\n",
            "{'default': 2, 'conditions': [{'class_name': 'Parent', 'config': {'name': 'image_block_1/block_type', 'values': ['vanilla']}}], 'values': [1, 2, 3], 'ordered': True}\n",
            "image_block_1/conv_block_1/num_layers (Choice)\n",
            "{'default': 2, 'conditions': [{'class_name': 'Parent', 'config': {'name': 'image_block_1/block_type', 'values': ['vanilla']}}], 'values': [1, 2], 'ordered': True}\n",
            "image_block_1/conv_block_1/filters_0_0 (Choice)\n",
            "{'default': 32, 'conditions': [{'class_name': 'Parent', 'config': {'name': 'image_block_1/block_type', 'values': ['vanilla']}}], 'values': [16, 32, 64, 128, 256, 512], 'ordered': True}\n",
            "image_block_1/conv_block_1/filters_0_1 (Choice)\n",
            "{'default': 32, 'conditions': [{'class_name': 'Parent', 'config': {'name': 'image_block_1/block_type', 'values': ['vanilla']}}], 'values': [16, 32, 64, 128, 256, 512], 'ordered': True}\n",
            "image_block_1/conv_block_1/dropout (Choice)\n",
            "{'default': 0.0, 'conditions': [{'class_name': 'Parent', 'config': {'name': 'image_block_1/block_type', 'values': ['vanilla']}}], 'values': [0.0, 0.25, 0.5], 'ordered': True}\n",
            "image_block_1/image_augmentation_1/translation_factor (Choice)\n",
            "{'default': 0.0, 'conditions': [{'class_name': 'Parent', 'config': {'name': 'image_block_1/augment', 'values': [1]}}], 'values': [0.0, 0.1], 'ordered': True}\n",
            "image_block_1/image_augmentation_1/horizontal_flip (Boolean)\n",
            "{'default': True, 'conditions': [{'class_name': 'Parent', 'config': {'name': 'image_block_1/augment', 'values': [1]}}]}\n",
            "image_block_1/image_augmentation_1/vertical_flip (Boolean)\n",
            "{'default': True, 'conditions': [{'class_name': 'Parent', 'config': {'name': 'image_block_1/augment', 'values': [1]}}]}\n",
            "image_block_1/image_augmentation_1/rotation_factor (Choice)\n",
            "{'default': 0.0, 'conditions': [{'class_name': 'Parent', 'config': {'name': 'image_block_1/augment', 'values': [1]}}], 'values': [0.0, 0.1], 'ordered': True}\n",
            "image_block_1/image_augmentation_1/zoom_factor (Choice)\n",
            "{'default': 0.0, 'conditions': [{'class_name': 'Parent', 'config': {'name': 'image_block_1/augment', 'values': [1]}}], 'values': [0.0, 0.1], 'ordered': True}\n",
            "image_block_1/image_augmentation_1/contrast_factor (Choice)\n",
            "{'default': 0.0, 'conditions': [{'class_name': 'Parent', 'config': {'name': 'image_block_1/augment', 'values': [1]}}], 'values': [0.0, 0.1], 'ordered': True}\n",
            "image_block_1/efficient_net_block_1/pretrained (Boolean)\n",
            "{'default': False, 'conditions': [{'class_name': 'Parent', 'config': {'name': 'image_block_1/block_type', 'values': ['efficient']}}]}\n",
            "image_block_1/efficient_net_block_1/trainable (Boolean)\n",
            "{'default': False, 'conditions': [{'class_name': 'Parent', 'config': {'name': 'image_block_1/block_type', 'values': ['efficient']}}, {'class_name': 'Parent', 'config': {'name': 'image_block_1/efficient_net_block_1/pretrained', 'values': [1]}}]}\n",
            "image_block_1/efficient_net_block_1/version (Choice)\n",
            "{'default': 'b0', 'conditions': [{'class_name': 'Parent', 'config': {'name': 'image_block_1/block_type', 'values': ['efficient']}}], 'values': ['b0', 'b1', 'b2', 'b3', 'b4', 'b5', 'b6', 'b7'], 'ordered': False}\n",
            "image_block_1/efficient_net_block_1/imagenet_size (Boolean)\n",
            "{'default': False, 'conditions': [{'class_name': 'Parent', 'config': {'name': 'image_block_1/block_type', 'values': ['efficient']}}]}\n"
          ]
        }
      ],
      "source": [
        "clf.tuner.search_space_summary()  # NOTE: Large search space! Will take hours to days to explore fully."
      ]
    },
    {
      "cell_type": "code",
      "execution_count": null,
      "metadata": {
        "colab": {
          "base_uri": "https://localhost:8080/"
        },
        "id": "BLa8xTO6-iyv",
        "outputId": "5395d80a-89ae-4f22-d23c-5c7762ee0462"
      },
      "outputs": [
        {
          "output_type": "stream",
          "name": "stdout",
          "text": [
            "313/313 [==============================] - 1s 2ms/step\n",
            "Accuracy score with AutoKeras-Efficient-Net classifier after full dataset fit: 42.28%\n"
          ]
        }
      ],
      "source": [
        "from sklearn.metrics import accuracy_score\n",
        "test_dataset = ak_get_dataset(X_test, y_test, clf)\n",
        "y_pred = model.predict(test_dataset)\n",
        "acc = accuracy_score(y_test, y_pred.argmax(axis=1))\n",
        "print(f\"Accuracy score with AutoKeras-Efficient-Net classifier after full dataset fit: {acc*100:.2f}%\")  # Single epoch score! "
      ]
    },
    {
      "cell_type": "markdown",
      "metadata": {
        "id": "rE5se1ic-iyv"
      },
      "source": [
        "### HPO with Keras Tuner"
      ]
    },
    {
      "cell_type": "code",
      "execution_count": null,
      "metadata": {
        "colab": {
          "base_uri": "https://localhost:8080/"
        },
        "id": "2rdL7Hle-iyv",
        "outputId": "321ccad5-9c47-4b8e-f841-be57ffb32f47"
      },
      "outputs": [
        {
          "output_type": "execute_result",
          "data": {
            "text/plain": [
              "[Boolean(name: \"image_block_1/normalize\", default: False),\n",
              " Boolean(name: \"image_block_1/augment\", default: False),\n",
              " Choice(name: 'image_block_1/block_type', values: ['resnet', 'xception', 'vanilla', 'efficient'], ordered: False, default: resnet),\n",
              " Boolean(name: \"image_block_1/res_net_block_1/pretrained\", default: False),\n",
              " Choice(name: 'image_block_1/res_net_block_1/version', values: ['resnet50', 'resnet101', 'resnet152', 'resnet50_v2', 'resnet101_v2', 'resnet152_v2'], ordered: False, default: resnet50),\n",
              " Boolean(name: \"image_block_1/res_net_block_1/imagenet_size\", default: False),\n",
              " Choice(name: 'classification_head_1/spatial_reduction_1/reduction_type', values: ['flatten', 'global_max', 'global_avg'], ordered: False, default: flatten),\n",
              " Choice(name: 'classification_head_1/dropout', values: [0.0, 0.25, 0.5], ordered: True, default: 0),\n",
              " Choice(name: 'optimizer', values: ['adam', 'sgd', 'adam_weight_decay'], ordered: False, default: adam),\n",
              " Choice(name: 'learning_rate', values: [0.1, 0.01, 0.001, 0.0001, 2e-05, 1e-05], ordered: True, default: 0.001),\n",
              " Choice(name: 'image_block_1/conv_block_1/kernel_size', values: [3, 5, 7], ordered: True, default: 3),\n",
              " Boolean(name: \"image_block_1/conv_block_1/separable\", default: False),\n",
              " Boolean(name: \"image_block_1/conv_block_1/max_pooling\", default: True),\n",
              " Choice(name: 'image_block_1/conv_block_1/num_blocks', values: [1, 2, 3], ordered: True, default: 2),\n",
              " Choice(name: 'image_block_1/conv_block_1/num_layers', values: [1, 2], ordered: True, default: 2),\n",
              " Choice(name: 'image_block_1/conv_block_1/filters_0_0', values: [16, 32, 64, 128, 256, 512], ordered: True, default: 32),\n",
              " Choice(name: 'image_block_1/conv_block_1/filters_0_1', values: [16, 32, 64, 128, 256, 512], ordered: True, default: 32),\n",
              " Choice(name: 'image_block_1/conv_block_1/dropout', values: [0.0, 0.25, 0.5], ordered: True, default: 0.0),\n",
              " Choice(name: 'image_block_1/image_augmentation_1/translation_factor', values: [0.0, 0.1], ordered: True, default: 0.0),\n",
              " Boolean(name: \"image_block_1/image_augmentation_1/horizontal_flip\", default: True),\n",
              " Boolean(name: \"image_block_1/image_augmentation_1/vertical_flip\", default: True),\n",
              " Choice(name: 'image_block_1/image_augmentation_1/rotation_factor', values: [0.0, 0.1], ordered: True, default: 0.0),\n",
              " Choice(name: 'image_block_1/image_augmentation_1/zoom_factor', values: [0.0, 0.1], ordered: True, default: 0.0),\n",
              " Choice(name: 'image_block_1/image_augmentation_1/contrast_factor', values: [0.0, 0.1], ordered: True, default: 0.0),\n",
              " Boolean(name: \"image_block_1/efficient_net_block_1/pretrained\", default: False),\n",
              " Boolean(name: \"image_block_1/efficient_net_block_1/trainable\", default: False),\n",
              " Choice(name: 'image_block_1/efficient_net_block_1/version', values: ['b0', 'b1', 'b2', 'b3', 'b4', 'b5', 'b6', 'b7'], ordered: False, default: b0),\n",
              " Boolean(name: \"image_block_1/efficient_net_block_1/imagenet_size\", default: False)]"
            ]
          },
          "metadata": {},
          "execution_count": 44
        }
      ],
      "source": [
        "clf.tuner.oracle.hyperparameters.space\n",
        "# NOTE: AutoKeras and Keras Tuner are closely related. (AK depends on Keras Tuner). These hyperparameters define search space."
      ]
    },
    {
      "cell_type": "code",
      "execution_count": null,
      "metadata": {
        "colab": {
          "base_uri": "https://localhost:8080/"
        },
        "id": "QG5_916T-iyw",
        "outputId": "f536ce65-585f-4544-ac53-6b8698361717"
      },
      "outputs": [
        {
          "output_type": "stream",
          "name": "stdout",
          "text": [
            "Downloading data from https://storage.googleapis.com/keras-applications/efficientnetb0_notop.h5\n",
            "16705208/16705208 [==============================] - 2s 0us/step\n",
            "Model: \"eff_net_cifar10\"\n",
            "_________________________________________________________________\n",
            " Layer (type)                Output Shape              Param #   \n",
            "=================================================================\n",
            " input (InputLayer)          [(None, 32, 32, 3)]       0         \n",
            "                                                                 \n",
            " efficientnetb0 (Functional)  (None, 1, 1, 1280)       4049571   \n",
            "                                                                 \n",
            " flatten_1 (Flatten)         (None, 1280)              0         \n",
            "                                                                 \n",
            " dense_1 (Dense)             (None, 32)                40992     \n",
            "                                                                 \n",
            " activation (Activation)     (None, 32)                0         \n",
            "                                                                 \n",
            " dense_2 (Dense)             (None, 10)                330       \n",
            "                                                                 \n",
            " activation_1 (Activation)   (None, 10)                0         \n",
            "                                                                 \n",
            "=================================================================\n",
            "Total params: 4,090,893\n",
            "Trainable params: 41,322\n",
            "Non-trainable params: 4,049,571\n",
            "_________________________________________________________________\n"
          ]
        }
      ],
      "source": [
        "import keras_tuner as kt\n",
        "\n",
        "\"\"\"\n",
        "NOTE: each Keras Application expects a specific kind of input preprocessing.\n",
        "For EfficientNet, input preprocessing is included as part of the model (as a\n",
        "Rescaling layer), and thus tf.keras.applications.efficientnet.preprocess_input\n",
        "is actually a pass-through function. EfficientNet models expect their inputs to\n",
        "be float tensors of pixels with values in the [0-255] range.\n",
        "\"\"\"\n",
        "\n",
        "def get_eff_net_backbone_model(units, activation, dropout, lr):\n",
        "    eff_net = tf.keras.applications.efficientnet.EfficientNetB0(\n",
        "        include_top=False,  # We are applying to new problem and will train our own classifier\n",
        "        weights=\"imagenet\",\n",
        "        input_shape = (32,32,3),  #NHWC\n",
        "        classes=10,\n",
        "    )\n",
        "    eff_net.trainable = False\n",
        "    input = tf.keras.Input(shape=(32,32,3), name = \"input\")\n",
        "    x = eff_net(input)\n",
        "    x = tf.keras.layers.Flatten()(x)\n",
        "    x = tf.keras.layers.Dense(units)(x)\n",
        "    x = tf.keras.layers.Activation(activation)(x)\n",
        "    if dropout:\n",
        "        x = tf.keras.layers.Dropout(rate=0.25)(x)\n",
        "    x = tf.keras.layers.Dense(10)(x)\n",
        "    x = tf.keras.layers.Activation(\"softmax\")(x)\n",
        "    model = tf.keras.Model(inputs=input,\n",
        "                        outputs=x,\n",
        "                        name=\"eff_net_cifar10\")\n",
        "    model.compile(\n",
        "        optimizer = tf.keras.optimizers.Adam(learning_rate=lr),\n",
        "        loss='categorical_crossentropy',\n",
        "        metrics=\"accuracy\"\n",
        "    )\n",
        "    return model\n",
        "\n",
        "def build_hypermodel(hp):\n",
        "    units = hp.Int(\"units\", min_value=32, max_value=512, step = 32)\n",
        "    activation = hp.Choice(\"activation\", [\"relu\", 'swish'])\n",
        "    lr = hp.Float(\"lr\", min_value=1e-4, max_value=1e-2, sampling=\"log\")\n",
        "    dropout = hp.Boolean(\"dropout\")\n",
        "    model = get_eff_net_backbone_model(units, activation, dropout, lr)\n",
        "    return model\n",
        "\n",
        "\n",
        "model = build_hypermodel(kt.HyperParameters())\n",
        "model.summary()"
      ]
    },
    {
      "cell_type": "code",
      "execution_count": null,
      "metadata": {
        "id": "F946xef8-iyw"
      },
      "outputs": [],
      "source": [
        "# NOTE: Lots of params, but mostly we are relying on image net weights for evaluating our different classifier heads."
      ]
    },
    {
      "cell_type": "code",
      "execution_count": null,
      "metadata": {
        "id": "26gOEzJB-iyw"
      },
      "outputs": [],
      "source": [
        "y_train_ohe = tf.one_hot(y_train.flatten(), 10)  # We finally need to do some work of our own!\n",
        "y_test_ohe = tf.one_hot(y_test.flatten(), 10)\n",
        "y_train_tiny_ohe = tf.one_hot(y_train_tiny.flatten(), 10)"
      ]
    },
    {
      "cell_type": "code",
      "execution_count": null,
      "metadata": {
        "colab": {
          "base_uri": "https://localhost:8080/"
        },
        "id": "rdNwE3Cd-iyw",
        "outputId": "09918624-6508-48d7-b309-717bca68d1ee"
      },
      "outputs": [
        {
          "output_type": "stream",
          "name": "stdout",
          "text": [
            "Trial 10 Complete [00h 00m 16s]\n",
            "val_accuracy: 0.453000009059906\n",
            "\n",
            "Best val_accuracy So Far: 0.47099998593330383\n",
            "Total elapsed time: 00h 02m 52s\n"
          ]
        }
      ],
      "source": [
        "# TODO: Demo TF board if we have time\n",
        "# tensorboard --logdir=logs --host localhost --port 8888\n",
        "tf.config.run_functions_eagerly(False)\n",
        "tb_callback = tf.keras.callbacks.TensorBoard(\"./logs\")\n",
        "tuner = kt.BayesianOptimization(\n",
        "    hypermodel=build_hypermodel,\n",
        "    max_trials=10,\n",
        "    overwrite=True,\n",
        "    objective=\"val_accuracy\",\n",
        "    directory = __DATA_PATH / \"keras-tuner\" / \"test\"\n",
        ")\n",
        "\n",
        "history = tuner.search(\n",
        "    X_train_tiny,\n",
        "    y_train_tiny_ohe,\n",
        "    validation_split=0.2,\n",
        "    epochs=2,\n",
        "    callbacks=[tb_callback]\n",
        ")"
      ]
    },
    {
      "cell_type": "code",
      "execution_count": null,
      "metadata": {
        "colab": {
          "base_uri": "https://localhost:8080/"
        },
        "id": "JxreEe8Z-iyw",
        "outputId": "01b7ce3e-80c5-4d14-8f7e-75c79c321dc0"
      },
      "outputs": [
        {
          "output_type": "stream",
          "name": "stdout",
          "text": [
            "Results summary\n",
            "Results in data/keras-tuner/test/untitled_project\n",
            "Showing 10 best trials\n",
            "<keras_tuner.engine.objective.Objective object at 0x7fcfe42861c0>\n",
            "Trial summary\n",
            "Hyperparameters:\n",
            "units: 224\n",
            "activation: relu\n",
            "lr: 0.0011684126260235346\n",
            "dropout: False\n",
            "Score: 0.47099998593330383\n",
            "Trial summary\n",
            "Hyperparameters:\n",
            "units: 128\n",
            "activation: relu\n",
            "lr: 0.0006363719363340232\n",
            "dropout: False\n",
            "Score: 0.45399999618530273\n",
            "Trial summary\n",
            "Hyperparameters:\n",
            "units: 320\n",
            "activation: relu\n",
            "lr: 0.0009374195595247522\n",
            "dropout: True\n",
            "Score: 0.453000009059906\n",
            "Trial summary\n",
            "Hyperparameters:\n",
            "units: 224\n",
            "activation: relu\n",
            "lr: 0.001719120591054936\n",
            "dropout: True\n",
            "Score: 0.4440000057220459\n",
            "Trial summary\n",
            "Hyperparameters:\n",
            "units: 192\n",
            "activation: relu\n",
            "lr: 0.004713373094066093\n",
            "dropout: True\n",
            "Score: 0.4410000145435333\n",
            "Trial summary\n",
            "Hyperparameters:\n",
            "units: 96\n",
            "activation: swish\n",
            "lr: 0.0056970903560376865\n",
            "dropout: False\n",
            "Score: 0.43799999356269836\n",
            "Trial summary\n",
            "Hyperparameters:\n",
            "units: 320\n",
            "activation: relu\n",
            "lr: 0.0009952818649930884\n",
            "dropout: True\n",
            "Score: 0.4359999895095825\n",
            "Trial summary\n",
            "Hyperparameters:\n",
            "units: 512\n",
            "activation: relu\n",
            "lr: 0.007435938698470362\n",
            "dropout: False\n",
            "Score: 0.4320000112056732\n",
            "Trial summary\n",
            "Hyperparameters:\n",
            "units: 192\n",
            "activation: relu\n",
            "lr: 0.00021945155942647553\n",
            "dropout: True\n",
            "Score: 0.42100000381469727\n",
            "Trial summary\n",
            "Hyperparameters:\n",
            "units: 64\n",
            "activation: relu\n",
            "lr: 0.0007556016677344259\n",
            "dropout: True\n",
            "Score: 0.4000000059604645\n"
          ]
        }
      ],
      "source": [
        "tuner.results_summary()"
      ]
    },
    {
      "cell_type": "code",
      "execution_count": null,
      "metadata": {
        "colab": {
          "base_uri": "https://localhost:8080/"
        },
        "id": "Nvrv0DYA-iyw",
        "outputId": "ccf0dc46-a5ba-47c9-aa72-f061e233ff57"
      },
      "outputs": [
        {
          "output_type": "stream",
          "name": "stdout",
          "text": [
            "Search space summary\n",
            "Default search space size: 4\n",
            "units (Int)\n",
            "{'default': None, 'conditions': [], 'min_value': 32, 'max_value': 512, 'step': 32, 'sampling': 'linear'}\n",
            "activation (Choice)\n",
            "{'default': 'relu', 'conditions': [], 'values': ['relu', 'swish'], 'ordered': False}\n",
            "lr (Float)\n",
            "{'default': 0.0001, 'conditions': [], 'min_value': 0.0001, 'max_value': 0.01, 'step': None, 'sampling': 'log'}\n",
            "dropout (Boolean)\n",
            "{'default': False, 'conditions': []}\n"
          ]
        }
      ],
      "source": [
        "tuner.search_space_summary()"
      ]
    },
    {
      "cell_type": "code",
      "execution_count": null,
      "metadata": {
        "colab": {
          "base_uri": "https://localhost:8080/"
        },
        "id": "sUiV-0zH-iyw",
        "outputId": "9d26d3d5-0823-42aa-9ffb-7543675b7be7"
      },
      "outputs": [
        {
          "output_type": "stream",
          "name": "stdout",
          "text": [
            "Model: \"eff_net_cifar10\"\n",
            "_________________________________________________________________\n",
            " Layer (type)                Output Shape              Param #   \n",
            "=================================================================\n",
            " input (InputLayer)          [(None, 32, 32, 3)]       0         \n",
            "                                                                 \n",
            " efficientnetb0 (Functional)  (None, 1, 1, 1280)       4049571   \n",
            "                                                                 \n",
            " flatten_1 (Flatten)         (None, 1280)              0         \n",
            "                                                                 \n",
            " dense_2 (Dense)             (None, 224)               286944    \n",
            "                                                                 \n",
            " activation_2 (Activation)   (None, 224)               0         \n",
            "                                                                 \n",
            " dense_3 (Dense)             (None, 10)                2250      \n",
            "                                                                 \n",
            " activation_3 (Activation)   (None, 10)                0         \n",
            "                                                                 \n",
            "=================================================================\n",
            "Total params: 4,338,765\n",
            "Trainable params: 289,194\n",
            "Non-trainable params: 4,049,571\n",
            "_________________________________________________________________\n"
          ]
        }
      ],
      "source": [
        "hp = tuner.get_best_hyperparameters()[0]\n",
        "model_hp = tuner.hypermodel.build(hp)\n",
        "model_hp.summary()"
      ]
    },
    {
      "cell_type": "code",
      "execution_count": null,
      "metadata": {
        "colab": {
          "base_uri": "https://localhost:8080/"
        },
        "id": "M0XhCEp_-iyx",
        "outputId": "1afc858e-8f40-4a28-b477-421b46650347"
      },
      "outputs": [
        {
          "output_type": "stream",
          "name": "stdout",
          "text": [
            "Model: \"eff_net_cifar10\"\n",
            "_________________________________________________________________\n",
            " Layer (type)                Output Shape              Param #   \n",
            "=================================================================\n",
            " input (InputLayer)          [(None, 32, 32, 3)]       0         \n",
            "                                                                 \n",
            " efficientnetb0 (Functional)  (None, 1, 1, 1280)       4049571   \n",
            "                                                                 \n",
            " flatten (Flatten)           (None, 1280)              0         \n",
            "                                                                 \n",
            " dense (Dense)               (None, 224)               286944    \n",
            "                                                                 \n",
            " activation (Activation)     (None, 224)               0         \n",
            "                                                                 \n",
            " dense_1 (Dense)             (None, 10)                2250      \n",
            "                                                                 \n",
            " activation_1 (Activation)   (None, 10)                0         \n",
            "                                                                 \n",
            "=================================================================\n",
            "Total params: 4,338,765\n",
            "Trainable params: 289,194\n",
            "Non-trainable params: 4,049,571\n",
            "_________________________________________________________________\n"
          ]
        }
      ],
      "source": [
        "model = tuner.get_best_models()[0]\n",
        "model.summary()"
      ]
    },
    {
      "cell_type": "code",
      "execution_count": null,
      "metadata": {
        "colab": {
          "base_uri": "https://localhost:8080/"
        },
        "id": "5IDEW5Dv-iyx",
        "outputId": "ccb035e2-e162-4995-a031-58a5849dd9e8"
      },
      "outputs": [
        {
          "output_type": "stream",
          "name": "stdout",
          "text": [
            "Trial 3 Complete [00h 02m 26s]\n",
            "val_accuracy: 0.41200000047683716\n",
            "\n",
            "Best val_accuracy So Far: 0.46399998664855957\n",
            "Total elapsed time: 00h 07m 18s\n"
          ]
        }
      ],
      "source": [
        "# What about preprocessing? Define custom hypermodel with fit and build methods\n",
        "\n",
        "import keras_tuner as kt\n",
        "\n",
        "tf.config.run_functions_eagerly(False)\n",
        "\n",
        "class EffnetHypermodel(kt.HyperModel):\n",
        "    \n",
        "    def __init__(self):\n",
        "        super()\n",
        "        \n",
        "    \n",
        "    def get_eff_net_backbone_model(self, units, activation, dropout, lr):\n",
        "        eff_net = tf.keras.applications.efficientnet.EfficientNetB0(\n",
        "            include_top=False,  # We are applying to new problem and will train our own classifier\n",
        "            weights=\"imagenet\",\n",
        "            input_shape = (32,32,3),  #NHWC\n",
        "            classes=10,\n",
        "        )\n",
        "        eff_net.trainable = False\n",
        "        input = tf.keras.Input(shape=(32,32,3), batch_size=32, name = \"input\")\n",
        "        x = eff_net(input)\n",
        "        x = tf.keras.layers.Flatten()(x)\n",
        "        x = tf.keras.layers.Dense(units)(x)\n",
        "        x = tf.keras.layers.Activation(activation)(x)\n",
        "        if dropout:\n",
        "            x = tf.keras.layers.Dropout(rate=0.25)(x)\n",
        "        x = tf.keras.layers.Dense(10)(x)\n",
        "        x = tf.keras.layers.Activation(\"softmax\")(x)\n",
        "        model = tf.keras.Model(inputs=input,\n",
        "                            outputs=x,\n",
        "                            name=\"eff_net_cifar10\")\n",
        "        model.compile(\n",
        "            optimizer = tf.keras.optimizers.Adam(learning_rate=lr),\n",
        "            loss='categorical_crossentropy',\n",
        "            metrics=\"accuracy\"\n",
        "        )\n",
        "        return model\n",
        "\n",
        "    #override: This method must be implemented as it will be called by tuner / oracle\n",
        "    def build(self, hp):\n",
        "        units = hp.Int(\"units\", min_value=32, max_value=512, step = 32)\n",
        "        activation = hp.Choice(\"activation\", [\"relu\", 'swish'])\n",
        "        lr = hp.Float(\"lr\", min_value=1e-4, max_value=1e-2, sampling=\"log\")\n",
        "        dropout = hp.Boolean(\"dropout\")\n",
        "        model = get_eff_net_backbone_model(units, activation, dropout, lr)\n",
        "        return model\n",
        "\n",
        "    #override\n",
        "    def fit(self, hp, model, x, y, **kwargs):\n",
        "        if hp.Boolean(\"normalize\"):\n",
        "            x = tf.keras.layers.Normalization()(x)   # Applies to X\n",
        "        y_ohe = tf.one_hot(y, 10)  # We can move ohe here -> (N, 1, 10)\n",
        "        y_ohe = tf.keras.layers.Flatten()(y_ohe)  # (N, 10) to match output layer\n",
        "        return model.fit(\n",
        "            x,\n",
        "            y_ohe,\n",
        "            **kwargs,\n",
        "        )\n",
        "\n",
        "tf.config.run_functions_eagerly(True)\n",
        "tb_callback = tf.keras.callbacks.TensorBoard(\"./logs\")\n",
        "tuner = kt.BayesianOptimization(\n",
        "    hypermodel=EffnetHypermodel(),\n",
        "    max_trials=3,\n",
        "    overwrite=True,\n",
        "    objective=\"val_accuracy\",\n",
        "    directory = __DATA_PATH / \"keras-tuner-preprocessing\"\n",
        ")\n",
        "\n",
        "history = tuner.search(\n",
        "    X_train_tiny,\n",
        "    y_train_tiny,  # No one-hot-encoding required\n",
        "    validation_split=0.2,\n",
        "    epochs=2,\n",
        "    callbacks=[tb_callback]\n",
        ")\n"
      ]
    },
    {
      "cell_type": "code",
      "source": [
        "# Let's check out the best model we found\n",
        "hp = tuner.get_best_hyperparameters()[0]\n",
        "model_hp = tuner.hypermodel.build(hp)\n",
        "model_hp.summary()\n",
        "        "
      ],
      "metadata": {
        "id": "xE3-3j_VSHiW",
        "outputId": "d22c2781-a63a-4f44-9a53-b14c70e17f6f",
        "colab": {
          "base_uri": "https://localhost:8080/"
        }
      },
      "execution_count": null,
      "outputs": [
        {
          "output_type": "stream",
          "name": "stdout",
          "text": [
            "Model: \"eff_net_cifar10\"\n",
            "_________________________________________________________________\n",
            " Layer (type)                Output Shape              Param #   \n",
            "=================================================================\n",
            " input (InputLayer)          [(None, 32, 32, 3)]       0         \n",
            "                                                                 \n",
            " efficientnetb0 (Functional)  (None, 1, 1, 1280)       4049571   \n",
            "                                                                 \n",
            " flatten_2 (Flatten)         (None, 1280)              0         \n",
            "                                                                 \n",
            " dense_2 (Dense)             (None, 64)                81984     \n",
            "                                                                 \n",
            " activation_2 (Activation)   (None, 64)                0         \n",
            "                                                                 \n",
            " dense_3 (Dense)             (None, 10)                650       \n",
            "                                                                 \n",
            " activation_3 (Activation)   (None, 10)                0         \n",
            "                                                                 \n",
            "=================================================================\n",
            "Total params: 4,132,205\n",
            "Trainable params: 82,634\n",
            "Non-trainable params: 4,049,571\n",
            "_________________________________________________________________\n"
          ]
        }
      ]
    },
    {
      "cell_type": "markdown",
      "metadata": {
        "id": "10YsMjLV-iyx"
      },
      "source": [
        "### Ray Tune\n",
        "\n",
        "Ray provides a simple, universal API for building distributed applications.\n",
        "\n",
        "Ray accomplishes this mission by:\n",
        "\n",
        "- Providing simple primitives for building and running distributed applications.\n",
        "\n",
        "- Enabling end users to parallelize single machine code, with little to zero code changes.\n",
        "\n",
        "- Including a large ecosystem of applications, libraries, and tools on top of the core Ray to enable complex applications.\n",
        "\n",
        "White paper: https://docs.google.com/document/d/1lAy0Owi-vPz2jEqBSaHNQcy2IBSDEHyXNOQZlGuj93c/preview \n",
        "\n",
        "Alternative to Spark / MLLib\n"
      ]
    },
    {
      "cell_type": "markdown",
      "metadata": {
        "id": "h0HhAC3V-iyx"
      },
      "source": [
        "https://docs.ray.io/en/latest/tune/index.html"
      ]
    },
    {
      "cell_type": "code",
      "execution_count": null,
      "metadata": {
        "colab": {
          "base_uri": "https://localhost:8080/",
          "height": 734
        },
        "id": "UZhl4_5C-iyx",
        "outputId": "5afba0f3-72bd-44ea-9735-c88f85b7b47a"
      },
      "outputs": [
        {
          "output_type": "stream",
          "name": "stderr",
          "text": [
            "2023-03-23 21:20:06,172\tINFO worker.py:1553 -- Started a local Ray instance.\n"
          ]
        },
        {
          "output_type": "display_data",
          "data": {
            "text/plain": [
              "<IPython.core.display.HTML object>"
            ],
            "text/html": [
              "<div class=\"tuneStatus\">\n",
              "  <div style=\"display: flex;flex-direction: row\">\n",
              "    <div style=\"display: flex;flex-direction: column;\">\n",
              "      <h3>Tune Status</h3>\n",
              "      <table>\n",
              "<tbody>\n",
              "<tr><td>Current time:</td><td>2023-03-23 21:20:13</td></tr>\n",
              "<tr><td>Running for: </td><td>00:00:04.18        </td></tr>\n",
              "<tr><td>Memory:      </td><td>3.0/12.7 GiB       </td></tr>\n",
              "</tbody>\n",
              "</table>\n",
              "    </div>\n",
              "    <div class=\"vDivider\"></div>\n",
              "    <div class=\"systemInfo\">\n",
              "      <h3>System Info</h3>\n",
              "      Using FIFO scheduling algorithm.<br>Resources requested: 0/2 CPUs, 0/1 GPUs, 0.0/7.31 GiB heap, 0.0/3.65 GiB objects\n",
              "    </div>\n",
              "    \n",
              "  </div>\n",
              "  <div class=\"hDivider\"></div>\n",
              "  <div class=\"trialStatus\">\n",
              "    <h3>Trial Status</h3>\n",
              "    <table>\n",
              "<thead>\n",
              "<tr><th>Trial name           </th><th>status    </th><th>loc              </th><th style=\"text-align: right;\">    a</th><th style=\"text-align: right;\">      b</th><th style=\"text-align: right;\">  iter</th><th style=\"text-align: right;\">  total time (s)</th><th style=\"text-align: right;\">    score</th></tr>\n",
              "</thead>\n",
              "<tbody>\n",
              "<tr><td>trainable_7c99b_00000</td><td>TERMINATED</td><td>172.28.0.12:29592</td><td style=\"text-align: right;\">  0.1</td><td style=\"text-align: right;\">1.76577</td><td style=\"text-align: right;\">    20</td><td style=\"text-align: right;\">       0.137791 </td><td style=\"text-align: right;\">  2.20166</td></tr>\n",
              "<tr><td>trainable_7c99b_00001</td><td>TERMINATED</td><td>172.28.0.12:29642</td><td style=\"text-align: right;\"> 10  </td><td style=\"text-align: right;\">1.35925</td><td style=\"text-align: right;\">    20</td><td style=\"text-align: right;\">       0.0653672</td><td style=\"text-align: right;\"> 44.9482 </td></tr>\n",
              "<tr><td>trainable_7c99b_00002</td><td>TERMINATED</td><td>172.28.0.12:29592</td><td style=\"text-align: right;\">  0.1</td><td style=\"text-align: right;\">2.97197</td><td style=\"text-align: right;\">    20</td><td style=\"text-align: right;\">       0.0976059</td><td style=\"text-align: right;\">  3.40786</td></tr>\n",
              "<tr><td>trainable_7c99b_00003</td><td>TERMINATED</td><td>172.28.0.12:29592</td><td style=\"text-align: right;\">  0.1</td><td style=\"text-align: right;\">2.88303</td><td style=\"text-align: right;\">    20</td><td style=\"text-align: right;\">       0.145883 </td><td style=\"text-align: right;\">  3.31892</td></tr>\n",
              "<tr><td>trainable_7c99b_00004</td><td>TERMINATED</td><td>172.28.0.12:29592</td><td style=\"text-align: right;\">  0.1</td><td style=\"text-align: right;\">2.28854</td><td style=\"text-align: right;\">    20</td><td style=\"text-align: right;\">       0.0942252</td><td style=\"text-align: right;\">  2.72443</td></tr>\n",
              "<tr><td>trainable_7c99b_00005</td><td>TERMINATED</td><td>172.28.0.12:29592</td><td style=\"text-align: right;\">  0.1</td><td style=\"text-align: right;\">1.10096</td><td style=\"text-align: right;\">    20</td><td style=\"text-align: right;\">       0.0872431</td><td style=\"text-align: right;\">  1.53685</td></tr>\n",
              "<tr><td>trainable_7c99b_00006</td><td>TERMINATED</td><td>172.28.0.12:29592</td><td style=\"text-align: right;\">100  </td><td style=\"text-align: right;\">1.9087 </td><td style=\"text-align: right;\">    20</td><td style=\"text-align: right;\">       0.0855503</td><td style=\"text-align: right;\">437.799  </td></tr>\n",
              "<tr><td>trainable_7c99b_00007</td><td>TERMINATED</td><td>172.28.0.12:29592</td><td style=\"text-align: right;\">100  </td><td style=\"text-align: right;\">1.66871</td><td style=\"text-align: right;\">    20</td><td style=\"text-align: right;\">       0.0950286</td><td style=\"text-align: right;\">437.559  </td></tr>\n",
              "<tr><td>trainable_7c99b_00008</td><td>TERMINATED</td><td>172.28.0.12:29592</td><td style=\"text-align: right;\">100  </td><td style=\"text-align: right;\">1.98308</td><td style=\"text-align: right;\">    20</td><td style=\"text-align: right;\">       0.0878029</td><td style=\"text-align: right;\">437.873  </td></tr>\n",
              "<tr><td>trainable_7c99b_00009</td><td>TERMINATED</td><td>172.28.0.12:29592</td><td style=\"text-align: right;\"> 10  </td><td style=\"text-align: right;\">1.91717</td><td style=\"text-align: right;\">    20</td><td style=\"text-align: right;\">       0.175855 </td><td style=\"text-align: right;\"> 45.5062 </td></tr>\n",
              "</tbody>\n",
              "</table>\n",
              "  </div>\n",
              "</div>\n",
              "<style>\n",
              ".tuneStatus {\n",
              "  color: var(--jp-ui-font-color1);\n",
              "}\n",
              ".tuneStatus .systemInfo {\n",
              "  display: flex;\n",
              "  flex-direction: column;\n",
              "}\n",
              ".tuneStatus td {\n",
              "  white-space: nowrap;\n",
              "}\n",
              ".tuneStatus .trialStatus {\n",
              "  display: flex;\n",
              "  flex-direction: column;\n",
              "}\n",
              ".tuneStatus h3 {\n",
              "  font-weight: bold;\n",
              "}\n",
              ".tuneStatus .hDivider {\n",
              "  border-bottom-width: var(--jp-border-width);\n",
              "  border-bottom-color: var(--jp-border-color0);\n",
              "  border-bottom-style: solid;\n",
              "}\n",
              ".tuneStatus .vDivider {\n",
              "  border-left-width: var(--jp-border-width);\n",
              "  border-left-color: var(--jp-border-color0);\n",
              "  border-left-style: solid;\n",
              "  margin: 0.5em 1em 0.5em 1em;\n",
              "}\n",
              "</style>\n"
            ]
          },
          "metadata": {}
        },
        {
          "output_type": "display_data",
          "data": {
            "text/plain": [
              "<IPython.core.display.HTML object>"
            ],
            "text/html": [
              "<div class=\"trialProgress\">\n",
              "  <h3>Trial Progress</h3>\n",
              "  <table>\n",
              "<thead>\n",
              "<tr><th>Trial name           </th><th style=\"text-align: right;\">    score</th></tr>\n",
              "</thead>\n",
              "<tbody>\n",
              "<tr><td>trainable_7c99b_00000</td><td style=\"text-align: right;\">  2.20166</td></tr>\n",
              "<tr><td>trainable_7c99b_00001</td><td style=\"text-align: right;\"> 44.9482 </td></tr>\n",
              "<tr><td>trainable_7c99b_00002</td><td style=\"text-align: right;\">  3.40786</td></tr>\n",
              "<tr><td>trainable_7c99b_00003</td><td style=\"text-align: right;\">  3.31892</td></tr>\n",
              "<tr><td>trainable_7c99b_00004</td><td style=\"text-align: right;\">  2.72443</td></tr>\n",
              "<tr><td>trainable_7c99b_00005</td><td style=\"text-align: right;\">  1.53685</td></tr>\n",
              "<tr><td>trainable_7c99b_00006</td><td style=\"text-align: right;\">437.799  </td></tr>\n",
              "<tr><td>trainable_7c99b_00007</td><td style=\"text-align: right;\">437.559  </td></tr>\n",
              "<tr><td>trainable_7c99b_00008</td><td style=\"text-align: right;\">437.873  </td></tr>\n",
              "<tr><td>trainable_7c99b_00009</td><td style=\"text-align: right;\"> 45.5062 </td></tr>\n",
              "</tbody>\n",
              "</table>\n",
              "</div>\n",
              "<style>\n",
              ".trialProgress {\n",
              "  display: flex;\n",
              "  flex-direction: column;\n",
              "  color: var(--jp-ui-font-color1);\n",
              "}\n",
              ".trialProgress h3 {\n",
              "  font-weight: bold;\n",
              "}\n",
              ".trialProgress td {\n",
              "  white-space: nowrap;\n",
              "}\n",
              "</style>\n"
            ]
          },
          "metadata": {}
        },
        {
          "output_type": "stream",
          "name": "stderr",
          "text": [
            "2023-03-23 21:20:13,318\tINFO tune.py:798 -- Total run time: 5.36 seconds (4.15 seconds for the tuning loop).\n"
          ]
        },
        {
          "output_type": "stream",
          "name": "stdout",
          "text": [
            "best config:  {'a': 0.1, 'b': 1.1009611608287864}\n"
          ]
        }
      ],
      "source": [
        "from ray import tune\n",
        "\n",
        "def loss(x, a, b):\n",
        "    return a * (x ** 0.5) + b\n",
        "\n",
        "def trainable(config):\n",
        "    # config (dict): A dict of hyperparameters.\n",
        "    for x in range(20):\n",
        "        score = loss(x, config[\"a\"], config[\"b\"])\n",
        "        tune.report(score=score)  # This sends the score to Tune.\n",
        "        \n",
        "        \n",
        "config = {\n",
        "    \"a\": tune.choice([0.1, 1, 10, 100]),\n",
        "    \"b\": tune.uniform(1,3),\n",
        "\n",
        "}\n",
        "\n",
        "analysis = tune.run(trainable, config=config, local_dir = __DATA_PATH / \"ray-tune\",\n",
        "                    num_samples=10, verbose=2)\n",
        "print(\"best config: \", analysis.get_best_config(metric=\"score\", mode=\"min\"))"
      ]
    },
    {
      "cell_type": "code",
      "execution_count": null,
      "metadata": {
        "colab": {
          "base_uri": "https://localhost:8080/",
          "height": 542
        },
        "id": "7oPJgdf4-iyx",
        "outputId": "8bb2c46f-adb6-4c6c-e2c6-cf45b4347157"
      },
      "outputs": [
        {
          "output_type": "display_data",
          "data": {
            "text/html": [
              "<html>\n",
              "<head><meta charset=\"utf-8\" /></head>\n",
              "<body>\n",
              "    <div>            <script src=\"https://cdnjs.cloudflare.com/ajax/libs/mathjax/2.7.5/MathJax.js?config=TeX-AMS-MML_SVG\"></script><script type=\"text/javascript\">if (window.MathJax && window.MathJax.Hub && window.MathJax.Hub.Config) {window.MathJax.Hub.Config({SVG: {font: \"STIX-Web\"}});}</script>                <script type=\"text/javascript\">window.PlotlyConfig = {MathJaxConfig: 'local'};</script>\n",
              "        <script src=\"https://cdn.plot.ly/plotly-2.18.2.min.js\"></script>                <div id=\"45f19eda-9a0a-4e74-b8f5-ffb42f25771d\" class=\"plotly-graph-div\" style=\"height:525px; width:100%;\"></div>            <script type=\"text/javascript\">                                    window.PLOTLYENV=window.PLOTLYENV || {};                                    if (document.getElementById(\"45f19eda-9a0a-4e74-b8f5-ffb42f25771d\")) {                    Plotly.newPlot(                        \"45f19eda-9a0a-4e74-b8f5-ffb42f25771d\",                        [{\"alignmentgroup\":\"True\",\"hovertemplate\":\"trial_id=%{x}<br>score=%{y}<extra></extra>\",\"legendgroup\":\"\",\"marker\":{\"color\":\"#636efa\",\"pattern\":{\"shape\":\"\"}},\"name\":\"\",\"offsetgroup\":\"\",\"orientation\":\"v\",\"showlegend\":false,\"textposition\":\"auto\",\"x\":[\"7c99b_00000\",\"7c99b_00001\",\"7c99b_00002\",\"7c99b_00003\",\"7c99b_00004\",\"7c99b_00005\",\"7c99b_00006\",\"7c99b_00007\",\"7c99b_00008\",\"7c99b_00009\"],\"xaxis\":\"x\",\"y\":[2.201664095920401,44.94823493351483,3.407858277409085,3.318919587069761,2.724426166643385,1.5368510551828538,437.79859112349135,437.5586001090682,437.8729706478921,45.50615587952406],\"yaxis\":\"y\",\"type\":\"bar\"}],                        {\"template\":{\"data\":{\"histogram2dcontour\":[{\"type\":\"histogram2dcontour\",\"colorbar\":{\"outlinewidth\":0,\"ticks\":\"\"},\"colorscale\":[[0.0,\"#0d0887\"],[0.1111111111111111,\"#46039f\"],[0.2222222222222222,\"#7201a8\"],[0.3333333333333333,\"#9c179e\"],[0.4444444444444444,\"#bd3786\"],[0.5555555555555556,\"#d8576b\"],[0.6666666666666666,\"#ed7953\"],[0.7777777777777778,\"#fb9f3a\"],[0.8888888888888888,\"#fdca26\"],[1.0,\"#f0f921\"]]}],\"choropleth\":[{\"type\":\"choropleth\",\"colorbar\":{\"outlinewidth\":0,\"ticks\":\"\"}}],\"histogram2d\":[{\"type\":\"histogram2d\",\"colorbar\":{\"outlinewidth\":0,\"ticks\":\"\"},\"colorscale\":[[0.0,\"#0d0887\"],[0.1111111111111111,\"#46039f\"],[0.2222222222222222,\"#7201a8\"],[0.3333333333333333,\"#9c179e\"],[0.4444444444444444,\"#bd3786\"],[0.5555555555555556,\"#d8576b\"],[0.6666666666666666,\"#ed7953\"],[0.7777777777777778,\"#fb9f3a\"],[0.8888888888888888,\"#fdca26\"],[1.0,\"#f0f921\"]]}],\"heatmap\":[{\"type\":\"heatmap\",\"colorbar\":{\"outlinewidth\":0,\"ticks\":\"\"},\"colorscale\":[[0.0,\"#0d0887\"],[0.1111111111111111,\"#46039f\"],[0.2222222222222222,\"#7201a8\"],[0.3333333333333333,\"#9c179e\"],[0.4444444444444444,\"#bd3786\"],[0.5555555555555556,\"#d8576b\"],[0.6666666666666666,\"#ed7953\"],[0.7777777777777778,\"#fb9f3a\"],[0.8888888888888888,\"#fdca26\"],[1.0,\"#f0f921\"]]}],\"heatmapgl\":[{\"type\":\"heatmapgl\",\"colorbar\":{\"outlinewidth\":0,\"ticks\":\"\"},\"colorscale\":[[0.0,\"#0d0887\"],[0.1111111111111111,\"#46039f\"],[0.2222222222222222,\"#7201a8\"],[0.3333333333333333,\"#9c179e\"],[0.4444444444444444,\"#bd3786\"],[0.5555555555555556,\"#d8576b\"],[0.6666666666666666,\"#ed7953\"],[0.7777777777777778,\"#fb9f3a\"],[0.8888888888888888,\"#fdca26\"],[1.0,\"#f0f921\"]]}],\"contourcarpet\":[{\"type\":\"contourcarpet\",\"colorbar\":{\"outlinewidth\":0,\"ticks\":\"\"}}],\"contour\":[{\"type\":\"contour\",\"colorbar\":{\"outlinewidth\":0,\"ticks\":\"\"},\"colorscale\":[[0.0,\"#0d0887\"],[0.1111111111111111,\"#46039f\"],[0.2222222222222222,\"#7201a8\"],[0.3333333333333333,\"#9c179e\"],[0.4444444444444444,\"#bd3786\"],[0.5555555555555556,\"#d8576b\"],[0.6666666666666666,\"#ed7953\"],[0.7777777777777778,\"#fb9f3a\"],[0.8888888888888888,\"#fdca26\"],[1.0,\"#f0f921\"]]}],\"surface\":[{\"type\":\"surface\",\"colorbar\":{\"outlinewidth\":0,\"ticks\":\"\"},\"colorscale\":[[0.0,\"#0d0887\"],[0.1111111111111111,\"#46039f\"],[0.2222222222222222,\"#7201a8\"],[0.3333333333333333,\"#9c179e\"],[0.4444444444444444,\"#bd3786\"],[0.5555555555555556,\"#d8576b\"],[0.6666666666666666,\"#ed7953\"],[0.7777777777777778,\"#fb9f3a\"],[0.8888888888888888,\"#fdca26\"],[1.0,\"#f0f921\"]]}],\"mesh3d\":[{\"type\":\"mesh3d\",\"colorbar\":{\"outlinewidth\":0,\"ticks\":\"\"}}],\"scatter\":[{\"fillpattern\":{\"fillmode\":\"overlay\",\"size\":10,\"solidity\":0.2},\"type\":\"scatter\"}],\"parcoords\":[{\"type\":\"parcoords\",\"line\":{\"colorbar\":{\"outlinewidth\":0,\"ticks\":\"\"}}}],\"scatterpolargl\":[{\"type\":\"scatterpolargl\",\"marker\":{\"colorbar\":{\"outlinewidth\":0,\"ticks\":\"\"}}}],\"bar\":[{\"error_x\":{\"color\":\"#2a3f5f\"},\"error_y\":{\"color\":\"#2a3f5f\"},\"marker\":{\"line\":{\"color\":\"#E5ECF6\",\"width\":0.5},\"pattern\":{\"fillmode\":\"overlay\",\"size\":10,\"solidity\":0.2}},\"type\":\"bar\"}],\"scattergeo\":[{\"type\":\"scattergeo\",\"marker\":{\"colorbar\":{\"outlinewidth\":0,\"ticks\":\"\"}}}],\"scatterpolar\":[{\"type\":\"scatterpolar\",\"marker\":{\"colorbar\":{\"outlinewidth\":0,\"ticks\":\"\"}}}],\"histogram\":[{\"marker\":{\"pattern\":{\"fillmode\":\"overlay\",\"size\":10,\"solidity\":0.2}},\"type\":\"histogram\"}],\"scattergl\":[{\"type\":\"scattergl\",\"marker\":{\"colorbar\":{\"outlinewidth\":0,\"ticks\":\"\"}}}],\"scatter3d\":[{\"type\":\"scatter3d\",\"line\":{\"colorbar\":{\"outlinewidth\":0,\"ticks\":\"\"}},\"marker\":{\"colorbar\":{\"outlinewidth\":0,\"ticks\":\"\"}}}],\"scattermapbox\":[{\"type\":\"scattermapbox\",\"marker\":{\"colorbar\":{\"outlinewidth\":0,\"ticks\":\"\"}}}],\"scatterternary\":[{\"type\":\"scatterternary\",\"marker\":{\"colorbar\":{\"outlinewidth\":0,\"ticks\":\"\"}}}],\"scattercarpet\":[{\"type\":\"scattercarpet\",\"marker\":{\"colorbar\":{\"outlinewidth\":0,\"ticks\":\"\"}}}],\"carpet\":[{\"aaxis\":{\"endlinecolor\":\"#2a3f5f\",\"gridcolor\":\"white\",\"linecolor\":\"white\",\"minorgridcolor\":\"white\",\"startlinecolor\":\"#2a3f5f\"},\"baxis\":{\"endlinecolor\":\"#2a3f5f\",\"gridcolor\":\"white\",\"linecolor\":\"white\",\"minorgridcolor\":\"white\",\"startlinecolor\":\"#2a3f5f\"},\"type\":\"carpet\"}],\"table\":[{\"cells\":{\"fill\":{\"color\":\"#EBF0F8\"},\"line\":{\"color\":\"white\"}},\"header\":{\"fill\":{\"color\":\"#C8D4E3\"},\"line\":{\"color\":\"white\"}},\"type\":\"table\"}],\"barpolar\":[{\"marker\":{\"line\":{\"color\":\"#E5ECF6\",\"width\":0.5},\"pattern\":{\"fillmode\":\"overlay\",\"size\":10,\"solidity\":0.2}},\"type\":\"barpolar\"}],\"pie\":[{\"automargin\":true,\"type\":\"pie\"}]},\"layout\":{\"autotypenumbers\":\"strict\",\"colorway\":[\"#636efa\",\"#EF553B\",\"#00cc96\",\"#ab63fa\",\"#FFA15A\",\"#19d3f3\",\"#FF6692\",\"#B6E880\",\"#FF97FF\",\"#FECB52\"],\"font\":{\"color\":\"#2a3f5f\"},\"hovermode\":\"closest\",\"hoverlabel\":{\"align\":\"left\"},\"paper_bgcolor\":\"white\",\"plot_bgcolor\":\"#E5ECF6\",\"polar\":{\"bgcolor\":\"#E5ECF6\",\"angularaxis\":{\"gridcolor\":\"white\",\"linecolor\":\"white\",\"ticks\":\"\"},\"radialaxis\":{\"gridcolor\":\"white\",\"linecolor\":\"white\",\"ticks\":\"\"}},\"ternary\":{\"bgcolor\":\"#E5ECF6\",\"aaxis\":{\"gridcolor\":\"white\",\"linecolor\":\"white\",\"ticks\":\"\"},\"baxis\":{\"gridcolor\":\"white\",\"linecolor\":\"white\",\"ticks\":\"\"},\"caxis\":{\"gridcolor\":\"white\",\"linecolor\":\"white\",\"ticks\":\"\"}},\"coloraxis\":{\"colorbar\":{\"outlinewidth\":0,\"ticks\":\"\"}},\"colorscale\":{\"sequential\":[[0.0,\"#0d0887\"],[0.1111111111111111,\"#46039f\"],[0.2222222222222222,\"#7201a8\"],[0.3333333333333333,\"#9c179e\"],[0.4444444444444444,\"#bd3786\"],[0.5555555555555556,\"#d8576b\"],[0.6666666666666666,\"#ed7953\"],[0.7777777777777778,\"#fb9f3a\"],[0.8888888888888888,\"#fdca26\"],[1.0,\"#f0f921\"]],\"sequentialminus\":[[0.0,\"#0d0887\"],[0.1111111111111111,\"#46039f\"],[0.2222222222222222,\"#7201a8\"],[0.3333333333333333,\"#9c179e\"],[0.4444444444444444,\"#bd3786\"],[0.5555555555555556,\"#d8576b\"],[0.6666666666666666,\"#ed7953\"],[0.7777777777777778,\"#fb9f3a\"],[0.8888888888888888,\"#fdca26\"],[1.0,\"#f0f921\"]],\"diverging\":[[0,\"#8e0152\"],[0.1,\"#c51b7d\"],[0.2,\"#de77ae\"],[0.3,\"#f1b6da\"],[0.4,\"#fde0ef\"],[0.5,\"#f7f7f7\"],[0.6,\"#e6f5d0\"],[0.7,\"#b8e186\"],[0.8,\"#7fbc41\"],[0.9,\"#4d9221\"],[1,\"#276419\"]]},\"xaxis\":{\"gridcolor\":\"white\",\"linecolor\":\"white\",\"ticks\":\"\",\"title\":{\"standoff\":15},\"zerolinecolor\":\"white\",\"automargin\":true,\"zerolinewidth\":2},\"yaxis\":{\"gridcolor\":\"white\",\"linecolor\":\"white\",\"ticks\":\"\",\"title\":{\"standoff\":15},\"zerolinecolor\":\"white\",\"automargin\":true,\"zerolinewidth\":2},\"scene\":{\"xaxis\":{\"backgroundcolor\":\"#E5ECF6\",\"gridcolor\":\"white\",\"linecolor\":\"white\",\"showbackground\":true,\"ticks\":\"\",\"zerolinecolor\":\"white\",\"gridwidth\":2},\"yaxis\":{\"backgroundcolor\":\"#E5ECF6\",\"gridcolor\":\"white\",\"linecolor\":\"white\",\"showbackground\":true,\"ticks\":\"\",\"zerolinecolor\":\"white\",\"gridwidth\":2},\"zaxis\":{\"backgroundcolor\":\"#E5ECF6\",\"gridcolor\":\"white\",\"linecolor\":\"white\",\"showbackground\":true,\"ticks\":\"\",\"zerolinecolor\":\"white\",\"gridwidth\":2}},\"shapedefaults\":{\"line\":{\"color\":\"#2a3f5f\"}},\"annotationdefaults\":{\"arrowcolor\":\"#2a3f5f\",\"arrowhead\":0,\"arrowwidth\":1},\"geo\":{\"bgcolor\":\"white\",\"landcolor\":\"#E5ECF6\",\"subunitcolor\":\"white\",\"showland\":true,\"showlakes\":true,\"lakecolor\":\"white\"},\"title\":{\"x\":0.05},\"mapbox\":{\"style\":\"light\"}}},\"xaxis\":{\"anchor\":\"y\",\"domain\":[0.0,1.0],\"title\":{\"text\":\"trial_id\"}},\"yaxis\":{\"anchor\":\"x\",\"domain\":[0.0,1.0],\"title\":{\"text\":\"score\"}},\"legend\":{\"tracegroupgap\":0},\"margin\":{\"t\":60},\"barmode\":\"relative\"},                        {\"responsive\": true}                    ).then(function(){\n",
              "                            \n",
              "var gd = document.getElementById('45f19eda-9a0a-4e74-b8f5-ffb42f25771d');\n",
              "var x = new MutationObserver(function (mutations, observer) {{\n",
              "        var display = window.getComputedStyle(gd).display;\n",
              "        if (!display || display === 'none') {{\n",
              "            console.log([gd, 'removed!']);\n",
              "            Plotly.purge(gd);\n",
              "            observer.disconnect();\n",
              "        }}\n",
              "}});\n",
              "\n",
              "// Listen for the removal of the full notebook cells\n",
              "var notebookContainer = gd.closest('#notebook-container');\n",
              "if (notebookContainer) {{\n",
              "    x.observe(notebookContainer, {childList: true});\n",
              "}}\n",
              "\n",
              "// Listen for the clearing of the current output cell\n",
              "var outputEl = gd.closest('.output');\n",
              "if (outputEl) {{\n",
              "    x.observe(outputEl, {childList: true});\n",
              "}}\n",
              "\n",
              "                        })                };                            </script>        </div>\n",
              "</body>\n",
              "</html>"
            ]
          },
          "metadata": {}
        }
      ],
      "source": [
        "px.bar(x=\"trial_id\", y=\"score\", data_frame=analysis.dataframe())"
      ]
    },
    {
      "cell_type": "markdown",
      "metadata": {
        "id": "O3BisPvJ-iyy"
      },
      "source": [
        "# We can use ray.tune with *any* machine learning library!"
      ]
    },
    {
      "cell_type": "code",
      "execution_count": null,
      "metadata": {
        "colab": {
          "base_uri": "https://localhost:8080/"
        },
        "id": "B-pIefx_-iyy",
        "outputId": "5d4836b6-7c3b-4b71-bc01-356665f86741"
      },
      "outputs": [
        {
          "output_type": "stream",
          "name": "stdout",
          "text": [
            "Files already downloaded and verified\n",
            "Files already downloaded and verified\n"
          ]
        }
      ],
      "source": [
        "import torch\n",
        "import torch.nn as nn\n",
        "import torch.nn.functional as F\n",
        "from torch.utils.data import DataLoader, Subset\n",
        "from torchvision import datasets, transforms\n",
        "from ray import tune\n",
        "\n",
        "\n",
        "def get_data(data_dir = __DATA_PATH / \"cifar10\"):  # NOTE: Providing datapath is important to share dataset between threads / nodes.\n",
        "    transform = transforms.Compose([\n",
        "        transforms.ToTensor(),\n",
        "        transforms.Normalize((0.5, 0.5, 0.5), (0.5, 0.5, 0.5))\n",
        "    ])\n",
        "\n",
        "    train_data = datasets.CIFAR10(root=data_dir, train=True, download=True, transform=transform)\n",
        "    test_data = datasets.CIFAR10(root=data_dir, train=False, download=True, transform=transform)\n",
        "\n",
        "    # Get train, val splits\n",
        "    val_data = Subset(train_data, list(range(4000,5000)))\n",
        "    train_data = Subset(train_data, list(range(4000)))  # let's speed up training with low fidelity search again\n",
        "    \n",
        "\n",
        "    train_loader = DataLoader(train_data, batch_size=32, shuffle=True)\n",
        "    val_loader = DataLoader(val_data, batch_size=32, shuffle=True)\n",
        "    test_loader = DataLoader(test_data, batch_size=32, shuffle=False)\n",
        "    return train_loader, val_loader, test_loader\n",
        "\n",
        "train_loader, val_loader, test_loader = get_data()"
      ]
    },
    {
      "cell_type": "code",
      "execution_count": null,
      "metadata": {
        "id": "kRIgD1fr-iyy"
      },
      "outputs": [],
      "source": [
        "# https://pytorch.org/tutorials/beginner/hyperparameter_tuning_tutorial.html\n",
        "\n",
        "class ConvolutionalNetwork(nn.Module):\n",
        "    def __init__(self, hp):\n",
        "        super().__init__()\n",
        "        self.conv1_width = int(hp[\"conv1_width\"])  # Choice returns a Categorical type, so we convert to int.\n",
        "        self.conv2_width = int(hp[\"conv2_width\"])\n",
        "        self.conv1 = nn.Conv2d(3, self.conv1_width, 3, 1, padding=\"same\") # 32x32 -> 16x16\n",
        "        self.conv2 = nn.Conv2d(self.conv1_width, self.conv2_width, 3, 1, padding=\"same\")# 16x16 -> 8x8\n",
        "        self.fc1 = nn.Linear(8*8*self.conv2_width, 120)\n",
        "        self.fc2 = nn.Linear(120,84)\n",
        "        self.fc3 = nn.Linear(84, 10)\n",
        "\n",
        "    def forward(self, X):\n",
        "        X = F.relu(self.conv1(X))\n",
        "        X = F.max_pool2d(X, 2, 2)\n",
        "        X = F.relu(self.conv2(X))\n",
        "        X = F.max_pool2d(X, 2, 2)\n",
        "        X = X.view(-1, 8*8*self.conv2_width)\n",
        "        X = F.relu(self.fc1(X))\n",
        "        X = F.relu(self.fc2(X))\n",
        "        X = self.fc3(X)\n",
        "        return F.log_softmax(X, dim=1)"
      ]
    },
    {
      "cell_type": "code",
      "execution_count": null,
      "metadata": {
        "id": "MsKTM2Hk-iyy"
      },
      "outputs": [],
      "source": [
        "labels = {\n",
        "    0:  \"airplane\",\n",
        "    1: \"automobile\",\n",
        "    2: \"bird\",\n",
        "    3: \"cat\",    \n",
        "    4: \"deer\",     \n",
        "    5: \"dog\",    \n",
        "    6: \"frog\",     \n",
        "    7: \"horse\",    \n",
        "    8: \"ship\",   \n",
        "    9: \"truck\",\n",
        "}"
      ]
    },
    {
      "cell_type": "code",
      "execution_count": null,
      "metadata": {
        "colab": {
          "base_uri": "https://localhost:8080/",
          "height": 355
        },
        "id": "9Rx1bXru-iyy",
        "outputId": "ab89470e-c114-4f3e-f250-762b96c1ff75"
      },
      "outputs": [
        {
          "output_type": "stream",
          "name": "stderr",
          "text": [
            "WARNING:matplotlib.image:Clipping input data to the valid range for imshow with RGB data ([0..1] for floats or [0..255] for integers).\n"
          ]
        },
        {
          "output_type": "stream",
          "name": "stdout",
          "text": [
            "Label: [7 6 2 5 3 9 6 0 5 3]\n",
            "Class:  horse frog bird dog cat truck frog airplane dog cat\n"
          ]
        },
        {
          "output_type": "display_data",
          "data": {
            "text/plain": [
              "<Figure size 864x432 with 1 Axes>"
            ],
            "image/png": "[encoded data removed]"
          },
          "metadata": {
            "needs_background": "light"
          }
        }
      ],
      "source": [
        "from torchvision.utils import make_grid\n",
        "# Grab the first batch of 32 images\n",
        "for images,classes in train_loader: \n",
        "    break\n",
        "\n",
        "# Print the labels\n",
        "print('Label:', classes[:10].numpy())\n",
        "print('Class: ', *np.array([labels[i.item()] for i in classes[:10]]))\n",
        "\n",
        "# Print the images\n",
        "im = make_grid(images[:10], nrow=5)  # the default nrow is 8\n",
        "plt.figure(figsize=(12,6))\n",
        "plt.imshow(np.transpose(im.numpy(), (1, 2, 0)))  # NOTE: PyTorch image format NCHW -> Channels first!\n",
        "plt.axis(\"off\")\n",
        "plt.show()"
      ]
    },
    {
      "cell_type": "code",
      "execution_count": null,
      "metadata": {
        "colab": {
          "base_uri": "https://localhost:8080/"
        },
        "id": "wTEWwqNk-iyy",
        "outputId": "3d74bf0e-68c6-405f-8bc9-c0e43f6598cd"
      },
      "outputs": [
        {
          "output_type": "stream",
          "name": "stdout",
          "text": [
            "torch.Size([3, 32, 32])\n"
          ]
        }
      ],
      "source": [
        "print(images[0].shape) # channels first for PyTorch! matplotlib.pyplot.imshow() / TF expect NHWC"
      ]
    },
    {
      "cell_type": "code",
      "execution_count": null,
      "metadata": {
        "id": "4d7fn1s4-iyy"
      },
      "outputs": [],
      "source": [
        "import time\n",
        "\n",
        "\n",
        "def train_cifar(hp, data_dir):\n",
        "    start_time = time.time()\n",
        "    train_loader, val_loader, _ = get_data(data_dir)\n",
        "    model = ConvolutionalNetwork(hp) # define a net for this run\n",
        "    criterion = nn.CrossEntropyLoss()\n",
        "    optimizer = torch.optim.Adam(model.parameters(), lr=0.001)\n",
        "    \n",
        "    epochs = hp[\"epochs\"]\n",
        "    train_losses = []\n",
        "    test_losses = []\n",
        "    train_correct = []\n",
        "    test_correct = []\n",
        "\n",
        "    for i in range(epochs):\n",
        "        trn_corr = 0\n",
        "        tst_corr = 0\n",
        "        \n",
        "        # Run the training batches\n",
        "        for b, (X_train, y_train) in enumerate(train_loader):\n",
        "            b+=1\n",
        "            \n",
        "            # Apply the model\n",
        "            y_pred = model(X_train)\n",
        "            loss = criterion(y_pred, y_train)\n",
        "    \n",
        "            # Tally the number of correct predictions\n",
        "            predicted = torch.max(y_pred.data, 1)[1]\n",
        "            batch_corr = (predicted == y_train).sum()\n",
        "            trn_corr += batch_corr\n",
        "            \n",
        "            # Update parameters\n",
        "            optimizer.zero_grad()\n",
        "            loss.backward()\n",
        "            optimizer.step()\n",
        "            \n",
        "            # Print interim results\n",
        "            if b%25 == 0:\n",
        "                print(f'epoch: {i:2}  batch: {b:4} loss: {loss.item():10.8f}\\\n",
        "                    accuracy: {trn_corr.item()*100/(32*b):7.3f}%')\n",
        "            \n",
        "        train_losses.append(loss)\n",
        "        train_correct.append(trn_corr)\n",
        "            \n",
        "        # Run the testing batches\n",
        "        with torch.no_grad():\n",
        "            for b, (X_val, y_val) in enumerate(val_loader):\n",
        "\n",
        "                # Apply the model\n",
        "                y_pred = model(X_val)\n",
        "\n",
        "                # Tally the number of correct predictions\n",
        "                predicted = torch.max(y_pred.data, 1)[1] \n",
        "                tst_corr += (predicted == y_val).sum()\n",
        "                \n",
        "        loss = criterion(y_pred, y_val)\n",
        "        test_losses.append(loss)\n",
        "        test_correct.append(tst_corr/b)\n",
        "    print(f'\\nDuration: {time.time() - start_time:.0f} seconds') # print the time elapsed  \n",
        "    tune.report(loss=loss.item(), accuracy=tst_corr.item()*100/(32*b))  # Report results to ray.tune\n"
      ]
    },
    {
      "cell_type": "code",
      "execution_count": null,
      "metadata": {
        "id": "Xz_U_5KM-iyz"
      },
      "outputs": [],
      "source": [
        "# Search Space:\n",
        "\n",
        "hp = {\n",
        "    \"conv1_width\": tune.choice([3,6,9]),\n",
        "    \"conv2_width\": tune.choice([9,18]),\n",
        "    \"epochs\": 3 # We will only use 3 epoch for this trial\n",
        "}"
      ]
    },
    {
      "cell_type": "code",
      "execution_count": null,
      "metadata": {
        "colab": {
          "base_uri": "https://localhost:8080/",
          "height": 1000
        },
        "id": "J7oIDg49-iyz",
        "outputId": "19f543d0-2229-464e-9c63-3bbd19c71223"
      },
      "outputs": [
        {
          "output_type": "display_data",
          "data": {
            "text/plain": [
              "<IPython.core.display.HTML object>"
            ],
            "text/html": [
              "<div class=\"tuneStatus\">\n",
              "  <div style=\"display: flex;flex-direction: row\">\n",
              "    <div style=\"display: flex;flex-direction: column;\">\n",
              "      <h3>Tune Status</h3>\n",
              "      <table>\n",
              "<tbody>\n",
              "<tr><td>Current time:</td><td>2023-03-23 21:22:04</td></tr>\n",
              "<tr><td>Running for: </td><td>00:01:07.77        </td></tr>\n",
              "<tr><td>Memory:      </td><td>3.5/12.7 GiB       </td></tr>\n",
              "</tbody>\n",
              "</table>\n",
              "    </div>\n",
              "    <div class=\"vDivider\"></div>\n",
              "    <div class=\"systemInfo\">\n",
              "      <h3>System Info</h3>\n",
              "      Using FIFO scheduling algorithm.<br>Resources requested: 0/2 CPUs, 0/1 GPUs, 0.0/7.31 GiB heap, 0.0/3.65 GiB objects\n",
              "    </div>\n",
              "    \n",
              "  </div>\n",
              "  <div class=\"hDivider\"></div>\n",
              "  <div class=\"trialStatus\">\n",
              "    <h3>Trial Status</h3>\n",
              "    <table>\n",
              "<thead>\n",
              "<tr><th>Trial name             </th><th>status    </th><th>loc              </th><th style=\"text-align: right;\">  conv1_width</th><th style=\"text-align: right;\">  conv2_width</th><th style=\"text-align: right;\">  iter</th><th style=\"text-align: right;\">  total time (s)</th><th style=\"text-align: right;\">   loss</th><th style=\"text-align: right;\">  accuracy</th></tr>\n",
              "</thead>\n",
              "<tbody>\n",
              "<tr><td>train_cifar_99afb_00000</td><td>TERMINATED</td><td>172.28.0.12:30164</td><td style=\"text-align: right;\">            9</td><td style=\"text-align: right;\">            9</td><td style=\"text-align: right;\">     1</td><td style=\"text-align: right;\">         37.3794</td><td style=\"text-align: right;\">1.86501</td><td style=\"text-align: right;\">   39.4153</td></tr>\n",
              "<tr><td>train_cifar_99afb_00001</td><td>TERMINATED</td><td>172.28.0.12:30216</td><td style=\"text-align: right;\">            6</td><td style=\"text-align: right;\">           18</td><td style=\"text-align: right;\">     1</td><td style=\"text-align: right;\">         35.0123</td><td style=\"text-align: right;\">1.25496</td><td style=\"text-align: right;\">   42.2379</td></tr>\n",
              "<tr><td>train_cifar_99afb_00002</td><td>TERMINATED</td><td>172.28.0.12:30164</td><td style=\"text-align: right;\">            9</td><td style=\"text-align: right;\">           18</td><td style=\"text-align: right;\">     1</td><td style=\"text-align: right;\">         25.8094</td><td style=\"text-align: right;\">1.89158</td><td style=\"text-align: right;\">   45.3629</td></tr>\n",
              "</tbody>\n",
              "</table>\n",
              "  </div>\n",
              "</div>\n",
              "<style>\n",
              ".tuneStatus {\n",
              "  color: var(--jp-ui-font-color1);\n",
              "}\n",
              ".tuneStatus .systemInfo {\n",
              "  display: flex;\n",
              "  flex-direction: column;\n",
              "}\n",
              ".tuneStatus td {\n",
              "  white-space: nowrap;\n",
              "}\n",
              ".tuneStatus .trialStatus {\n",
              "  display: flex;\n",
              "  flex-direction: column;\n",
              "}\n",
              ".tuneStatus h3 {\n",
              "  font-weight: bold;\n",
              "}\n",
              ".tuneStatus .hDivider {\n",
              "  border-bottom-width: var(--jp-border-width);\n",
              "  border-bottom-color: var(--jp-border-color0);\n",
              "  border-bottom-style: solid;\n",
              "}\n",
              ".tuneStatus .vDivider {\n",
              "  border-left-width: var(--jp-border-width);\n",
              "  border-left-color: var(--jp-border-color0);\n",
              "  border-left-style: solid;\n",
              "  margin: 0.5em 1em 0.5em 1em;\n",
              "}\n",
              "</style>\n"
            ]
          },
          "metadata": {}
        },
        {
          "output_type": "stream",
          "name": "stdout",
          "text": [
            "\u001b[2m\u001b[36m(train_cifar pid=30164)\u001b[0m Downloading https://www.cs.toronto.edu/~kriz/cifar-10-python.tar.gz to data/cifar10/cifar-10-python.tar.gz\n"
          ]
        },
        {
          "output_type": "stream",
          "name": "stderr",
          "text": [
            "  0%|          | 0/170498071 [00:00<?, ?it/s]\n",
            "  0%|          | 32768/170498071 [00:00<18:09, 156502.17it/s]\n",
            "  0%|          | 65536/170498071 [00:00<18:12, 156042.17it/s]\n",
            "  0%|          | 98304/170498071 [00:00<18:09, 156374.13it/s]\n",
            "  0%|          | 229376/170498071 [00:00<08:19, 340741.20it/s]\n",
            "  0%|          | 458752/170498071 [00:01<04:38, 609896.29it/s]\n",
            "  1%|          | 917504/170498071 [00:01<02:27, 1146038.71it/s]\n",
            "  1%|          | 1703936/170498071 [00:01<01:24, 1989238.77it/s]\n",
            "  2%|▏         | 3407872/170498071 [00:01<00:42, 3937235.11it/s]\n",
            "  2%|▏         | 4063232/170498071 [00:01<00:50, 3272716.95it/s]\n",
            "  4%|▍         | 6619136/170498071 [00:02<00:25, 6531407.33it/s]\n",
            "  4%|▍         | 7503872/170498071 [00:02<00:24, 6715923.81it/s]\n",
            "  5%|▌         | 8552448/170498071 [00:02<00:21, 7437875.35it/s]\n",
            "  6%|▌         | 9469952/170498071 [00:02<00:21, 7543206.25it/s]\n",
            "  6%|▌         | 10485760/170498071 [00:02<00:19, 8105708.81it/s]\n",
            "  7%|▋         | 11403264/170498071 [00:02<00:19, 8147525.37it/s]\n",
            "  7%|▋         | 12451840/170498071 [00:02<00:18, 8717408.71it/s]\n"
          ]
        },
        {
          "output_type": "stream",
          "name": "stdout",
          "text": [
            "\u001b[2m\u001b[36m(train_cifar pid=30216)\u001b[0m Downloading https://www.cs.toronto.edu/~kriz/cifar-10-python.tar.gz to data/cifar10/cifar-10-python.tar.gz\n"
          ]
        },
        {
          "output_type": "stream",
          "name": "stderr",
          "text": [
            "\u001b[2m\u001b[36m(train_cifar pid=30164)\u001b[0m \r  8%|▊         | 13402112/170498071 [00:02<00:18, 8587073.91it/s]\n",
            "  8%|▊         | 14385152/170498071 [00:02<00:17, 8906700.47it/s]\n",
            "  9%|▉         | 15335424/170498071 [00:03<00:17, 8973622.53it/s]\n",
            " 10%|▉         | 16318464/170498071 [00:03<00:16, 9205023.21it/s]\n",
            " 10%|█         | 17268736/170498071 [00:03<00:16, 9186766.15it/s]\n",
            "  0%|          | 0/170498071 [00:00<?, ?it/s]\n",
            " 11%|█         | 18317312/170498071 [00:03<00:15, 9550413.57it/s]\n",
            " 11%|█▏        | 19300352/170498071 [00:03<00:15, 9476708.76it/s]\n",
            "  0%|          | 32768/170498071 [00:00<18:35, 152804.01it/s]\n",
            " 12%|█▏        | 20381696/170498071 [00:03<00:15, 9781722.65it/s]\n",
            " 13%|█▎        | 21397504/170498071 [00:03<00:15, 9722009.78it/s]\n",
            "  0%|          | 65536/170498071 [00:00<18:06, 156861.00it/s]\n",
            " 13%|█▎        | 22511616/170498071 [00:03<00:14, 10047314.84it/s]\n",
            " 14%|█▍        | 23527424/170498071 [00:03<00:14, 9954917.62it/s] \n",
            "  0%|          | 98304/170498071 [00:00<17:56, 158250.91it/s]\n",
            " 14%|█▍        | 24641536/170498071 [00:04<00:14, 10278824.62it/s]\n",
            " 15%|█▌        | 25690112/170498071 [00:04<00:14, 10191589.50it/s]\n",
            "  0%|          | 229376/170498071 [00:00<08:14, 344251.53it/s]\n",
            " 16%|█▌        | 26804224/170498071 [00:04<00:13, 10409833.72it/s]\n",
            " 16%|█▋        | 27852800/170498071 [00:04<00:13, 10303582.15it/s]\n",
            "  0%|          | 458752/170498071 [00:01<04:35, 616724.42it/s]\n",
            " 17%|█▋        | 28999680/170498071 [00:04<00:13, 10570150.02it/s]\n",
            " 18%|█▊        | 30081024/170498071 [00:04<00:13, 10415219.70it/s]\n",
            "  1%|          | 917504/170498071 [00:01<02:26, 1156763.38it/s]\n",
            " 18%|█▊        | 31260672/170498071 [00:04<00:12, 10758906.15it/s]\n",
            " 19%|█▉        | 32342016/170498071 [00:04<00:13, 10574922.98it/s]\n",
            "  1%|          | 1835008/170498071 [00:01<01:16, 2217510.04it/s]\n",
            " 20%|█▉        | 33521664/170498071 [00:04<00:12, 10910789.62it/s]\n",
            " 20%|██        | 34635776/170498071 [00:04<00:12, 10660134.18it/s]\n",
            "  2%|▏         | 3702784/170498071 [00:01<00:38, 4354069.18it/s]\n",
            " 21%|██        | 35848192/170498071 [00:05<00:12, 11041160.73it/s]\n",
            " 22%|██▏       | 36962304/170498071 [00:05<00:12, 10824195.76it/s]\n",
            "  4%|▍         | 6815744/170498071 [00:01<00:21, 7653544.53it/s]\n",
            " 22%|██▏       | 38174720/170498071 [00:05<00:11, 11106824.20it/s]\n",
            "  6%|▌         | 9895936/170498071 [00:01<00:14, 11309096.47it/s]\n",
            " 23%|██▎       | 39288832/170498071 [00:05<00:11, 10935894.33it/s]\n",
            " 24%|██▍       | 40501248/170498071 [00:05<00:11, 11185743.95it/s]\n",
            "  7%|▋         | 11239424/170498071 [00:02<00:14, 10822031.17it/s]\n",
            " 24%|██▍       | 41648128/170498071 [00:05<00:11, 11088701.57it/s]\n",
            "  8%|▊         | 13074432/170498071 [00:02<00:14, 11120970.13it/s]\n",
            " 25%|██▌       | 42827776/170498071 [00:05<00:11, 11207701.55it/s]\n",
            "  9%|▉         | 16154624/170498071 [00:02<00:10, 14623068.74it/s]\n",
            " 26%|██▌       | 43974656/170498071 [00:05<00:11, 11244576.04it/s]\n",
            " 26%|██▋       | 45121536/170498071 [00:05<00:11, 11194664.13it/s]\n",
            " 10%|█         | 17793024/170498071 [00:02<00:11, 13177503.78it/s]\n",
            " 27%|██▋       | 46366720/170498071 [00:05<00:10, 11503013.78it/s]\n",
            " 11%|█▏        | 19300352/170498071 [00:02<00:11, 12644533.42it/s]\n",
            " 28%|██▊       | 47546368/170498071 [00:06<00:10, 11329733.95it/s]\n",
            " 12%|█▏        | 21299200/170498071 [00:02<00:10, 14275855.95it/s]\n",
            " 29%|██▊       | 48791552/170498071 [00:06<00:10, 11582448.73it/s]\n",
            " 29%|██▉       | 49971200/170498071 [00:06<00:10, 11333584.09it/s]\n",
            " 13%|█▎        | 22839296/170498071 [00:02<00:11, 12388545.91it/s]\n",
            " 30%|███       | 51249152/170498071 [00:06<00:10, 11671692.44it/s]\n",
            " 31%|███       | 52428800/170498071 [00:06<00:10, 11453902.74it/s]\n",
            " 15%|█▍        | 25427968/170498071 [00:03<00:11, 12443713.94it/s]\n",
            " 31%|███▏      | 53706752/170498071 [00:06<00:09, 11798738.67it/s]\n",
            " 32%|███▏      | 54919168/170498071 [00:06<00:09, 11616602.81it/s]\n",
            " 17%|█▋        | 28409856/170498071 [00:03<00:10, 13009912.36it/s]\n",
            " 33%|███▎      | 56197120/170498071 [00:06<00:09, 11926875.98it/s]\n",
            " 34%|███▎      | 57409536/170498071 [00:06<00:09, 11685981.81it/s]\n",
            " 18%|█▊        | 31490048/170498071 [00:03<00:10, 13503376.78it/s]\n",
            " 34%|███▍      | 58687488/170498071 [00:07<00:09, 11998496.66it/s]\n",
            " 35%|███▌      | 59899904/170498071 [00:07<00:09, 11739274.35it/s]\n",
            " 20%|██        | 34603008/170498071 [00:03<00:09, 13868674.07it/s]\n",
            " 36%|███▌      | 61210624/170498071 [00:07<00:09, 12010855.86it/s]\n",
            " 37%|███▋      | 62423040/170498071 [00:07<00:09, 11830617.93it/s]\n",
            " 22%|██▏       | 37715968/170498071 [00:04<00:09, 14298306.02it/s]\n",
            " 37%|███▋      | 63733760/170498071 [00:07<00:08, 12105427.13it/s]\n",
            " 38%|███▊      | 64946176/170498071 [00:07<00:08, 11900701.37it/s]\n",
            " 24%|██▍       | 40861696/170498071 [00:04<00:08, 14445977.09it/s]\n",
            " 39%|███▉      | 66256896/170498071 [00:07<00:08, 12155800.62it/s]\n",
            " 40%|███▉      | 67502080/170498071 [00:07<00:08, 12006031.71it/s]\n",
            " 26%|██▌       | 43974656/170498071 [00:04<00:08, 14690944.87it/s]\n",
            " 40%|████      | 68812800/170498071 [00:07<00:08, 12250914.44it/s]\n",
            " 41%|████      | 70057984/170498071 [00:07<00:08, 12072636.36it/s]\n",
            " 28%|██▊       | 47120384/170498071 [00:04<00:08, 14716270.92it/s]\n",
            " 42%|████▏     | 71335936/170498071 [00:08<00:08, 12218161.78it/s]\n",
            " 43%|████▎     | 72581120/170498071 [00:08<00:08, 12231947.51it/s]\n",
            " 29%|██▉       | 50233344/170498071 [00:04<00:08, 14324902.78it/s]\n",
            " 43%|████▎     | 73924608/170498071 [00:08<00:07, 12318477.37it/s]\n",
            " 44%|████▍     | 75169792/170498071 [00:08<00:07, 12169781.42it/s]\n",
            " 31%|███       | 53149696/170498071 [00:05<00:08, 14228825.71it/s]\n",
            " 45%|████▍     | 76513280/170498071 [00:08<00:07, 12345534.54it/s]\n",
            " 46%|████▌     | 77758464/170498071 [00:08<00:07, 12252237.58it/s]\n",
            " 33%|███▎      | 56262656/170498071 [00:05<00:07, 14436031.47it/s]\n",
            " 46%|████▋     | 79101952/170498071 [00:08<00:07, 12398118.14it/s]\n",
            " 47%|████▋     | 80347136/170498071 [00:08<00:07, 12140706.99it/s]\n",
            " 35%|███▍      | 59408384/170498071 [00:05<00:07, 14600516.96it/s]\n",
            " 48%|████▊     | 81690624/170498071 [00:08<00:07, 12467518.75it/s]\n",
            " 49%|████▊     | 82968576/170498071 [00:09<00:07, 12257363.01it/s]\n",
            " 37%|███▋      | 62521344/170498071 [00:05<00:07, 14712033.17it/s]\n",
            " 49%|████▉     | 84279296/170498071 [00:09<00:06, 12493734.12it/s]\n",
            " 50%|█████     | 85557248/170498071 [00:09<00:06, 12282594.94it/s]\n",
            " 39%|███▊      | 65667072/170498071 [00:05<00:07, 14798742.81it/s]\n",
            " 51%|█████     | 86900736/170498071 [00:09<00:06, 12573269.51it/s]\n",
            " 52%|█████▏    | 88178688/170498071 [00:09<00:06, 12348803.84it/s]\n",
            " 40%|████      | 68747264/170498071 [00:06<00:06, 14838816.60it/s]\n",
            " 53%|█████▎    | 89522176/170498071 [00:09<00:06, 12612483.51it/s]\n",
            " 53%|█████▎    | 90800128/170498071 [00:09<00:06, 12378154.58it/s]\n",
            " 42%|████▏     | 71892992/170498071 [00:06<00:06, 14867149.10it/s]\n",
            " 54%|█████▍    | 92143616/170498071 [00:09<00:06, 12644752.24it/s]\n",
            " 55%|█████▍    | 93421568/170498071 [00:09<00:06, 12405438.78it/s]\n",
            " 44%|████▍     | 75038720/170498071 [00:06<00:06, 14896449.59it/s]\n",
            " 56%|█████▌    | 94765056/170498071 [00:09<00:06, 12556524.23it/s]\n",
            " 56%|█████▋    | 96043008/170498071 [00:10<00:05, 12426324.05it/s]\n",
            " 46%|████▌     | 78151680/170498071 [00:06<00:06, 14909908.12it/s]\n",
            " 57%|█████▋    | 97353728/170498071 [00:10<00:05, 12448765.55it/s]\n",
            " 58%|█████▊    | 98631680/170498071 [00:10<00:05, 12412071.62it/s]\n",
            " 48%|████▊     | 81297408/170498071 [00:06<00:06, 14751109.29it/s]\n",
            " 59%|█████▊    | 99975168/170498071 [00:10<00:05, 12515470.25it/s]\n",
            " 59%|█████▉    | 101253120/170498071 [00:10<00:05, 12454571.81it/s]\n",
            " 49%|████▉     | 84344832/170498071 [00:07<00:05, 15011711.92it/s]\n",
            " 60%|██████    | 102629376/170498071 [00:10<00:05, 12619086.00it/s]\n",
            " 51%|█████     | 86441984/170498071 [00:07<00:05, 16034028.49it/s]\n",
            " 61%|██████    | 103907328/170498071 [00:10<00:05, 12542454.96it/s]\n",
            " 62%|██████▏   | 105250816/170498071 [00:10<00:05, 12573496.23it/s]\n",
            " 52%|█████▏    | 88145920/170498071 [00:07<00:05, 14254219.14it/s]\n",
            " 62%|██████▏   | 106528768/170498071 [00:10<00:05, 12541027.02it/s]\n",
            " 53%|█████▎    | 90570752/170498071 [00:07<00:05, 14844610.70it/s]\n",
            " 63%|██████▎   | 107872256/170498071 [00:11<00:04, 12602227.44it/s]\n",
            " 54%|█████▍    | 92307456/170498071 [00:07<00:05, 15361013.31it/s]\n",
            " 64%|██████▍   | 109150208/170498071 [00:11<00:04, 12531445.45it/s]\n",
            " 65%|██████▍   | 110526464/170498071 [00:11<00:04, 12642655.97it/s]\n",
            " 55%|█████▌    | 93913088/170498071 [00:07<00:05, 13403204.81it/s]\n",
            " 66%|██████▌   | 111804416/170498071 [00:11<00:04, 12518476.54it/s]\n",
            " 57%|█████▋    | 96763904/170498071 [00:08<00:04, 15149857.36it/s]\n",
            " 66%|██████▋   | 113147904/170498071 [00:11<00:04, 12663025.09it/s]\n",
            " 58%|█████▊    | 98500608/170498071 [00:08<00:04, 15603472.24it/s]\n",
            " 67%|██████▋   | 114425856/170498071 [00:11<00:04, 12578351.48it/s]\n",
            " 68%|██████▊   | 115802112/170498071 [00:11<00:04, 12710076.54it/s]\n",
            " 59%|█████▊    | 100139008/170498071 [00:08<00:05, 13549040.58it/s]\n",
            " 69%|██████▊   | 117080064/170498071 [00:11<00:04, 12587500.73it/s]\n",
            " 60%|██████    | 102793216/170498071 [00:08<00:04, 14908887.68it/s]\n",
            " 69%|██████▉   | 118456320/170498071 [00:11<00:04, 12709655.91it/s]\n",
            " 61%|██████▏   | 104726528/170498071 [00:08<00:04, 15859832.51it/s]\n",
            " 70%|███████   | 119734272/170498071 [00:11<00:04, 12599959.11it/s]\n",
            " 71%|███████   | 121077760/170498071 [00:12<00:03, 12823453.91it/s]\n",
            " 62%|██████▏   | 106397696/170498071 [00:08<00:04, 13648949.44it/s]\n",
            " 72%|███████▏  | 122388480/170498071 [00:12<00:03, 12580695.25it/s]\n",
            " 64%|██████▍   | 108789760/170498071 [00:08<00:04, 14574951.32it/s]\n",
            " 73%|███████▎  | 123731968/170498071 [00:12<00:03, 12811073.15it/s]\n",
            " 65%|██████▌   | 110919680/170498071 [00:08<00:03, 16107743.83it/s]\n",
            " 73%|███████▎  | 125042688/170498071 [00:12<00:03, 12549275.14it/s]\n",
            " 66%|██████▌   | 112623616/170498071 [00:09<00:03, 14867492.44it/s]\n",
            " 74%|███████▍  | 126353408/170498071 [00:12<00:03, 12674285.59it/s]\n",
            " 67%|██████▋   | 114360320/170498071 [00:09<00:03, 15365711.64it/s]\n",
            " 75%|███████▍  | 127631360/170498071 [00:12<00:03, 12420784.37it/s]\n",
            " 76%|███████▌  | 128974848/170498071 [00:12<00:03, 12507339.32it/s]\n",
            " 68%|██████▊   | 115965952/170498071 [00:09<00:04, 13141149.93it/s]\n",
            " 76%|███████▋  | 130252800/170498071 [00:12<00:03, 12472754.92it/s]\n",
            " 69%|██████▉   | 117964800/170498071 [00:09<00:03, 14395535.20it/s]\n",
            " 77%|███████▋  | 131596288/170498071 [00:12<00:03, 12714884.24it/s]\n",
            " 70%|███████   | 119504896/170498071 [00:09<00:03, 14442108.82it/s]\n",
            " 78%|███████▊  | 132874240/170498071 [00:12<00:03, 12461620.37it/s]\n",
            " 71%|███████   | 121044992/170498071 [00:09<00:03, 14586500.50it/s]\n",
            " 79%|███████▊  | 134217728/170498071 [00:13<00:02, 12714558.01it/s]\n",
            " 72%|███████▏  | 122552320/170498071 [00:09<00:03, 14357131.37it/s]\n",
            " 79%|███████▉  | 135495680/170498071 [00:13<00:02, 12450529.09it/s]\n",
            " 73%|███████▎  | 124190720/170498071 [00:09<00:03, 14896075.32it/s]\n",
            " 80%|████████  | 136871936/170498071 [00:13<00:02, 12734844.90it/s]\n",
            " 74%|███████▎  | 125730816/170498071 [00:10<00:03, 14534863.74it/s]\n",
            " 81%|████████  | 138149888/170498071 [00:13<00:02, 12520908.91it/s]\n",
            " 75%|███████▍  | 127664128/170498071 [00:10<00:02, 15872002.51it/s]\n",
            " 82%|████████▏ | 139526144/170498071 [00:13<00:02, 12769466.01it/s]\n",
            " 76%|███████▌  | 129302528/170498071 [00:10<00:02, 15229555.68it/s]\n",
            " 83%|████████▎ | 140836864/170498071 [00:13<00:02, 12583510.82it/s]\n",
            " 77%|███████▋  | 131104768/170498071 [00:10<00:02, 15803880.34it/s]\n",
            " 83%|████████▎ | 142180352/170498071 [00:13<00:02, 12774072.33it/s]\n",
            " 78%|███████▊  | 132710400/170498071 [00:10<00:02, 15376988.35it/s]\n",
            " 84%|████████▍ | 143491072/170498071 [00:13<00:02, 12587271.33it/s]\n",
            " 85%|████████▍ | 144769024/170498071 [00:13<00:02, 12596776.53it/s]\n",
            " 79%|███████▉  | 134316032/170498071 [00:10<00:02, 12241597.63it/s]\n",
            " 86%|████████▌ | 146079744/170498071 [00:14<00:01, 12547874.70it/s]\n",
            " 81%|████████  | 137265152/170498071 [00:10<00:02, 16232816.63it/s]\n",
            " 86%|████████▋ | 147357696/170498071 [00:14<00:01, 12503374.76it/s]\n",
            " 87%|████████▋ | 148733952/170498071 [00:14<00:01, 12622714.27it/s]\n",
            " 82%|████████▏ | 139067392/170498071 [00:10<00:02, 14495338.06it/s]\n",
            " 88%|████████▊ | 150011904/170498071 [00:14<00:01, 12572690.53it/s]\n",
            " 83%|████████▎ | 140673024/170498071 [00:11<00:02, 12907244.19it/s]\n",
            " 89%|████████▉ | 151388160/170498071 [00:14<00:01, 12672842.47it/s]\n",
            " 84%|████████▍ | 143523840/170498071 [00:11<00:01, 16460827.79it/s]\n",
            " 90%|████████▉ | 152666112/170498071 [00:14<00:01, 12608620.37it/s]\n",
            " 90%|█████████ | 154042368/170498071 [00:14<00:01, 12624317.56it/s]\n",
            " 85%|████████▌ | 145391616/170498071 [00:11<00:01, 13947164.61it/s]\n",
            " 91%|█████████ | 155320320/170498071 [00:14<00:01, 12653471.29it/s]\n",
            " 92%|█████████▏| 156631040/170498071 [00:14<00:01, 12759248.26it/s]\n",
            " 86%|████████▌ | 146997248/170498071 [00:11<00:01, 13290570.75it/s]\n",
            " 93%|█████████▎| 157974528/170498071 [00:14<00:00, 12651764.59it/s]\n",
            " 88%|████████▊ | 149815296/170498071 [00:11<00:01, 13680457.49it/s]\n",
            " 93%|█████████▎| 159252480/170498071 [00:15<00:00, 12617170.58it/s]\n",
            " 90%|████████▉ | 152600576/170498071 [00:11<00:01, 16662155.47it/s]\n",
            " 94%|█████████▍| 160595968/170498071 [00:15<00:00, 12553953.67it/s]\n",
            " 95%|█████████▍| 161873920/170498071 [00:15<00:00, 12487937.18it/s]\n",
            " 91%|█████████ | 154468352/170498071 [00:11<00:01, 15090643.03it/s]\n",
            " 96%|█████████▌| 163250176/170498071 [00:15<00:00, 12531818.44it/s]\n",
            " 92%|█████████▏| 156139520/170498071 [00:12<00:01, 13267987.95it/s]\n",
            " 97%|█████████▋| 164560896/170498071 [00:15<00:00, 12652049.16it/s]\n",
            " 93%|█████████▎| 158072832/170498071 [00:12<00:00, 14576663.02it/s]\n",
            " 97%|█████████▋| 165904384/170498071 [00:15<00:00, 12541147.76it/s]\n",
            " 98%|█████████▊| 167182336/170498071 [00:15<00:00, 12607508.56it/s]\n",
            " 94%|█████████▎| 159678464/170498071 [00:12<00:00, 13648631.38it/s]\n",
            " 99%|█████████▉| 168558592/170498071 [00:15<00:00, 12647755.53it/s]\n",
            " 95%|█████████▍| 161775616/170498071 [00:12<00:00, 15345322.36it/s]\n",
            "100%|█████████▉| 169836544/170498071 [00:15<00:00, 12620343.71it/s]\n",
            " 96%|█████████▌| 163446784/170498071 [00:12<00:00, 14599303.01it/s]\n",
            "100%|██████████| 170498071/170498071 [00:15<00:00, 10670416.21it/s]\n",
            " 97%|█████████▋| 165019648/170498071 [00:12<00:00, 12224381.09it/s]\n",
            " 98%|█████████▊| 167215104/170498071 [00:12<00:00, 14296880.80it/s]\n",
            " 99%|█████████▉| 168787968/170498071 [00:13<00:00, 13725428.04it/s]\n"
          ]
        },
        {
          "output_type": "stream",
          "name": "stdout",
          "text": [
            "\u001b[2m\u001b[36m(train_cifar pid=30164)\u001b[0m Extracting data/cifar10/cifar-10-python.tar.gz to data/cifar10\n"
          ]
        },
        {
          "output_type": "stream",
          "name": "stderr",
          "text": [
            "\u001b[2m\u001b[36m(train_cifar pid=30216)\u001b[0m \r100%|██████████| 170498071/170498071 [00:13<00:00, 13007360.16it/s]\n"
          ]
        },
        {
          "output_type": "stream",
          "name": "stdout",
          "text": [
            "\u001b[2m\u001b[36m(train_cifar pid=30216)\u001b[0m Extracting data/cifar10/cifar-10-python.tar.gz to data/cifar10\n",
            "\u001b[2m\u001b[36m(train_cifar pid=30164)\u001b[0m Files already downloaded and verified\n",
            "\u001b[2m\u001b[36m(train_cifar pid=30216)\u001b[0m Files already downloaded and verified\n",
            "\u001b[2m\u001b[36m(train_cifar pid=30164)\u001b[0m epoch:  0  batch:   25 loss: 2.30174541                    accuracy:  10.750%\n",
            "\u001b[2m\u001b[36m(train_cifar pid=30216)\u001b[0m epoch:  0  batch:   25 loss: 2.23822927                    accuracy:  12.000%\n",
            "\u001b[2m\u001b[36m(train_cifar pid=30164)\u001b[0m epoch:  0  batch:   50 loss: 2.17816424                    accuracy:  13.812%\n",
            "\u001b[2m\u001b[36m(train_cifar pid=30216)\u001b[0m epoch:  0  batch:   50 loss: 2.25888133                    accuracy:  15.812%\n",
            "\u001b[2m\u001b[36m(train_cifar pid=30164)\u001b[0m epoch:  0  batch:   75 loss: 2.12985873                    accuracy:  16.917%\n",
            "\u001b[2m\u001b[36m(train_cifar pid=30216)\u001b[0m epoch:  0  batch:   75 loss: 1.92198050                    accuracy:  19.583%\n",
            "\u001b[2m\u001b[36m(train_cifar pid=30164)\u001b[0m epoch:  0  batch:  100 loss: 1.98142099                    accuracy:  18.750%\n",
            "\u001b[2m\u001b[36m(train_cifar pid=30216)\u001b[0m epoch:  0  batch:  100 loss: 1.86710393                    accuracy:  21.625%\n",
            "\u001b[2m\u001b[36m(train_cifar pid=30164)\u001b[0m epoch:  0  batch:  125 loss: 2.02168536                    accuracy:  20.650%\n",
            "\u001b[2m\u001b[36m(train_cifar pid=30216)\u001b[0m epoch:  0  batch:  125 loss: 2.06351066                    accuracy:  23.125%\n",
            "\u001b[2m\u001b[36m(train_cifar pid=30164)\u001b[0m epoch:  1  batch:   25 loss: 1.85883725                    accuracy:  28.750%\n",
            "\u001b[2m\u001b[36m(train_cifar pid=30216)\u001b[0m epoch:  1  batch:   25 loss: 1.40144181                    accuracy:  34.000%\n",
            "\u001b[2m\u001b[36m(train_cifar pid=30164)\u001b[0m epoch:  1  batch:   50 loss: 1.73842835                    accuracy:  31.750%\n",
            "\u001b[2m\u001b[36m(train_cifar pid=30216)\u001b[0m epoch:  1  batch:   50 loss: 1.88551080                    accuracy:  33.062%\n",
            "\u001b[2m\u001b[36m(train_cifar pid=30164)\u001b[0m epoch:  1  batch:   75 loss: 1.82718098                    accuracy:  32.500%\n",
            "\u001b[2m\u001b[36m(train_cifar pid=30216)\u001b[0m epoch:  1  batch:   75 loss: 1.81368530                    accuracy:  33.667%\n",
            "\u001b[2m\u001b[36m(train_cifar pid=30164)\u001b[0m epoch:  1  batch:  100 loss: 1.84221256                    accuracy:  33.219%\n",
            "\u001b[2m\u001b[36m(train_cifar pid=30216)\u001b[0m epoch:  1  batch:  100 loss: 1.95732069                    accuracy:  33.844%\n",
            "\u001b[2m\u001b[36m(train_cifar pid=30164)\u001b[0m epoch:  1  batch:  125 loss: 1.58239281                    accuracy:  34.275%\n",
            "\u001b[2m\u001b[36m(train_cifar pid=30216)\u001b[0m epoch:  1  batch:  125 loss: 1.81215978                    accuracy:  33.600%\n",
            "\u001b[2m\u001b[36m(train_cifar pid=30164)\u001b[0m epoch:  2  batch:   25 loss: 1.77599263                    accuracy:  40.375%\n",
            "\u001b[2m\u001b[36m(train_cifar pid=30216)\u001b[0m epoch:  2  batch:   25 loss: 1.57967901                    accuracy:  41.750%\n",
            "\u001b[2m\u001b[36m(train_cifar pid=30164)\u001b[0m epoch:  2  batch:   50 loss: 1.88359153                    accuracy:  39.938%\n",
            "\u001b[2m\u001b[36m(train_cifar pid=30164)\u001b[0m epoch:  2  batch:   75 loss: 1.56665504                    accuracy:  39.500%\n",
            "\u001b[2m\u001b[36m(train_cifar pid=30216)\u001b[0m epoch:  2  batch:   50 loss: 1.65784812                    accuracy:  39.812%\n",
            "\u001b[2m\u001b[36m(train_cifar pid=30164)\u001b[0m epoch:  2  batch:  100 loss: 1.42253649                    accuracy:  39.281%\n",
            "\u001b[2m\u001b[36m(train_cifar pid=30216)\u001b[0m epoch:  2  batch:   75 loss: 1.34392738                    accuracy:  40.083%\n",
            "\u001b[2m\u001b[36m(train_cifar pid=30164)\u001b[0m epoch:  2  batch:  125 loss: 1.49682903                    accuracy:  40.125%\n",
            "\u001b[2m\u001b[36m(train_cifar pid=30216)\u001b[0m epoch:  2  batch:  100 loss: 1.90123010                    accuracy:  39.188%\n",
            "\u001b[2m\u001b[36m(train_cifar pid=30164)\u001b[0m \n",
            "\u001b[2m\u001b[36m(train_cifar pid=30164)\u001b[0m Duration: 37 seconds\n",
            "\u001b[2m\u001b[36m(train_cifar pid=30216)\u001b[0m epoch:  2  batch:  125 loss: 1.69859922                    accuracy:  39.650%\n",
            "\u001b[2m\u001b[36m(train_cifar pid=30164)\u001b[0m Downloading https://www.cs.toronto.edu/~kriz/cifar-10-python.tar.gz to data/cifar10/cifar-10-python.tar.gz\n",
            "\u001b[2m\u001b[36m(train_cifar pid=30216)\u001b[0m \n",
            "\u001b[2m\u001b[36m(train_cifar pid=30216)\u001b[0m Duration: 35 seconds\n"
          ]
        },
        {
          "output_type": "stream",
          "name": "stderr",
          "text": [
            "  0%|          | 0/170498071 [00:00<?, ?it/s]\n",
            "  0%|          | 32768/170498071 [00:00<18:06, 156903.63it/s]\n",
            "  0%|          | 65536/170498071 [00:00<18:03, 157298.49it/s]\n",
            "  0%|          | 98304/170498071 [00:00<18:01, 157557.30it/s]\n",
            "  0%|          | 229376/170498071 [00:00<08:15, 343590.76it/s]\n",
            "  0%|          | 458752/170498071 [00:01<04:35, 616327.95it/s]\n",
            "  1%|          | 917504/170498071 [00:01<02:26, 1155499.24it/s]\n",
            "  1%|          | 1835008/170498071 [00:01<01:16, 2216852.05it/s]\n",
            "  2%|▏         | 3702784/170498071 [00:01<00:38, 4361740.74it/s]\n",
            "  4%|▍         | 6815744/170498071 [00:01<00:21, 7660563.92it/s]\n",
            "  6%|▌         | 9961472/170498071 [00:02<00:16, 9933767.60it/s]\n",
            "  8%|▊         | 12812288/170498071 [00:02<00:14, 11079449.20it/s]\n",
            "  9%|▉         | 15663104/170498071 [00:02<00:13, 11829407.46it/s]\n",
            " 11%|█         | 18677760/170498071 [00:02<00:12, 12538582.13it/s]\n",
            " 13%|█▎        | 21659648/170498071 [00:02<00:11, 12986228.52it/s]\n",
            " 15%|█▍        | 24805376/170498071 [00:03<00:10, 13473351.91it/s]\n",
            " 16%|█▋        | 27852800/170498071 [00:03<00:10, 13708446.22it/s]\n",
            " 18%|█▊        | 30998528/170498071 [00:03<00:09, 14102942.40it/s]\n",
            " 20%|██        | 34144256/170498071 [00:03<00:09, 14307710.04it/s]\n",
            " 22%|██▏       | 37257216/170498071 [00:03<00:09, 14482810.32it/s]\n",
            " 24%|██▎       | 40402944/170498071 [00:04<00:08, 14659311.98it/s]\n",
            " 26%|██▌       | 43515904/170498071 [00:04<00:08, 14839961.39it/s]\n",
            " 27%|██▋       | 46661632/170498071 [00:04<00:08, 14690262.52it/s]\n",
            " 29%|██▉       | 49774592/170498071 [00:04<00:08, 14949623.35it/s]\n",
            " 31%|███       | 52920320/170498071 [00:05<00:07, 14798197.78it/s]\n",
            " 33%|███▎      | 56000512/170498071 [00:05<00:07, 15020304.58it/s]\n",
            " 35%|███▍      | 59113472/170498071 [00:05<00:07, 14957029.38it/s]\n",
            " 36%|███▋      | 62095360/170498071 [00:05<00:07, 14801302.05it/s]\n",
            " 38%|███▊      | 65241088/170498071 [00:05<00:07, 14875212.60it/s]\n",
            " 39%|███▉      | 67272704/170498071 [00:05<00:06, 15804689.58it/s]\n",
            " 40%|████      | 68943872/170498071 [00:06<00:07, 14345056.76it/s]\n",
            " 42%|████▏     | 71401472/170498071 [00:06<00:06, 14670057.88it/s]\n",
            " 43%|████▎     | 72908800/170498071 [00:06<00:06, 14585029.93it/s]\n",
            " 44%|████▎     | 74514432/170498071 [00:06<00:06, 14802663.99it/s]\n",
            " 45%|████▍     | 76021760/170498071 [00:06<00:06, 14181242.64it/s]\n",
            " 46%|████▌     | 77758464/170498071 [00:06<00:07, 12610078.06it/s]\n",
            " 47%|████▋     | 80609280/170498071 [00:06<00:05, 16224043.51it/s]\n",
            " 48%|████▊     | 82378752/170498071 [00:07<00:06, 14023889.46it/s]\n",
            " 49%|████▉     | 83918848/170498071 [00:07<00:06, 12446725.56it/s]\n",
            " 51%|█████     | 86441984/170498071 [00:07<00:06, 12404263.22it/s]\n",
            " 52%|█████▏    | 89292800/170498071 [00:07<00:05, 15690904.64it/s]\n",
            " 53%|█████▎    | 91095040/170498071 [00:07<00:05, 13838589.11it/s]\n",
            " 54%|█████▍    | 92667904/170498071 [00:07<00:06, 12582376.83it/s]\n",
            " 56%|█████▌    | 95191040/170498071 [00:08<00:06, 12515977.37it/s]\n",
            " 58%|█████▊    | 98140160/170498071 [00:08<00:05, 13027943.04it/s]\n",
            " 59%|█████▉    | 101220352/170498071 [00:08<00:05, 13479532.65it/s]\n",
            " 61%|██████    | 104366080/170498071 [00:08<00:04, 13973247.49it/s]\n",
            " 63%|██████▎   | 107479040/170498071 [00:08<00:04, 14260242.83it/s]\n",
            " 65%|██████▍   | 110592000/170498071 [00:09<00:04, 14494955.93it/s]\n",
            " 67%|██████▋   | 113737728/170498071 [00:09<00:03, 14649879.43it/s]\n",
            " 69%|██████▊   | 116883456/170498071 [00:09<00:03, 14756785.82it/s]\n",
            " 70%|███████   | 119996416/170498071 [00:09<00:03, 14848643.06it/s]\n",
            " 72%|███████▏  | 123142144/170498071 [00:09<00:03, 14884125.89it/s]\n",
            " 74%|███████▍  | 126189568/170498071 [00:10<00:02, 14844828.39it/s]\n",
            " 76%|███████▌  | 128745472/170498071 [00:10<00:02, 16678754.61it/s]\n",
            " 77%|███████▋  | 130580480/170498071 [00:10<00:02, 15125066.02it/s]\n",
            " 78%|███████▊  | 132415488/170498071 [00:10<00:02, 14217249.87it/s]\n",
            " 79%|███████▉  | 134905856/170498071 [00:10<00:02, 16311392.07it/s]\n",
            " 80%|████████  | 136675328/170498071 [00:10<00:02, 14460539.50it/s]\n",
            " 81%|████████▏ | 138608640/170498071 [00:11<00:02, 13998092.66it/s]\n",
            " 83%|████████▎ | 141000704/170498071 [00:11<00:01, 15905575.35it/s]\n",
            " 84%|████████▎ | 142704640/170498071 [00:11<00:01, 13971244.80it/s]\n",
            " 85%|████████▍ | 144834560/170498071 [00:11<00:01, 14280135.12it/s]\n",
            " 86%|████████▋ | 147193856/170498071 [00:11<00:01, 16082956.53it/s]\n",
            " 87%|████████▋ | 148897792/170498071 [00:11<00:01, 13937214.65it/s]\n",
            " 89%|████████▊ | 151093248/170498071 [00:11<00:01, 14468160.62it/s]\n",
            " 90%|█████████ | 153452544/170498071 [00:11<00:01, 16268113.30it/s]\n",
            " 91%|█████████ | 155189248/170498071 [00:12<00:01, 13767688.31it/s]\n",
            " 92%|█████████▏| 157319168/170498071 [00:12<00:00, 14628647.30it/s]\n",
            " 93%|█████████▎| 159318016/170498071 [00:12<00:00, 15865180.93it/s]\n",
            " 94%|█████████▍| 161021952/170498071 [00:12<00:00, 14773631.24it/s]\n",
            " 95%|█████████▌| 162824192/170498071 [00:12<00:00, 15431752.51it/s]\n",
            " 96%|█████████▋| 164462592/170498071 [00:12<00:00, 13271698.50it/s]\n",
            " 98%|█████████▊| 166625280/170498071 [00:12<00:00, 14742095.09it/s]\n",
            " 99%|█████████▊| 168198144/170498071 [00:12<00:00, 14726296.48it/s]\n",
            "100%|██████████| 170498071/170498071 [00:13<00:00, 12986122.25it/s]\n"
          ]
        },
        {
          "output_type": "stream",
          "name": "stdout",
          "text": [
            "\u001b[2m\u001b[36m(train_cifar pid=30164)\u001b[0m Extracting data/cifar10/cifar-10-python.tar.gz to data/cifar10\n",
            "\u001b[2m\u001b[36m(train_cifar pid=30164)\u001b[0m Files already downloaded and verified\n",
            "\u001b[2m\u001b[36m(train_cifar pid=30164)\u001b[0m epoch:  0  batch:   25 loss: 2.34298611                    accuracy:  13.000%\n",
            "\u001b[2m\u001b[36m(train_cifar pid=30164)\u001b[0m epoch:  0  batch:   50 loss: 2.20724750                    accuracy:  15.125%\n",
            "\u001b[2m\u001b[36m(train_cifar pid=30164)\u001b[0m epoch:  0  batch:   75 loss: 1.96035409                    accuracy:  19.875%\n",
            "\u001b[2m\u001b[36m(train_cifar pid=30164)\u001b[0m epoch:  0  batch:  100 loss: 2.18372083                    accuracy:  21.969%\n",
            "\u001b[2m\u001b[36m(train_cifar pid=30164)\u001b[0m epoch:  0  batch:  125 loss: 1.97497523                    accuracy:  23.475%\n",
            "\u001b[2m\u001b[36m(train_cifar pid=30164)\u001b[0m epoch:  1  batch:   25 loss: 1.66555274                    accuracy:  35.000%\n",
            "\u001b[2m\u001b[36m(train_cifar pid=30164)\u001b[0m epoch:  1  batch:   50 loss: 1.70781028                    accuracy:  35.562%\n",
            "\u001b[2m\u001b[36m(train_cifar pid=30164)\u001b[0m epoch:  1  batch:   75 loss: 1.65045583                    accuracy:  36.250%\n",
            "\u001b[2m\u001b[36m(train_cifar pid=30164)\u001b[0m epoch:  1  batch:  100 loss: 1.77263844                    accuracy:  36.875%\n",
            "\u001b[2m\u001b[36m(train_cifar pid=30164)\u001b[0m epoch:  1  batch:  125 loss: 1.52498305                    accuracy:  37.600%\n",
            "\u001b[2m\u001b[36m(train_cifar pid=30164)\u001b[0m epoch:  2  batch:   25 loss: 1.57768548                    accuracy:  44.000%\n",
            "\u001b[2m\u001b[36m(train_cifar pid=30164)\u001b[0m epoch:  2  batch:   50 loss: 1.45525658                    accuracy:  43.812%\n",
            "\u001b[2m\u001b[36m(train_cifar pid=30164)\u001b[0m epoch:  2  batch:   75 loss: 1.76831198                    accuracy:  43.375%\n",
            "\u001b[2m\u001b[36m(train_cifar pid=30164)\u001b[0m epoch:  2  batch:  100 loss: 1.41560590                    accuracy:  43.469%\n",
            "\u001b[2m\u001b[36m(train_cifar pid=30164)\u001b[0m epoch:  2  batch:  125 loss: 1.70044899                    accuracy:  43.900%\n",
            "\u001b[2m\u001b[36m(train_cifar pid=30164)\u001b[0m \n",
            "\u001b[2m\u001b[36m(train_cifar pid=30164)\u001b[0m Duration: 26 seconds\n"
          ]
        },
        {
          "output_type": "stream",
          "name": "stderr",
          "text": [
            "2023-03-23 21:22:04,556\tINFO tune.py:798 -- Total run time: 67.80 seconds (67.76 seconds for the tuning loop).\n"
          ]
        }
      ],
      "source": [
        "result = tune.run(\n",
        "    tune.with_parameters(train_cifar, data_dir = __DATA_PATH / \"cifar10\"),\n",
        "    config=hp,\n",
        "    num_samples=3,\n",
        "    local_dir = __DATA_PATH / \"ray-tune\",\n",
        "    verbose=1\n",
        ")\n",
        "\n",
        "# NOTE: Check out that duration! Ray will multi thread when run locally "
      ]
    },
    {
      "cell_type": "code",
      "execution_count": null,
      "metadata": {
        "colab": {
          "base_uri": "https://localhost:8080/",
          "height": 393
        },
        "id": "Zsnee6tM-iyz",
        "outputId": "dcf37394-6381-4a0d-d6c9-1b341a346e9e"
      },
      "outputs": [
        {
          "output_type": "execute_result",
          "data": {
            "text/plain": [
              "       loss   accuracy  time_this_iter_s   done  timesteps_total  \\\n",
              "0  1.865014  39.415323         37.379423  False              NaN   \n",
              "1  1.254956  42.237903         35.012311  False              NaN   \n",
              "2  1.891581  45.362903         25.809389  False              NaN   \n",
              "\n",
              "   episodes_total  training_iteration     trial_id  \\\n",
              "0             NaN                   1  99afb_00000   \n",
              "1             NaN                   1  99afb_00001   \n",
              "2             NaN                   1  99afb_00002   \n",
              "\n",
              "                      experiment_id                 date  ...      hostname  \\\n",
              "0  151e175610bf4694a28236dc40048958  2023-03-23_21-21-38  ...  0d2fcdd812ec   \n",
              "1  a4d9b9a1d9224df5a1fd93a2eca1daa9  2023-03-23_21-21-39  ...  0d2fcdd812ec   \n",
              "2  151e175610bf4694a28236dc40048958  2023-03-23_21-22-04  ...  0d2fcdd812ec   \n",
              "\n",
              "       node_ip  time_since_restore timesteps_since_restore  \\\n",
              "0  172.28.0.12           37.379423                       0   \n",
              "1  172.28.0.12           35.012311                       0   \n",
              "2  172.28.0.12           25.809389                       0   \n",
              "\n",
              "  iterations_since_restore  warmup_time  config/conv1_width  \\\n",
              "0                        1     0.003556                   9   \n",
              "1                        1     0.004175                   6   \n",
              "2                        1     0.003556                   9   \n",
              "\n",
              "   config/conv2_width  config/epochs  \\\n",
              "0                   9              3   \n",
              "1                  18              3   \n",
              "2                  18              3   \n",
              "\n",
              "                                              logdir  \n",
              "0  /content/data/ray-tune/train_cifar_2023-03-23_...  \n",
              "1  /content/data/ray-tune/train_cifar_2023-03-23_...  \n",
              "2  /content/data/ray-tune/train_cifar_2023-03-23_...  \n",
              "\n",
              "[3 rows x 23 columns]"
            ],
            "text/html": [
              "\n",
              "  <div id=\"df-f372e7c7-5bf5-4858-9591-f520f505c89f\">\n",
              "    <div class=\"colab-df-container\">\n",
              "      <div>\n",
              "<style scoped>\n",
              "    .dataframe tbody tr th:only-of-type {\n",
              "        vertical-align: middle;\n",
              "    }\n",
              "\n",
              "    .dataframe tbody tr th {\n",
              "        vertical-align: top;\n",
              "    }\n",
              "\n",
              "    .dataframe thead th {\n",
              "        text-align: right;\n",
              "    }\n",
              "</style>\n",
              "<table border=\"1\" class=\"dataframe\">\n",
              "  <thead>\n",
              "    <tr style=\"text-align: right;\">\n",
              "      <th></th>\n",
              "      <th>loss</th>\n",
              "      <th>accuracy</th>\n",
              "      <th>time_this_iter_s</th>\n",
              "      <th>done</th>\n",
              "      <th>timesteps_total</th>\n",
              "      <th>episodes_total</th>\n",
              "      <th>training_iteration</th>\n",
              "      <th>trial_id</th>\n",
              "      <th>experiment_id</th>\n",
              "      <th>date</th>\n",
              "      <th>...</th>\n",
              "      <th>hostname</th>\n",
              "      <th>node_ip</th>\n",
              "      <th>time_since_restore</th>\n",
              "      <th>timesteps_since_restore</th>\n",
              "      <th>iterations_since_restore</th>\n",
              "      <th>warmup_time</th>\n",
              "      <th>config/conv1_width</th>\n",
              "      <th>config/conv2_width</th>\n",
              "      <th>config/epochs</th>\n",
              "      <th>logdir</th>\n",
              "    </tr>\n",
              "  </thead>\n",
              "  <tbody>\n",
              "    <tr>\n",
              "      <th>0</th>\n",
              "      <td>1.865014</td>\n",
              "      <td>39.415323</td>\n",
              "      <td>37.379423</td>\n",
              "      <td>False</td>\n",
              "      <td>NaN</td>\n",
              "      <td>NaN</td>\n",
              "      <td>1</td>\n",
              "      <td>99afb_00000</td>\n",
              "      <td>151e175610bf4694a28236dc40048958</td>\n",
              "      <td>2023-03-23_21-21-38</td>\n",
              "      <td>...</td>\n",
              "      <td>0d2fcdd812ec</td>\n",
              "      <td>172.28.0.12</td>\n",
              "      <td>37.379423</td>\n",
              "      <td>0</td>\n",
              "      <td>1</td>\n",
              "      <td>0.003556</td>\n",
              "      <td>9</td>\n",
              "      <td>9</td>\n",
              "      <td>3</td>\n",
              "      <td>/content/data/ray-tune/train_cifar_2023-03-23_...</td>\n",
              "    </tr>\n",
              "    <tr>\n",
              "      <th>1</th>\n",
              "      <td>1.254956</td>\n",
              "      <td>42.237903</td>\n",
              "      <td>35.012311</td>\n",
              "      <td>False</td>\n",
              "      <td>NaN</td>\n",
              "      <td>NaN</td>\n",
              "      <td>1</td>\n",
              "      <td>99afb_00001</td>\n",
              "      <td>a4d9b9a1d9224df5a1fd93a2eca1daa9</td>\n",
              "      <td>2023-03-23_21-21-39</td>\n",
              "      <td>...</td>\n",
              "      <td>0d2fcdd812ec</td>\n",
              "      <td>172.28.0.12</td>\n",
              "      <td>35.012311</td>\n",
              "      <td>0</td>\n",
              "      <td>1</td>\n",
              "      <td>0.004175</td>\n",
              "      <td>6</td>\n",
              "      <td>18</td>\n",
              "      <td>3</td>\n",
              "      <td>/content/data/ray-tune/train_cifar_2023-03-23_...</td>\n",
              "    </tr>\n",
              "    <tr>\n",
              "      <th>2</th>\n",
              "      <td>1.891581</td>\n",
              "      <td>45.362903</td>\n",
              "      <td>25.809389</td>\n",
              "      <td>False</td>\n",
              "      <td>NaN</td>\n",
              "      <td>NaN</td>\n",
              "      <td>1</td>\n",
              "      <td>99afb_00002</td>\n",
              "      <td>151e175610bf4694a28236dc40048958</td>\n",
              "      <td>2023-03-23_21-22-04</td>\n",
              "      <td>...</td>\n",
              "      <td>0d2fcdd812ec</td>\n",
              "      <td>172.28.0.12</td>\n",
              "      <td>25.809389</td>\n",
              "      <td>0</td>\n",
              "      <td>1</td>\n",
              "      <td>0.003556</td>\n",
              "      <td>9</td>\n",
              "      <td>18</td>\n",
              "      <td>3</td>\n",
              "      <td>/content/data/ray-tune/train_cifar_2023-03-23_...</td>\n",
              "    </tr>\n",
              "  </tbody>\n",
              "</table>\n",
              "<p>3 rows × 23 columns</p>\n",
              "</div>\n",
              "      <button class=\"colab-df-convert\" onclick=\"convertToInteractive('df-f372e7c7-5bf5-4858-9591-f520f505c89f')\"\n",
              "              title=\"Convert this dataframe to an interactive table.\"\n",
              "              style=\"display:none;\">\n",
              "        \n",
              "  <svg xmlns=\"http://www.w3.org/2000/svg\" height=\"24px\"viewBox=\"0 0 24 24\"\n",
              "       width=\"24px\">\n",
              "    <path d=\"M0 0h24v24H0V0z\" fill=\"none\"/>\n",
              "    <path d=\"M18.56 5.44l.94 2.06.94-2.06 2.06-.94-2.06-.94-.94-2.06-.94 2.06-2.06.94zm-11 1L8.5 8.5l.94-2.06 2.06-.94-2.06-.94L8.5 2.5l-.94 2.06-2.06.94zm10 10l.94 2.06.94-2.06 2.06-.94-2.06-.94-.94-2.06-.94 2.06-2.06.94z\"/><path d=\"M17.41 7.96l-1.37-1.37c-.4-.4-.92-.59-1.43-.59-.52 0-1.04.2-1.43.59L10.3 9.45l-7.72 7.72c-.78.78-.78 2.05 0 2.83L4 21.41c.39.39.9.59 1.41.59.51 0 1.02-.2 1.41-.59l7.78-7.78 2.81-2.81c.8-.78.8-2.07 0-2.86zM5.41 20L4 18.59l7.72-7.72 1.47 1.35L5.41 20z\"/>\n",
              "  </svg>\n",
              "      </button>\n",
              "      \n",
              "  <style>\n",
              "    .colab-df-container {\n",
              "      display:flex;\n",
              "      flex-wrap:wrap;\n",
              "      gap: 12px;\n",
              "    }\n",
              "\n",
              "    .colab-df-convert {\n",
              "      background-color: #E8F0FE;\n",
              "      border: none;\n",
              "      border-radius: 50%;\n",
              "      cursor: pointer;\n",
              "      display: none;\n",
              "      fill: #1967D2;\n",
              "      height: 32px;\n",
              "      padding: 0 0 0 0;\n",
              "      width: 32px;\n",
              "    }\n",
              "\n",
              "    .colab-df-convert:hover {\n",
              "      background-color: #E2EBFA;\n",
              "      box-shadow: 0px 1px 2px rgba(60, 64, 67, 0.3), 0px 1px 3px 1px rgba(60, 64, 67, 0.15);\n",
              "      fill: #174EA6;\n",
              "    }\n",
              "\n",
              "    [theme=dark] .colab-df-convert {\n",
              "      background-color: #3B4455;\n",
              "      fill: #D2E3FC;\n",
              "    }\n",
              "\n",
              "    [theme=dark] .colab-df-convert:hover {\n",
              "      background-color: #434B5C;\n",
              "      box-shadow: 0px 1px 3px 1px rgba(0, 0, 0, 0.15);\n",
              "      filter: drop-shadow(0px 1px 2px rgba(0, 0, 0, 0.3));\n",
              "      fill: #FFFFFF;\n",
              "    }\n",
              "  </style>\n",
              "\n",
              "      <script>\n",
              "        const buttonEl =\n",
              "          document.querySelector('#df-f372e7c7-5bf5-4858-9591-f520f505c89f button.colab-df-convert');\n",
              "        buttonEl.style.display =\n",
              "          google.colab.kernel.accessAllowed ? 'block' : 'none';\n",
              "\n",
              "        async function convertToInteractive(key) {\n",
              "          const element = document.querySelector('#df-f372e7c7-5bf5-4858-9591-f520f505c89f');\n",
              "          const dataTable =\n",
              "            await google.colab.kernel.invokeFunction('convertToInteractive',\n",
              "                                                     [key], {});\n",
              "          if (!dataTable) return;\n",
              "\n",
              "          const docLinkHtml = 'Like what you see? Visit the ' +\n",
              "            '<a target=\"_blank\" href=https://colab.research.google.com/notebooks/data_table.ipynb>data table notebook</a>'\n",
              "            + ' to learn more about interactive tables.';\n",
              "          element.innerHTML = '';\n",
              "          dataTable['output_type'] = 'display_data';\n",
              "          await google.colab.output.renderOutput(dataTable, element);\n",
              "          const docLink = document.createElement('div');\n",
              "          docLink.innerHTML = docLinkHtml;\n",
              "          element.appendChild(docLink);\n",
              "        }\n",
              "      </script>\n",
              "    </div>\n",
              "  </div>\n",
              "  "
            ]
          },
          "metadata": {},
          "execution_count": 19
        }
      ],
      "source": [
        "result.dataframe()"
      ]
    },
    {
      "cell_type": "code",
      "execution_count": null,
      "metadata": {
        "colab": {
          "base_uri": "https://localhost:8080/"
        },
        "id": "aZHyVHWH-iyz",
        "outputId": "29d3e402-d2e5-4d71-f9f8-26bf557d23a5"
      },
      "outputs": [
        {
          "output_type": "execute_result",
          "data": {
            "text/plain": [
              "{'conv1_width': 9, 'conv2_width': 18, 'epochs': 3}"
            ]
          },
          "metadata": {},
          "execution_count": 20
        }
      ],
      "source": [
        "result.get_best_config(metric=\"accuracy\", mode=\"max\")"
      ]
    }
  ],
  "metadata": {
    "interpreter": {
      "hash": "103c48291f705ce8c767bb63c4c6e1b50e89cd136cd9cae1c5064c0fdc959fe6"
    },
    "kernelspec": {
      "display_name": "Python 3.8.0 ('automl')",
      "language": "python",
      "name": "python3"
    },
    "language_info": {
      "codemirror_mode": {
        "name": "ipython",
        "version": 3
      },
      "file_extension": ".py",
      "mimetype": "text/x-python",
      "name": "python",
      "nbconvert_exporter": "python",
      "pygments_lexer": "ipython3",
      "version": "3.9.0"
    },
    "orig_nbformat": 4,
    "colab": {
      "provenance": [],
      "include_colab_link": true
    },
    "accelerator": "GPU",
    "gpuClass": "standard",
    "widgets": {
      "application/vnd.jupyter.widget-state+json": {
        "9c47f2c192864eea97d79bb7ed2808b7": {
          "model_module": "@jupyter-widgets/controls",
          "model_name": "HBoxModel",
          "model_module_version": "1.5.0",
          "state": {
            "_dom_classes": [],
            "_model_module": "@jupyter-widgets/controls",
            "_model_module_version": "1.5.0",
            "_model_name": "HBoxModel",
            "_view_count": null,
            "_view_module": "@jupyter-widgets/controls",
            "_view_module_version": "1.5.0",
            "_view_name": "HBoxView",
            "box_style": "",
            "children": [
              "IPY_MODEL_8476721b4f46470783e2c7083b63157c",
              "IPY_MODEL_7c9e0aa4aee44899bc307b1d248f3023",
              "IPY_MODEL_01dd1dff2f874276bc71296dae99f3f9"
            ],
            "layout": "IPY_MODEL_e2c53de6321f430a966b67781e78c722"
          }
        },
        "8476721b4f46470783e2c7083b63157c": {
          "model_module": "@jupyter-widgets/controls",
          "model_name": "HTMLModel",
          "model_module_version": "1.5.0",
          "state": {
            "_dom_classes": [],
            "_model_module": "@jupyter-widgets/controls",
            "_model_module_version": "1.5.0",
            "_model_name": "HTMLModel",
            "_view_count": null,
            "_view_module": "@jupyter-widgets/controls",
            "_view_module_version": "1.5.0",
            "_view_name": "HTMLView",
            "description": "",
            "description_tooltip": null,
            "layout": "IPY_MODEL_d2dc9fcecdc84914a082a97b6e9c8d1a",
            "placeholder": "​",
            "style": "IPY_MODEL_85e439935d7c44e99ef937332ecde9f6",
            "value": "Optimization Progress:  68%"
          }
        },
        "7c9e0aa4aee44899bc307b1d248f3023": {
          "model_module": "@jupyter-widgets/controls",
          "model_name": "FloatProgressModel",
          "model_module_version": "1.5.0",
          "state": {
            "_dom_classes": [],
            "_model_module": "@jupyter-widgets/controls",
            "_model_module_version": "1.5.0",
            "_model_name": "FloatProgressModel",
            "_view_count": null,
            "_view_module": "@jupyter-widgets/controls",
            "_view_module_version": "1.5.0",
            "_view_name": "ProgressView",
            "bar_style": "danger",
            "description": "",
            "description_tooltip": null,
            "layout": "IPY_MODEL_9e133a92e390495abf864031d2dfa505",
            "max": 100,
            "min": 0,
            "orientation": "horizontal",
            "style": "IPY_MODEL_7b188c040f784dab87c40100937fbcb4",
            "value": 100
          }
        },
        "01dd1dff2f874276bc71296dae99f3f9": {
          "model_module": "@jupyter-widgets/controls",
          "model_name": "HTMLModel",
          "model_module_version": "1.5.0",
          "state": {
            "_dom_classes": [],
            "_model_module": "@jupyter-widgets/controls",
            "_model_module_version": "1.5.0",
            "_model_name": "HTMLModel",
            "_view_count": null,
            "_view_module": "@jupyter-widgets/controls",
            "_view_module_version": "1.5.0",
            "_view_name": "HTMLView",
            "description": "",
            "description_tooltip": null,
            "layout": "IPY_MODEL_c1bd3ae1f72b4cc3a4c7976219a490a6",
            "placeholder": "​",
            "style": "IPY_MODEL_e202954ca8894187b88326026c2e4cd0",
            "value": " 204/300 [01:51&lt;02:07,  1.33s/pipeline]"
          }
        },
        "e2c53de6321f430a966b67781e78c722": {
          "model_module": "@jupyter-widgets/base",
          "model_name": "LayoutModel",
          "model_module_version": "1.2.0",
          "state": {
            "_model_module": "@jupyter-widgets/base",
            "_model_module_version": "1.2.0",
            "_model_name": "LayoutModel",
            "_view_count": null,
            "_view_module": "@jupyter-widgets/base",
            "_view_module_version": "1.2.0",
            "_view_name": "LayoutView",
            "align_content": null,
            "align_items": null,
            "align_self": null,
            "border": null,
            "bottom": null,
            "display": null,
            "flex": null,
            "flex_flow": null,
            "grid_area": null,
            "grid_auto_columns": null,
            "grid_auto_flow": null,
            "grid_auto_rows": null,
            "grid_column": null,
            "grid_gap": null,
            "grid_row": null,
            "grid_template_areas": null,
            "grid_template_columns": null,
            "grid_template_rows": null,
            "height": null,
            "justify_content": null,
            "justify_items": null,
            "left": null,
            "margin": null,
            "max_height": null,
            "max_width": null,
            "min_height": null,
            "min_width": null,
            "object_fit": null,
            "object_position": null,
            "order": null,
            "overflow": null,
            "overflow_x": null,
            "overflow_y": null,
            "padding": null,
            "right": null,
            "top": null,
            "visibility": null,
            "width": null
          }
        },
        "d2dc9fcecdc84914a082a97b6e9c8d1a": {
          "model_module": "@jupyter-widgets/base",
          "model_name": "LayoutModel",
          "model_module_version": "1.2.0",
          "state": {
            "_model_module": "@jupyter-widgets/base",
            "_model_module_version": "1.2.0",
            "_model_name": "LayoutModel",
            "_view_count": null,
            "_view_module": "@jupyter-widgets/base",
            "_view_module_version": "1.2.0",
            "_view_name": "LayoutView",
            "align_content": null,
            "align_items": null,
            "align_self": null,
            "border": null,
            "bottom": null,
            "display": null,
            "flex": null,
            "flex_flow": null,
            "grid_area": null,
            "grid_auto_columns": null,
            "grid_auto_flow": null,
            "grid_auto_rows": null,
            "grid_column": null,
            "grid_gap": null,
            "grid_row": null,
            "grid_template_areas": null,
            "grid_template_columns": null,
            "grid_template_rows": null,
            "height": null,
            "justify_content": null,
            "justify_items": null,
            "left": null,
            "margin": null,
            "max_height": null,
            "max_width": null,
            "min_height": null,
            "min_width": null,
            "object_fit": null,
            "object_position": null,
            "order": null,
            "overflow": null,
            "overflow_x": null,
            "overflow_y": null,
            "padding": null,
            "right": null,
            "top": null,
            "visibility": null,
            "width": null
          }
        },
        "85e439935d7c44e99ef937332ecde9f6": {
          "model_module": "@jupyter-widgets/controls",
          "model_name": "DescriptionStyleModel",
          "model_module_version": "1.5.0",
          "state": {
            "_model_module": "@jupyter-widgets/controls",
            "_model_module_version": "1.5.0",
            "_model_name": "DescriptionStyleModel",
            "_view_count": null,
            "_view_module": "@jupyter-widgets/base",
            "_view_module_version": "1.2.0",
            "_view_name": "StyleView",
            "description_width": ""
          }
        },
        "9e133a92e390495abf864031d2dfa505": {
          "model_module": "@jupyter-widgets/base",
          "model_name": "LayoutModel",
          "model_module_version": "1.2.0",
          "state": {
            "_model_module": "@jupyter-widgets/base",
            "_model_module_version": "1.2.0",
            "_model_name": "LayoutModel",
            "_view_count": null,
            "_view_module": "@jupyter-widgets/base",
            "_view_module_version": "1.2.0",
            "_view_name": "LayoutView",
            "align_content": null,
            "align_items": null,
            "align_self": null,
            "border": null,
            "bottom": null,
            "display": null,
            "flex": null,
            "flex_flow": null,
            "grid_area": null,
            "grid_auto_columns": null,
            "grid_auto_flow": null,
            "grid_auto_rows": null,
            "grid_column": null,
            "grid_gap": null,
            "grid_row": null,
            "grid_template_areas": null,
            "grid_template_columns": null,
            "grid_template_rows": null,
            "height": null,
            "justify_content": null,
            "justify_items": null,
            "left": null,
            "margin": null,
            "max_height": null,
            "max_width": null,
            "min_height": null,
            "min_width": null,
            "object_fit": null,
            "object_position": null,
            "order": null,
            "overflow": null,
            "overflow_x": null,
            "overflow_y": null,
            "padding": null,
            "right": null,
            "top": null,
            "visibility": null,
            "width": null
          }
        },
        "7b188c040f784dab87c40100937fbcb4": {
          "model_module": "@jupyter-widgets/controls",
          "model_name": "ProgressStyleModel",
          "model_module_version": "1.5.0",
          "state": {
            "_model_module": "@jupyter-widgets/controls",
            "_model_module_version": "1.5.0",
            "_model_name": "ProgressStyleModel",
            "_view_count": null,
            "_view_module": "@jupyter-widgets/base",
            "_view_module_version": "1.2.0",
            "_view_name": "StyleView",
            "bar_color": null,
            "description_width": ""
          }
        },
        "c1bd3ae1f72b4cc3a4c7976219a490a6": {
          "model_module": "@jupyter-widgets/base",
          "model_name": "LayoutModel",
          "model_module_version": "1.2.0",
          "state": {
            "_model_module": "@jupyter-widgets/base",
            "_model_module_version": "1.2.0",
            "_model_name": "LayoutModel",
            "_view_count": null,
            "_view_module": "@jupyter-widgets/base",
            "_view_module_version": "1.2.0",
            "_view_name": "LayoutView",
            "align_content": null,
            "align_items": null,
            "align_self": null,
            "border": null,
            "bottom": null,
            "display": null,
            "flex": null,
            "flex_flow": null,
            "grid_area": null,
            "grid_auto_columns": null,
            "grid_auto_flow": null,
            "grid_auto_rows": null,
            "grid_column": null,
            "grid_gap": null,
            "grid_row": null,
            "grid_template_areas": null,
            "grid_template_columns": null,
            "grid_template_rows": null,
            "height": null,
            "justify_content": null,
            "justify_items": null,
            "left": null,
            "margin": null,
            "max_height": null,
            "max_width": null,
            "min_height": null,
            "min_width": null,
            "object_fit": null,
            "object_position": null,
            "order": null,
            "overflow": null,
            "overflow_x": null,
            "overflow_y": null,
            "padding": null,
            "right": null,
            "top": null,
            "visibility": null,
            "width": null
          }
        },
        "e202954ca8894187b88326026c2e4cd0": {
          "model_module": "@jupyter-widgets/controls",
          "model_name": "DescriptionStyleModel",
          "model_module_version": "1.5.0",
          "state": {
            "_model_module": "@jupyter-widgets/controls",
            "_model_module_version": "1.5.0",
            "_model_name": "DescriptionStyleModel",
            "_view_count": null,
            "_view_module": "@jupyter-widgets/base",
            "_view_module_version": "1.2.0",
            "_view_name": "StyleView",
            "description_width": ""
          }
        }
      }
    }
  },
  "nbformat": 4,
  "nbformat_minor": 0
}